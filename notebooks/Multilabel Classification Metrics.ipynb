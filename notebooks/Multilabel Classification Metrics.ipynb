{
 "cells": [
  {
   "cell_type": "markdown",
   "metadata": {},
   "source": [
    "# Neural Network testing for Multilabel Text Data"
   ]
  },
  {
   "cell_type": "code",
   "execution_count": 33,
   "metadata": {
    "collapsed": true
   },
   "outputs": [],
   "source": [
    "import pickle\n",
    "import numpy as np\n",
    "import pandas as pd"
   ]
  },
  {
   "cell_type": "code",
   "execution_count": 8,
   "metadata": {},
   "outputs": [
    {
     "data": {
      "text/plain": [
       "116"
      ]
     },
     "execution_count": 8,
     "metadata": {},
     "output_type": "execute_result"
    }
   ],
   "source": [
    "with open('../pickles/policy_list.pckl', 'rb') as p:\n",
    "    policy_list = pickle.load(p)\n",
    "    \n",
    "def create_target_array(policy_list):\n",
    "    #for i in range(1,n+1):\n",
    "    for i in policy_list:\n",
    "        yield i+'_PERFORMED'\n",
    "        yield i+'_NOT_PERFORMED'\n",
    "\n",
    "policy_targets = list(create_target_array(policy_list))\n",
    "#policy_targets.append('NO_POLICY_MENTIONED')\n",
    "len(policy_targets)"
   ]
  },
  {
   "cell_type": "code",
   "execution_count": 4,
   "metadata": {},
   "outputs": [
    {
     "data": {
      "text/plain": [
       "Index(['text', 'target'], dtype='object')"
      ]
     },
     "execution_count": 4,
     "metadata": {},
     "output_type": "execute_result"
    }
   ],
   "source": [
    "with open('../pickles/df_nlp_no_negative_multilabel_target.pckl', 'rb') as p:\n",
    "    df = pickle.load(p)\n",
    "\n",
    "df.columns"
   ]
  },
  {
   "cell_type": "code",
   "execution_count": 5,
   "metadata": {},
   "outputs": [
    {
     "data": {
      "text/html": [
       "<div>\n",
       "<style scoped>\n",
       "    .dataframe tbody tr th:only-of-type {\n",
       "        vertical-align: middle;\n",
       "    }\n",
       "\n",
       "    .dataframe tbody tr th {\n",
       "        vertical-align: top;\n",
       "    }\n",
       "\n",
       "    .dataframe thead th {\n",
       "        text-align: right;\n",
       "    }\n",
       "</style>\n",
       "<table border=\"1\" class=\"dataframe\">\n",
       "  <thead>\n",
       "    <tr style=\"text-align: right;\">\n",
       "      <th></th>\n",
       "      <th>text</th>\n",
       "      <th>target</th>\n",
       "    </tr>\n",
       "  </thead>\n",
       "  <tbody>\n",
       "    <tr>\n",
       "      <td>0</td>\n",
       "      <td>privacy policy this privacy policy (hereafter ...</td>\n",
       "      <td>[0.0, 0.0, 0.0, 0.0, 0.0, 0.0, 0.0, 0.0, 0.0, ...</td>\n",
       "    </tr>\n",
       "    <tr>\n",
       "      <td>1</td>\n",
       "      <td>1  about our products 1 1 our products offer a...</td>\n",
       "      <td>[0.0, 0.0, 0.0, 0.0, 0.0, 0.0, 0.0, 0.0, 0.0, ...</td>\n",
       "    </tr>\n",
       "    <tr>\n",
       "      <td>2</td>\n",
       "      <td>'2  the information we collect the information...</td>\n",
       "      <td>[0.0, 0.0, 0.0, 0.0, 0.0, 0.0, 0.0, 0.0, 0.0, ...</td>\n",
       "    </tr>\n",
       "    <tr>\n",
       "      <td>3</td>\n",
       "      <td>'2 2 in addition, we store certain information...</td>\n",
       "      <td>[0.0, 0.0, 0.0, 0.0, 0.0, 0.0, 0.0, 0.0, 0.0, ...</td>\n",
       "    </tr>\n",
       "    <tr>\n",
       "      <td>4</td>\n",
       "      <td>(c) to remember your preferences and registrat...</td>\n",
       "      <td>[0.0, 0.0, 0.0, 0.0, 0.0, 0.0, 0.0, 0.0, 0.0, ...</td>\n",
       "    </tr>\n",
       "  </tbody>\n",
       "</table>\n",
       "</div>"
      ],
      "text/plain": [
       "                                                text  \\\n",
       "0  privacy policy this privacy policy (hereafter ...   \n",
       "1  1  about our products 1 1 our products offer a...   \n",
       "2  '2  the information we collect the information...   \n",
       "3  '2 2 in addition, we store certain information...   \n",
       "4  (c) to remember your preferences and registrat...   \n",
       "\n",
       "                                              target  \n",
       "0  [0.0, 0.0, 0.0, 0.0, 0.0, 0.0, 0.0, 0.0, 0.0, ...  \n",
       "1  [0.0, 0.0, 0.0, 0.0, 0.0, 0.0, 0.0, 0.0, 0.0, ...  \n",
       "2  [0.0, 0.0, 0.0, 0.0, 0.0, 0.0, 0.0, 0.0, 0.0, ...  \n",
       "3  [0.0, 0.0, 0.0, 0.0, 0.0, 0.0, 0.0, 0.0, 0.0, ...  \n",
       "4  [0.0, 0.0, 0.0, 0.0, 0.0, 0.0, 0.0, 0.0, 0.0, ...  "
      ]
     },
     "execution_count": 5,
     "metadata": {},
     "output_type": "execute_result"
    }
   ],
   "source": [
    "df.head()"
   ]
  },
  {
   "cell_type": "code",
   "execution_count": 14,
   "metadata": {},
   "outputs": [
    {
     "name": "stdout",
     "output_type": "stream",
     "text": [
      "X: 15507\n",
      "y: 15507\n"
     ]
    }
   ],
   "source": [
    "list_corpus = df['text'].tolist()\n",
    "list_labels = df['target'].tolist()\n",
    "\n",
    "print('X: {}'.format(len(list_corpus)))\n",
    "print('y: {}'.format(len(list_labels)))"
   ]
  },
  {
   "cell_type": "code",
   "execution_count": 15,
   "metadata": {
    "collapsed": true
   },
   "outputs": [],
   "source": [
    "from sklearn.model_selection import train_test_split\n",
    "from sklearn.feature_extraction.text import CountVectorizer, TfidfVectorizer\n",
    "from sklearn.linear_model import LogisticRegression"
   ]
  },
  {
   "cell_type": "code",
   "execution_count": 16,
   "metadata": {
    "collapsed": true
   },
   "outputs": [],
   "source": [
    "def fit_vectorizer(data, vec_type='count'):\n",
    "    '''Create and fit a vectorizer\n",
    "    \n",
    "    Options:\n",
    "    + count -> count_vectorizer \n",
    "    + tfidf -> tfidf_vectorizer\n",
    "    \n",
    "    Input:\n",
    "    + data - X data to fit the model\n",
    "    + vec_type - name of vectorizer to use\n",
    "    \n",
    "    Returns:\n",
    "    + Document-term matrix or Tf-idf-weighted document-term matrix\n",
    "    + vectorizer - fitted model\n",
    "    '''\n",
    "    if vec_type=='count':\n",
    "        vectorizer = CountVectorizer()\n",
    "    elif vec_type=='tfidf':\n",
    "        vectorizer = TfidfVectorizer()\n",
    "    else:\n",
    "        print('Please select an appropriate option')\n",
    "    \n",
    "    emb = vectorizer.fit_transform(data)\n",
    "\n",
    "    return emb, vectorizer"
   ]
  },
  {
   "cell_type": "code",
   "execution_count": 17,
   "metadata": {
    "collapsed": true
   },
   "outputs": [],
   "source": [
    "X_train, X_test, y_train, y_test = train_test_split(list_corpus, list_labels, test_size=0.2, \n",
    "                                                                                random_state=40)\n",
    "\n",
    "# vectorize word conts\n",
    "X_train_counts, count_vectorizer = fit_vectorizer(X_train, vec_type='count')\n",
    "X_test_counts = count_vectorizer.transform(X_test)"
   ]
  },
  {
   "cell_type": "code",
   "execution_count": 329,
   "metadata": {},
   "outputs": [
    {
     "data": {
      "text/plain": [
       "'privacy policy this privacy policy (hereafter referred to as the \"privacy    policy\") is applicable to our websites, apps and to all games and other activities(hereafter    referred to as the \"our products\") that are offered by us on or through our products     tiny piece, having its registered office at ajeltake road, ajeltake island, majuro,    republic of the marshall island mh 96960 (hereafter referred to as \"6677g\")  6677g    may use affiliates\\' or reputable third parties\\' services for the processing of    personal data collected on or through our products  by using or accessing our    products, you are accepting the practices described in this privacy policy '"
      ]
     },
     "execution_count": 329,
     "metadata": {},
     "output_type": "execute_result"
    }
   ],
   "source": [
    "list_corpus[0]"
   ]
  },
  {
   "cell_type": "code",
   "execution_count": 6,
   "metadata": {
    "scrolled": true
   },
   "outputs": [
    {
     "name": "stderr",
     "output_type": "stream",
     "text": [
      "Using TensorFlow backend.\n",
      "/anaconda/envs/insight/lib/python3.6/site-packages/tensorflow/python/framework/dtypes.py:493: FutureWarning: Passing (type, 1) or '1type' as a synonym of type is deprecated; in a future version of numpy, it will be understood as (type, (1,)) / '(1,)type'.\n",
      "  _np_qint8 = np.dtype([(\"qint8\", np.int8, 1)])\n",
      "/anaconda/envs/insight/lib/python3.6/site-packages/tensorflow/python/framework/dtypes.py:494: FutureWarning: Passing (type, 1) or '1type' as a synonym of type is deprecated; in a future version of numpy, it will be understood as (type, (1,)) / '(1,)type'.\n",
      "  _np_quint8 = np.dtype([(\"quint8\", np.uint8, 1)])\n",
      "/anaconda/envs/insight/lib/python3.6/site-packages/tensorflow/python/framework/dtypes.py:495: FutureWarning: Passing (type, 1) or '1type' as a synonym of type is deprecated; in a future version of numpy, it will be understood as (type, (1,)) / '(1,)type'.\n",
      "  _np_qint16 = np.dtype([(\"qint16\", np.int16, 1)])\n",
      "/anaconda/envs/insight/lib/python3.6/site-packages/tensorflow/python/framework/dtypes.py:496: FutureWarning: Passing (type, 1) or '1type' as a synonym of type is deprecated; in a future version of numpy, it will be understood as (type, (1,)) / '(1,)type'.\n",
      "  _np_quint16 = np.dtype([(\"quint16\", np.uint16, 1)])\n",
      "/anaconda/envs/insight/lib/python3.6/site-packages/tensorflow/python/framework/dtypes.py:497: FutureWarning: Passing (type, 1) or '1type' as a synonym of type is deprecated; in a future version of numpy, it will be understood as (type, (1,)) / '(1,)type'.\n",
      "  _np_qint32 = np.dtype([(\"qint32\", np.int32, 1)])\n",
      "/anaconda/envs/insight/lib/python3.6/site-packages/tensorflow/python/framework/dtypes.py:502: FutureWarning: Passing (type, 1) or '1type' as a synonym of type is deprecated; in a future version of numpy, it will be understood as (type, (1,)) / '(1,)type'.\n",
      "  np_resource = np.dtype([(\"resource\", np.ubyte, 1)])\n"
     ]
    }
   ],
   "source": [
    "from keras.models import Sequential\n",
    "from keras.layers import Dense"
   ]
  },
  {
   "cell_type": "code",
   "execution_count": 25,
   "metadata": {},
   "outputs": [
    {
     "data": {
      "text/plain": [
       "['privacy policy this privacy policy (hereafter referred to as the \"privacy    policy\") is applicable to our websites, apps and to all games and other activities(hereafter    referred to as the \"our products\") that are offered by us on or through our products     tiny piece, having its registered office at ajeltake road, ajeltake island, majuro,    republic of the marshall island mh 96960 (hereafter referred to as \"6677g\")  6677g    may use affiliates\\' or reputable third parties\\' services for the processing of    personal data collected on or through our products  by using or accessing our    products, you are accepting the practices described in this privacy policy ',\n",
       " '1  about our products 1 1 our products offer a diverse, current, and    exciting mix of games created by 6677g, as well as games created by independent    developers and 6677g partners  players can access our products to play games without    registering  however, they may choose to register to create a public or semi public    profile and to save games, high scores, and comments on this profile  also, visitors    to our products will be able to rate games and browse for the newly added, top rated,    and most popular games ',\n",
       " \"'2  the information we collect the information that our products collect    includes (among others) the following  a) ip address, cookies, and web beacons    2 1 when you visit our products, our servers automatically save your computer''s    ip address  ip addresses will be collected, along with information about the actual    web pages that you visit on our products  if you arrive at our products via a    link from another product, the url of the linking product and the url of any product    that you link to next will also be collected '\",\n",
       " '\\'2 2 in addition, we store certain information from your browser,    using \"cookies \" a cookie is a piece of data stored on the user\\'\\'s computer and    is tied to information about the user  6677g may use cookies, web beacons (web    bugs), or similar technologies to enhance and personalize your experience on our    products, including the following  (a) to operate and improve offerings on our    products  (b) to help authenticate you when you are on our products \\'',\n",
       " '(c) to remember your preferences and registration information, as    applicable ',\n",
       " '(d) to present and help measure and research the effectiveness of    6677g offerings, advertisements, and email communications  and',\n",
       " '(e) to customize the content and advertisements provided to you through    our products ',\n",
       " '2 3 6677g may also use ad network providers to help present advertisements    on our products  these ad network providers use cookies, web beacons, or similar    technologies to help the presenting, better targeting, and measuring of the effectiveness    of their advertisements, using data gathered over time and across their networks    of web pages to determine or predict the characteristics and preferences of their    audiences  6677g offers some services in connection with other products  personal    information that you provide to those sites may be sent to 6677g in order to deliver    these services  6677g processes such information in accordance with this privacy    policy ',\n",
       " '2 4 6677g may also use third party payment service providers (\"psp\"),    offering payment transaction services to 6677g in order to sell a product or service    through our products  whenever you buy something from our products (e g , a virtual    game item or a subscription for a game download), the information that you provide    to the psp is subject to their privacy policies, not ours  you explicitly consent    that 6677g may provide personal information collected from you to a psp for the    purpose of the offering of the payment transaction service whenever you buy something    from the website(s) and that such psp may use such data for (statistical) analysis    of payment transactions  6677g shall be allowed to notify a psp regarding a user    that engages in (or who a party believes has engaged in) any activity that is    illegal, that violates any person\\'s rights, or that led to such user\\'s suspension    or termination of use of our products ',\n",
       " '2 5 6677g may share demographic information (certain anonymous information    about you as a user, such as age and country) with certain ad network providers    to help them deliver more relevant advertisements through their ad networks  the    use of cookies, web beacons, or similar technologies by such third parties as    ad network providers is subject to their own privacy policies, not this privacy    policy ',\n",
       " '2 6 most browsers are initially set to accept cookies, but you can    (re)set your browser to refuse all cookies or to indicate when a cookie is being    sent  you can opt out of receiving cookies from certain third party advertising    networks by resetting your browser  you may also use the following link to the    network advertising initiatives cookie opt out page, which can be found here     however, some features and services may not function properly if cookies are disabled ',\n",
       " \"'b) personal data, including your e mail address 2 7 you may choose    to register with us for a better game experience and or to create a public or    semi public profile for participating in our social gaming network  this includes,    for example  overviews of high scores, achievements listings, and individual game    recommendations on our products  when you register with us, you provide us with    certain personal information, such as a username, date and month of birth, and    your email address  the information you disclose in that respect may also become    publicly accessible  we provide you with privacy settings that restrict other    users from accessing your information  namely, our network architecture and your    privacy settings allow you to make informed choices about who has access to your    information  we allow you to choose the information you provide to friends and    networks through our products  when your privacy settings permit it, other users    may be able to see and supplement your profile (e g , by posting comments) '\",\n",
       " '2 8 if you decide to disclose information in a public venue or in    games, we will consider that information as part of the public domain  this information    will be accessible to any person who uses our products ',\n",
       " \"'2 9 we only collect email addresses that were provided to us directly    by you  your email address will only be used for the following purposes  (i) the    promotion of (new) games  (ii) service emails (on updates, new design, new features,    etc ) '\",\n",
       " '(iii) administrative purposes, such as notification of violation of    our terms of use ',\n",
       " '(iv) delivering messages you have allowed us to pass on (e g , from    other people in your social network) ',\n",
       " \"'2 10 without your approval, we will not  (a) make your email address    visible on our products  (b) use your email address for purposes other than those    described in article 2 9 hereof '\",\n",
       " '(c) transfer your email address or other personal information to third    parties, except in those limited cases as described in this privacy policy ',\n",
       " 'c) combination of personal data 2 11 for optimizing our services and    our products, and for the purposes mentioned in this article 2, we are entitled    to combine your personal data (including your email address, as applicable) with    other information about you collected by or provided to us ',\n",
       " '3  to whom does 6677g provide this information? 3 1 6677g may provide    information to any party whose services it engages for the purposes of its normal    operations (for example, those partners who assist us by providing technical or    operational facilities for our products and so forth)  we may also supply information    to other parties if we are required to do so by law or by a ruling handed down    by a court of law  6677g does not provide personal details to other parties for    commercial, advertising, or marketing purposes, except if you explicitly give    us permission to do so, or if doing so is part of a specific program or operation    for which you have registered  in such case, you may withdraw your permission    at any time ',\n",
       " '4  why do we collect information? 4 1 we use personal details and    other information to maintain the general and personified content and functionality    of our products  in addition, we use personal details to make it possible to accommodate    your requests, and so that we are able to provide you with service when using    (one of) our products and for the purposes set out elsewhere in this privacy policy ',\n",
       " '5  access to the information we have collected about you',\n",
       " '5 1 your personal data will be stored by 6677g ',\n",
       " '5 2 users with a personal profile on our products may review, update,    or delete personal data collected by us by clicking on the appropriate link in    the personal profile ',\n",
       " '5 3 in general, if you wish to have access to your personal data to    correct or delete the information that we have collected about you, please send    a written request to tiny piece, ajeltake road, ajeltake island, majuro, republic    of the marshall island mh 96960, detailing your request and the data you have    provided to us along with a copy of your passport (to prevent misuse of requests    for information), or send an email with all such information to  email protected ',\n",
       " \"'5 4 parents of users under the age of 16  if you wish to have access    to your child''s personal data to view, correct, or delete the information that    we have collected about your child, please send a written request to tiny piece,    ajeltake road, ajeltake island, majuro, republic of the marshall island mh 96960,    detailing your request along with a copy of your passport (to prevent misuse of    requests for information), or send an email with all such information to  email    protected '\",\n",
       " '6  security 6 1 you post personal data and any other content on our    products at your own risk and in accordance with article 7 (\"your responsibilities\")    of the terms of use  although we allow you to set privacy options that limit access    to such personal data and other content, please be aware that no security measures    are perfect or impenetrable  we cannot control the actions of other users with    whom you choose to share your profile and information  therefore, we cannot and    do not guarantee that any content you post on our products will not be viewed    by unauthorized persons  we are not responsible for circumvention of any privacy    settings or security measures contained on our products  you understand and acknowledge    that, even after removal, copies of personal data or content may remain viewable    in cached and archived pages, or if other users have copied or stored your personal    data or content ',\n",
       " '6 2 we have implemented appropriate measures to safeguard and help    prevent unauthorized access, to maintain data security, and to correctly use the    information we collect online  your personal data visible on our products (such    as any public comments posted by you and or any data in your profile) are accessible    to third parties, and you acknowledge and agree that such third parties are able    to copy such information to their own products or other locations ',\n",
       " '6 3 your personal data will only be stored for a period necessary    for your uses of our products for the purposes as described in this privacy policy ',\n",
       " '7  miscellaneous 7 1 we reserve the right to amend our privacy policy     amendments will be effective as of the moment of publication on our products     you should check our products regularly for amendments ',\n",
       " '7 2 the internet is a global environment, and using the internet necessarily    involves the collection and processing of personal data on an international basis     therefore, by using (one or more of) our products, you acknowledge and agree to    our processing of personal data in this way ',\n",
       " '7 3 our products may contain links to other products  we are not responsible    for the privacy practices of other products  we encourage users to be aware when    they leave our site to read the privacy statements of each and every website that    collects personally identifiable information  this privacy policy applies solely    to information collected by us ',\n",
       " '7 4 in the event of a transfer of (one of our) products to a third    party, we may transfer to such third party all personal information that we collected    about you in accordance with this privacy policy  in such an event, users who    have provided email addresses to us will be notified when information about those    users is transferred and becomes subject to a different privacy policy ',\n",
       " '7 5 we also have terms of use that are applicable to your use of our    products  in the case of a contradiction between the terms of use and this privacy    policy, this privacy policy prevails ',\n",
       " '7 6 this privacy policy shall be governed by the laws of the netherlands    and submitted to the exclusive jurisdiction of the courts in the netherlands ',\n",
       " 'if you have any additional questions or requests, you may send an    email to  email protected ',\n",
       " 'cheetah mobile clean master cm security piano tiles 2 live me more    products clean master cm security live me whatscall piano tiles 2 photogrid news    republic battery doctor cm launcher cm browser cm locker cm backup cm behavior    cloud clean master for pc business cheetah ad platform pegasi libra media blog    security topics ceo talks press release about company information investor relations    promotion policy global talent contact us follow us facebook twitter linkedin    home   privacy policy privacy policy at cheetah mobile inc  we recognize that    privacy is significant  this privacy policy (\"policy\") applies to your use of    the battery doctor applications on all platforms (the \"application\") ',\n",
       " 'cheetah mobile inc  (\"us\" or \"we\") has created this policy to explain    our privacy practices so you will understand what information about you is collected,    used and disclosed  we collect information from you in order to provide corresponding    service and better user experience  with your consent of this privacy policy,    your usage, statistics, input while using battery doctor would be collected ',\n",
       " 'a  what kind of information we collect a  personal information  we    do not collect personal information  \"personal information\" is information that    identifies you or another person, which may be transmitted or received when you    use an application, the services and or the site  ion includes your names, physical    addresses, email addresses, telephone, fax, ssn, information stored within your    device and other information you transmit or receive using an application, the    service and or the site which identifies you or another person ',\n",
       " 'b  non personal identification  we may collect non personal identification    information about installed applications, application usage information and device    information ',\n",
       " 'the information you give us, for example, when you give us your opinions    to our application and services via our feedback channel, such as your email address,    and names ',\n",
       " 'b  how we use collected information a  personal information  since    we do not collect personal information, we may not use your personal information    in any way ',\n",
       " \"'b  non  personal information  we may use non personal information    only for serving you better as below  1 to personalize user experience  2 to help    develop our service  we may use non  personal information to provide, maintain,    improve and develop our services '\",\n",
       " '3  we may collect your non personal information and use them for market    and promotion purpose, for example, we may promote or recommend more relevant    apps to you ',\n",
       " 'c  how your information may be disclosed a  personal information     we do not store personal information and therefore we do not disclose your personal    information ',\n",
       " 'b  non personal information  we do not sell, trade, or otherwise transfer    to outside parties your information  we do not combine non personal information    with personal information (such as combining your name with your unique user device    number) ',\n",
       " 'c  we may disclose your non personal information for promotion purpose    to our trusted partners who shall comply with this privacy policy and the relevant    privacy laws',\n",
       " \"d  third  party sites in general, the applications, the services and    the site access third party information (such as your facebook account information)    through application interfaces  we may provide links to third party web sites,    such as facebook, as a service to our users  the site may also carry advertisements    from other companies  when you click on links of third parties in an application,    the services or the site, you may leave the application, the services or the site     some of these third party sites may be co branded with our name logo or our affiliated    entity's name logo, even though they are not operated or maintained by us  this    policy does not address, and we are not responsible for, the privacy practices    of web sites operated by third parties, whether they are linked to or otherwise    accessible from an application, the services or the site  the inclusion of a link    or accessibility of third party websites does not imply endorsement of such third    party website by us \",\n",
       " 'e  users with whom you share your information we cannot control the    actions of other users with whom you share your information  we cannot, and do    not, control the information you share with other users using an application,    the services or the site (including via forums) or how such other users will use    or share such information  we are not responsible for third party circumvention    of our security measures ',\n",
       " 'f security cheetah mobile inc  is very concerned about safeguarding    the confidentiality of your information  we do not collect personal information,    and we employ administrative, physical and electronic measures designed to protect    your non personal information from unauthorized access and use  please be aware    that no security measures that we take to protect your information is absolutely    guaranteed to avoid unauthorized access or use of your non personal information    which is impenetrable ',\n",
       " 'g  sensitive information we ask that you not send us, and you not    disclose, any sensitive personal information (e g , information related to racial    or ethnic origin, political opinions, religion or other beliefs, health, sexual    orientation, criminal background or membership in past organizations, including    trade union memberships) on or through an application, the services or the site    or otherwise to us ',\n",
       " 'h  contacting us   reporting violations if you have any questions    or comments about this policy or our privacy practices, or to report any violations    of the policy or abuse of an application, the services or the site, please contact    us at support',\n",
       " 'i  changes to this privacy policy our privacy policy may change from    time to time, we will post any privacy policy changes on this page, so please    review it periodically  we may provide you additional forms of notice of modifications    or updates as appropriate under the circumstances ',\n",
       " 'if you do not agree to any modifications to this policy, your sole    recourse is to immediately stop all use of all applications, the services and    the site  your continued use of any application, the services or the site following    the posting of any modifications to this policy will constitute your acceptance    of the revised policy  please note that none of our employees or agents has the    authority to vary any of our policies ',\n",
       " '\"privacy policy   cheetah mobile  xa9 2017  xb7 englishenglishespa xf1     olfran xe7aisp u0443 u0441 u0441 u043a u0438 u0439portugu xeas u65e5 u672c u8a9e      ud55c uad6d uc5b4 u7e41 u9ad4 u4e2d u6587 u7b80 u4f53 u4e2d u6587\"',\n",
       " 'speedtest net back effective october 18, 2016 cookie policy international    user california do not track   caloppa interest based ads',\n",
       " 'ziff davis, llc privacy policy this privacy policy describes what    information ziff davis, llc (\"ziff davis\" or \"we\") gathers, how we collect it,    our information sharing practices, how users may change the way their information    is collected and how to access their information that is provided on our websites    and mobile applications ',\n",
       " 'truste certification for a list of truste certified sites, please    click here ',\n",
       " \"'privacy policy overview in this privacy policy, we will discuss the    following information and more  the types of personal information we collect     the technologies we use to collect personal information  the information we provide    to third parties  what we and third parties collect relating to online advertising     what we do with the information collected  how you can change or control what    is collected  information for users located outside the u s  information for california    residents  information regarding interest based advertising  how this privacy    policy can change  other useful information regarding your privacy  how you contact    ziff davis about any questions or concerns you may have '\",\n",
       " \"'what is collected  part 1  personal information personal information    generally means information that might reasonably be used to specifically identify    you and may include information such as your name, address, age, email and phone    number  this privacy policy applies to all personal information that we receive,    regardless of how it is gathered or stored  we collect such personal information    when you provide it to us or use our services, such as when you  subscribe to    the pc magazine digital edition  register with any of our ziff davis b2b sites,    including toolbox com, emedia com, emedia co uk, salesify and b2bsignals com     purchase a software license or a product  sign up for emails, bulletins, newsletters,    webinars or white papers  enter a sweepstakes, contest, competition or prize draw     register for site membership or create a profile or account on any of our sites,    including ign, askmen, pcmag, techbargains, offers com, couponcodes com, toolbox com,    salesify, and speedtest net  receive promotional information by sms text message    from offers com (and in the future from techbargains) about products and services    available on the website (message and data rates might apply)  participate in    surveys  perform search queries on our websites '\",\n",
       " \"use a third party connection or log in to create a membership or profile    on any of our sites, access our content, or forward our content to another person,    platform or service, e g  through email, facebook, twitter, google , linkedin    and or pinterest  host ookla's speedtest application or use such application on    your desktop or through an app  install ookla's speedtest or offers com's extension    on your web browser  or otherwise communicate with us \",\n",
       " 'several of the services that we offer require registration as a condition    of use  we may also receive personal information about you from other sources    and add it to the information you have provided to us  for example, our salesify    division may collect information about you from databases provided by its customers,    from public sources, or via telephone research efforts ',\n",
       " 'please note that ziff davis is not responsible for the information    you volunteer about yourself in the discussions in our forums, blogs, wikis, chat    rooms, private messages, message boards or other publicly accessible interaction,    or information that you choose to make public in your member profile or other    areas that allow users to upload or post content  we discourage users from posting    personally identifiable information in this fashion, and any personally identifiable    information you post to these areas is not covered by this privacy policy  you    can change your publicly available information at any time via your profile page    or to request removal of your personal information from these areas, please see    our section on updating your registration information in this privacy policy     in some cases, we may not be able to remove your personal information, in which    case we will let you know if we are unable to do so and why  please refer to the    terms of use for our websites for more information ',\n",
       " 'with your consent, we may post your personal testimonial alongside    other endorsements on some of our websites or display your personal reviews of    products on pcmag com along with your name and company  if you wish to update    or delete your testimonial or review, you can contact us at zdlegal1    and include \"privacy policy\" in the subject line ',\n",
       " \"referrals  if you choose to use our referral service to send an article    to a friend, we will ask you for your friend's email address  we will automatically    send your friend a one time email inviting him or her to visit the website  ziff    davis does not store your friend's email address \",\n",
       " 'import contacts  you can import contacts from your outlook or other    email account address book to invite them to become members of our website  we    collect the username and password for the email account from which you wish to    import your contacts, and will only use your personal information for that purpose ',\n",
       " \"'part 2  other information that is collected  cookies  ziff davis    and its partners use cookies or similar technologies to analyze trends, administer    the websites, track users'' movements around the website, and to gather demographic    information about our user base as a whole  you can control the use of cookies    at the individual browser level but if you choose to disable cookies, it may limit    your use of certain features or functions on our website or service  to manage    flash cookies, please click here  please see our cookie policy for more information,    including a more in depth explanation of what cookies are, the different types    of cookies used on ziff davis sites, and how to change or delete them '\",\n",
       " 'log files  as is true of most websites, we gather certain information    automatically and store it in log files  this information may include internet    protocol (\"ip\") addresses, browser type, internet service provider (\"isp\"), referring exit    pages, operating system, date time stamp, and or clickstream data  we may combine    this automatically collected log information with other information we collect    about you  we do this to improve services we offer you, to improve marketing,    analytics, or site functionality ',\n",
       " 'web beacons are electronic files that allow a website to count users    who have visited that page or to access certain cookies  when you receive email    messages or newsletters from us, we may use web beacons, customized links or similar    technologies to determine whether the email has been opened and which links you    click in order to provide you more focused email communications or other information ',\n",
       " \"etag  we and our e commerce partners, affiliates, or analytics providers,    use technologies such as tags to analyze trends, administer the website, track    users' movements around the website, and to gather demographic information about    our user base as a whole  we may receive reports based on the use of these technologies    by these companies on an individual and aggregated basis \",\n",
       " \"pixel tags, also known as clear gifs, beacons, spotlight tags or web    bugs, are a method for passing information from the user's computer to a third    party website  used in conjunction with cookies, ziff davis may use pixel tags    to improve our understanding of site traffic, visitor behavior, and response to    promotional campaigns  pixel tags are also used as a supplement to our server    logs and other methods of traffic and response measurement, and they are sometimes    used in conjunction with small javascript based applications  we may also implement    pixel tags provided by other companies for the same purpose  we may use clear    gifs in our html based emails to let us know which emails have been opened by    recipients \",\n",
       " 'local shared objects and local storage  we use local shared objects,    such as flash cookies, and local storage, such as html5, to store user settings,    anonymous browser identifiers and video viewing history  third parties with whom    we partner to provide certain features on our site or to display advertising based    upon your web browsing activity also use flash cookies and html5 to collect and    store information  various browsers may offer their own management tools for removing    local storage html5  to manage flash local shared objects please click here ',\n",
       " \"ip addresses are a unique string of numbers that identifies each computer    attached to the internet  we use ip addresses to analyze trends, administer our    websites, track users' location, and gather broad demographic information for    aggregate use  we may connect information about your ip address to known corporate    information and use associated information related to aggregate content preferences    to assist in our efforts to market business to business services to the originating    corporation or corporations  ip addresses that we collect are sometimes linked    to personally identifiable information  we use registration and email addresses    that you provide together with ip addresses and other information that we collect    as described in this privacy policy  by combining the information, we are better    able to understand our users and to better market services and products to our    users \",\n",
       " \"device id (identification) is a distinctive number associated with    a smartphone or similar handheld device  device ids are different than hardware    serial numbers  ios uses the identifier for advertising (idfa) and android uses    advertising id  some of our apps and mobile sites may create a unique device id    for your smartphone or other mobile device using our own algorithm  we use device    ids   either our own, idfa or advertising id  to analyze trends, administer our    mobile sites and apps, track mobile users' location, and gather broad demographic    information for aggregate use  we may connect information about a visitor's device    id with other information we gather about that visitor as described in this privacy    policy  by combining the information, we are better able to understand our users    and to better market services and products to our users  we may also obtain your    international mobile subscriber identity (imsi) and international mobile equipment    identity (imei) if you use our speedtest app on your smartphone \",\n",
       " 'mobile analytics  we use mobile analytics software to allow us to    better understand the functionality of our mobile software on your phone  this    software may record information such as how often you use the application, the    events that occur within the application, aggregated usage, performance data,    and where the application was downloaded from  we may link the information we    store within the analytics software to any personally identifiable information    you submit within the mobile application ',\n",
       " 'third parties  to improve the quality of some of our services, we    may supplement the information we collect with information from third parties,    including third party affiliate network operators, referral sources, and social    networking sites or services (such as facebook, twitter, and linkedin)  for example,    if you access my ign (my ign com) using a third party connection or log in (such    as google , facebook or yahoo!), we may also collect your user id, username or    email address associated with that third party service or any information you    have made public in connection with that service or the third party shares with    us  in addition, we may use data collected by a third party operator licensee    of localized versions or editions of pcmag com, ign com, or askmen com ',\n",
       " 'speedtest broadband performance data services  when using our speedtest    application on speedtest net, the speedtest app or the speedtest feature of the    speedtest extension on your web browser, we collect test results, approximate    location of the server and user machine (using publicly available information    and if made available by your mobile device) as well as the ip address, the isp,    college or organization that operates the network you test, and network, hardware,    and device identifiers such as your ssid or imei (if the test is conducted on    a smartphone)  the information we collect via the broadband and mobile performance    tests run on the speedtest app or speedtest net is otherwise collected anonymously    and is then aggregated for a few different broadband performance data services     we do so with the express intent of providing a neutral and unbiased monitoring    and reporting resource for users around the world  this aggregated data can be    accessed via subscription services, which are described below ',\n",
       " 'speedtest extension on web brosers  when you install the speedtest    extension on your web browser, in addition to allowing you to run a test of your    internet speed using the speedtest feature as described above, the extension also    allows you to use our web speed feature, which allows you to measure how long    it takes for a particular website to load  through the web speed feature, we collect    page load metrics for the websites you visit, including page urls, load times,    and the approximate location of your device (using publicly available information,    and only if your browser settings allow third parties to know your approximate    location)  we also combine this information with recent speedtest results from    the same device  the information we collect via the web speed feature of the extension    is collected with the express intent of providing a neutral and unbiased monitoring    and reporting resource for users around the world  we combine certain information    collected from speedtest net, the speedtest app or the speedtest feature of the    extension with the information collected from the web speed feature of the extension     however, your ip address collected in connection with speedtest net, the speedtest    app and or the speedtest feature of the extension will not be associated with    web speed data  all data is collected anonymously and is then aggregated to provide    web performance data to users on the ookla websites and or to third parties via    subscription services as described below ',\n",
       " 'offers com extension on web browsers  when you install the offers com    extension on your web browser, you may be offered coupons which are relevant to    your online shopping experience  offers com has relationships with various third    party merchants (\"merchants\") and coupons may be offered to you when you either    search for a particular merchant on your web browser or when you visit a particular    merchant\\'s website  the offers com extension may also review your browsing history    (if available) for the express purpose of determining whether offers com has relevant    coupons to offer should you go back to a particular merchant\\'s website  through    the offers com extension, we may also be able to view the amount of money you    spend at a particular merchant\\'s website for the express purpose of determining    the best coupons that will save you money during your shopping experience and    to prepopulate the best coupons for you  all data is collected anonymously and    is then aggregated by offers com to provide you with relevant coupons ',\n",
       " \"'offers com merchant preferences  when using the offers com service,    we may collect information that is about you but does not identify you, such as    your merchant, brand and coupon preferences, and your interactions with offers com    and its merchants  this and certain other information about you as described above    (including personal information) may be collected when you  (1) search for merchants,    brands or coupons, (2) view, display, click, print or download a coupon  (3) submit    or redeem a coupon to a merchant  or (4) interact with advertisements appearing    on the offers com website '\",\n",
       " 'social media widgets  our websites include social media features,    such as the facebook \"like\" button and widgets, which include the \"share this\"    button or interactive mini programs that run on our sites  these features may    collect your ip address, track which page you are visiting on our site, and may    set a cookie to enable the features to function properly  social media features    and widgets are either hosted by a third party or hosted directly on our sites     your interactions with these features are governed by the privacy policy of the    company providing it ',\n",
       " 'online ad serving  ziff davis and some of our advertisers use third    party advertising service companies to serve advertisements when you visit our    sites or use our apps  often, these third party advertising companies employ cookie,    pixel tag and other technologies to measure the effectiveness of web, app and    email advertisement and to create a record of interaction with our content that    they use in conjunction with their advertising which appears on other sites or    apps, or for reporting website traffic, app use, statistics, advertisement data    and or other activities on our sites  we will also engage third party providers    to assist with the segmentation of this data  ziff davis and or these third party    advertisers may collect non personal information about you for online behavioral    advertising (oba) purposes  which includes mobile devices and apps  in order for    you to receive relevant interest based advertising from us in the future but see    below   interest based ads  for more information on oba  the specific providers    we use are subject to change ',\n",
       " 'for a list of the applicable providers, click here  for information    about how to opt out of tracking methods for these entities and others, click    here ',\n",
       " \"'what we provide to third parties  statistical reports and contact    lists  the aggregate statistics that describe our online audience which are often    based on the information you provide when you subscribe, register, or browse our    sites help us sell advertising by, among other things, describing the demographics    of our visitors, and otherwise publicize ziff davis and our brands  in addition,    we make some information collected by our b2b, emedia and salesify divisions,    such as the name of our users, their mailing address, phone number, email address and    in certain circumstances their employer''s name, company size and other industry    data available on a rental or other basis (e g  sale) to third party providers    of goods and services when such information is provided in connection with webcasts    and white papers or other sponsored downloads  please note that we only take such    actions in connection with emails collected by toolbox com, inside crm, inside erp,    it management, it security, and voip news  please see the sections webcasts and    white papers other sponsored downloads below to learn more  to learn how you can    make choices about how this information is used or shared, please visit the how    you can change or control what is collected section below '\",\n",
       " 'email deployment, data analysis e commerce and other services  we    provide customer lists, email addresses and other information identified above    to third party companies and contractors who provide us with specialized services,    such as email message deployment, email address validation, merge purge (identifying    and removing duplicate addresses), subscription fulfillment, customer support    and service, research, statistical analysis, data and website hosting, and other    data and transaction processing  these companies work on our behalf, and we do    not provide our lists or other data to them for their own permanent use  those    service providers will be permitted to obtain only the information they need to    deliver the service  they should also maintain the confidentiality of the information    and are prohibited from using it for any other purpose ',\n",
       " 'webcasts  at times we produce and host sponsored webcasts for a variety    of companies (\"sponsors\")  data collected during the registration process and    the actual event may be shared with those sponsors and others  the data is governed    by our privacy policy and the third party\\'s privacy policy, and it may be used    by us and the sponsor for follow up purposes ',\n",
       " 'please note that we engage third party service providers for the purpose    of processing the sale of subscriptions, to fulfill your orders for product purchases,    to honor your request to be removed from promotional mailings, or other services     these service providers have access to or are provided with certain personal information    (including credit card information) in order to provide us with the applicable    service ',\n",
       " 'white papers other sponsored downloads  ziff davis hosts product listings    and offers informational downloads for a variety of third party vendors  when    registration is required in order to receive or view the download, some or all    data collected during product registration and or ziff davis website registration    may be shared with the vendor (and other third parties) in order to send information    related to the topic of the white paper or product download ',\n",
       " 'contests, competitions, sweepstakes and prize draws  data collected    during the registration for contests, competitions, sweepstakes and prize draws    is used by us and may be shared with sponsors and other third party companies    involved in administration and prize fulfillment or as otherwise set forth in    the official rules  please read the official rules carefully before you submit    your personal information ',\n",
       " 'co branded sites and services  when you use a co branded service (a    service operated with a partner of ziff davis), or register or otherwise provide    information on a co branded site, you grant us permission to pass the information    collected back to that partner  use of your information by such partners is subject    to their privacy policies as well as ours ',\n",
       " 'speedtest and web speed results  we license the results from all tests    run through our ookla brand including speedtest net, the speedtest app and the    web speed feature of the speedtest browser extension to third parties ',\n",
       " \"'online data  all online data is collected anonymously as described    herein  however, data collected on speedtest net is not anonymous as follows     ookla collects users'' ip addresses, and network, hardware and device identifiers    as described in the above section  ookla may also use publicly available data    collected through the web speed feature of the speedtest extension on your web    browser to ascertain your approximate location (if your browser settings allow    it)  ookla licenses the online data collected on speedtest net, the speedtest    app and or the speedtest browser extension to various companies around the world,    including ip addresses (collected on speedtest net, the speedtest app and or the    speedtest feature of the browser extension only, but not through the web speed    feature of the extension), and network, hardware and device identifiers and speed    results from the tests you take  in most cases, the ip addresses collected when    you run a test on speedtest net, the speedtest app, or through the speedtest feature    of the browser extension are masked or partially hidden, but in some cases we    provide the full ip address to the company licensing the information  for some    internet service providers (isps) and mobile carriers, ookla will provide full    ip addresses, as well as and network, hardware and device identifiers, for that    company''s customers upon request for use in customer insights and assistance     ookla may also provide full ip addresses, as well as and network, hardware and    device identifiers, to equipment manufacturers and core network, or wholesale,    providers on a case by case basis for network research purposes  in the cases    in which we provide the full ip address, and network, hardware and device identifiers,    it is because the company, typically an internet service provider (isp) or mobile    carrier, owns those ip addresses, and network, hardware and device identifiers    and provides them to their customers when their customers enter into a service    contract  because the company owns the ip address, and network, hardware and device    identifiers, we provide that full information to those companies when they specifically    request that information  see below interest based ads for data that we may sell,    license or transfer to third parties '\",\n",
       " 'ecommerce  when shopping on some of our sites or pages, users may    need to provide personally identifiable information that is necessary to fulfill    an online order, including name, billing address, shipping address, telephone    number, email address, credit card number (with expiration date), and any of the    above information needed to send a package to a gift recipient  if a user creates    an account, the credit card information above will not be stored under their account     when placing an order, credit card information will be immediately entered onto    a secure server of a pci compliant third party  we partner with a number of third    parties to process and fulfill orders, send transactional emails, collect payment credit    card information and ensure delivery of downloads and packages  while these third    parties may have access to personal information in order to perform their duties,    they are not permitted to use it for other purposes  for offers com, we may disclose    personal information to referral sources to the extent necessary to process and    record the referral and to merchants and third party affiliate networks to the    extent that you have submitted or redeemed a coupon offered by the merchant or    participated in an offer or other activity sponsored or offered through offers com    or its web browser extention on behalf of the merchant, to the extent necessary    to process and record the submission or redemption of the coupon and or to facilitate    your participation in the activity ',\n",
       " 'what ziff davis does with the information it collects personal information     we only use personal information in a way that is compatible with and relevant    to the purpose for which it was collected  how we use personal information is    further described in the section what we provide to third parties ',\n",
       " 'emails  we use email addresses to send offers of services or products    (and as set forth in the section what we provide to third parties)  any recipient    will be able to unsubscribe from receiving these emails by following the instructions    at the bottom of the email ',\n",
       " \"'other information  ad serving and ziff davis  at times we display    ads both on our network of owned and operated websites and apps and on non ziff    davis websites and apps  when you visit one of our websites, use one of our apps    or view ads that we serve off of our network elsewhere, you may see multiple kinds    of ads, such as text ads next to search results and graphical ads shown on web    pages and apps  sometimes these ads are based on the content of the page on which    they appear  other times these ads are generated by matching the ad to your interests    as inferred from your browsing activities collected online  or the ads may be    based on your location using your ip address and or browser  see interest based    ads below  either way, ziff davis tries to show you relevant ads, and to do so,    we may use information we know or receive about you, such as your browsing habits,    gender, location or interests '\",\n",
       " 'interest based ads  we use cookies, javascript, pixel tags, device    id tracking and other technology to collect information about (i) your visit to    our sites, your engagement with our apps and other third party partner websites    and apps that we do not own or operate but with whom we have agreements and (ii)    your interaction with emails we deliver (\"online data\")  we analyze what pages    you visit on our sites and the third party sites, what products or services you    view, and whether you view or click on ads that are shown to you  we use this    information to send you interest based ads  all such data is also collected anonymously,    and is aggregated with other data we collect and or similar data collected by    partners to create segments, groups of users and certain general interest categories    or segments that we have inferred based on (a) demographic or interest data, and    a general geographic location derived from your ip address or mobile device, (b)    the pages you view and links you click when viewing an email or using our sites    and services and those of our partners, and or (c) the search terms you enter    when using certain search services  we use this information to get a more accurate    picture of audience interests in order to serve ads we believe are more relevant    to your interests ',\n",
       " 'please note that we may sell or transfer online data to certain third    parties such as advertisers who will use this data to serve ads that they believe    are relevant to your interests, and who agree to maintain the confidentiality    of this information  some of these third parties may combine the online data with    their own data about you to form a more detailed picture ',\n",
       " 'we store page views, clicks and search terms used for ad personalization    targeting separately from your contact information or other data that directly    identifies you (such as your name or email address), which we obtained as described    above under personal information however in some situations we combine the online    data with your email address ',\n",
       " \"we will engage third party providers to assist with the collection,    storage and segmentation of online data  and the providers are required to maintain    the confidentiality of this information  these efforts do not result in the collection    of personally identifiable information such as name or address  and we do not    intentionally collect data that we consider to be sensitive, such as financial,    health, or medical information or data concerning racial or ethnic origin, political    opinions, religious or philosophical beliefs, trade union membership, or sex life     except as may be set forth elsewhere in this privacy policy, this online data    is retained for not more than 180 days after which it shall expire  however, the    180 day period may commence again if the same user subsequently visits one of    our sites or a partner's site \",\n",
       " 'to allow other users to find you  in order to locate my ign members    that a user may already know in the physical world and or want to get to know    in the online world, we allows users to search for members using information the    user already knows, such as username, full name, or gamer profile, and identifies    users matching that search information ',\n",
       " 'to ease future form filing  some of our services use a registered    user\\'s data to \"pre populate\" online forms that are displayed for the purpose    of collecting additional individual data by our websites, selected third party    sites, and or sponsors and advertisers ',\n",
       " 'behavioral targeting re targeting  we partner with third party ad    networks to either display advertising on our website or to manage our advertising    on other sites  our ad network partners may use cookies and web beacons to collect    non personally identifiable information about your activities on our owned and    operated sites and third party websites to provide you targeted advertising based    upon your interests  even though we do not disclose your personal information    for targeted advertising purposes without your consent, if you click on or otherwise    interact with an advertisement, the advertiser may assume that you meet its target    criteria  if you wish to not have this information used for the purpose of serving    you targeted ads, you may opt out by clicking here  please note this does not    opt you out of being served all advertising  you will continue to receive generic    ads ',\n",
       " \"'how you can change or control what is collected  cookies  most web    browsers automatically accept cookies but allow you to modify security settings    so you can approve or reject cookies on a case by case basis  you may stop or    restrict cookies on your computer or purge them from your browser by adjusting    your web browser preferences  if you would prefer that we not collect anonymous    data that may be used to help determine which advertisements to serve you, opt    out by clicking this icon'\",\n",
       " '\\', which can be found on most of our webpages  however, if you \"turn    off,\" purge, or disable cookies, although you may still use our websites, you    may not be able to use all of the features, functions, or services available on    our websites \\'',\n",
       " 'digital advertising alliances  the digital advertising alliance (daa)    is an independent non profit organization that collaborates with businesses, public    policy groups, and public officials to ensure that the high standards for consumer    privacy, transparency and control are addressed and enforced ',\n",
       " \"ziff davis supports and adheres to the self regulatory principles    for online behavioral advertising of the daa and is a member of the daa in the    us, eu and canada and has truste's assurance platform to comply with these principles     as part of this service, online ads that we place using behavioral data we collect    are expected to be delivered with the advertising option icon (also referred to    as the forward i) or similar icon that helps users understand how their data is    being used and provides choices for users who want more control  online advertisements    on our sites targeted to you based on previously collected online data about you    by third parties should also have the advertising option icon  this icon is also    on each of our web pages  the advertising option icon provides information (and    links to other information) on online behavioral ads, who is collecting and using    your online data, how you can opt out and more  european union and switzerland    residents should visit the european daa user choice website youronlinechoices    by clicking here  canadian residents should visit the daa of canada by clicking    here  u s  residents and residents of all other countries not listed above can    click here for the daa site to learn more about the use of cookies, your opt out    choices, and more \",\n",
       " 'ziff davis adheres to the edaa principles and the eu self regulatory    initiative for online behavioral advertising (oba) ',\n",
       " 'pixel tags  you can disable pixel tags by changing your browser settings    to omit images and disable javascript, or there may be commercially available    software packages that can assist with dealing with pixel tags ',\n",
       " 'updating your registration information  upon request, ziff davis will    provide you with information about whether we hold any of your personal information     you can also view correct, delete or change the information collected during user    registration at any time at the profile page for that membership, app or website     please allow five to ten business days for corrections or changes to be publicly    displayed or implemented throughout our systems  if you have any trouble accessing,    correcting or deleting any of your information, or would like to make a request    about whether ziff davis holds any of your personal information, please contact    the website directly by clicking on the appropriate link below (which should lead    to a \"contact us\" or support page) or contact us at zdlegal1 (must    include \"privacy policy\" in the subject line) and we will respond to your request    within a reasonable timeframe ',\n",
       " '\\'if you have any trouble accessing, correcting or deleting any of    your information, contact the website directly by clicking on the appropriate    link (which should lead to a \"contact us\" or support page)  ign askmen pcmag geek    extreme tech computer shopper logicbuy techbargains offers com couponcodes com    ziff davis b2b focus sites toolbox com emedia (us) emedia (uk) salesify b2bsignals    ookla speedtest net\\'',\n",
       " 'location based services  you may opt out of location based services    at any time by editing the setting at the device level or by emailing us at zdlegal1    and include \"privacy policy\" in the subject line ',\n",
       " 'your newsletter and email subscriptions  you can opt out or unsubscribe    to a newsletter or other email lists at any time by following the instructions    at the end of the newsletters or email you receive  you can also do so through    the pcmag newsletter subscription management page (this page will display all    of your newsletter subscriptions for pcmag com and certain other ziff davis newsletters)     for offers com email subscriptions, please click here to send your request  please    allow five to ten business days for changes to take effect ',\n",
       " 'your subscription information  you can correct or change your pc magazine    digital edition subscription information by clicking here  please allow two to    four weeks for changes to take effect (if you are a new subscriber, your information    may not be immediately available at this url please allow up to four weeks from    placing your subscription order for processing)  you can correct or change your    toolbox com subscriptions and preferences using the account settings here  please    note member service related communications are an integral part of the toolbox com    service to which you subscribe and you will continue to receive these emails as    part of the toolbox com service unless you cancel your account ',\n",
       " 'sms policy  you may choose to stop receiving mobile marketing communications    from offers com (and in the future from techbargains) by texting stop in response    to sms messages  you can also text help for assistance, or contact customer service     offers com (and in the future from techbargains) will not charge you for receiving    or sending sms messages  offers com will not be liable for any delays in the receipt    of any sms messages connected with the program  delivery of sms messages is subject    to effective transmission from your wireless service provider network operator     please consult your wireless service agreement for the individual pricing plan    applicable to your mobile handset or other mobile device (\"devices\")  sms may    not be available for all service providers or for all devices  your device\\'s instructions    for text messaging may also be different  check your device\\'s user manual for    device capabilities and specific instructions  we make no representation, warranty    or guarantee that a particular wireless service provider will enable you to participate    in an sms program  we may, in our sole discretion, add or delete a cellular carrier    at any time, with or without notice  you represent and warrant that you are the    owner of the telephone number submitted for sms messages, or have authority to    submit the telephone number on behalf of a third party ',\n",
       " 'stop sharing of lists  many customers appreciate the communications    they receive from the third party providers of goods and services to whom our    b2b, emedia, salesify and ookla divisions provide lists of our customers, but    if you no longer wish to receive messages from individual providers, follow the    unsubscribe link and instructions at the bottom of the message  to stop receiving    messages from all third parties  including messages from third parties to whom    you provided your personal information in order to download a white paper, case    study or other document, or to enter an advertiser sponsored sweepstakes or other    contest please send an email with your preference request changes to zdlegal1    and include \"privacy policy\" in the subject line ',\n",
       " 'if you encounter any issues with changing your preferences, please    send an email to zdlegal1 and include \"privacy policy\" in the subject    line  please allow up to ten business days for any changes to be implemented throughout    our systems ',\n",
       " 'push notifications we send you push notifications from time to time    in order to update you about any events or promotions that we may be running     if you no longer wish to receive these types of communications, you may turn them    off at the device level  to ensure you receive proper notifications, we will need    to collect certain information about your device such as operating system and    user identification information ',\n",
       " 'international users ziff davis operates websites hosted in the united    states and, depending on your country of residence, the submission of personally    identifiable information to our sites may involve some transfer of personal information    to the united states  you understand and consent to having any personal information    you provide transferred to and processed in the united states  you should be aware    that privacy laws in the united states may not provide protections equivalent    to those of your country of residence ',\n",
       " \"privacy shield ziff davis and its u s  subsidiaries ign entertainment,    inc , emedia communications, llc, salebuild, inc , d b a salesify, offers com,    llc and ookla, llc participate in and have certified its compliance with the eu u s     privacy shield framework  ziff davis is committed to subjecting all personal data    received from european union (eu) member countries, in reliance on the privacy    shield framework, to the framework's applicable principles  to learn more about    the privacy shield framework, please visit the u s  department of commerce's privacy    shield list \",\n",
       " 'ziff davis is responsible for the processing of personal data it receives,    under the privacy shield framework, and subsequently transfers to a third party    acting as an agent on its behalf  ziff davis complies with the privacy shield    principles for all onward transfers of personal data from the eu, including the    onward transfer liability provisions ',\n",
       " 'with respect to personal data received or transferred pursuant to    the privacy shield framework, ziff davis is subject to the regulatory enforcement    powers of the u s  federal trade commission  in certain situations, ziff davis    may be required to disclose personal data in response to lawful requests by public    authorities, including to meet national security or law enforcement requirements ',\n",
       " 'if you are a european individual with a privacy related complaint,    concern or question about ziff davis\\' privacy practices, please contact us by    writing to zdlegal1 (must include \"privacy policy\" in the subject    line) and we will respond within 45 days of receiving your request  under certain    conditions, more fully described on the privacy shield website, european individuals    may invoke binding arbitration when other dispute resolution procedures have been    exhausted ',\n",
       " \"u s    swiss safe harbor framework ziff davis complies with the u s       swiss safe harbor framework as set forth by the u s  department of commerce    regarding the collection, use and retention of personal data from switzerland     ziff davis has certified that it adheres to the safe harbor privacy principles    of notice, choice, onward transfer, security, data integrity, access, and enforcement     to learn more about the safe harbor program, and to view ziff davis' certification,    please click here \",\n",
       " 'apec ziff davis\\'s privacy practices described in this privacy policy    comply with the asia pacific economic cooperation (\"apec\") cross border privacy    rules system  to learn more about this program, please click here ',\n",
       " 'other useful information regarding your privacy some or all personal    information maintained by ziff davis may be subject to transfer to another company    in the event of a change of ownership of ziff davis or sale of any part of ziff    davis  you will be notified via email and or a prominent notice on our websites    of any change in ownership or uses of your personal information, as well as any    choices you may have regarding your personal information ',\n",
       " 'security  we believe we use reasonable precautions to keep the personal    information you disclose to our websites secure and to only release this information    to third parties that share our commitment to privacy  however, we cannot guarantee    there will not be a breach, and we are not responsible for any breach of security    or for the actions of any third parties  in certain instances we may use secure    sockets layer encryption on anonymous data ',\n",
       " '\"you are ultimately responsible for the security of your email address       and password  please take care when using and storing them  we recommend that       you do not divulge your password to anyone  you should log out of your browser       at the end of each session to ensure that others cannot access your personal       information and correspondence, especially if several people have access to       your personal computer or you are using a computer in a public place, such as       a library or internet caf xe9 \"',\n",
       " 'children  ziff davis websites are not intended for use by children,    especially those under 13  no one under age 13 should provide any personal information    or use our public discussion areas, forums or chats  minors under the age of 18    are prohibited from making purchases on our sites or obtaining coupons or codes    from our sites to purchase goods or services on third party websites  if, notwithstanding    these prohibitions, your children disclose information about themselves in our    public discussion areas, consequences may occur that are not intended for children    (for example, they may receive unsolicited messages from other parties)  if it    is discovered that we have collected personal information from someone under 13,    we will delete that information immediately ',\n",
       " \"data retention  the time period for which we keep information varies    according to the information's use  in some cases, there are legal requirements    to keep data for a minimum period  unless there is a specific legal requirement    for us to keep the information, we will retain it for no longer than is necessary    to fulfill a legitimate business need \",\n",
       " 'links to other sites  ziff davis websites may contain links to other    sites whose information practices may be different from ours  we do not have control    over the information that is submitted to, or collected by, these third parties     you should consult the privacy policy of these other sites to learn how your privacy    is protected ',\n",
       " 'compliance with law and other terms  subject to applicable law, we    reserve the right to release information concerning any user of our sites or services    when we have grounds to believe that the user is in violation of our terms of    use or other published guidelines or engages in (or we have grounds to believe    is engaging in) any illegal activity, and to release information in response to    court and governmental orders, other enforceable requests from government entities,    civil subpoenas, discovery requests and otherwise as required by law  we also    may release information about users when we believe in good faith that such release    is required to protect the rights, property, safety or security of ziff davis,    any of our users or the public, or to respond to an emergency ',\n",
       " 'california residents  in accordance with the california online privacy    protection act (\"caloppa\"), we may collect personal information about your online    activities when you use our sites  while we give our users many avenues to opt    out of providing personal information, we do not respond to web browsers\\' \"do    not track\" signals, in accordance with california business   professions code    section 22575  if you wish for us to refrain from gathering your personal information,    please see our section on how to change or control what is collected ',\n",
       " '\\'california\\'\\'s \"shine the light\" law, civil code section 1798 83,    permits our users who are california residents to periodically request and obtain    certain information about any personal information disclosed to third parties    for direct marketing purposes  if you are a california resident and wish to make    such a request, please submit your request in writing to  ziff davis legal department    28 east 28th street new york, ny 10016 for more information concerning your use    of ookla\\'\\'s websites and services (including speedtest), please visit ookla terms    of use page  the ookla terms of use page is incorporated by reference into this    privacy policy \\'',\n",
       " \"for more information concerning your use of all other ziff davis websites    and services, please visit ziff davis' terms of use page  the ziff davis terms    of use are incorporated by reference into this privacy policy \",\n",
       " 'changes to the privacy policy  we may change this privacy policy from    time to time, and all changes will be effective at the time we post them  if we    believe there is a significant change to this privacy policy or our data collection    and use practices, we will indicate on our sites that our privacy policy has changed    prior to the change becoming effective  the then posted version of the privacy    policy supersedes all prior versions  your continued access to or use of any of    our sites shall be deemed your acceptance of the privacy policy ',\n",
       " 'we urge you to come back to this web page and review this privacy    policy regularly so that you remain aware of the terms and conditions that apply    to you ',\n",
       " \"'questions or complaints? if you have any questions on our privacy    policy, you can contact us at zdlegal1 and include privacy policy    in the subject line  you may also contact us by writing to  ziff davis legal department    28 east 28th street new york, ny 10016 u s a '\",\n",
       " \"'truste certified websites and mobile applications the truste program    covers only information that is collected through these websites  ziff davis,    ign, ign canada, ign uk, ign australia, ign mobile, askmen, askmen canada, askmen    uk, askmen australia, pcmag, pcmag canada, pcmag uk, pcmag australia, pcmag mobile,    extremetech, extremetech mobile, computer shopper, geek, geek mobile, logicbuy,    techbargains, offers com, couponcodes com, toolbox com, inside crm, inside erp,    it management, it security, voip news, emedia com, emedia co uk, salesify b2bsignals    ookla, and speedtest and information that may be collected through these mobile    applications  ign entertainment app, ign app for playstation all stars, ign video    game news reviews guides, ign app for gw2, ign app for dead space 3, ign app for    elder scrolls v, ign app for final fantasy xiv, ign app for planetside2, techbargains    app, offers com app and the speedtest app '\",\n",
       " 'if you have an unresolved privacy or data use concern that we have    not addressed satisfactorily, please contact our u s  based third party dispute    resolution provider truste (free of charge) by clicking here ',\n",
       " '\"privacy policy   terms of use  xa9 2017 ookla all rights reserved\"',\n",
       " 'home find my phone blog',\n",
       " 'privacy policy 360 security (the \"software\") is software created by    qihoo 360 software co , ltd  (\"360,\" \"we,\" or \"us\")  we take the privacy of our    customers seriously and are committed to safeguarding your privacy while you use    our software  this policy (hereinafter the \"privacy policy\") describes the types    of information we collect when you use 360\\'s services and software, how we may    use that information and with whom we may share it  our privacy policy also describes    the measures we take to protect the information you share with us ',\n",
       " '\\'information we collect  unless you use the \"finding my phone\" feature    or specifically consent, we don\\'\\'t collect the personal information that identifies    you or another person (\"personal user information\"), such as your last name, physical    address, fax, id card number, ssn information stored within your device  we generally    collect information in the following ways to provide better services to all of    our users  information you give us  we may collect information such as email contacts    and troubleshoot content that maybe provided during user feedback  we will use    this information to provide better technical user support and improve our product    in the future \\'',\n",
       " 'information we get from your use of our services and software  we    may collect information about our services and software that you use and how you    use them  this information may include, for instance, information about your device,    the version of the software installed on your device, details about your usage    patterns, limited details about your internet usage stored temporarily to provide    our services and software, files and risks such as malware, and information that    may be included in a virus or malware sample that we collect from your mobile    device for review ',\n",
       " 'device information  we may collect device specific information, including    your operating system version, system language, and imei number ',\n",
       " \"'log information  when you use our services and software, we may automatically    collect and store certain information on our servers related to your use of our    services and software to help us improve the quality of our products and service     this may include  the manner in which you use our services and software, including    how frequently you install, use, or uninstall our software and its features '\",\n",
       " '\\'information collected relating to installed programs scanned by software    features  the information uploaded onto our 360 cloud security center (\"360 cloud    security center\") servers for virus scanning include  file paths and md5 checksums    of the executable files, installed software names, package names, software signature    certificates, and software urls in conjunction with our filtering feature, which    we apply to suspicious urls when you use 360 internet protection (this information    is encrypted and temporarily stored solely to provide our services)  information    relating to upgrades and updates to our software, including the time of the upgrade    and the version of the upgrade \\'',\n",
       " 'unique serial numbers  when you use certain services, they might have    a unique 360 serial number  this serial number and certain information about your    installation (for example, the type of operating system on your device) may be    sent to 360 when you install or uninstall software or when software periodically    contacts our servers, such as in a check for automatic updates ',\n",
       " \"'local storage  we may collect and store information (including personal    information) locally on your device using mechanisms such as application data    caches  such information includes  user settings, file whitelist and blacklist    used to accelerate file scanning and cleanup file scanning '\",\n",
       " \"'error log uploading  software will generate an error log and a dump    file automatically when an unexpected error occurs or an application crashes     software will upload the error log and the dump file to 360 cloud security center    as required to find out the reason that the error occurred or software crashed    and improve the quality of the product  before uploading the error log and the    dump file, software will prompt you to agree to the upload  if you agree, software    will upload the error log and the dump file to 360 cloud security center  and    if you do not agree, software will not upload the log  the error log is a record    of software errors and or crashes  dump files are generated by the operating system    when a program crashes, and contain the program execution status of the crash,    including the time of crash and system information  they do not contain personal    user information  information we may access from your device  device   app history     software may access information about activity on the device, which apps are running,    your settings, browsing history and bookmarks for purposes including improving    system performance, detecting malware, and logging errors  software may close    other apps that are running  we will not upload this information off your device    and sd card except in an anonymized form to improve app performance '\",\n",
       " \"'contacts  software may access your contact information for purposes    including backing up your contacts to your sd card for alter recovery and storing    your contacts as part of the software''s private communications feature  we do    not upload this information off your device and sd card '\",\n",
       " \"'location  if you utilize the find my phone feature, software may    access your phone''s location information to assist in locating your phone  we    do not utilize your location information for any other purpose '\",\n",
       " \"'phone, sms and mms  software may access your phone, phone log, sms,    and mms for several purposes  as part of the call and sms filter feature, the    software may block phone calls, sms and mms based on black lists or white lists    set by you  as part of the private communications feature, the software may encrypt    your phone log, contacts, sms, and mms in order to keep this information private     we do not upload any of this information off your device and sd card '\",\n",
       " \"'photos media files  software may access files on the device such    as images, videos, or audio, and your sd card in order to scan your device for    malware and other purposes related to the functioning of the software  we do not    upload these files off of your device and sd card '\",\n",
       " \"'flashlight  software may access your device''s camera system to utilize    the device''s led(s) for the software''s flashlight feature  software does not    capture any images using your device''s camera(s)  wi fi connection information     software may view information about your wi fi networking, such as whether wi fi    is enabled and names of connected wi fi devices '\",\n",
       " '\\'device id   call information  software may access information as    to whether a phone call is active and the remote number connected by a call  if    you utilize the find my phone feature, software may access your phone number and    device ids  internet connection  software may receive data from the internet for    purposes of updating the software  if you use the \"find my phone\" feature  we    will also collect and use personal user information, including, for example, your    google account username, your phone number, your device\\'\\'s imei number, and the    location of your device, to provide you services, including remotely identifying    the location of the device \\'',\n",
       " \"'use of personal user information 360 uses the personal user information    it collects in ways that serve your security and privacy needs, including the    following  provide threat prediction and protection products and services  provide    security advisories, information and product updates  conduct research and analysis    (for example, market and consumer research, security research and analysis, and    trend analysis)  analyze users'' behavior when using our services and software    to customize users'' preferences  provide customer support, manage subscriptions    and respond to requests, questions and comments  communicate about, and administer    participation in, special events, programs, surveys, contests, sweepstakes, and    other offers and promotions  customize, measure, and improve our product  analyze    and develop new products and services  prevent, detect, identify, investigate,    and protect against potential or actual claims, liabilities, prohibited behavior,    and criminal activity  comply with and enforce applicable legal requirements,    agreements and policies  perform other activities consistent with this policy     other ways that we may use your personal information'\",\n",
       " \"'customer experience improvement program  if you participate in the    360 customer experience improvement program, 360 will collect usage statistics    of each copy of software as required, which generally includes the installation    and use frequency statistics of each featured user  upon analysis of this data,    360 may improve the quality of the software and release new helpful security services    to users  the statistics are only taken in connection with our software, and contain    no personal user information '\",\n",
       " \"'feedback  when you contact 360 with any feedback or for customer    service or technical support by email or in any other manner, we may keep a record    of your correspondence with us to help solve any issues you might be facing  if    you decide to sign up to receive updates or information about our software or    services, or to receive any of our marketing materials, we may use your email    address to send you updates, newsletters or marketing materials  you may unsubscribe    to such communication at any time '\",\n",
       " \"'information security we work hard to protect 360 and our users from    unauthorized access to, or unauthorized alteration, disclosure or destruction    of, personal user information we hold  in particular  we encrypt the information    obtained through provision of many of our services in accordance with ssl protocol     before any information is uploaded to our 360 cloud security center, we will encrypt    this information using industry standard encryption methods, including md5  we    may review our information collection, storage and processing practices, including    physical security measures, to guard against unauthorized access to systems whenever    we find it appropriate to do so '\",\n",
       " 'we restrict access to your personal user information to only those    360 employees, contractors and agents required to provide our software and services     all 360 employees, contractors and agents are subject to strict contractual confidentiality    obligations and may be disciplined or terminated if they fail to meet these obligations ',\n",
       " 'although we take great efforts to protect your personal information,    no method of transmission over the internet, or method of electronic storage,    is 100  secure  we cannot guarantee and you cannot reasonably expect that our    databases will be immune from any wrongdoings, malfunctions, unlawful interceptions    or access, or other kinds of abuse and misuse ',\n",
       " \"'information we share we do not share personal user information with    companies, organizations and individuals outside of 360 unless one of the following    circumstances applies  with your consent  we will only share your personal information    with companies, organizations or individuals outside of 360 when we have your    specific consent to do so, except when we share your personal user information    to affiliate businesses or to third party servicers which provide administrative    or other services to us in connection with the services and software we offer    you '\",\n",
       " 'for external processing  in order to provide the most efficient and    up to date services, we provide your personal information to our affiliate businesses    and to third party servicers which provide administrative or other services to    us in connection with the services we offer you  we will only disclose your personal    user information in accordance with our privacy policy and any other appropriate    confidentiality and security measures as regulated by law  we will ensure that    any third party servicers that may come in contact with your personal user information    will have confidentiality and or privacy policies equal to or greater than our    own ',\n",
       " \"'for legal reasons  to the extent required or permitted by the applicable    law, we will share personal information with companies, organizations or individuals    that are not affiliated with 360 if we have a good faith belief that access, use,    preservation or disclosure of such information is reasonably necessary to  meet    any applicable law, regulation, legal process or enforceable governmental request,    including a subpoena, warrant or other process issued by a court of competent    jurisdiction  enforce applicable terms of service and or end user license, including    investigation of potential violations  detect, prevent, or otherwise address fraud,    security or technical issues  as may be required for purposes of national security     or prevent physical, financial or other harm, injury or loss or in connection    with an investigation of suspected or actual illegal activity or exposure to legal    liability, where 360 believes disclosure is necessary or appropriate '\",\n",
       " 'if 360 is involved in a merger, acquisition or asset sale, we will    continue to ensure the confidentiality of any personal information and give users    affected by such merger, acquisition or asset sale notice before personal information    is transferred or becomes subject to a different privacy policy ',\n",
       " 'consent we will ask for your consent before using your personal information    for any purpose other than those that are set out in this privacy policy to the    extent permitted by law  we will cease to use any of your personal user information    for any purpose if you request us to do so ',\n",
       " 'transparency and choice in collection process we understand that our    users have different privacy concerns  our goal is to be clear about what personal    information we collect, so that you can make meaningful choices which would affect    how your personal information would be used by us  if you choose to not to participate    in our use of your personal user information, you may close or choose not to trigger    certain functions of our software or services  however, we would like to explicitly    point out that if you do so, you will not be able to fully use all of our software    or services ',\n",
       " 'accessing and updating your personal information if at any time you    would like to access or correct your information that we have on file, please    send your request to privacy via email  when providing you with or    updating your personal information, we may ask you to verify your identity before    we can act on your request  where we can assist in providing or correcting your    information, we will do so for free, except where it would require a disproportionate    effort  we aim to maintain our services and software in a manner that protects    information from accidental or malicious destruction  because of this, after you    delete information from our services and software or request deletion of our information,    we may not immediately delete residual copies from our active servers and may    not remove information from our backup systems ',\n",
       " 'data retention we will retain certain of your information for as long    as your account is active or as needed to provide you services or improve services    for other users  we will retain and use your information as necessary to comply    with our legal obligations, resolve disputes, and enforce our agreements  if at    any time you would like to remove your information from our server, please send    your request to privacy via email  when providing you with or updating    your personal information, we may ask you to verify your identity before we can    act on your request ',\n",
       " 'application of privacy policy our privacy policy applies to all of    the services and software offered by 360 and its affiliates ',\n",
       " 'enforcement we regularly review our compliance with our privacy policy     we also adhere to several self regulatory frameworks  when we receive formal written    complaints, we will contact the person who made the complaint to follow up  we    work with the appropriate regulatory authorities, including local data protection    authorities, to resolve any complaints regarding the transfer of personal data    that we cannot resolve with our users directly ',\n",
       " 'modifications our privacy policy may change from time to time  we    will post any privacy policy changes on this page  we will not make any material    retroactive changes to this privacy policy, including for changes involving the    use of your personal user information, without your affirmative consent ',\n",
       " \"children's privacy 360 complies with the children's online privacy    protection act of the united states of america where it applies to our information    protection activities  360 does not knowingly collect personal information from    children under the age of 13 \",\n",
       " 'data transfer as our servers are in many countries around the world,    we may transfer the personal user information we obtain to countries other than    the country in which the information originally was collected  when we transfer    the personal user information to other countries, we will protect that personal    user information as described in this privacy policy ',\n",
       " \"'agreement with the privacy policy you expressly consent to 360''s    processing of information as described in this privacy policy when you  1  provide    information to us through our websites  or 2  license or download our software    or services and accept the terms of service or end user license  '\",\n",
       " 'in addition, through these uses and interactions with our software,    services or websites, you specifically consent to our collection of personal user    information by automated means, and to our subsequent processing of the personal    user information in accordance with this privacy policy and to the storage and    transfer of the personal user information to locations wherever 360 and its service    providers have facilities ',\n",
       " '\"360 securityapps  xa92016 all right reserved privacy promotion policy       permission english english  ud55c uad6d uc5b4  u65e5 u672c u8a9e\"',\n",
       " \"we will not collect and use personal user information, including,    your google account username, your phone number, your device's imei number, and    the location of your device \",\n",
       " 'our software does not access your contact information and does not    store your contacts ',\n",
       " 'our software will not access your phone number or device ids ',\n",
       " '\\'information we collect  if you use the \"finding my phone\" feature,    we don\\'\\'t collect the personal information that identifies you or another person    (\"personal user information\"), such as your last name, physical address, fax,    id card number, ssn information stored within your device \\'',\n",
       " 'we do not collect information such as email contacts and troubleshoot    content that is provided during user feedback ',\n",
       " \"if you utilize the find my phone feature, our software does not access    your phone's location information \",\n",
       " 'the software is not viewing information about your wi fi networking,    particularly, whether wi fi is enabled or names of connected wi fi devices ',\n",
       " 'our app does not collect device specific information, including your    operating system version, system language, and imei number ',\n",
       " '\"terms privacy menu my settings current conditions minutecast xae       hourly forecast 3 day forecast extended forecast weekend month outlook radar         maps health forecasts travel forecasts outdoor forecasts home   garden forecasts       news   video privacy statement accuweather wants to assure that visitors to       and users of accuweather products, services and websites, including accuweather\\'s       wired website(s), accuweather\\'s mobile website(s), and accuweather applications,       whether using or not using the  (jointly and severally       referred to as the \\'accuweather sites\\'), are provided with appropriate information       and choice mechanisms to make and implement informed decisions on using the       accuweather sites, including but not limited to providing personally identifiable       information (\\'pii\\') \"',\n",
       " 'this privacy statement shall also cover, and the term \"accuweather    sites\" shall be construed to include, the accuweather team or website which    may be hosted and administered by a third party on accuweather\\'s behalf, and any    related products or services, including any accuweather or third party applications    which may be used to access or utilize team or or any features or functionality    offered through team or',\n",
       " 'your use of any of the accuweather sites indicates your consent and    acknowledgement to the practices described in this privacy statement ',\n",
       " 'we want you to know that accuweather is committed to safeguarding    your privacy online  as accuweather expands its offerings and as technology evolves,    we may, from time to time, update our privacy practices to address these  please    check this page on a regular basis for updates to this privacy statement  the    accuweather sites, and the products, services and advertising made available through    these sites, may not be appropriate for use by children ',\n",
       " 'please note that this privacy statement shall apply to you whether    you access the accuweather sites directly, whether the accuweather sites are made    available to you by a third party, or whether you access the accuweather sites    by another means  this privacy statement shall take precedence over any conflicting    terms published by a third party that you may have accepted (or in the future    be required to accept) in connection with your access or use of the accuweather    sites ',\n",
       " \"what we collect about you  we collect information on the accuweather    sites during the registration process and through your use of the accuweather    sites for business purposes that will allow us to better and more efficiently    serve you  our personalization, interactive communications, online commerce and    other types of services, allow us to deliver better service and content that is    relevant to our user base  some uses accuweather makes of this information are    processing and verifying subscriptions, billing, and providing you with up to date    information on the newest accuweather products  service providers, advertisers,    vendors and other third parties (hereinafter 'providers') may be utilized by accuweather    to host, or in conjunction with the operation of, the accuweather sites and the    products, services, and advertising related to them  these providers may also    collect information \",\n",
       " \" you may be asked to provide information that personally identifies    you or allows accuweather and or its providers to contact you  generally this    information is requested when you are asked to register for fee based services,    although some free products and services may also request or require registration     for example, we may request personal information from you when you create an account    (e g , to access team or download an application or content through the    accuweather sites, upload content (e g , photos, videos) to the accuweather sites,    subscribe to e mail newsletters or other content made available by the accuweather    sites, or report a problem with your account or the accuweather sites  you may    be asked to provide personally identifiable information such as your name, address,    and or email address (collectively 'personally identifiable information' or 'pii'),    as well as select a username and password (if one is not selected for you by accuweather)     you may be asked for information which is not considered pii, such as a zip postal    code and or country of origin  as a registered subscriber or user, you may be    able to download software, enter contests or sweepstakes, order e mail newsletters    or participate in additional services or other promotions offered on the accuweather    sites  in addition to the pii obtained at registration, you may be asked for information    at other times, such as when you make a purchase or register for a service on    or through the accuweather sites, when you submit a listing for a web site, or    when you report a problem with one of our sites or services  however, whenever    you voluntarily disclose personal information online   for example on message    boards, through email, or in chat areas   that information can be collected and    used by others \",\n",
       " \"in addition to the information that you may proactively provide or    voluntarily disclose, your mere use of the accuweather sites may result in the    assignment of unique identifying numbers and or codes which may be used to allow    accuweather and its providers and others who assist accuweather in the support    of the accuweather sites and the products and services offered on the accuweather    sites, including advertisers, to track a user's web browsing movements across    the internet and not just on the accuweather sites  this type of information is    considered user data (as defined below)  by using the accuweather sites, you acknowledge    and consent to such activity \",\n",
       " \"to provide location based services, accuweather and its partners and    licensees utilize certain geographic tracking technologies that may collect, use,    and or share precise location data (such as gps signals sent by a mobile device)    or information that can be used to approximate a location (such as a cell id),    including the real time geographic location of your computer or mobile device     this location data is collected anonymously in a form that does not personally    identify you and is used by accuweather and its partners and licensees to provide    and improve location based products and services  by accepting accuweather's privacy    statement and or by using accuweather's products and or services, you consent    to use by accuweather and its providers, partners and licensees of such geographic    tracking technologies \",\n",
       " \" if you contact accuweather we may keep a record of that correspondence,    and may further prompt you for further information, depending on the nature of    the contact  we may also occasionally ask that you voluntarily participate in    certain promotions, surveys, sweepstakes or contests ('special programs'), or    enable automatic entry into such special programs via log on entries  at such    times, accuweather may disclose your pii to sponsors of the special program, and    we may or may not describe this to you prior to transferring the data  special    programs may also be subject to additional or different terms, or may be shared    or used in a slightly different way  if different terms do apply, details of the    specific terms and conditions or rules for these special programs may or may not    be provided by posting to the accuweather sites or upon registration for the special    program, on a case by case basis, subject to accuweather's terms for sharing pii \",\n",
       " ' to the extent unique information, which is not in itself pii, such    as personal profile, anonymous identifier(s), demographic information, behavioral    information, browser identifiers, session information, device type, carrier provider,    unique device id, uuid udid, carrier user id, web sites visited, ip address and    traffic data, is associated with pii, then such unique information shall not be    considered pii, but shall be considered user data  additionally, pii does not    include information that is collected anonymously (i e  without identification    of the individual user) or demographic or behavioral information that is not connected    to or correlated with an identified individual ',\n",
       " \"why we want to know  it's important for us to know our users  we deliver    valuable products and services, we are able to accomplish this through the use    of providers, such as advertisers, to produce the income we need to operate the    free areas of the accuweather sites  providers are like most businesses in that    they want something in return for the money they spend advertising on the accuweather    sites  they may want to know how many people will see their ad, and how often     the advertising companies may use information (including or not including pii)    about your visits to this and other web sites in order to provide advertisements    about goods and services of interest to you  these companies may also employ,    among other things, cookies, web beacons, flash shared objects, html5 local storage    and or html5 mini databases in furtherance of their services to accuweather \",\n",
       " 'accuweather and its providers use the information you provide to fulfill    your request for products, services, or information, to process and administer    your entry in special programs, to activate your account, to allow you to access    fee based parts of the accuweather sites, and to allow you to make submissions    (e g , videos, photos) to accuweather or its providers  we may also use such information    (including pii) to notify you of changes to the accuweather sites  to provide    you with weather news, e mail offers, text message offers, and other promotional    opportunities  to provide you with up to date information on the newest accuweather    products and services that may be of interest to you  to handle billing disputes    with you  and to tailor our online offerings to your preferences ',\n",
       " 'vendors and third party providers  to make the accuweather sites more    valuable to our customers and our visitors, we may offer some products, services    or features through or in conjunction with providers  many wireless products,    for example, may be made available through cooperative arrangements with providers    who offer specialized products, information or services that work well with accuweather    sites, products and services  by way of further example, we may elect to use one    or more providers to administer the process for you to make submissions (e g ,    videos) to the accuweather sites and or to host or store such submissions for    us  in some instances, our providers may have the same access to your pii as we    do  their use of the information will be subject to the terms of this privacy    statement as well as their respective privacy policies or statements, which you    may find on their websites ',\n",
       " \"' we use third party companies to serve ads when you visit the accuweather    site(s), including microsoft  these companies may use information about your visits    to this and other web sites in order to provide advertisements about goods and    services of interest to you  if you would like more information about this practice    and to know your choices about not having this information used by these companies,    click here  ( or here  (    or for microsoft advertising, click here  (    you may also go to the sites and policies of our providers to find out more about    technologies utilized by them in the course of providing services to the accuweather    sites '\",\n",
       " \"links to provider sites  occasionally, you may seek access to certain    products and or services on the accuweather sites that are only available through    third parties, either through their own web sites or on web sites hosted by or    linked to the accuweather sites  when ordering, registering for or purchasing    products or services from these providers, you may at times be entering into an    agreement with that provider, and not with accuweather, and supplemental provider    terms may apply  you should read and understand the providers' terms of use and    policies before using their site or entering into agreements with them, since    they may differ substantially from this privacy statement and other applicable    accuweather terms and conditions  accuweather is not responsible for and does    not endorse or accept any responsibility over the contents or use of the provider    sites, products and or services and is not responsible for webcasting or any other    form of transmission received from any linked or hosted site  you should contact    our providers directly should you have any questions or concerns relating to the    terms of use and privacy policies of our providers' web sites  we may provide    information and contact information about our providers in this policy or on the    accuweather sites, but we take no responsibility to have a complete list of these    nor to ensure that the contact information is correct or accurate  the information    is provided for convenience only, but it is your responsibility to seek out and    contact such entities \",\n",
       " 'online behavioral advertising  the accuweather sites may be designed    to utilize online behavioral advertising, data collection and use practices (oba)     this means that certain information regarding your internet viewing behaviors    or practices, over periods of time and perhaps involving websites or applications    which are not the accuweather sites, may be used for the purpose of choosing advertising    to display to you  if you desire to \"opt out\" of this oba process, you can use    the link at  to do so ',\n",
       " 'this hyperlink and process is the recommended tool for such \"opt out\"    provisions of the digital advertising alliance self regulatory principles of online    behavioral advertising, to which accuweather endeavors to adhere to, as a member    of the interactive advertising bureau ',\n",
       " \"'google analytics  some or all of the accuweather sites make use of    google analytics demographics and interest reporting  the accuweather sites may    also make use of other google analytics for display advertising features, including    remarketing, google display network impression reporting and or the doubleclick    campaign manager integration  we are required by google to disclose the following    information to you in our privacy statement in connection with our use of any    google analytics for display advertising features on the accuweather sites  you    may opt out of google analytics for display advertising or customize google display    network ads by using the google ads settings page  you may also prevent your data    from being collected and used by google analytics by opting out through the use    of the google analytics opt out browser add on '\",\n",
       " 'if the accuweather sites make use of the google analytics for display    advertising remarketing feature, accuweather will use such remarketing feature    to advertise online and third party vendors, including google, may show accuweather    ads on sites across the internet ',\n",
       " \"accuweather and third party vendors, including google, may use first party    cookies (such as the google analytics cookies) and third party cookies (such as    the doubleclick cookie) together to (a) inform, optimize and serve ads based on    a user's past visits to the accuweather sites, and or (b) report how your ad impressions,    other uses of ad services, and interactions with these ad impressions and ad services    are related to visits to the accuweather sites \",\n",
       " 'data from google analytics demographics and interest reporting may    be utilized by accuweather to help recognize and understand user preferences,    to make improvements to the accuweather sites, to choose content and advertising    to display to you, and for other business purposes that will allow accuweather    to better serve you ',\n",
       " '\"cookies  the accuweather sites may be designed to utilize cookies       for optimal user performance  cookies and other types of identifiers may also       be included for purposes of collecting anonymous traffic data (e g  how many       people come to the accuweather site(s), how often, etc )  such cookies or identifiers       may be placed by us or by third parties who perform services for us  please       check the  \"help \" menu in your internet browser for information regarding how       to manage your cookie preferences (or if you are using a mobile device, check       the  \"settings \" for your browser or device)  some examples of where cookie       preferences may be found and managed in your internet browser (as of the version       date of this document) are as follows  \\'settings show advanced settings u2026      privacy content settings\\' (google chrome 25 pc)  \\'tools options privacy\\' (mozilla       firefox 15 pc)  \\'safari preferences privacy\\' (safari mac)  \\'tools internet options privacy advanced\\'       (microsoft internet explorer 10 pc)  or \\'edit preferences receiving files cookies\\'       (microsoft internet explorer 5 mac)  generally speaking, you may modify browser       preferences to accept all cookies, be notified when a cookie is set, or to reject       all cookies  if you choose to reject all cookies, you may be unable to use many       of accuweather\\'s products and services  some sections of the accuweather sites       may require that you log on in order to continue to use specific goods or services       offered through our network, because we do not want cookies to replace security       measures that you would otherwise take for yourself, your pii and your data        some of these services include certain software applications and fee based services,       and some internet activities that require more than an ip address to continue \"',\n",
       " \"web beacons  web beacons may also be found on the accuweather sites    web beacons are used to monitor user navigation to tailor the accuweather sites    to our subscribers or users' preferences and enhance the site's offerings  for    a thorough description of web beacons and their uses, please click here \",\n",
       " \"flash shared objects html5 local storage html5 mini databases  the    accuweather sites may utilize flash shared objects, html5 local storage and or    html5 mini databases in conjunction with the use of the sites and the targeting    of advertising to the users of the accuweather sites  many hand held mobile devices    use these technologies in conjunction with the mobile browsers on the devices     many mobile devices use these technologies which allow for the storage of information    on the mobile devices and, in effect, allow the enhancement of internet browsing    as well as other uses including but not limited to targeting advertisements  the    flash shared objects, html5 local storage and html5 mini databases also allow    the device to track a user's web browsing movements across the internet and not    just on one particular website  accuweather and its providers may utilize one    or more of these technologies and others on the accuweather sites \",\n",
       " 'security  anytime a credit card is requested for processing orders    through the accuweather sites, the user transaction containing the credit card    information may be encrypted using secure sockets layer (ssl) technology  ssl    provides strong encryption to all digital information as it crosses the internet     while on a secure page, such as on order forms, the lock button on the bottom    of web browsers such as netscape navigator and microsoft internet explorer becomes    locked, as opposed to unlocked or open when you are just surfing or in other areas    of the site  to learn more about ssl, click here ',\n",
       " 'age   use by minor  accuweather does not intend to collect any personally    identifiable information from children through our websites  please do not allow    children under the age of 18 to provide any personally identifiable information,    ask questions or participate in chat rooms related to our websites  if we are    notified that a child under 18 has provided personal information, we will delete    that information as soon as reasonably possible  if you become aware that a child    under 18 has provided such information, please send us a detailed email at customerservice    so we can delete this information ',\n",
       " 'password security access to certain portions of the accuweather sites    are password protected so that you and only you will have access to the site as    a subscriber  it may be necessary for accuweather, its employees, contractors    or providers working on behalf of accuweather to access the site using your subscriber    information to provide you with support or to perform certain maintenance tasks     this access happens on an as needed basis only ',\n",
       " \"electronic registration  when you access or install a new product    or service, you may be asked to register electronically  your registration information    will be merged with any information you have already provided ('profile')  if    you have not previously registered within the accuweather sites, a profile may    be created for you from your product registration information  if you have not    already registered by giving us your pii, you will be asked to do so to ensure    that only you can access the product or services  upon satisfactory completion    of your registration information, accuweather authorizes users to access and use    the accuweather sites and its products and services subject to the terms and conditions    on the accuweather com website (or if different, the accuweather terms and conditions    applicable to the particular product or service you are using) and this privacy    statement \",\n",
       " \"user shall maintain the confidentiality of any user name and password     if there is a breach of the confidentiality of a password or user name assigned    to user, or any breach of security through user's account, then user shall so    notify accuweather's customer assistance center immediately by contacting accuweather    at customerservice\",\n",
       " \"terms for sharing personally identifiable information  in special    circumstances, accuweather may opt to access or disclose pii when there is reason    to believe that disclosing this information is necessary to identify, contact    or bring legal action against someone who may be violating the terms and conditions    on the accuweather com website, this privacy statement, any applicable end user    license agreement, provider or subscription terms or other applicable terms, or    when there is reason to believe an individual may be violating the law or causing    injury to or interference with (either intentionally or unintentionally) accuweather's    rights or property, other accuweather site users, or anyone else that could be    harmed by such activities  accuweather may then opt to disclose or access pii    in good faith in circumstances where the law requires it, and for administrative    and other purposes that we deem necessary to maintain, service, and improve the    accuweather sites and our products and services  accuweather may also be requested    to disclose pii to law enforcement authorities or as may be required by court ordered    subpoena \",\n",
       " ' accuweather may share information (including pii) with its affiliates    and other third parties, as needed to assist us with the operation, maintenance,    and improvement of the accuweather sites, to conduct special programs, to fulfill    your requests for service, and to allow you to purchase and renew your subscription    to any fee based parts of the accuweather sites  accuweather may also share information    (including pii) with third parties for the placement and management of advertising    on the accuweather sites, and in order to serve you with advertisements that may    be of interest to you  accuweather may also share information with third parties    with whom we have cooperative arrangements, such as mobile phone carriers, who    offer specialized products, information, or services that work well with the accuweather    sites  we require all third parties with whom we share information (including    pii) that we collect to handle that information in accordance with this privacy    policy  these third parties may also have additional or different privacy practices    that you may find on their respective websites  you may also go to their websites    to find out more about technology they use to collect information while providing    accuweather with services ',\n",
       " \" from time to time, we may share data regarding the users of the accuweather    sites and the use of our services (for example, 10  of our users are within a    certain specialty industry, or users who choose one type of service request a    related or similar service 38  of the time, etc ), and we may also combine a user's    use and purchasing habits through the accuweather sites and our providers' sites    to create a personalized user profile so we can tailor the accuweather sites to    our users' preferences and enhance the site's offerings (hereinafter 'user data')     there may also be other instances where accuweather has determined that sharing    user data with third parties would maximize accuweather's ability to better serve    users  should this occur, no pii will be included in these types of statistics \",\n",
       " \" since we use providers to ship products or perform customized products    and or services offered or accessed through the accuweather sites or our providers'    sites, and a credit card processing company to bill some users for goods and services,    we may need to disclose pii to complete certain business transactions  users may    also require that we bill for services via invoicing, purchase order, or through    providers, such as mobile wireless carriers or internet storefronts  under these    circumstances, we may be required to share the user's pii to obtain a credit report    with a reporting agency or to complete the order processing to serve the user     we may request that these providers do not retain, share, store or use pii for    any secondary purposes \",\n",
       " \" accuweather is in the business of providing and hosting weather information    products, services, and other related products and services as a service to our    users  as such, user data is also considered, a 'customer list', and as such,    is a valuable asset to any company subject to legal protection and regulation    under federal and state laws as a property interest  accordingly, user data will    be subject to all customary rights and protections afforded to property owners    under these laws  such rights customarily include the right to transfer the information    during the sale of assets to or merger with third parties, and to routinely share    such information with affiliates of accuweather \",\n",
       " \" excepting pii collected during the purchasing or registration process,    user data may be used by accuweather or providers to, among other things, retrieve    or create the product or service that you have requested or for such business    purposes as accuweather and or its providers may determine in their sole discretion,    without resort to a reasonableness standard  please be advised that this user    data may be stored by accuweather or its providers as 'preferences' or otherwise    and used without restriction  further, all information submitted is and becomes    the exclusive property of accuweather and by submitting material to accuweather,    you accept responsibility for its accuracy, appropriateness and legality  other    than as set out above, you may receive notice when pii might go to third parties,    and within such notice you may find the information about your opportunity to    choose not to share the pii \",\n",
       " \" if for some reason you believe that accuweather has not adhered to    these stated principles, please notify us at customerservice    and we will work to determine the issue and correct the problem  your concerns    should be detailed in a communication including enough identifying information    to permit someone to contact you, in case further information is required to troubleshoot    your concerns  be certain the words 'accuweather privacy statement' are included    in the subject line  further resolution of your concerns will be governed by the    terms and conditions applicable to the accuweather sites \",\n",
       " \"'version date  december 31, 2015 accuweather apps follow us on mobile    site map go to full site'\",\n",
       " 'press privacy terms help',\n",
       " 'top quality games on all platforms home games about jobs contact privacy    policy for our terms of service please click here ',\n",
       " 'we collect aggregate information on what pages consumers access or    visit, user specific information on what pages and actions consumers access, visit    or do, information volunteered by the consumer, such as survey information and or    site or service registrations ',\n",
       " 'the information we collect is used for internal review and is then    discarded, used to improve the content of our web pages and applications, used    to customize the content and or layout of our pages and applications for each    individual visitor, shared with other reputable organizations to help them contact    consumers for marketing purposes ',\n",
       " \"'with respect to ad servers  to try and bring you offers that are    of interest to you, we have relationships with other companies that we allow to    place ads on our web pages and in our applications  as a result of your visit    to our site, ad server companies may collect information such as your domain type,    your ip address and clickstream information '\",\n",
       " 'from time to time, we may use customer information for new, unanticipated    uses not previously disclosed in our privacy notice  if our information practices    change at some time in the future we will post the policy changes to our web site    to notify you of these changes and provide you with the ability to opt out of    these new uses  if you are concerned about how your information is used, you should    check back at our web site periodically, we will post the policy changes to our    web site to notify you of these changes and we will use for these new purposes    only data collected from the time of the policy change forward ',\n",
       " '\" xa9 copyright 2008 onwards  aceviral com all rights reserved privacy       policy terms of service\"',\n",
       " 'ad server companies will not collect information such as your domain    type, your ip address and clickstream information ',\n",
       " \"'adobe privacy policy last updated  september 28, 2016 the adobe privacy    policy describes the privacy practices of adobe''s apps and websites  if you are    a resident of north america, your relationship is with adobe systems incorporated    (adobe us) and the laws of california and the united states apply '\",\n",
       " 'if you reside outside of north america, your relationship is with    adobe systems software ireland limited (adobe ireland), which is the controller    with regard to your personal information collected by adobe, and the laws of ireland    apply  please note that in order to use our apps and websites, you authorize adobe    to transfer your personal information across national borders and to other countries    where adobe and its partners operate, including the united states  the privacy    protections and rights of authorities to access your information in these countries    may not be equivalent to those in your country  we will only transfer your personal    information to these countries where permitted to do so by law and we will take    steps intended to ensure that your personal information continues to receive appropriate    protections  for more information, please see the section \"does adobe transfer    my personal information across national borders?\" (',\n",
       " 'what does this privacy policy cover? what information does adobe collect    about me? how does adobe use the information it collects about me?',\n",
       " \"what are cookies and how does adobe use them? does adobe share my    personal information? is my personal information displayed anywhere within adobe's    apps or websites?\",\n",
       " 'is my personal information secure? where does adobe store my personal    information? does adobe transfer my personal information across national borders?    how can i review or update my personal information or close my adobe id account?',\n",
       " 'will adobe market to me? what information is collected by companies    using adobe marketing cloud solutions?',\n",
       " '\\'will this privacy policy change? who can i contact with questions    or concerns? what does this privacy policy cover? this privacy policy describes    the privacy practices of adobe\\'\\'s websites, as well as our desktop apps and mobile    apps that include a link to this policy (in this policy, we refer to our desktop    apps and mobile apps together as \"apps\")  note that \"websites\" include web based    services such as behance, as well as the web based aspects of the creative cloud    and document cloud  this privacy policy also applies to adobe\\'\\'s marketing and    advertising practices  additional privacy related information is provided for    certain adobe apps and websites (    please also see the adobe terms of use (    and any additional terms of use or product license agreements (    that may apply to the app or website you are using  companies acquired by adobe    may operate under their own privacy policies (learn more  ',\n",
       " \"what information does adobe collect about me? adobe id, registration,    and customer support when you register to use an adobe app or website, create    an adobe id, or contact us for support or other offerings, adobe collects information    that identifies you  this includes information such as your name, company name,    email address, or payment information  we may also sometimes collect other information    that does not identify you, such as which types of apps you're interested in     some of this information is required and other information is optional  for student    and teacher editions (    of our apps, information regarding your eligibility is required  to help keep    our databases current and to provide you the most relevant content and experiences,    we may combine information provided by you with information from other sources,    in accordance with applicable law  for example, from these sources, we may learn    about the size, industry, and other information about the company you work for \",\n",
       " \"'adobe apps and websites we collect information about how you use    our apps and websites, including when you use a desktop app feature that takes    you online (such as a photo syncing feature)  we may collect information sent    by your browser or device to our servers whenever you visit an adobe website or    use an adobe app  for example, your browser or device may tell us your ip address    (which may tell us generally where you are located) and the type of browser and    device you used  when you visit an adobe website, your browser may also tell us    information such as the page that led you to our website and, if applicable, the    search terms you typed into a search engine that led you to our website  adobe    may collect information about how you use our websites and apps by using cookies    and similar technologies ( and our    servers may collect similar information when you are logged in to the app or website     depending on the app or website, this information may be anonymous (for example,    see the adobe product improvement program      or it may be associated with you (for example, see the desktop usage tracking    faq   learn more about  information that    specific adobe apps or websites ( may    collect your privacy choices ( regarding    how we use this information how adobe uses cookies and similar technologies (\",\n",
       " \"'also, we use automated systems to analyze your content using techniques    such as machine learning in order to improve our apps and websites  this analysis    may occur as the content is sent or received using an online feature of an adobe    app or website, or when the content is stored on adobe servers  (learn more      or opt out  \",\n",
       " \"'adobe app activation and automatic updates when you activate your    adobe app or when you install updates to the app, we collect certain information    about your device (including your ip address), the adobe app, and your product    serial number (learn more      some of our apps include features that connect to our servers and offer you the    ability to install updates to the app  we may keep track of information such as    whether the update was successful or not  we may use the information collected    through activation or app updates to validate your copy of the app and confirm    that it is genuine and properly licensed '\",\n",
       " \"'adobe emails emails we send you may include a technology (called    a web beacon   that tells    adobe whether you have received or opened the email, or clicked a link in the    email  if you do not want us to collect this information from adobe marketing    emails, you can opt out of receiving adobe marketing emails (\",\n",
       " \"adobe online advertising adobe advertises online in a variety of ways,    including displaying adobe ads to you on other companies' websites and apps  we    collect information such as which ads are displayed, which ads are clicked on,    and on where the ad was displayed  learn more about adobe's advertising practices    (\",\n",
       " 'buttons, tools, and content from other companies adobe apps and websites    may include buttons, tools, or content that link to other companies\\' services    (for example, a facebook \"like\" button)  we may collect information about your    use of these features  in addition, when you see or interact with these buttons,    tools, or content, or view an adobe web page or app containing them, some information    from your browser may automatically be sent to the other company  please read    that company\\'s privacy policy for more information ',\n",
       " '\"adobe social networking pages and social sign on services adobe has       its own pages on many social networking sites (for example, the adobe xae photoshop xae       team\\'s facebook page)  you may also be able to sign in to an adobe app or website       using a social networking account, such as a facebook account  we may collect       information when you interact with our social networking pages or use these       sign on features  learn more about adobe\\'s social networking practices (',\n",
       " 'how does adobe use the information it collects about me?',\n",
       " \"'adobe uses the information we collect about you in a number of ways,    such as  providing you with the adobe apps and websites for which you have registered,    as well as any services, support, or information you have requested better understanding    how our websites and apps are being used so we can improve them and engage and    retain users'\",\n",
       " \"'using automated systems to analyze your content using techniques    such as machine learning in order to improve our services  this analysis may occur    as the content is sent, received, or when it is stored  (learn more      or opt out   diagnosing problems    in our apps and websites tailoring a website, app, or adobe ad to your likely    interests sending you business messages such as those related to payments or expiration    of your subscription sending you information about adobe, new app releases, special    offers, and similar information (learn more      conducting market research about our customers, their interests, and the effectiveness    of our marketing campaigns reducing fraud, software piracy, and protecting you    as well as adobe as further described for a specific adobe app or website (\",\n",
       " \"'adobe also uses your information for our participation in the adobe    marketing cloud device co op, which allows us to better understand how you use    adobe apps and websites across your various devices, and to deliver ads tailored    to your likely interests (learn more or opt out  \",\n",
       " 'learn about your privacy choices (    regarding how we use your information ',\n",
       " \"'what are cookies and how does adobe use them? as with most websites,    adobe uses cookies and similar technologies to make our websites work as well    as to learn more about our users and their likely interests (learn more  \",\n",
       " 'adobe websites may also use cookies and similar technologies from    other companies that allow us to gather additional information to measure and    improve the effectiveness of the adobe marketing cloud advertising services (',\n",
       " 'does adobe share my personal information? adobe works with companies    that help us run our business  these companies provide services such as delivering    customer support, processing credit card payments, and sending emails on our behalf     in some cases, these companies have access to some of your personal information    in order to provide services to you on our behalf  they are not permitted to use    your information for their own purposes ',\n",
       " \"'adobe may also share your personal information  when you agreed to    the sharing within the adobe family of companies for purposes described in this    privacy policy (see a list of adobe entities (    and our acquired companies (\",\n",
       " \"'with our resellers and other sales partners if you are a business    customer and agreed to receive adobe marketing communications  note that we do    not share personal information about consumers with third parties for their own    marketing purposes unless the consumer agreed to that sharing  when we are required    to provide information in response to a subpoena, court order, or other applicable    law or legal process (learn more      when we have a good faith belief that the disclosure is necessary to prevent or    respond to fraud, defend our apps or websites against attacks, or protect the    property and safety of adobe, our customers and users, or the public'\",\n",
       " 'if we merge with or are acquired by another company, sell an adobe    website, app, or business unit, or if all or a substantial portion of our assets    are acquired by another company  in those cases your information will likely be    one of the assets that is transferred',\n",
       " \"we may share or publish aggregate information that doesn't specifically    identify you, such as statistical information about visitors to our websites or    statistical information about how customers use the adobe marketing cloud (\",\n",
       " \"is my personal information displayed anywhere on adobe's websites    or applications?\",\n",
       " \"there are several places within adobe's websites and apps that allow    you to post comments, upload pictures, or submit content for others to see  sometimes    you can limit who can see what you share, but there are some places where what    you share can be seen by the general public or other users of the app or website     please be careful when you share your personal information  do not share anything    you wouldn't want publicly known unless you are sure you are posting it within    an app or website that allows you to control who sees what you post  please note    that when you post messages on certain user forums on our websites and app, your    email address or name may be included and displayed with your message \",\n",
       " 'to remove content you have shared on our websites and apps, please    use the same app or website feature you used to share the content  if another    user invites you to participate in shared viewing, editing, or commenting of content,    you may be able to delete your contributions, but usually the user who invited    you has full control  if you have questions or concerns about this, please contact    us (privacy',\n",
       " 'is my personal information secure? we understand that the security    of your personal information is important  we provide reasonable administrative,    technical, and physical security controls to protect your personal information     however, despite our efforts, no security controls are 100  effective and adobe    cannot ensure or warrant the security of your personal information ',\n",
       " \"where does adobe store my personal information? your personal information    and files are stored on adobe's servers and the servers of companies we hire to    provide services to us  your personal information may be transferred across national    borders because we have servers located worldwide and the companies we hire to    help us run our business are located in different countries around the world \",\n",
       " 'does adobe transfer my personal information across national borders?    we may transfer your personal information across national borders to other countries    in compliance with applicable laws ',\n",
       " \"'if you reside outside of north america, your relationship is with    adobe ireland  when adobe ireland transfers your personal information from the    european economic area (eea) to a non eea country, we rely on one or more of the    following legal mechanisms  the eu u s  privacy shield, standard contractual clauses,    and your consent  for more information about the certification of adobe u s  to    the eu u s  privacy shield, including the scope of our certification, please see    privacy shield   european data transfers (\",\n",
       " 'if the content or data that you store on adobe apps or websites contains    the personal information of individuals from the eea , you agree that you have    the legal authority to transfer the personal information to adobe, including the    transfer to countries such as the united states where the privacy protections    and rights of authorities to access personal data may not be equivalent to those    in the eea ',\n",
       " 'the information above applies to adobe users that have agreed to the    adobe privacy policy  more information is available for our business customers    that want to learn more about european data transfers (',\n",
       " 'how can i review or update my personal information or close my adobe    id account?',\n",
       " 'under the law of some countries, you may have the right to access    the information adobe holds about you, correct mistakes in that information, and    to delete personal information that we no longer have business reasons for retaining     many of our websites and apps allow you to edit your personal information by accessing    the \"my account\" ( \"my profile,\" or a similar feature    of the app or website you are using  likewise, you can delete files or photos    you have stored in our websites and apps by logging in and using the deletion    functions they make available ',\n",
       " 'to request that we remove your email address from our marketing database,    deactivate your adobe id account, or provide you a copy of your personal information,    please email your request to privacy please note that we need to retain    certain information about you for legal and internal business reasons, such as    fraud prevention  we will retain your personal information for as long as necessary    to provide you with the websites and apps you are eligible to use with your adobe    id and as needed to comply with our legal obligations and enforce our agreements ',\n",
       " 'will adobe market to me? the adobe family of companies (see list of    adobe entities ( and our    acquired companies ( and companies    we hire to help us market our websites and apps on our behalf may use your information    to provide you with information and offers related to adobe  we give you choices    regarding our marketing practices (',\n",
       " 'what information is collected by companies using adobe marketing cloud    solutions?',\n",
       " \"'adobe marketing cloud solutions help our business customers personalize    and improve the performance of their websites, apps, and marketing messages  for    example, these customers may use adobe marketing cloud solutions to collect and    analyze information about how you use their websites (learn more      the data collected is stored on our computers for use by these business customers '\",\n",
       " 'will this privacy policy change? occasionally, we may change this    privacy policy (or other documents in the adobe privacy center) to allow adobe    to use or share your personal information in a different way  if we do, the links    to the policy on our websites (which are generally found in the footer of the    website) will indicate that the policy has been changed  for new users, the change    will become effective upon posting  for existing users, if the change is significant,    it will become effective 30 days after posting  we encourage you to periodically    review the adobe privacy center ( for the latest    information on our privacy practices ',\n",
       " 'who can i contact with questions or concerns? if you have a privacy    question or concern, please email us at privacy',\n",
       " 'adobe will not collect information that identifies you  this includes    information such as your name, company name, email address, or payment information ',\n",
       " \"'when you activate your adobe app or when you install updates to the    app, we will not collect information about your device (including your ip address),    the adobe app, and your product serial number (learn more  \",\n",
       " 'we will not collect information sent by your browser or device to    our servers whenever you visit an adobe website or use an adobe app  for example,    your ip address (which may tell us generally where you are located) and the type    of browser and device you used will not be kept ',\n",
       " '\"hi, my alibaba message center my favorites buy get quotations now       manage buying requests manage orders sell display new products manage products       received rfqs for buyers source products   suppliers by category get quotations       global expo wholesaler trade services trade assurance business identity logistics       service secure payment e credit line inspection service community trade intelligence       discussion forums trade answers for suppliers supplier memberships learning       center training center alisource gold supplier u51fa u53e3 u6d77 u5916 u51fa      u53e3 u5168 u7403 u51fa u53e3 u5168 u7403 customer service i am a buyer i am       a supplier i am a new user submit a dispute report ipr infringement report abuse       trade assurance\"',\n",
       " 'alibaba com categories get quotations save 40  off your time to get    quotes submit buying request advanced search home rules list learning rules center    penalty record  ',\n",
       " 'classification of rules alibaba com user agreements classification    of rules alibaba com user agreements posting rules trade rules and dispute rules    others agreement folder rules center (french language) rules center (german language)    rules center (italian language) rules center (russian language) rules center (spanish    language) announcement learning',\n",
       " '  back to list privacy policy (updated as of 19 september 2016) alibaba com    and aliexpress com (each a \"site\", together the \"sites\") are electronic commerce    platforms are predominantly used by business entities to facilitate electronic    commerce and such business use does not generally involve the collection of personal    information of individuals  alibaba recognizes the importance of privacy as well    as the importance of maintaining the confidentiality of personal information     this privacy policy applies to all products and services provided by us and sets    out how we may collect, use and disclose information in relation to users of the    sites ',\n",
       " 'you may use our services and products via a mobile device either through    mobile applications or mobile optimized websites  this privacy policy also applies    to such use of our services and products ',\n",
       " 'all capitalized terms not defined in this document shall have the    meanings ascribed to them in the terms of use of the site, which can be found    here  if you are a user from mainland china, the alibaba entity that you are contracting    with is alibaba advertising co , ltd  if you are a user from hong kong and macau,    you are contracting with alibaba com hong kong limited  if you are a user outside    mainland china, hong kong and macau, you are contracting with alibaba com singapore    e commerce private limited (\"alibaba\", \"we\", \"us\", \"our\") ',\n",
       " 'a  collection of information 1  your privacy is important to us and    we have taken steps to ensure that we do not collect more information from you    than is necessary for us to provide you with our services and to protect your    account ',\n",
       " '2  information including, but not limited to, user name, address,    phone number, fax number, email address, gender, date and or year of birth and    user preferences (\"registration information\") may be collected at the time of    user registration on the sites ',\n",
       " '3  in connection with any transaction and payment services or services    under our buyer protection schemes we provide on the sites, information, including    but not limited to, bank account numbers, billing and delivery information, credit debit    card numbers and expiration dates and tracking information from cheques or money    orders (\"account information\") may be collected to, among other things, facilitate    the sale and purchase as well as the settlement of purchase price of the products    or services transacted on or procured through the sites ',\n",
       " '4  we record and retain details of users\\' activities on the sites     information relating to such transactions including, but not limited to, the types    and specifications of the goods, pricing and delivery information and any trade    dispute records (\"activities information\") may be collected when sale and purchase    transactions are conducted on or facilitated through the sites',\n",
       " '5  from time to time, we collect information about our users and prospective    users during trade shows, industry events and other functions  the information    we may collect at these locations may include, but is not limited to, user name,    address, phone number, fax number and email address (\"event information\") ',\n",
       " '6  we record and retain records of users\\' buying and browsing activities    on our platform including but not limited to ip addresses, browsing patterns and    buyer behavioral patterns  in addition, we gather statistical information about    the sites and visitors to the sites including, but not limited to, ip addresses,    browser software, operating system, software and hardware attributes, pages viewed,    number of sessions and unique visitors (together \"browsing information\") ',\n",
       " '7  registration information, account information, activities information,    event information and browsing information generally relate to business entities    and are together referred to as business data (\"business data\")  insofar and only    insofar as they constitute personally identifiable data of living individuals,    such information are together referred to as personal data (\"personal data\") ',\n",
       " '8  it is mandatory for users of the sites to provide certain categories    of business data and personal data (as specified at the time of collection)  in    the event that users do not provide any or sufficient business data and or personal    data marked as mandatory, we may not be able to complete the registration process    or provide such users with our products or services ',\n",
       " \"'b  use of personal data if you provide any personal data to us, you    are deemed to have authorized us to collect, retain and use that personal data    for the following purposes  1  verifying your identity  2  verifying your eligibility    to register as a user of the sites '\",\n",
       " '3  processing your registration as a user, providing you with a log in    id for the sites and maintaining and managing your registration ',\n",
       " '4  providing you with customer service and responding to your queries,    feedback, claims or disputes ',\n",
       " '5  to facilitate communication between buyers and sellers on the sites    and processing your transactions on the sites ',\n",
       " '6  performing research or statistical analysis in order to improve    the content and layout of the sites, to improve our product offerings and services    and for marketing and promotional purposes ',\n",
       " '7  subject to obtaining your consent in such form as may be required    under the applicable law, we (including our affiliated companies and their designated    service providers (as defined in c 1 below)) may use your name, phone number,    residential address, email address, fax number and other data (\"marketing data\")    to provide notices, surveys, product alerts, communications and other marketing    materials to you relating to goods and services offered by us on the sites including    but not limited to gold suppliers membership, verified members membership, free    members membership (each of gold suppliers membership, verified members membership,    and free members membership, a \"membership\" and collectively, the \"memberships\")    the value added services ancillary to the memberships, and other products and    services offered by us and or our affiliated companies and their designated service    providers from time to time to members of the sites ',\n",
       " '8  if you voluntarily submit any information to the sites for publication    on the sites through the publishing tools, including but not limited to, company    profile, product catalog, trade leads, trustpass profile and any discussion forum,    then you are deemed to have given consent to the publication of such information    on the sites (\"voluntary information\")  and',\n",
       " '9  making such disclosures as may be required for any of the above    purposes or as required by law, regulations and guidelines or in respect of any    investigations, claims or potential claims brought on or against us ',\n",
       " 'c  disclosure of personal data 1  you further agree that we may disclose    and transfer (whether within or outside the jurisdiction of the alibaba entity    that you are contracting with) your personal data to service providers engaged    by us and or other affiliated companies of the alibaba group to assist us with    providing you with our services (including but not limited to data entry, database    management, promotions, products and services alerts, delivery services, payment    extension services, membership authentication and verification services and logistics    services) (\"service providers\")  these service providers are under a duty of confidentiality    to us and are only permitted to use your personal data in connection with the    purposes specified at b 1 to b 9 above, and not for their own purposes ',\n",
       " '2  you agree that we may disclose and transfer (whether within or    outside the jurisdiction of the alibaba entity that you are contracting with),    for the purposes specified at b 1 to b 9 above, your personal data to other affiliated    companies and or their designated service providers of the alibaba group, which    comprises a group of companies operating leading online and mobile marketplaces    in consumer and business to business commerce, as well as cloud computing and    other services ',\n",
       " '3  when necessary we may also disclose and transfer (whether within    or outside the jurisdiction of the alibaba entity that you are contracting with)    your personal data to our professional advisers, law enforcement agencies, insurers,    government and regulatory and other organizations for the purposes specified at    b 9 above ',\n",
       " '4  any personal data supplied by you will be retained by us and will    be accessible by our employees, any service providers engaged by us and third    parties referred to at c 2 and c 3 above, for or in relation to any of the purposes    stated in b 1 to b 9 above ',\n",
       " '5  all voluntary information may be made publicly available on the    sites and therefore accessible by any internet user  any voluntary information    that you disclose to us becomes public information and you relinquish any proprietary    rights (including but not limited to the rights of confidentiality and copyright)    in such information  you should exercise caution when deciding to include personal    or proprietary information in the voluntary information that you submit to us ',\n",
       " '6  we may share your account information with banks or vendors to    enable your transactions on the sites to be completed  in addition, we may use    your account information to determine your credit worthiness and, in the process    of such determination, we may need to make such account information available    to banks or credit agencies  while we have in place up to date technology and    internal procedures to keep your account information and other personal data secure    from intruders, there is no guarantee that such technology or procedures can eliminate    all of the risks of theft, loss or misuse ',\n",
       " '7  we may provide statistical information to third parties, but when    we do so, we do not provide personally identifying information without your permission ',\n",
       " '8  we have established relationships with other parties and websites    to offer you the benefit of products and services which we do not offer  we offer    you access to these other parties and their websites either through the use of    hyperlinks to these sites from the sites or through offering \"co branded\" sites    in which both we and other parties share the same uniform resource locator, domain    name or pages within a domain name on the internet  in some cases you may be required    to submit personal information to register or apply for products or services provided    by such third parties or co branded partners  this privacy policy does not apply    to these third party sites or co branded sites  the privacy policies of those    other parties may differ from ours, and we have no control over the information    that you submit to those third parties  you should read the relevant privacy policy    for those third party sites and co branded sites before responding to any offers,    products or services advertised by those parties',\n",
       " 'd  right to access correct personal data under the applicable laws,    you have the right of access to personal information held by us and to request    correction of the information ',\n",
       " \"'if you have any questions regarding this privacy policy or if you    wish to access or correct your personal data, you may send your request in writing    to the following address  legal counsel, the legal department alibaba com hong    kong limited, 26 f, tower one, times square, 1 matheson street, causeway bay,    hong kong '\",\n",
       " \"'if you are a user from mainland china, please send your request in    writing to the following address  legal counsel, the legal department alibaba    advertising co , ltd , no  699, wangshang road, bingjiang district, hangzhou,    the people''s republic of china '\",\n",
       " 'in accordance with the applicable laws, we reserve the right to charge    you a reasonable fee for the processing of any data access or correction request ',\n",
       " 'e  cookies we use \"cookies\" to store specific information about you    and track your visits to the sites  it is not uncommon for websites to use cookies    to enhance identification of their users ',\n",
       " 'a \"cookie\" is a small amount of data that is sent to your browser    and stored on your computer\\'s hard drive  a cookie can be sent to your computer\\'s    hard drive only if you access the sites using a computer  if you do not de activate    or erase the cookie, each time you use the same computer to access the sites,    our web servers will be notified of your visit to the sites and in turn we may    have knowledge of your visit and the pattern of your usage ',\n",
       " 'generally, we use cookies to identify you and enable us to i) access    your registration information or account information so you do not have to re enter    it  ii) gather statistical information about usage by users  iii) research visiting    patterns and help target advertisements based on user interests  iv) assist our    partners to track user visits to the sites and process orders  and v) track progress    and participation in promotions ',\n",
       " 'you can determine if and how a cookie will be accepted by configuring    the browser which is installed in the computer you are using to access the sites     if you choose, you can change those configurations  by setting your preferences    in the browser, you can accept all cookies or you can choose to be notified when    a cookie is sent or you can choose to reject all cookies  if you reject all cookies    by choosing the cookie disabling function in your browser, you may be required    to re enter information on the sites more often and certain features of the sites    may be unavailable ',\n",
       " 'f  minors the sites and their contents are not targeted to minors    (those under the age of 18) and we do not intend to sell any of our products or    services to minors  however, we have no way of distinguishing the age of individuals    who access our site  if a minor has provided us with personal information without    parental or guardian consent, the parent or guardian should contact our legal    department at the address set out in paragraph d above to remove the information ',\n",
       " 'g  security measures we employ commercially reasonable security methods    to prevent unauthorized access to the sites, to maintain data accuracy and to    ensure the correct use of the information we hold ',\n",
       " 'for registered users of the sites, your registration information and    account information (if any) can be viewed and edited through your account, which    is protected by a password  we recommend that you do not divulge your password    to anyone  our personnel will never ask you for your password in an unsolicited    phone call or in an unsolicited email  if you share a computer with others, you    should not choose to save your log in information (e g , user id and password)    on that shared computer  remember to sign out of your account and close your browser    window when you have finished your session ',\n",
       " 'no data transmission over the internet or any wireless network can    be guaranteed to be perfectly secure  as a result, while we try to protect the    information we hold for you, we cannot guarantee the security of any information    you transmit to us and you do so at your own risk ',\n",
       " 'h  changes to this privacy policy any changes to this privacy policy    will be communicated by us posting an amended and restated privacy policy on the    sites  once posted on the sites the new privacy policy will be effective immediately     you agree that any information we hold about you (as described in this privacy    policy and whether or not collected prior to or after the new privacy policy became    effective) will be governed by the latest version of the privacy policy ',\n",
       " \"'i  your feedback we welcome your input regarding our privacy policy    and any comments on the services we provide to you  you may send us your comments    and responses by post to  the legal department, alibaba com hong kong limited,    26 f, tower one, times square, 1 matheson street, causeway bay, hong kong '\",\n",
       " \"'if you are a user from mainland china, please send us your comments    and responses to the following address  the legal department, alibaba advertising    co , ltd , no  699, wangshang road, bingjiang district, hangzhou, the people''s    republic of china '\",\n",
       " '\"free app  available on the app store available on android download       trademanager  follow us  facebook twitter youtube alibaba com site  international         espa xf1ol   portugu xeas   deutsch   fran xe7ais   italiano    u0939 u093f      u0902 u0926 u0940   p u0443 u0441 u0441 u043a u0438 u0439    ud55c uad6d uc5b4          u65e5 u672c u8a9e    u0627 u0644 u0644 u063a u0629  u0627 u0644 u0639 u0631      u0628 u064a u0629    u0e20 u0e32 u0e29 u0e32 u0e44 u0e17 u0e22   t xfcrk   nederlands         ti u1ebfng vi u1ec7t   indonesian    u05e2 u05d1 u05e8 u05d9 u05ea\"',\n",
       " '\"alibaba group   taobao marketplace   tmall com   juhuasuan   aliexpress         alibaba com   1688 com   alimama   alitrip alibaba cloud computing   yunos         alitelecom   hichina   autonavi   ucweb   umeng   xiami   ttpod   diandianchong         dingtalk   alipay browse alphabetically  global expo   onetouch   showroom         country search   manufacturers   suppliers   promotion   wholesaler   affiliate       product listing policy   intellectual property policy and infringement claims         privacy policy   terms of use  xa9 1999 2016 alibaba com  all rights reserved \"',\n",
       " 'icburule011226212177',\n",
       " 'amazon try prime all all departments alexa skills amazon video amazon    warehouse deals appliances apps   games arts, crafts   sewing automotive parts      accessories baby beauty   personal care books cds   vinyl cell phones   accessories    clothing, shoes   jewelry women men girls boys baby collectibles   fine art computers    courses credit and payment cards digital music electronics gift cards grocery      gourmet food handmade health, household   baby care home   business services    home   kitchen industrial   scientific kindle store luggage   travel gear luxury    beauty magazine subscriptions movies   tv musical instruments office products    patio, lawn   garden pet supplies prime pantry software sports   outdoors tools      home improvement toys   games vehicles video games wine departments primevideomusic    hello  sign inaccount   listssign inaccount   listscart0 ordersyour amazon comdealsgift    cards   registrysellhelpclick to call our disability customer support line, or    reach us directly at 1 888 283 1678',\n",
       " '\"help   customer service security   privacy  u203a legal policies u203a       amazon privacy notice last updated  september 30, 2016  to see what has changed,       click here \"',\n",
       " 'amazon com knows that you care how information about you is used and    shared, and we appreciate your trust that we will do so carefully and sensibly     this notice describes our privacy policy  by visiting amazon com, you are accepting    the practices described in this privacy notice  what personal information about    customers does amazon com gather? what about cookies? does amazon com share the    information it receives? how secure is information about me? what about third party    advertisers and links to other websites? which information can i access? what    choices do i have? are children allowed to use amazon com? eu us privacy shield    conditions of use, notices, and revisions examples of information collected',\n",
       " 'what personal information about customers does amazon com gather?    the information we learn from customers helps us personalize and continually improve    your amazon experience  here are the types of information we gather ',\n",
       " \"'information you give us  we receive and store any information you    enter on our web site or give us in any other way  click here to see examples    of what we collect  you can choose not to provide certain information, but then    you might not be able to take advantage of many of our features  we use the information    that you provide for such purposes as responding to your requests, customizing    future shopping for you, improving our stores, and communicating with you '\",\n",
       " '\\'automatic information  we receive and store certain types of information    whenever you interact with us  for example, like many web sites, we use \"cookies,\"    and we obtain certain types of information when your web browser accesses amazon com    or advertisements and other content served by or on behalf of amazon com on other    web sites  click here to see examples of the information we receive \\'',\n",
       " \"'mobile  when you download or use apps created by amazon or our subsidiaries,    we may receive information about your location and your mobile device, including    a unique identifier for your device  we may use this information to provide you    with location based services, such as advertising, search results, and other personalized    content  most mobile devices allow you to turn off location services  for more    information about how to do this,click here '\",\n",
       " \"'e mail communications  to help us make e mails more useful and interesting,    we often receive a confirmation when you open e mail from amazon com if your computer    supports such capabilities  we also compare our customer list to lists received    from other companies, in an effort to avoid sending unnecessary messages to our    customers  if you do not want to receive e mail or other mail from us, please    adjust your customer communication preferences  '\",\n",
       " \"'information from other sources  we might receive information about    you from other sources and add it to our account information  click here to see    examples of the information we receive '\",\n",
       " 'what about cookies? cookies are unique identifiers that we transfer    to your device to enable our systems to recognize your device and to provide features    such as 1 click purchasing, recommended for you , personalized advertisements    on other web sites (e g , amazon associates with content served by amazon com    and web sites using checkout by amazon payment service), and storage of items    in your shopping cart between visits ',\n",
       " \"the help feature on most browsers will tell you how to prevent your    browser from accepting new cookies, how to have the browser notify you when you    receive a new cookie, or how to disable cookies altogether  additionally, you    can disable or delete similar data used by browser add ons, such as flash cookies,    by changing the add on's settings or visiting the web site of its manufacturer     because cookies allow you to take advantage of some of amazon com's essential    features, we recommend that you leave them turned on  for instance, if you block    or otherwise reject our cookies, you will not be able to add items to your shopping    cart, proceed to checkout, or use any amazon com products and services that require    you to sign in \",\n",
       " 'does amazon com share the information it receives? information about    our customers is an important part of our business, and we are not in the business    of selling it to others  we share customer information only as described below    and with subsidiaries amazon com, inc  controls that either are subject to this    privacy notice or follow practices at least as protective as those described in    this privacy notice ',\n",
       " \"'affiliated businesses we do not control  we work closely with affiliated    businesses  in some cases, such as marketplace sellers, these businesses operate    stores at amazon com or sell offerings to you at amazon com  in other cases, we    operate stores, provide services, or sell product lines jointly with these businesses     click here for some examples of co branded and joint offerings  you can tell when    a third party is involved in your transactions, and we share customer information    related to those transactions with that third party '\",\n",
       " \"'third party service providers  we employ other companies and individuals    to perform functions on our behalf  examples include fulfilling orders, delivering    packages, sending postal mail and e mail, removing repetitive information from    customer lists, analyzing data, providing marketing assistance, providing search    results and links (including paid listings and links), processing credit card    payments, and providing customer service  they have access to personal information    needed to perform their functions, but may not use it for other purposes '\",\n",
       " \"'promotional offers  sometimes we send offers to selected groups of    amazon com customers on behalf of other businesses  when we do this, we do not    give that business your name and address  if you do not want to receive such offers,    please adjust your customer communication preferences  '\",\n",
       " \"'business transfers  as we continue to develop our business, we might    sell or buy stores, subsidiaries, or business units  in such transactions, customer    information generally is one of the transferred business assets but remains subject    to the promises made in any pre existing privacy notice (unless, of course, the    customer consents otherwise)  also, in the unlikely event that amazon com, inc ,    or substantially all of its assets are acquired, customer information will of    course be one of the transferred assets '\",\n",
       " \"'protection of amazon com and others  we release account and other    personal information when we believe release is appropriate to comply with the    law  enforce or apply our conditions of use and other agreements  or protect the    rights, property, or safety of amazon com, our users, or others  this includes    exchanging information with other companies and organizations for fraud protection    and credit risk reduction  obviously, however, this does not include selling,    renting, sharing, or otherwise disclosing personally identifiable information    from customers for commercial purposes in violation of the commitments set forth    in this privacy notice  with your consent  other than as set out above, you will    receive notice when information about you might go to third parties, and you will    have an opportunity to choose not to share the information '\",\n",
       " 'how secure is information about me? we work to protect the security    of your information during transmission by using secure sockets layer (ssl) software,    which encrypts information you input ',\n",
       " 'we reveal only the last four digits of your credit card numbers when    confirming an order  of course, we transmit the entire credit card number to the    appropriate credit card company during order processing ',\n",
       " 'it is important for you to protect against unauthorized access to    your password and to your computer  be sure to sign off when finished using a    shared computer  click here for more information on how to sign off ',\n",
       " 'what about third party advertisers and links to other websites? our    site includes third party advertising and links to other web sites  for more information    about third party advertising at amazon com, including personalized or interest based    ads, please read our interest based ads policy ',\n",
       " 'which information can i access? amazon com gives you access to a broad    range of information about your account and your interactions with amazon com    for the limited purpose of viewing and, in certain cases, updating that information     click here to see some examples, the list of which will change as our web site    evolves ',\n",
       " 'what choices do i have? as discussed above, you can always choose    not to provide information, even though it might be needed to make a purchase    or to take advantage of such amazon com features as your profile, wish lists ,    customer reviews, and amazon prime ',\n",
       " 'you can add or update certain information on pages such as those referenced    in the which information can i access? section  when you update information, we    usually keep a copy of the prior version for our records ',\n",
       " 'if you do not want to receive e mail or other mail from us, please    adjust your customer communication preferences   (if you do not want to receive    conditions of use and other legal notices from us, such as this privacy notice,    those notices will still govern your use of amazon com, and it is your responsibility    to review them for changes ) if you do not want us to use personal information    that we gather to allow third parties to personalize advertisements we display    to you, please adjust your advertising preferences  ',\n",
       " \"are children allowed to use amazon com? amazon com does not sell products    for purchase by children  we sell children's products for purchase by adults     if you are under 18, you may use amazon com only with the involvement of a parent    or guardian \",\n",
       " 'eu us privacy shield amazon com, inc  participates in the eu us privacy    shield framework  click here to learn more ',\n",
       " 'conditions of use, notices, and revisions if you choose to visit amazon com,    your visit and any dispute over privacy is subject to this notice and our conditions    of use, including limitations on damages, resolution of disputes, and application    of the law of the state of washington  if you have any concern about privacy at    amazon com, please contact us with a thorough description, and we will try to    resolve it  our business changes constantly, and our privacy notice and the conditions    of use will change also  we may e mail periodic reminders of our notices and conditions,    but you should check our web site frequently to see recent changes  unless stated    otherwise, our current privacy notice applies to all information that we have    about you and your account  we stand behind the promises we make, however, and    will never materially change our policies and practices to make them less protective    of customer information collected in the past without the consent of affected    customers ',\n",
       " 'related practices and information conditions of use discussion boards    community rules help department most recent purchases your profile and community    guidelines',\n",
       " \"examples of information collected information you give us you provide    most such information when you search, buy, post, participate in a contest or    questionnaire, or communicate with customer service  for example, you provide    information when you search for a product  place an order through amazon com or    one of our third party sellers  provide information in your account (and you might    have more than one if you have used more than one e mail address when shopping    with us) or your profile   communicate with us by phone, e mail, or otherwise     complete a questionnaire or a contest entry form  use our services such as amazon    instant video  compile wish lists or other gift registries  participate in discussion    boards or other community features  provide and rate reviews  and employ product    availability alerts, such as available to order notifications  as a result of    those actions, you might supply us with such information as your name, address,    and phone numbers  credit card information  people to whom purchases have been    shipped, including addresses and phone number  people (with addresses and phone    numbers) listed in 1 click settings  e mail addresses of your friends and other    people  content of reviews and e mails to us  personal description and photograph    in your profile   and financial information, including social security and driver's    license numbers \",\n",
       " 'automatic information examples of the information we collect and analyze    include the internet protocol (ip) address used to connect your computer to the    internet  login  e mail address  password  computer and connection information    such as browser type, version, and time zone setting, browser plug in types and    versions, operating system, and platform  purchase history, which we sometimes    aggregate with similar information from other customers to create features like    top sellers   the full uniform resource locator (url) clickstream to, through,    and from our web site, including date and time  cookie number  products you viewed    or searched for  and the phone number you used to call our 800 number  we may    also use browser data such as cookies, flash cookies (also known as flash local    shared objects), or similar data on certain parts of our web site for fraud prevention    and other purposes  during some visits we may use software tools such as javascript    to measure and collect session information, including page response times, download    errors, length of visits to certain pages, page interaction information (such    as scrolling, clicks, and mouse overs), and methods used to browse away from the    page  we may also collect technical information to help us identify your device    for fraud prevention and diagnostic purposes ',\n",
       " \"mobile most mobile devices provide users with the ability to disable    location services  most likely, these controls are located in the device's settings    menu  for information about specific devices, click here  if you have questions    about how to disable your device's location services, we recommend you contact    your mobile service carrier or your device manufacturer \",\n",
       " 'information from other sources examples of information we receive    from other sources include updated delivery and address information from our carriers    or other third parties, which we use to correct our records and deliver your next    purchase or communication more easily  account information, purchase or redemption    information, and page view information from some merchants with which we operate    co branded businesses or for which we provide technical, fulfillment, advertising,    or other services  search term and search result information from some searches    conducted through the web search features offered by our subsidiary, alexa internet     search results and links, including paid listings (such as sponsored links)  and    credit history information from credit bureaus, which we use to help prevent and    detect fraud and to offer certain credit or financial services to some customers ',\n",
       " 'co branded and joint offerings examples of businesses with which we    offer joint or co branded products and other offerings include starbucks, officemax,    verizon wireless, sprint, t mobile, at t, j r electronics, eddie bauer and northern    tool   equipment ',\n",
       " 'information you can access examples of information you can access    easily at amazon com include up to date information regarding recent orders  personally    identifiable information (including name, e mail, password, communications and    personalized advertising preferences, address book, and 1 click settings)  payment    settings (including credit card information and promotional certificate and gift    card balances)  e mail notification settings (including product availability alerts,    delivers, and newsletters)  recommendations (including recommended for you and    improve your recommendations)  shopping lists and gift registries (including wish    lists and baby and wedding registries)  seller accounts  and your profile (including    your product reviews, recommendations, listmania lists, reminders, personal profile,    and wish list) ',\n",
       " 'eu us privacy shield amazon com, inc  and certain of its controlled    us affiliates (together, the amazon group companies, or \"we\") participate in the    eu us privacy shield framework regarding the collection, use, and retention of    personal information from european union member countries  we have certified with    the department of commerce that we adhere to the privacy shield principles  to    learn more about the privacy shield principles, click here ',\n",
       " \"'if you have any inquiries or complaints about our handling of your    personal data under privacy shield, or about our privacy practices generally,    please contact us at  privacyshield we will respond to your inquiry    promptly  if we are unable to satisfactorily resolve any complaint relating to    the privacy shield, or if we fail to acknowledge your complaint in a timely fashion,    you can submit your complaint to truste, which provides an independent third party    dispute resolution service based in the united states  truste has committed to    respond to complaints and to provide appropriate recourse at no cost to you  to    learn more about truste''s dispute resolution services or to refer a complaint    to truste, visit here  if neither amazon nor truste resolves your complaint, you    may pursue binding arbitration through the privacy shield panel  to learn more    about the privacy shield panel, click here '\",\n",
       " \"as explained here we sometimes provide personal information to third    parties to perform services on our behalf  if we transfer personal information    received under the privacy shield to a third party, the third party's access,    use, and disclosure of the personal data must also be in compliance with our privacy    shield obligations, and we will remain liable under the privacy shield for any    failure to do so by the third party unless we prove we are not responsible for    the event giving rise to the damage \",\n",
       " 'you can review our privacy shield registration here  the amazon group    companies are subject to the investigatory and enforcement powers of the federal    trade commission (ftc)  we may be required to disclose personal information that    we handle under the privacy shield in response to lawful requests by public authorities,    including to meet national security or law enforcement requirements ',\n",
       " \"'amazon group companies as of september 30, 2016, the following entities    are included in amazon com, inc ''s privacy shield certification  amazon com,    inc '\",\n",
       " 'amazon media group llc amazon web services, inc ',\n",
       " 'audible, inc ',\n",
       " 'was this information helpful? yes thank you for your feedback ',\n",
       " \"'please select what best describes the information  this information    is confusing or wrong this isn''t the information i was looking for i don''t like    this policy submit thanks! while we''re unable to respond directly to your feedback,    we''ll use this information to improve our online help '\",\n",
       " \"'all help topics legal policies conditions of use amazon com privacy    notice supported browsers about identifying whether an e mail is from amazon report    a security issue supply chain standards public pgp key non exhaustive list of    applicable amazon patents and applicable licensed patents non exhaustive list    of amazon trademarks guidelines  uploading your own content to an electronic amazon com    gift card or other electronic message'\",\n",
       " 'quick solutions your orders track or cancel orders your orders track    or cancel orders returns   refunds exchange or return items returns   refunds    exchange or return items manage prime cancel or view benefits manage prime cancel    or view benefits payment settings add or edit payment methods payment settings    add or edit payment methods carrier info shipping carrier information carrier    info shipping carrier information account settings change email or password account    settings change email or password ask the kindle help community contact us back    to top get to know us careers about amazon investor relations amazon devices',\n",
       " '\"make money with us sell on amazon sell your services on amazon sell       on amazon business sell your apps on amazon become an affiliate advertise your       products self publish with us become an amazon vendor  u203asee all\"',\n",
       " 'amazon payment products amazon rewards visa signature cards amazon com    store card amazon com corporate credit line shop with points credit card marketplace    reload your balance amazon currency converter',\n",
       " 'let us help you your account your orders shipping rates   policies    amazon prime returns   replacements manage your content and devices amazon assistant    help australia brazil canada china france germany india italy japan mexico netherlands    spain united kingdom',\n",
       " '\"amazon drive unlimited cloud storage from amazon 6pm score deals       on fashion brands abebooks books, art   collectibles acx audiobook publishing       made easy alexa actionable analytics for the web amazon business everything       for your business amazonfresh groceries   more right to your door amazonglobal       ship orders internationally home services handpicked pros happiness guarantee       amazon inspire free digital educational resources amazon rapids fun stories       for kids on the go amazon restaurants food delivery from local restaurants amazon       video direct video distribution made easy amazon web services scalable cloud       computing services audible download audio books beautybar com prestige beauty       delivered book depository books with free delivery worldwide box office mojo       find movie box office data casa com kitchen, storage   everything home comixology       thousands of digital comics createspace indie print publishing made easy diapers com       everything but the baby dpreview digital photography east dane designer men\\'s       fashion fabric sewing, quilting   knitting goodreads book reviews   recommendations       imdb movies, tv   celebrities imdbpro get info entertainment professionals need       junglee com shop online in india kindle direct publishing indie digital publishing       made easy prime now free 2 hour delivery on everyday items shopbop designer       fashion brands soap com health, beauty   home essentials tenmarks com math activities       for kids   schools wag com everything for your pet warehouse deals open box       discounts whispercast discover   distribute digital content withoutabox submit       to film festivals woot! deals and shenanigans yoyo com a happy place to shop       for toys zappos shoes   clothing conditions of use privacy notice interest based       ads  xa9 1996 2017, amazon com, inc  or its affiliates\"',\n",
       " \"there's a problem loading this menu right now \",\n",
       " 'learn more about amazon prime ',\n",
       " 'get fast, free shipping with amazon prime prime members enjoy free    two day shipping and exclusive access to music, movies, tv shows, original audio    series, and kindle books ',\n",
       " 'get started',\n",
       " '\"when you download or use _apps created by amazon _or our subsidiaries,       we do not receive information about your location and your mobile device, that       is, the unique identifier for your device \"',\n",
       " '\"examples of the information we do not collect include the internet       protocol (ip) address used to connect your computer to the internet  login        e mail address  password  computer and connection information such as browser       type, version, and time zone setting, browser plug in types and versions, operating       system, and platform  purchase history, which we sometimes aggregate with similar       information from other customers to create features like _top sellers  the full       uniform resource locator (url) clickstream to, through, and from our web site,       including date and time  cookie number  products you viewed or searched for        and the phone number you used to call our 800 number \"',\n",
       " 'as a result of those actions, we do not collect such information as    your name, address, and phone numbers  credit card information  people to whom    purchases have been shipped, including addresses and phone number     ',\n",
       " 'what kinds of information do we collect? depending on which services    you use, we collect different kinds of information from or about you ',\n",
       " 'things you do and information you provide ',\n",
       " 'we collect the content and other information you provide when you    use our services, including when you create or share a post, and message or communicate    with others  this can include information in or about the content you provide,    such as the location of a photo or the date a file was created  we also collect    information about how you use our services, such as the types of content you view    or engage with or the frequency and duration of your activities ',\n",
       " 'device information ',\n",
       " \"'we collect information from or about the smart phones, tablets or    other devices where you install or access our services, depending on the permissions    you''ve granted  we may associate the information we collect from your different    devices, which helps us provide consistent services across your devices  here    are some examples of the device information we collect    attributes such as the    operating system, hardware version, device settings, file and software names and    types, battery and signal strength, and device identifiers '\",\n",
       " \"'  device locations, including specific geographic locations, such    as through gps, bluetooth, or wifi signals '\",\n",
       " \"'  connection information such as the name of your mobile operator    or isp, browser type, language and time zone, mobile phone number and ip address '\",\n",
       " \"'  list of installed apps on your device '\",\n",
       " \"'how do we use this information? we are passionate about creating    engaging and customized experiences for people  we use all of the information    we have to help us provide and support our services  here''s how  provide, improve    and develop services '\",\n",
       " \"we are able to deliver our services, personalize content, and make    suggestions for you by using this information to understand how you use and interact    with our services and the people or things you're connected to and interested    in on and off our services \",\n",
       " 'we conduct surveys and research, test features in development, and    analyze the information we have to evaluate and improve products and services,    develop new products or features, and conduct audits and troubleshooting activities ',\n",
       " 'provide personalized apps recommendation ',\n",
       " 'we are able to deliver personalized app content and make app recommendations    for you based on the information you provide, such as content you like, posts    you create and list of apps installed on your device  for example, we can make    personalized recommendations for new apps that you are more likely to find useful,    and also avoid recommending apps that you already own ',\n",
       " 'communicate with you ',\n",
       " 'we use your information to send you marketing communications, communicate    with you about our services and let you know about our policies and terms  we    also use your information to respond to you when you contact us ',\n",
       " 'show and measure ads and services ',\n",
       " 'we use the information we have to improve our advertising and measurement    systems so we can show you relevant ads on and off our services and measure the    effectiveness and reach of ads and services ',\n",
       " 'promote safety and security ',\n",
       " 'we use the information we have to help verify accounts and activity,    and to promote safety and security on and off of our services, such as by investigating    suspicious activity or violations of our terms or policies  we work hard to protect    your account using teams of engineers, automated systems, and advanced technology    such as encryption and machine learning ',\n",
       " '\\'privacy policy updated  mar 9, 2017 apus gives high priority to your    private information, and this privacy policy will explain why and what we collect,    and how we use the information we collected  please read carefully and understand    the terms of this privacy policy (hereinafter, the \"policy\")  to know this policy    is important for you, your use of our products or services shall be regarded as    your acknowledgment and acceptance of this policy \\'',\n",
       " \"'we collect information to provide you with better service and a more    satisfying user experience  below we explained how and what we collect, it includes     (1) the information you provide for us, such as the information you filled with    when you registered the account  (2) the information we obtained from your use    of our products or services, for example, we collect through the advertising or    videos you watched  further, according to the different characteristic of each    product, we may collect different information from your use of services, for example,    your device information, browser type, location information, and other data that    can be obtained through your use of browser, cookie, etc  we collect this information    to continuously improve our services, and may provide you with content recommendation    services, such as, recommendation of news, advertisings and other content that    you are interested in '\",\n",
       " 'the following part   how we collect and use information, provide you    with detailed information in connection with specific apus product  if you wish    to know more details about how we collect information and how we use it of each    product, please refer to and read the privacy policy for each product ',\n",
       " '\" u2160  how we collect and use information   apus launcher\"',\n",
       " '1  read phone status and identity we may read the unique device id    and encrypt irreversibly while will not collect user personal identity information ',\n",
       " '2  read your text messages (sms or mms) used to search messages in    phone  no relative information will be collected ',\n",
       " '3  take pictures and videos used in apus settings and tool bar to    turn on off flashlight ',\n",
       " '4  we may get your approximate location (network based) used in apus    discovery to recommend popular apps for users around you  used in apus know to    provide taxi service for users  used in weather function to provide weather information    service ',\n",
       " '5  we may read your contacts only used in contact search as you required     no relative contact information will be collected ',\n",
       " '6  read calendar events and relative information only used in apus    know to display recent calendar events  no relative calendar information will    be collected ',\n",
       " '7  modify or delete the contents of your usb storage this permission    allows users to delete apus wallpapers stored in sd card ',\n",
       " '8  read the contents of your usb storage this permission allows users    to view apus wallpapers stored in sd card ',\n",
       " '9  set an alarm by tapping the clock widget, allow user to enter alarm    settings ',\n",
       " '10  find accounts on the device this permission allows apus to check    if users have logged in google play and provide relative app installation service ',\n",
       " '11  read google service configuration this permission allows apus    to read ad id and provide ad recommendation service ',\n",
       " '12  change cellular data status used in apus settings and tool bar    to turn on off cellular data ',\n",
       " '13  change wi fi connection status used in apus settings and tool    bar to turn on off wi fi connection ',\n",
       " '14  full network access this permission accesses apus to network for    achieving relative services, e g  providing version update notification, sorting    configuration of smart folder, news, etc  data consumption may be needed ',\n",
       " '15  check network connections used in apus settings and tool bar to    check network connection status ',\n",
       " '16  check wi fi connections used in apus settings and tool bar to    turn on off wi fi connection ',\n",
       " '17  access bluetooth settings used in apus settings to turn on off    bluetooth ',\n",
       " '18  pair with bluetooth devices used in apus settings to view bluetooth    connection status ',\n",
       " '19  close other apps this permission allows apus to close apps running    in background with 1 tap acceleration, system master and apus booster ',\n",
       " '20  retrieve running apps this permission allows apus to check running    apps with 1 tap acceleration, system master and apus booster ',\n",
       " '21  run at startup this permission allows apus services to run at    startup ',\n",
       " '22  draw over other apps this permission allows free swipe to display    windows over other apps ',\n",
       " '23  control vibration used in apus settings so device can vibrate    for once as notification when startup ',\n",
       " '24  adjust your wallpaper size this permission allows users to adjust    wallpaper size ',\n",
       " '25  set wallpaper this permission allows users to choose and set wallpapers    and linked wallpapers ',\n",
       " '26  read sync settings used in apus battery saver mode, check status    of sync settings to save power ',\n",
       " '27  toggle sync on and off used in apus battery saver mode to toggle    on off sync ',\n",
       " '28  expand collapse status notification bar used to expand collapse    status notification bar, for launcher gesture operations ',\n",
       " '29  install shortcuts this permission allows apus to create shortcuts    on other launchers and users can continue to use apus relative functions ',\n",
       " '30  measure app storage space used in app management to view memory    usage by apps ',\n",
       " '31  modify system settings used in apus settings to toggle or adjust    ringtone, vibration and brightness ',\n",
       " '32  read home settings and shortcuts used to read settings and shortcuts    of precious home launcher for better adaptability ',\n",
       " '33  uninstall shortcuts this permission allows user to delete apus    shortcuts created on other launchers ',\n",
       " '34  read call log this permission allows apus read call log to notify    missed calls and recommend contacts  no relative information will be collected ',\n",
       " '35  receive data from the internet this permission allows apus to    use internet data to update information for users ',\n",
       " '36  precise location (gps and network based) this permission allows    apus to use location service to provide weather information for users  this may    consume more battery ',\n",
       " '37  manage bluetooth used to access bluetooth settings and pair with    other devices via bluetooth ',\n",
       " \"38  read, modify and delete contents in the sd card this permission    allows apus to read, modify and delete contents in sd card according to user's    order \",\n",
       " '39  reroute outgoing calls this permission allows user to read and    call back missed calls ',\n",
       " '40  install shortcuts this permission allows user to create apus shortcuts    on launcher home ',\n",
       " '41  view or change system settings this permission allows apus settings    to view and change settings of ringtone, vibration, screen rotate, and brightness ',\n",
       " '42  system alert window used to send instant notifications to users    by drawing over other messages ',\n",
       " '43  access to widgets this permission allows users to add and display    widgets of android system and other apps on apus launcher ',\n",
       " '44  view recently used apps used for app arrangements on apus launcher    home  no relative information will be collected ',\n",
       " 'used for recently used apps in all apps, free swipe, apus search     no relative information will be collected ',\n",
       " '45  read weather widget data this permission allows apus launcher    to display weather widget appropriately with mobile devices ',\n",
       " '46  apply for gcm service used in linked wallpaper to send initiation    via gcm service  used in daily news release ',\n",
       " '47  apply for notification access used in 1 tap acceleration to clear    useless notifications chosen by users ',\n",
       " '48  accessibility this permission allows apus booster to close apps    chosen by users with accessibility  this permission is only used to speed up device    and no other personal information will be collected ',\n",
       " '49  awake in background used in lock screen to activate 1 tap acceleration,    close unnecessary apps running in background and save battery power ',\n",
       " '\" u2161  how we protect your information we will use commercially       and technically reasonable means and efforts to properly arrange and protect       your information, for example, to protect through use of newer asymmetric encryption       techniques, to hold your personal information harmless from accidental loss,       misuse, alteration, destruction, unauthorized access and disclosure, and so       on  except as required by law or expressly allowed herein, we will not disclose       your personal information  for legal reasons\"',\n",
       " 'to disclose your information as required by law or administrative    regulations, or the disclosure is necessary to comply with legal procedure served    on apus websites  with your consent',\n",
       " 'to disclose your information with authorization or consent given by    yourself  for user or public safety',\n",
       " 'to protect apus right, apus users or public safety, to guarantee the    safety of apus customers and products in case of emergency  to comply with apus    related terms of services and software license agreement ',\n",
       " '\" u2162  how we share your information we will not share your information       with any other companies, organizations or individuals, except as expressly       allowed as below  with your consent\"',\n",
       " 'any sensitive personal information (including personally identifiable    information, financial and payment information, authentication information, phone    book or contact data, collectively known as \"personally identifiable information\")    shall not be shared with any other companies, organizations or individuals without    your consent or authorization  share with third parties adhere to this policy',\n",
       " 'with commercially reasonable effort to protect your information, apus    will work with third party business partners for specific field of products or    services cooperation, in order to provide you with better and more comprehensive    services  this cooperation may need us to share some user information with our    business partners (personally identifiable information not included)  our partners    may be provided with access to the information necessary to perform their functions    only if they agree to strictly comply with this privacy policy and other confidentiality    terms  we will urge our partners to protect the user information in accordance    with this privacy policy and the confidentiality terms ',\n",
       " 'please be noted that some links connected with third party web pages    are included in apus products  apus does not make any warranties and shall not    take any legal responsibilities of any products, content, privacy statements,    operational policies, and other business activities of any other websites of third    parties  if you wish to use the services of any other websites of third parties,    please read carefully and understand their privacy policies and other related    statements ',\n",
       " 'probably we may share non personally identifiable information with    our business partners (such as publishers, advertisers, or affiliated websites)    and may be publicly available  for example, we may disclose information to the    public to let them know the overall user data and the overall trend for the use    of apus products  meanwhile, apus reminds you to pay attention to protect your    personal information in your use of our services  please be careful to disclose    your personal information when using apus services (for example, you are likely    to make comments in the news comment section or posting your own email id, and    so on), apus does not take any responsibility for personal information disclosure    or collection by any third party arising out of your personal disclosing actions     please attach importance to protect your personal information with considering    carefully whether the disclosure is necessary ',\n",
       " '\" u2163  privacy protection of minors if you are a minor, you shall       use our services with obtaining prior consent of your parent or legal guardian       (collectively,  \"guardian \")  we recommend that the guardians of minors shall       read this policy carefully, and we also recommend minors to obtain guardians\\'       prior consent and guidance before submitting personal information in your use       of our services  we are committed to the protection of children\\'s privacy that       we will not intentionally collect personal information of children under the       age of 13 \"',\n",
       " '\" u2164  update of privacy policy apus is committed to make continuous       progress for our services to improve user satisfaction, therefore we may update       or change this policy continuously with including any update or change on this       page and you may find the date updated at the top of this policy  we encourage       you to review our privacy policy every time when you use our services \"',\n",
       " '\" u2165  contact us if you have any suggestion, feedback or request       for this policy, you may contact us on our facebook page at       or send us an email at privacy',\n",
       " '\" xa9 2014 2017 apus group  all rights reserved\"',\n",
       " '\"how we collect and use information   apus launcher read does not       obtain phone status and identity we may not read the unique device id  u2026\"',\n",
       " 'further, we may not collect different information from your use of    services, for example, your device information, browser type, location information,    and other data that could be obtained through your use of browser, cookie, etc ',\n",
       " 'how we collect and use information   apus launcher precise location    (gps and network based) is not collected',\n",
       " 'how we collect and use information   apus launcher we may not get    your approximate location (network based) ',\n",
       " 'ask fm home page about us press room advertising jobs contact us',\n",
       " 'privacy policy click here for privacy policy effective before october    11, 2016 ',\n",
       " '\\'effective date  october 11, 2016 this privacy policy explains ask fm    europe limited (\"askfm,\" \"we\", \"our\", or \"us\") collects, uses, shares, and stores    your information when you use the askfm website and or the mobile applications    that link to this privacy policy (\"services\")  you should also read our terms    of use  when you use our services, you are agreeing to our rules and policies,    including this privacy policy and terms of use and you consent to our collecting,    processing and storing your information as described below  you must not access    or use the services if you do not agree with our privacy policy \\'',\n",
       " \"'this privacy policy covers the following information  1  who is askfm?'\",\n",
       " '2  how we collect your information',\n",
       " '3  being anonymous',\n",
       " '4  how we use your information',\n",
       " '5  sharing your information',\n",
       " '6  online analytics and tailored advertising',\n",
       " '7  your choices and blocking other users 8  international users',\n",
       " '9  how we protect your information',\n",
       " '10  de activating your profile and or leaving askfm',\n",
       " '11  your eu data protection rights',\n",
       " '12  children',\n",
       " '13  third party links and services',\n",
       " '14  california privacy rights',\n",
       " '15  changes to this policy',\n",
       " '16  contact us make a report',\n",
       " '1  who is askfm? the askfm website is currently operated by ask fm    europe limited, an irish limited liability company with registration number 551873    and a registered office at 6th floor, south bank house, barrow street, dublin    4, ireland ',\n",
       " 'the personal information you provide to us that is collected through    our services is controlled by askfm in accordance with the irish data protection    acts of 1998 and 2003 ',\n",
       " '2  how we collect your information how we collect, process and store    information depends in part on how you use the services  you may register to use    the services (\"registered user\")  you can use some of the services without creating    an account (\"guest user\") or providing any information other than information    that is automatically collected as explained below  the different categories of    information we collect from you are described below ',\n",
       " \"'information we collect from you information about you  we may collect    information from you during your use of the services, including your name, username,    password, email address, postal address, phone number, mobile phone number, payment    information, gender, birth year, and other information you provide or post on    our services or allow us to access when you do certain things, such as  sign up    and complete our registration form  create or edit your user profile  login to    the services  submit questions or answer questions  contact our customer support    team or use our reporting mechanisms  enter a sweepstakes or contest or register    for a promotion  participate in voting or polling activities  request certain    features (e g , newsletters, updates, or other products)  connect with the services    or otherwise allow us to access certain information about you via a social media    service  or post user generated content to or on our services '\",\n",
       " 'information about your friends  you can choose to invite your friends    to join askfm so that you can stay in touch with them on the services  to allow    you to use this feature, we will ask your permission to access your personal contact    list, which we will only access to store for your own use, to assist you with    inviting friends to join you on the services, and to notify you when someone you    know joins the services  to make it easier to search and find friends and people    you know on askfm, users may search for other members using first and last name,    email address, and location ',\n",
       " 'automatically collected information we may automatically collect certain    information about the computer or devices (including mobile devices) you use to    access the services, and about your use of the services, even if you use the services    as a guest user ',\n",
       " \"'device usage information  we may collect information such as (a)    ip addresses, unique device identifiers (e g  idfa or other device ids on apple    devices like the iphone, ipad and ipod touch), and other information about your    mobile phone or other mobile device(s) browser types, browser language, operating    system, the state or country from which you accessed the services  and (b) information    related to the ways in which you interact with the services, such as  referring    and exit pages and urls, platform type, the number of clicks, domain names, landing    pages, pages viewed and the order of those pages, the amount of time spent on    particular pages, the date and time you used the services, error logs, and other    similar information  as described further below, we may use third party analytics    providers and technologies, including cookies and similar tools, to assist us    in understanding how our services are used  such tools may collect and use your    data, after we have depersonalized it, with other askfm users'' data '\",\n",
       " 'location information  we may collect general information (e g  ip    address, zip code) about your location, and may use that information to customize    the services with location based information, advertising, and features  by accessing    and using the services, you consent to this collection and processing of location    information ',\n",
       " \"'cookies and other electronic technologies  when you use the services,    we use persistent and session cookies and other similar technologies to  (a) store    your username and password  (b) analyze the usage of our sites and services by    collecting the information discussed above  (c) customize the services to your    preferences  and (d) display advertising on the services  we may also use other    internet technologies, such as web beacons or pixel tags and other similar technologies,    to deliver or communicate with cookies and analyze your use of the services  we    also may include web beacons in e mail messages or newsletters to determine whether    the message has been opened and for other analytics '\",\n",
       " \"most browsers automatically accept cookies, but you can modify your    browser setting to decline cookies by visiting your browser's help page  if you    choose to decline cookies, please note that you may not be able to sign in, customize,    or use some features of the services  for more information about our use of cookies,    please see our cookie policy  by using our services with your browser set to accept    cookies you are consenting to our use of cookies in the manner described above    and in our cookie policy \",\n",
       " \"information from third parties we may collect, process and store your    user id associated with any social media account (such as your facebook account)    that you use to sign in to the services or connect with or use with the services     when you sign in to your account or mobile application with your social media    account information, or otherwise connect to your social media account with the    services, you consent to our collection, storage, and use, in accordance with    this privacy policy, of the information that you choose to make available to us    through the social media interface  this could include, without limitation, any    information that you have made public in connection with your social media account,    information that the social media service shares with us, or information that    is disclosed as being shared during the sign in process  please see your social    media provider's privacy policy for more information about how they share information    when you choose to connect your account \",\n",
       " 'we may also obtain information about you if it is contained in user generated    content that other users post to or on our services  for example, one of your    friends could post something about you in a question they ask you, or in an answer    they post ',\n",
       " 'we may obtain additional information about you from affiliates and    may combine that information with information which we collect from or about you    and information derived from any other product or service we or our affiliates    provide ',\n",
       " 'anonymous or de identified data we may anonymize and or de identify    information collected through the services or via other means, including via the    use of third party web analytic tools (see section 6 below), so that the information    no longer relates to you  where we have appropriately anonymized and or de identified    information it no longer constitutes your personal information (also known as    personal data)  as a result, our use and disclosure of aggregated and or de identified    information is not subject to this privacy policy, and may be disclosed to others    on such basis ',\n",
       " \"3  being anonymous the fact that you can send messages without other    people knowing who you are is part of what makes askfm unique and so much fun     it means that you can ask things that you might be too embarrassed or shy to say    if anyone knew it was you  people may often be more honest when they are anonymous,    whether they're asking a question anonymously, or answering a question where they    don't know who has asked it \",\n",
       " 'you have the ability to decide whether to ask a question anonymously    or on a named basis each time you submit a question to another user  however,    this also means that when you receive questions or comments, you may not know    who they come from either!',\n",
       " 'remember, as a registered user, that even if you ask a question anonymously,    our service will still have a record of the fact that you asked the question (even    if we keep this private)  if you are a guest user, we may not know who you are ',\n",
       " 'some people don\\'t like receiving things from people if they don\\'t    know who they are  so we provide all users with the ability to choose not to receive    questions from anonymous users on the \"settings\" page on the website and mobile    application ',\n",
       " \"if you do choose to allow anonymous questions, please know that our    intention is that they will foster candid, open conversations  however, if someone    does abuse the option of being anonymous through inappropriate communications    that violate our terms of use because they know you don't know who they are, you    have the ability to report that user to us so that we may take appropriate action     we have also built in site moderation techniques to protect you and to prevent    users from transmitting harmful content  for more information, see our terms of    use and our safety and security essentials \",\n",
       " 'we may assist the police or other law enforcement agencies with their    requests, or produce information in response to legal process where we, in good    faith, believe that such disclosure is required by law, or to protect our rights    and property, or the safety of individual users or the public, or where otherwise    permitted by this privacy policy ',\n",
       " \"'4  how we use your information we use the information we receive    from and about you for the following purposes  to provide the services  to process    and respond to your inquiries  to send you information about your relationship    or transactions with us  to contact you if you have filed a complaint or report,    or if someone has made any claim or report against you  to make suggestions to    you and other registered users, such as suggesting registered users'' profiles    to follow  to notify you about new features of the services, special events, or    products, services, and special offers, or to send you questions of the day  to    moderate content and to keep the services safe and secure and address any security    issues  to generate advertising and promotional materials for our services  to    understand and assess the effectiveness of advertisements on the services  to    process payment for virtual goods that may be available from time to time  to    administer sweepstakes and contests  to generate and review reports and data about    our user base and service usage patterns  to analyze the accuracy, effectiveness,    usability, or popularity of the services  to improve the content and features    of the services  to allow us to personalize the content and advertising that you    see on the services  to safeguard askfm''s and others'' rights or property  to    investigate, prevent, or take action regarding illegal activities, involving potential    threats to the physical safety of a person, prevention of fraud, and violations    of our terms of use  and to administer and troubleshoot the services '\",\n",
       " '5  sharing your information your profile information if you are a    registered user, anyone who uses the services is able to see your user name and    any information posted on your profile, including photos  any questions that you    receive in your inbox cannot be seen by anyone else until you reply to them  if    you do reply, then the question and your answer will be posted on your profile,    where they can be seen by anyone who uses the services and views your profile     while you have the ability to delete posted questions and answers on your profile    at any time by clicking the \"x\" next to the question answer, you should be careful    to only include information in your profile, including in any questions and answers,    that you would not mind making public  if a registered user \"likes\" a question    or answer on your profile, the fact that the registered user \"liked\" the content    will be automatically visible ',\n",
       " 'your profile information will also be searchable via public search    engines (e g , google, bing, yahoo) ',\n",
       " 'in general, please be careful and responsible whenever you are online     should you choose to voluntarily disclose information through the services, such    as by submitting a question to another user or by answering a question to be posted    on your profile, that information can be viewed publicly and people can copy content    that is posted on the internet  it could also be collected and used by third parties    without our or your knowledge which may result in unsolicited messages from other    individuals or third parties  you should not share personal information that might    allow others to contact or locate you or other users and you should think before    you post ',\n",
       " \"'sharing your information with third parties we don''t sell or share    any personal information about you with third parties, except as provided in this    privacy policy  we may share your information in the following circumstances     to assist in providing the services  to provide you with services or products    that you have requested  with companies that perform services on our behalf (including    both third parties and our affiliates), such as advertising providers, advertising    networks advertising exchanges, payment processors, providers of technical infrastructure    (such as servers) or engineering or other support, order fulfillment companies,    moderation companies, and e mail service providers  with our affiliates for the    collective benefit of our affiliates'' businesses and for operational purposes     when we believe in good faith that such sharing is permitted by law or is reasonably    necessary in order to investigate, prevent, or take action regarding possible    illegal activities, suspected fraud, situations involving potential threats to    the physical safety of any person, violations of this privacy policy or the terms    of use '\",\n",
       " 'in order to respond to the claims of violation of the rights of third    parties and or to protect the rights, property and safety of askfm, our employees,    registered and guest users, or the public  this may involve the sharing of your    information with law enforcement, government agencies, courts, and or other organizations ',\n",
       " 'as we continue to develop our business, we may sell, buy, merge or    partner with other companies or businesses, or sell some or all of our assets     in such transactions, user information may be among the transferred assets  we    may share your information in any other circumstances where we have your consent    or are otherwise permitted to share it by law ',\n",
       " '6  online analytics and tailored advertising online analytics to help    us better understand your use of the services, we may use third party web analytics    on our services, such as google analytics or flurry  these service providers use    the sort of technology described in the \"automatically collected information\"    section above  the information collected by this technology will be disclosed    to or collected directly by these service providers, who use the information to    evaluate askfm users\\' use of the services  we also use google analytics as described    in the following section  to prevent google analytics from collecting or using    your information, you may install the google analytics opt out browser add on     to opt out of flurry collecting or using your information, go google analytics    opt out browser add on ',\n",
       " 'tailored advertising third parties whose products or services are    accessible or advertised via the services may also use cookies or similar technologies    to collect information about your use of the services  this is done in order to    help them (i) inform, optimize, and serve ads based on past visits to our website    and other sites and (ii) report how our ad impressions, other uses of ad services,    and interactions with these ad impressions and ad services are related to visits    to our website  we also allow other third parties (e g , ad networks ad exchanges    and ad servers such as google analytics, doubleclick and others) to serve tailored    ads to you on the services, and to access their own cookies or similar technologies    on your computer, mobile phone, or other device you use to access the services     we neither have access to, nor does this privacy policy govern, the use of cookies    or other tracking technologies that may be placed on your computer, mobile phone,    or other device you use to access the services by non affiliates, third party    ad technology, ad servers, ad networks, ad exchanges, or any other non affiliates    third parties  those parties that use these technologies may permit you to opt    out of ad targeting as described below  you may receive tailored advertising on    your computer through a web browser  if you are interested in more information    about tailored browser advertising and how you can generally control cookies from    being put on your computer to deliver tailored advertising (i e , not just for    the services), you may visit the network advertising initiative\\'s consumer opt out    link, the european interactive digital advertising alliance, \"your online choices\"    page and or the digital advertising alliance\\'s consumer opt out link to opt out    of receiving tailored advertising from companies that participate in those programs     to opt out of google analytics for display advertising or customize google display    network ads, you can visit the google ads settings page  please note that to the    extent advertising technology is integrated into the services, you may still receive    advertisements even if you opt out of tailored advertising  in that case, the    ads will just not be tailored to your interests  also, we do not control any of    the above opt out links and are not responsible for any choices you make using    these mechanisms or the continued availability or accuracy of these mechanisms ',\n",
       " \"'when accessing the services from a mobile application you may also    receive tailored in application advertisements  each operating system  ios, android    and windows phone provides its own instructions on how to prevent the delivery    of tailored in application advertisements  you may review the support materials    and or the privacy settings for the respective operating systems in order to opt out    of tailored in application advertisements  for any other devices and or operating    systems, please visit the privacy settings for the applicable device or operating    system or contact the applicable platform operator '\",\n",
       " 'do not track disclosure we are committed to providing you with meaningful    choices about the information collected on our services for third party purposes,    and that is why we provide the above links to the nai \"consumer opt out\", daa    opt out, and google opt out  however, we do not currently recognize or respond    to browser initiated do not track signals, as the internet industry is still working    on do not track standards, implementations and solutions ',\n",
       " '\\'7  your choices and blocking other users you have a variety of choices    regarding the collection, use and sharing of your personal information through    the services, including the ability to prevent other users from submitting questions    to you  the \"privacy\" tab of the settings page allows you to  (1) switch off receiving    anonymous questions  and (2) hide your answers from appearing in the \"stream\"     you can opt out of receiving certain e mail notifications from us, including emails    advertising askfm products and services, by clicking the \"notifications\" tab of    the settings page on the mobile app and through the \"privacy\" tab of the settings    page on the site \\'',\n",
       " 'blocking other users  you have the ability to add any user to your    \"blocklist\" at any time by clicking on the \"block\" button on that user\\'s profile     this will prevent the user from asking you a question ',\n",
       " \"8  international users while the service is provided from ireland,    it is a global website that operates and provides services in various countries    around the world  by giving us any personal information, or by using the applications    available on the services, you agree that your personal information may be transferred    to and stored and processed in our and our third party vendors' facilities, in    various countries around the globe, including the united states  these countries    may have privacy laws that differ from the laws in your country or the laws of    ireland \",\n",
       " '9  how we protect your information we have put in place appropriate    physical, electronic, and managerial procedures to safeguard and help prevent    unauthorized access to your information and to maintain data security  these safeguards    take into account the sensitivity of the information that we collect, process    and store and the current state of technology ',\n",
       " 'although we take appropriate measures to safeguard against unauthorized    disclosures of information, the internet and the services are not 100  secure    so we cannot assure you that personal information we collect or store will never    be disclosed in a manner that is inconsistent with this privacy policy ',\n",
       " 'we strongly urge you to take steps to keep your personal information    safe (including your password) and to log out of your account after use  you should    not tell anyone (other than your parents or guardian, if you are a minor) your    password  if you lose your password or give it out to someone, your personal information    will be at risk  if that happens, you should report it to us immediately by clicking    here  you must also change your password immediately via your \"settings\" page     we are not responsible for your failure to keep your password secure and failure    to do so may breach our terms of use  we also strongly recommend that you change    your password from time to time ',\n",
       " '10  de activating your profile and or leaving askfm you also have    the right (in certain cases) to modify or delete the personal information we hold    about you  you can generally exercise these rights by following the process described    in the \"de activating your profile\" and \"leaving askfm\" sections of this privacy    policy  however, you can also contact us using the details in section 16 below    if you wish to modify information that cannot be amended or deleted through the    service ',\n",
       " 'de activating your profile you can deactivate your profile by signing    in to the services with your password and opting to deactivate your profile  this    option is available from your settings page ',\n",
       " 'by deactivating your account, it will no longer be visible to other    users of the services  your profile information will be retained in case you later    decide to restore your account  many members deactivate their accounts for temporary    reasons and in doing so expect us to maintain their information until they return    to askfm  you should ordinarily be able to restore your account and the whole    of your profile within 12 months of deactivating it but we cannot guarantee that    this will always be the case ',\n",
       " 'leaving askfm should you choose to leave askfm, you may do so by selecting    the \"i want to leave askfm\" tab on the contact us page  once received, we will    process your request to leave as soon as practicable  once processed, your profile    data will be removed from the services and your questions to friends will be converted    to anonymous questions (in other words, questions you have asked will remain visible    but will appear to be from an anonymous user)  you will be able to reactivate    your account by logging back in for a period of 30 days after your request to    leave askfm is processed  at the end of that period your account will be deleted    and all \"likes\" which you have added to questions will be removed  we will delete    your data as soon as reasonably practicable, but in certain cases limited types    of data, including log files and backups, may take up to 90 days to be fully deleted ',\n",
       " 'in order to enforce our terms of use and to prevent abuse of the services,    we may retain basic account information reasonably necessary to ensure a former    user whose account has been terminated for breach of the terms of use does not    open a new account and profile in further breach of our terms of use  we may also    retain additional information where we reasonably believe that we are legally    obligated to do so (such as where such information may be relevant for a law enforcement    investigation) ',\n",
       " \"'warning  after you have deactivated your account or left askfm, questions    you have previously transmitted through the services may still appear on the services,    but will be anonymized and no longer associated with you directly (in other words,    a question you asked on your friend''s profile will still be visible, but will    not include your user name)  please also note that even after you remove information    from your profile or deactivate your account, copies of such content may still    be visible and or accessed on the internet to the extent such information has    been previously shared with others, or to the extent such information has been    shared with, indexed by or cached by search engines  similarly, if you have given    third party applications or websites (e g  other social networks) access to your    personal information they may keep that information  we cannot control this, nor    do we accept any responsibility or liability for this '\",\n",
       " '\\'11  your eu data protection rights changing your profile because    you control your profile, you can see the personal information you\\'\\'ve provided    to us by accessing your \"profile\" page, which gives you the option to correct    or update your information at any time by just logging into the services  once    you register, you will be able to change most of your personal information, including     your name  your country  your contact email address  your profile picture  and    your password  you will not be able to change your birth date  you will also have    the option to delete questions and answers posted to your profile at any time \\'',\n",
       " '\"you have a right to request a copy of the information we hold about       you  such a request must be in writing  you can do this via our contact form        feedback  we will contact you to let you know what else we need from you before       we send you a copy of your personal information  we reserve the right to charge       the statutory fee (currently  u20ac6 35) to process such a request \"',\n",
       " \"12  children the services are not intended for use by children under    the age of 13  we do not knowingly collect (or knowingly allow any third party    to collect) personal information from persons under the age of 13  if we become    aware that personal information has been collected from a person under the age    of 13, we will delete this information and terminate the person's account as quickly    as possible  if you believe that we may have personal information from or about    a child under the age of 13, please contact us using the contact information below \",\n",
       " \"13  third party links and services the services may contain links    to third party websites, including other social media services  your use of these    features may result in the collection, processing or sharing of information about    you by a third party, depending on the feature  please be aware that we are not    responsible for the content or privacy practices of other websites or services    which may be linked on the services  we do not endorse or make any representations    about third party websites or services  the personal information you choose to    provide to or that is collected by these third parties is not covered by our privacy    policy  we strongly encourage you to read such third parties' privacy statements \",\n",
       " '14  california privacy rights california law permits users who are    california residents to request and obtain from us once a year, free of charge,    a list of the third parties to whom we have disclosed their personal information    (if any) for their direct marketing purposes in the prior calendar year, as well    as the type of personal information disclosed to those parties  if you are a california    resident and would like to request this information, please submit your request    by clicking here ',\n",
       " '15  changes to this policy we reserve the right to make changes to    this privacy policy at any time to reflect changes in the law, our data collection    and use practices, the features of our services, or advances in technology  please    check this page periodically for changes  if we make any material changes to this    privacy policy, we will post the updated privacy policy here and notify our registered    users by email or by means of a notice on the services  save for urgent changes    (such as those required by law) we will post such a notice on our website prior    to the changes becoming effective  please review the changes carefully  your continued    use of the services following the posting of changes to this policy will mean    you consent to and accept those changes  if you do not consent to such changes    you can delete your account by following the process described in the \"de activating    your profile\" and \"leaving askfm\" sections of this privacy policy ',\n",
       " 'ask fm europe limited is a private limited company incorporated in    ireland with company number 551873 and its registered office at 6th floor, south    bank house, barrow street, dublin 4, ireland  our vat number is ie 3323023rh     about safety center blog help terms privacy policy cookie policy contact us ask fm    facebook twitter instagram vkontakte',\n",
       " '\" xa9ask fm 2015\"',\n",
       " 'we do not allow other third parties (e g , ad networks ad exchanges    and ad servers such as google analytics, doubleclick and others) to serve tailored    ads to you on the services, and to access their own cookies or similar technologies    on your computer, mobile phone, or other device you use to access the services ',\n",
       " 'we do not collect information such as (a) ip addresses, unique device    identifiers (e g  idfa or other device ids on apple devices like the iphone, ipad    and ipod touch), or other information about your mobile phone or other mobile    device(s) browser types, browser language, operating system, the state or country    from which you accessed the services will be collected    ',\n",
       " 'as described further below, no third party analytics providers and    technologies, including cookies and similar tools, are used ',\n",
       " 'we are not collecting information from you during your use of the    services, particularly, your name, username, password, email address, postal address,    phone number, mobile phone number, payment information, gender, birth year    ',\n",
       " 'cheetah mobile clean master cm security piano tiles 2 live me more    products clean master cm security live me whatscall piano tiles 2 photogrid news    republic battery doctor cm launcher cm browser cm locker cm backup cm behavior    cloud clean master for pc business cheetah ad platform pegasi libra media blog    security topics ceo talks press release about company information investor relations    promotion policy global talent contact us follow us facebook twitter linkedin    home   privacy policy of cm browser privacy policy of cm browser as you use a    browser to search information, visit websites, and share information with others,    when you use these function, for example, typing a keyword and see related information    on the internet via cm browser (formerly known as \"cheetah browser\", also known    as \"cm secure browser\"), we collect information from you in order to provide corresponding    service and better user experience to you  when participating in cm browser user    experience improvement program, as appropriate, your usage, statistics, input    while using cm browser, and crash reports would be collected ',\n",
       " \"'and here we explain what information we collect and why, and how    we use that information  what do we use your information for? any of the information    we collect from you may be used in one of the following ways  to personalize your    experience (your information helps us to better respond to your individual needs)'\",\n",
       " 'to improve our application (we continually strive to improve our application    based on the information and feedback we receive from you)',\n",
       " 'to improve customer service (your information helps us to more effectively    respond to your customer service requests and support needs)',\n",
       " 'to process transactions your information, whether public or private,    will not be sold, exchanged, transferred, or given to any other company for any    reason whatsoever, without your consent, other than for the express purpose of    delivering the purchased product or service requested ',\n",
       " 'to administer a contest, promotion, survey or other site feature',\n",
       " 'to send periodic emails the email address you provide in user experience    improvement program or feedback your opinions to us, will only be used to respond    your feedback, send you information and updates of our products and services ',\n",
       " \"'what information do we collect? we collect information to improve    our application and provide better services to all of our users   including  the    information you give us, for example, when you give us your opinions to our application    and services via our feedback channel '\",\n",
       " 'the information we get from your use of our application and services,    like the keywords you type in our application to search, the websites link you    input, click, interact, and trigger from any application in your device ',\n",
       " 'log information, the application events such as version, installed    date and time, usages statistics, crashes event, and dump reports of our application ',\n",
       " 'location information, the mcc (mobile country code)  device information,    such as your hardware model, android id, and operation system version) ',\n",
       " 'we do not collect your personal identifiable information when you    using our product, such as name, phone number,physical address ',\n",
       " \"'do we disclose any information to outside parties? we do not sell,    trade, or otherwise transfer to outside parties your personally identifiable information     this does not include  trusted third parties who assist us in operating our website,    conducting our business, or servicing you, so long as those parties agree to keep    this information confidential '\",\n",
       " 'we will access, use or disclose your information with other organizations    or entities for reasons that required by any applicable law, regulation, legal    process or enforceable governmental request ',\n",
       " 'detect, prevent, or otherwise fraud, security or technical issues     protect against harm to the rights, property or safety of cheetah mobile, our    users or the public as required or permitted by law ',\n",
       " 'security cheetah mobile is very concerned about safeguarding the confidentiality    of your information  we do not collect personal information, and we employ administrative,    physical and electronic measures designed to protect your non personal information    from unauthorized access and use  please be aware that no security measures that    we take to protect your information is absolutely guaranteed to avoid unauthorized    access or use of your non personal information which is impenetrable ',\n",
       " 'sensitive information we ask that you not send us, and you not disclose,    any sensitive personal information (e g , information related to racial or ethnic    origin, political opinions, religion or other beliefs, health, sexual orientation,    criminal background or membership in past organizations, including trade union    memberships) on or through an application, the services or the site or otherwise    to us ',\n",
       " 'children we do not provide service focus on children  if you are under    13, you may use our website when you are with a parent or guardian ',\n",
       " 'changes to our privacy policy our privacy policy may change from time    to time, we will post any privacy policy changes on this page, so please review    it periodically  we may provide you additional forms of notice of modifications    or updates as appropriate under the circumstances ',\n",
       " '\"see end user license agreement privacy policy   cheetah mobile  xa9       2017  xb7 englishenglishespa xf1olfran xe7aisp u0443 u0441 u0441 u043a u0438      u0439portugu xeas u65e5 u672c u8a9e ud55c uad6d uc5b4 u7e41 u9ad4 u4e2d u6587      u7b80 u4f53 u4e2d u6587\"',\n",
       " '\"products what xb4s hot commercial service login\"',\n",
       " 'asus account logout message center display all products phones notebook      2 in 1 pcs tablets motherboards graphics cards wearable   healthcare desktop      all in one pcs display networking sound home   automotive peripheral gaming    servers   workstations zenbo',\n",
       " 'phones phone zenfone zenfone ar zenfone deluxe zenfone ultra zenfone    zoom zenfone max zenfone live zenfone selfie zenfone laser zenfone go other phones',\n",
       " 'phone accessory photography accessories power banks cases, covers      sleeves adapters headphones   headsets docks screen protectors battery charger    storage',\n",
       " 'zenfone ar (zs571kl) built for augmented reality learn more notebook      2 in 1 pcs notebooks zenbook pro series zenbook series vivobook pro series vivobook    series chromebook series asuspro series gaming series fx   zx series',\n",
       " '2 in 1 pcs transformer series (detachable) transformer series (convertible)    vivobook flip series zenbook flip series chromebook flip series',\n",
       " 'notebooks accessory adapters cases, covers   sleeves stylus docks',\n",
       " \"zenbook 3 deluxe the world's most prestigious laptop, enhanced \",\n",
       " 'learn more tablets tablets zenpad fonepad transformer pad vivo tab    nexus memo pad business series',\n",
       " 'tablet accessory cases, covers   sleeves adapters headphones   headsets    keyboards docks stylus',\n",
       " 'zenpad 3s 10 (z500m) cinematic entertainment, supercharged performance    learn more motherboards motherboards asus prime rog   republic of gamers pro gaming    tuf   24 7 durability commercial workstation intel platform amd platform',\n",
       " 'motherboard accessory sabertooth x99 extremely tough  total reliability    learn more graphics cards graphics cards amd series nvidia series rog   republic    of gamers turbo series dual series expedition series phoenix series',\n",
       " 'graphics cards accessory sli bridge external graphics dock',\n",
       " '\"rog strix gtx1080ti o11g gaming rog strix geforce xae gtx 1080 ti       oc edition 11gb gddr5x with aura sync rgb for best vr   4k gaming\"',\n",
       " 'learn more wearable   healthcare zenwatch zenwatch zenwatch accessory',\n",
       " '\"vivowatch asus zenwatch 3  u200f(wi503q) u200f time honored craftsmanship,       infinite styles learn more desktop   all in one pcs tower pcs rog series gaming       series vivopc series asuspro series\"',\n",
       " 'mini pcs rog series vivopc vivomini',\n",
       " 'stick pcs vivostick pc stick pc qm1',\n",
       " 'chrome devices chromebox chromebit',\n",
       " 'all in one pcs zen aio series vivo aio asuspro series',\n",
       " 'asus zen aio pro z240 the art of performance in stunning detail learn    more display monitors gaming eye care professional designo 4k uhd   2k wqhd zenscreen    business touch essential',\n",
       " 'monitor accessory projectors projectors',\n",
       " 'pg348q expand your gaming horizons learn more networking networking    wireless routers wireless ap repeater bridges xdsl modem routers wireless adapters    wired networking powerline networking 4g lte   3g routers bluetooth   antennas    cable modems   routers security cameras wi fi system',\n",
       " 'business networking business switches business wireless routers',\n",
       " 'gaming networking gaming routers',\n",
       " 'rt ac5300 wireless ac5300 tri band gigabit router learn more sound    essence hi fi audio hi fi sound cards dacs   amplifiers accessories',\n",
       " 'sound cards hi fi sound cards rog   republic of gamers gaming entertainment',\n",
       " 'wireless   bluetooth audio music streamer headphones   headsets',\n",
       " 'headphones   headsets rog   republic of gamers gaming entertainment',\n",
       " 'speakers speakers',\n",
       " 'essence iii preamplifier, usb dac and headphone amplifier learn more    home   automotive home entertainment android tv usb tv tuner o!play digital media    player o!play blu ray hd media player gamepad',\n",
       " 'car electronics video recorder   camcorder',\n",
       " '\"nexus player nexus player  u2122   entertainment tailored for you       learn more peripheral computer bags backpacks carry cases messengers sleeves       accessory packs trolleys\"',\n",
       " 'keyboards   mice keyboards mice combo mouse pads',\n",
       " '3d sensor optical drives   storage external blu ray drive external    slim dvd drive internal blu ray drive internal dvd drive ssd storage',\n",
       " 'docks chargers zenny ut210 rainbow of comfy mouse input learn more    gaming rog   republic of gamers notebooks desktops motherboards graphics cards    monitors headsets keyboards sound cards mice mousepads bags wireless routers',\n",
       " 'gaming notebooks   gaming series motherboards   pro gaming graphics    cards   strix gaming desktop   gaming series monitor   gaming series sound cards      gaming series headphones   headsets   gaming series wireless router   gaming    series',\n",
       " 'strix 7 1 true 7 1 gaming headset with 10 discrete neodymium magnet    drivers and a plug and play usb audio station',\n",
       " '\"learn more what xb4s hot asus zenbook 3 ux390ua tech in style   mobile       tech in style   notebook   pc win dream aura pc peripherals best 200 series       motherboards no 1 gaming monitor get mafia iii with select gears republic of       gamers asus   cablemod promotion\"',\n",
       " 'commercial products business size solution industry',\n",
       " 'products tablets projectors notebooks desktop servers   workstations    monitors all in one pcs signage networking business size soho   micro business    small   mid size business enterprise   large business solution mobile solution    business protection improve performance enhance communication green office industry    education retail   service service support zentalk zencircle zenui zenfone care',\n",
       " 'terms of use notice   privacy policy privacy policy terms of use notice    privacy policy',\n",
       " 'terms of use notice privacy policy asus privacy policy asustek computer    inc  and its affiliated companies (hereinafter referred to as \"asus\", \"we our us\")    are committed to protecting and respecting your privacy  we endeavor to comply    with all applicable laws on privacy protection and personal information security     asus privacy policy, together with any additional terms and conditions that contain    supplementary information in connection with particular services you are using    (hereinafter referred to as \"privacy policy\"), outline our privacy practices regarding    the collection, use and safeguard of your personal information through asus websites,    devices, applications and any services, both online and offline we provide (hereinafter    referred to as \"service\"), along with whom we may share or disclose the collected    information  if you are a minor, you shall access or use the service only after    your parents (or your guardian) read and agree our privacy policy ',\n",
       " 'the use, access or submission of personal information to the service    by you, or if you are a minor, the submission of your personal information either    by your parents (or your guardian) or by you with the permission of your parents    (or guardian) to asus will be deemed as your acceptance of the privacy policy ',\n",
       " '\\'information asus collect when you use our service, we may need to    collect certain information from you when use or interact with our service (hereinafter    referred to as \"information\")  we may ask for the following information  information    you provide to us your e mail address and country region when you sign up or log    in asus member account  if you use your social media account to log in or sign    up for asus member account to use our service, any publicly available information    (including but not limited to your profile picture, gender, date of birth and    language setting) associated to your social media account may also be collected    by us  your name, mailing shipping billing address (including zip code), contact    information, e mail address, credit card number or other payment service information    when you make a purchase of our devices, paid services or for certain customer    service request  your name, mailing shipping address (including zip code), contact    information, e mail, gender, date of birth and id number when you enter our events    or campaigns  your age, date of birth, gender, height, weight, body temperature,    heart rate, blood pressure as well as certain data about your daily activities,    for example, your step taken, calories burned and sleep patterns, when you use    our healthcare devices or services \\'',\n",
       " \"'information from your use of service device information  such as    your device model, serial number, the version and type of your operation system,    ip address, mac address, imei number and other unique device identifiers  log    information  such as the settings, activation time of your devices, the network    you use to connect to our service, the status of the network, telephony log information,    standby status, crash history, preferred interface, type and language settings    of browser, diagnose and usage data as well as your usage behavior on our service     location information  such as the version of your devices'' gps and wi fi module,    gps signal, data identifying nearby wi fi access points and cell towers, the time    zone and local time where the device is used  application information  such as    the type of your installed applications or software, your usage and interaction    with content offered through service, for instance, the install and uninstall    time, frequency of your usage, the category of your preferred applications and    software '\",\n",
       " \"'how asus use information we may use information we collect for the    purposes below  to assess and improve the service  to obtain customer feedback    and to analyze user experience for the purpose of development and evaluation of    new services and devices  to fulfill the sign up process of asus member account    or device registration  to deliver and fulfill any requests made by you, including    but not limited to, providing information and documentation regarding purchases    such as delivering purchase invoices or proof of purchase  provide software updates    and technical notices '\",\n",
       " 'to process and fulfill any subscriptions you have signed up for, including    asus edms or newsletters to keep you up to date with the latest asus news, promotions    and upcoming events  you may unsubscribe it at any time with no charge ',\n",
       " 'to send you important notifications, such as communications about    changes to our terms, conditions and policies  because of the importance of the    communications, you may not opt out of receiving these communications  to verify    your identity, deliver campaign entries and rewards, provide shuttle services    and cover you with insurance if it is a necessity when you enter our events or    contests ',\n",
       " 'to assist you on recording, analyzing, modifying and storing information    including data about you, your daily activities and the activity results calculated    from the data above  moreover, we will support you on editing and accessing the    data and activity results, when you share this information with your family, caregivers,    and health care professionals  to provide you with recommendation about services    you may be interest in based on your use of our service  to provide you with marketing    communications and advertising that we believe may be of interest of you  to respond    to customer support requests, such as product repair requests and respond to your    questions  to provide you with our customer care and customer satisfaction survey    for user experience analysis  any other purposes with your consent ',\n",
       " \"'to whom asus disclose your information your information will not    be disclosed to any third parties without the following exceptions  your consent    we will only disclose or share your information to other third parties with your    consent '\",\n",
       " 'business partners we may disclose hashed and anonymized information    to our business partners, for example, business partners who provide data analytics    services or advertisings and marketing communications based on the hashed and    anonymized information ',\n",
       " 'service providers we may disclose and share your information to our    service providers that provide services for or on behalf of us, for instance,    service providers assist us with sending marketing communications, providing customer    support, delivering purchases and billing  these service providers shall only    use your information in compliance with our instruction and with the scope of    the purposes hereof  asus ensures that all of our service providers strictly comply    with the privacy policy ',\n",
       " \"'for legal, protection, security purposes we may disclose or share    your information with third parties for legal or security purposes  to the extent    it is required by applicable laws or regulations or competent governmental or    judicial authorities, necessary to establish or preserve a legal claim or defense,    or necessary to prevent fraud or other illegal activities  to protect the rights,    property or safety of asus, our service providers, customers or the public, as    required or permitted by law '\",\n",
       " 'international transfers of your information you understand and consent    to the transfer, storage, use or process of your information to asus and any of    its affiliated companies, service providers who may be located in a different    country to you  all said transfer, storage, or process of your information, shall    be subject to the privacy policy and applicable laws on privacy protection and    personal information security ',\n",
       " \"'cookies and similar technologies asus uses cookies and similar technologies,    such as web beacons to provide our service  cookies cookies are small text files    placed on your devices to personalize your user experience on our service  cookies    will not collect information that identifies you  sign up and authentication     we use cookies to store your unique sign up id number and authentication information    on your device  cookies allow you to visit and move from page to page within our    websites without having to log in again on subsequent visits  storing your preferences    and settings  cookies maintain your settings and preferences on your devices,    such as your preferred language or location  by storing the settings in cookies,    it is not a necessity to reapply your preferences and settings each time you visit    our websites '\",\n",
       " \"'analytics  we use cookies to count the number and length of your    visit on our websites as well as which part or features you visit the most as    well  this information helps us analyze the performance and operation of our service    to improve performance and develop new features, functions and services '\",\n",
       " \"'advertising  we use cookies to collect data about your use on our    websites and identify your interests, such as the advertisings you have viewed     asus, and our business partners, use this data so that we can provide advertising    that is most relevant to you '\",\n",
       " \"please note, you can configure cookies preferences by accessing  tools    and settings  of the browser to accept, block or delete cookies  the location    of the  tools and settings  of the browser may vary depending on the browser you    install, please visit browser's privacy or support page for further information     certain features of our service depend on the use of cookies, if you choose to    disable cookies, you may not be able to use the all of the features of our websites \",\n",
       " \"'cookies used on our websites have been categorized below  you may    also refer to the charts to know which cookies we use on our websites and who    hosts it  category 1  performance cookies category 2  functionality cookies category    3  targeting cookies or advertising cookies category 1  performance cookies cookies    collect information about how you use our websites, for instance which pages you    go to most often, and if you get error messages from our web pages  cookies will    not collect information that identifies you  all information cookies collect is    aggregated and anonymous  they are only used to improve the performance of our    websites '\",\n",
       " 'cookie name host google analytics google inc ',\n",
       " 'tagman ensighten, inc ',\n",
       " 'etrack etrack products pty  ltd crazyegg crazy egg, inc migo migo    corp ',\n",
       " 'yandex metrica yandex europe ag optimizely optimizely, inc ',\n",
       " \"'category 2  functionality cookies cookies allow our websites to save    your settings and preferences (such as your preferred language or the region you    are in) in order to provide you with a more personal and consistent experience    each time you visit our websites '\",\n",
       " 'for instance, our websites are able to remember the web pages you    recently viewed, the number of times you visit the forums listed on our websites    or allow you to review the devices you recently compared on our websites  cookies    can also be used to remember changes you have made to text size, fonts and other    parts of our websites that you can customize  cookies may also be used to provide    service you have asked for, such as watching a video on our websites  the collected    information such as your browsing activities on our websites is anonymized and    cannot be tracked by non asus websites ',\n",
       " 'cookies name host popup asus productgroup_relationid asus comparecookiename    asus isbusiness asus recently asus lang asus google tag manager google inc ',\n",
       " \"'category 3  targeting cookies or advertising cookies cookies are    used to deliver advertising that is more relevant to you and your interests by    storing how you use our service  cookies are also used to limit the number of    times you see an advertisement as well as help measure the effectiveness of the    advertising campaigns  asus places cookies by using advertising campaign services,    such as hubrus dsp, google adwords, and google doubleclick  the information cookies    collect is only used between asus and advertising campaign service providers '\",\n",
       " \"'cookie name host google adwords  conversion, and remarketing cookies    google inc '\",\n",
       " 'google doubleclick google inc ',\n",
       " \"'facebook  conversion, and remarketing cookies facebook, inc '\",\n",
       " 'adform adform hubrus dsp hubrus web beacons',\n",
       " 'a web beacon is an often transparent graphic 1x1 (pixel) gif or png    image that is implemented on websites or in an email to measure the effectiveness    of campaigns  asus or our service providers may use web beacons to know if you    visit certain pages or click links on our websites  we may implement web beacons    in our marketing communications such as edms or asus newsletters to know which    communication contents you have clicked or read  we will use the information from    web beacons to improve our websites and service ',\n",
       " 'third party links on our websites our service may contain links to    third party websites  please be aware that asus is not responsible for the security,    the privacy practices and the materials of those third party websites  we encourage    you to be aware of when you leave our service, and to read the privacy statements    of those third party websites carefully  this privacy policy applies to asus service    only ',\n",
       " 'security we take precautions to protect your information against unauthorized    access, alteration, disclosure or destruction  we conduct internal reviews of    our information collection, storage and processing practices and security measures,    as well as physical security measures to guard against unauthorized access to    systems where we store your information ',\n",
       " 'transmission of information between different locations of asus and    its affiliated companies is performed through our secured wide area network  when    you submit your information to us, your information is protected both online and    offline ',\n",
       " \"'however, asus cannot guarantee perfect security on the internet     to protect your data from unauthorized access, we recommend that you  to use alphanumerical    passwords when signing up asus member account  to change your passwords on a regular    basis  to keep your devices up to date by applying the latest available security    updates for your software and use such tools as virus spyware scanners '\",\n",
       " 'if you become aware of a technical vulnerability affecting asus service,    please do not hesitate to contact us through privacy',\n",
       " 'manage your information we want to help you keep your information    accurate  you may view and change your information by logging in your asus member    account and editing your account information ',\n",
       " 'for further inquiries about information asus collect about you, kindly    contact us through privacy',\n",
       " \"'whenever you use our service, we strive to maintain the accuracy    of your data and protect your information against any accidental or malicious    destruction  we will accommodate your requests regarding your data  however, we    may not be able to fulfill all your requests in the following circumstances  as    required or permitted under application laws  for legitimate business purposes     unreasonably repetitive requests that require disproportionate technical efforts    and resources, for example, developing a new system or fundamentally changing    the current practices  potentially risks on the privacy of others '\",\n",
       " \"minor's privacy we do not knowingly collect information from a minor    under the age of thirteen (13), or equivalent minimum age in the relevant jurisdiction,    without parental consent  we encourage parents (or guardian) to take an active    role in a minor's online activities and interests while using our service \",\n",
       " 'if you are a minor, please seek parental consent before your use of    our service  you may submit your information with parental consent to us only     your parents (or guardian) can revoke any consent previously given at all times ',\n",
       " 'sensitive personal information asus will never ask you to provide    sensitive information such as information about your medical or health records,    political or religious beliefs, criminal offences (alleged, or committed), criminal    conviction background, sexual orientation, sexual history, behavior or genetic    information  please refrain from providing us with such information ',\n",
       " 'changes to asus privacy policy we may change the privacy policy from    time to time, we highly recommend you periodically review the privacy policy posted    on our websites  by accessing or using our service after the privacy policy has    been updated, asus will deem that you consent to the privacy policy, including    any updates  the most current version of the privacy policy will always be available    on this page  a prominent notice such as email notification will be delivered    to you about any significant changes  you can always check the \"updated time\"    at the bottom for the most current version of privacy policy ',\n",
       " 'contacting us if you have any inquiries, questions, comments or complaints    about the privacy policy, or if you believe that asus did not comply with the    privacy policy, please feel free to contact us  asustek computer inc ',\n",
       " 'legal compliance department legal affairs center 15, li te rd , taipei    112, taiwan privacy updated march 23, 2016 by asus legal affairs center    want more? sonicmaster tuf asus design center rog asuspro automotive solutions    asus healthcare',\n",
       " 'who we are awards news about asus investor relations about csr for    global press room',\n",
       " 'need help? check repair status find service locations product registration    email us call us security advisory',\n",
       " '\"community global   english terms of use notice privacy policy  xa9     asustek computer inc  all rights reserved \"',\n",
       " 'worldwide sites you have been detected as being from   where applicable,    you can see country specific product information, offers, and pricing ',\n",
       " 'change country language search sign in my account autodesk account',\n",
       " '(includes all subscriptions) a360',\n",
       " 'education community education community need help? visit our sign in    faqs sign out menu products all products collections architecture, engineering,      construction product design media   entertainment autocad autocad lt autocad    mobile 3ds max bim 360 civil 3d flame fusion 360 fusion lifecycle infraworks inventor    maya powermill revit shotgun file viewers all viewers dwg dwf online viewer solutions    industry solutions building information modeling (bim) film   tv game design manufacturing    product design simulation all solutions cloud   collaboration makers   indie designers    3d printing indie game maker makers support   learning support by product system    requirements updates, hotfixes   service packs customer service all customer service    installation, activation, licensing account management events   training classes    on demand events training   certification community resources all communities    blogs developer network forums students   educators services consulting partner    apps downloads free product trials free student software file viewers updates      service packs buy buy or subscribe autodesk store find a reseller special offers    options subscriber benefits maintenance plan benefits support offerings educational    institutions financing about autodesk careers company about us newsroom investor    relations trust center free trials students and educators worldwide sites home    about autodesk legal notices   trademarks privacy statement',\n",
       " \"'legal notices   trademarks maintenance plan, subscription and enterprise    support terms and conditions terms of service  autodesk digital distribution web    services website terms of use privacy statement copyright information trademarks    linking to autodesk export compliance software license agreements terms of service     a360 and other web services code of business conduct partner code of conduct autodesk    terms and conditions governing the provision of consulting services online purchases    and auto renewal terms and conditions legal disclosures autodesk quote and order    direct order terms and conditions'\",\n",
       " \"'autodesk privacy statement updated  february 8, 2017 autodesk has    self certified to the eu u s  privacy shield  please review our privacy shield    notice for more information '\",\n",
       " \"autodesk and you how to use this privacy statement what this privacy    statement covers (and what it doesn't) how to contact us information we receive    from and collect about you information and content that you disclose storage,    retention and deletion of personal information how we use personal information    sharing information inside the autodesk family of companies sharing information    with third parties sharing information with companies, organizations or institutions    with which you are affiliated\",\n",
       " \"security and integrity of personal information changes to this privacy    statement children's privacy policy education and ferpa cookie policy autodesk    and you we're focused on building tools and communities for people who imagine,    design and create great things  you might be a professional, a student, or a design    enthusiast working on something in your personal time  you might be engaging with    us through a mobile device, desktop computer, or your web browser  no matter who    you are or what you do, we appreciate that we've earned your time and attention     we also appreciate that different people have different privacy concerns \",\n",
       " 'how to use this privacy statement this privacy statement tells you    about our online and offline privacy practices ',\n",
       " \"our primary goal is to help you understand what we do (and don't do)    when it comes to your personal information, so we've done our best to be clear     we've provided different ways for you to look up topics of interest to you  as    a result, we may repeat important points \",\n",
       " 'in this statement we refer to our products, online services and web    services, and apps (online, mobile and desktop) as \"applications \" sometimes we    may refer to something specific like a \"website,\" \"mobile application\" or \"online    service\" for clarity ',\n",
       " \"what this privacy statement covers (and what it doesn't) websites    and applications that link to this privacy statement are covered\",\n",
       " 'this privacy statement tells you about our privacy practices for our    websites and applications that include a link or reference to this statement     it also tells you about our marketing and advertising practices, and applies to    our offline practices ',\n",
       " \"sometimes there's more information in context, when you need it\",\n",
       " 'some of our websites and applications may display supplemental privacy    or data collection notices that we share so you can make informed choices about    what you want to do at the time you review the notices  for example, you may see    a notice explaining a data collection program in an application, and your choices    for participating ',\n",
       " 'websites and applications that do not link to this privacy statement    are covered by other privacy policies or statements',\n",
       " \"sometimes, websites and applications owned by autodesk may have their    own privacy statements or policies  for example, we may buy another company to    expand our business, and need some time to fully integrate the company's privacy    practices with the ones we explain here \",\n",
       " 'third parties third parties are responsible for their own privacy    practices  these include social media platforms or other company websites that    we link to from our websites and applications  be sure to read the privacy policies,    supplemental notices, and settings of all websites or platforms that you visit    so you can understand their privacy practices and your options ',\n",
       " 'terms of use, terms of service and software license agreements cover    issues like content',\n",
       " 'websites and applications are subject to terms such as our website    terms of use, application terms of service, and software license agreements  these    terms can help answer questions you may have about the confidentiality and security    of designs and other content you create, and the effect when you share and post    content ',\n",
       " 'how to contact us if you have privacy questions, concerns or complaints    you can contact us by the methods below ',\n",
       " \"'in any correspondence, please include the name of the website or    application about which you are contacting us  contact us through our webform    by email at  privacy questions by postal mail to  privacy questions    autodesk, inc '\",\n",
       " 'the landmark at one market suite 500 san francisco, ca 94105 u s a ',\n",
       " \"'regarding children''s privacy matters, you can also contact us  by    phone at  1 415 547 2288 by email at  for tinkercad  tinkercad parents    for 123d circuits  123dcircuits parents for project ignite  projectignite parents    please note that if you contact us to assist you, for your safety and ours we    may need to authenticate your identity before fulfilling your request '\",\n",
       " \"information we receive from and collect about you we may collect information    about you for a number of purposes  we've broken these down into sections for    easier reference  for some sections we provide links to additional information    that may help answer questions \",\n",
       " '\\'user ids, registration, purchases, and contact with us data supplementation    making purchases contacting us autodesk desktop product activation, connectivity,    and automatic updates websites and applications available on a consumption basis    in application data collection programs our websites and servers, your use of    browsers advertising on our websites and in applications advertising networks    \"do not track\" and similar mechanisms social networking pages social networking    widgets and third party tools user ids, registration, purchases, and contact with    us we collect information that identifies you when you (or someone acting on your    behalf, like an administrator, school or parent)  create a user id to access our    websites or applications (including through social media credentials) create a    user profile register a product or to attend an event make a purchase contact    us for services, support, information or other reasons \\'',\n",
       " 'some information is required, other information is optional ',\n",
       " 'for our customers who make purchases through our channel partners    or ecommerce providers, we will receive personal information about you from these    companies so that we can have an accurate record of applications to which you    have access ',\n",
       " 'please note that if you contact us to assist you, for your safety    and ours we may need to authenticate your identity before fulfilling your request ',\n",
       " 'data supplementation to help keep our databases current and to provide    you with more relevant content, experiences and offerings, we may combine information    you give us with information from public sources and trustworthy companies (such    as our resellers and ecommerce providers, and business contact databases), all    in accordance with applicable law ',\n",
       " 'for example, these sources can tell us about the company size and    industry of our business customers, and also help us maintain the accuracy of    our databases ',\n",
       " 'making purchases when you make purchases through our websites, we    use a payment processor and do not receive credit card or other financial information    (other than confirmation that payment in a certain amount has been made)  we may    collect contact information from you that we pass through to the payment processor    to facilitate the transaction  our e store is run by an ecommerce provider ',\n",
       " \"'you can contact our ecommerce provider and payment vendors as set    forth in their respective privacy policies  digital river bluesnap paypal stripe'\",\n",
       " 'contacting us when you contact us to request services, support or    other information, we may keep a record of the communication to help resolve the    matter you contacted us about and consistent with our rules around data retention ',\n",
       " 'autodesk desktop product activation, connectivity, and automatic updates    we collect system information during the desktop product activation process ',\n",
       " 'many of our desktop applications include features that require online    connectivity to make certain features work  we will collect system information    during these processes  also, if you need to login to access our desktop software    or certain features, this information may be associated with you ',\n",
       " 'you can get more information by reading the terms of service or software    license agreement that applies to the websites or applications you are using ',\n",
       " \"'certain of our desktop applications include features that allow you    to enable automatic updates  where these features are enabled  we may receive    information such as whether the install was successful  for our 2015 professional    products and beyond, we collect information that may identify you to your system    administrator '\",\n",
       " \"'learn more about  desktop product activation'\",\n",
       " \"'websites and applications available on a consumption basis some of    our websites or applications are available on a consumption basis  this means    that you (or the company, organization or institution through which you receive    access)  receive access up to a certain limit pay for access based on your amount    of use'\",\n",
       " 'for these types of websites and applications, we track your usage    against how much access you (or the company, organization or institution through    which you receive access) have been provided or paid for, as applicable ',\n",
       " 'learn more about sharing with your company, organization or educational    institution ',\n",
       " 'in application data collection programs desktop applications',\n",
       " 'some of our applications include specific data collection programs     depending on the application or program, we may associate this data with your    personal information ',\n",
       " 'generally you will see a notice about this data collection in context,    and you can follow the instructions to get more information and learn about your    choices ',\n",
       " \"'here is a list of our most common programs  customer involvement    program (cip) desktop analytics program (dap) customer error reporting (cer) and    similar programs'\",\n",
       " 'for cip and dap, you can change your choice by going to the help,    preferences, or other menu as prompted, opening the program dialogue box, and    following the instructions  for cip and dap, your choice will apply to all autodesk    desktop products installed on your computer ',\n",
       " 'for cer and other error reporting programs, a dialog box will appear    in application after the error has occurred, and you will be told what information    the tool will collect, how it will be sent to us, and any other relevant information    about the tool or its use  you must choose to send us the report  trial, preview    and pre release (beta) applications',\n",
       " 'for trial, preview or beta applications your limited or full participation    in an in application analytics program may be a condition of receiving access    to those products  please review the applicable terms of service, license agreement    and any specific privacy or data collection notice attached to a given application    for more details  if you do not wish to participate please do not use these products     mobile applications',\n",
       " 'we may use the desktop analytics program in our mobile applications     we may also use third party analytics services to support analytics for some of    our mobile applications  for details about a specific mobile application, please    read the about section (ios and microsoft mobile devices) or the legal privacy    section (android devices)  you can opt out of data collection for an application    by following the in application instructions  unless the data collection notice    in about or legal privacy tells you otherwise, the control selection will be located    in the application or device settings (ios devices), the settings menu (android    devices) or the about section (microsoft devices) ',\n",
       " \"'for convenience, here is a non exclusive set of links to the privacy    policies and opt out instructions to services we may use  flurry privacy policy      end user opt out  follow instructions    provided via the notice in our mobile application  alternatively, please go to     or see current instructions in the flurry    privacy policy  mixpanel privacy policy   end user    opt out  follow instructions provided via the notice in our mobile application     alternatively, please go to  or see current instructions    in the mixpanel privacy policy  google analytics (measurement protocol sdk) privacy    policy  www google com policies privacy end user opt out  follow instructions    provided via the notice in our mobile application  cloud services'\",\n",
       " \"'our cloud services require you to login  in addition to providing    you with entry to our systems, we monitor the general access and use of our applications    and cloud services  for example, in order to  provide you with access to features    and activities on our websites and applications confirm your entitlement to use    specific features and services provide customized content and resources based    on your activity improve our sites and applications to better serve you on whatever    device you are using conduct research and analysis to address the performance    of our sites and applications help maintain a secure system, detect fraud and    protect you'\",\n",
       " 'depending on the specific service or features of that service, we    may track usage for billing or other reporting purposes (learn more) ',\n",
       " 'our websites and servers, your use of browsers when you communicate    with us, access our websites and servers through a browser, application, or other    client, our servers automatically collect and record information ',\n",
       " \"'for example, your browser or device may tell us  your browser type    language preference the internet protocol (ip) address (which may tell us generally    where you are located) the type of device or system you used'\",\n",
       " \"'your browser may also tell us information such as  the time and date    of your request the page that led you to our website the search terms you typed    into a search engine that led you to our website, if applicable '\",\n",
       " \"advertising on our websites and in applications our websites and applications    may feature ads for other companies' products and services, as well as ads for    our own applications  we collect information about ad views for reporting purposes    using tools like pixels tags (for example, to see how many total unique views    of an ad there are) \",\n",
       " 'please note that if you choose to click on an ad or participate in    promotions of any third party advertisers via an ad that appears in our website    or application, this is solely between you and the advertiser and your participation    is subject to the terms and conditions associated with that ad or promotion ',\n",
       " \"learn more about how we do (and don't) share information with third    parties \",\n",
       " 'advertising networks we may work with one or more advertising networks    (each an ad partner) who use cookies, pixels tags, or other technologies to collect    information in order to serve you ads and help us track results ',\n",
       " \"'examples of this information may include, but are not limited to     websites you visit mobile apps you use preferences you may provide us as the application    provider (such as language preferences) your ip address (for purposes of determining    your general location) device id, mac address, and browser information'\",\n",
       " \"'this information helps  ensure that appropriate advertising is shown    in the application or on the website calculate and control the number of unique    and repeat views of a given ad deliver ads that relate to your interests measure    the effectiveness of ad campaigns'\",\n",
       " 'some technology enables advertising to be temporarily uploaded onto    your mobile device and then be replaced while you are online ',\n",
       " \"our ad partners deliver ads for us and may combine the information    collected or obtained from us with other information they have independently collected    from other websites and or other online or mobile products and services relating    to your browser's activities across their network of websites \",\n",
       " 'you may opt out of the use of your information by ad partners by using    the network advertising initiative tool  if you delete all cookies, use a different    browser, or use a different computer, you will need to use the tool to renew your    opt out choice ',\n",
       " 'get more information about online advertising from the national advertising    initiative',\n",
       " 'get information about online advertising from the interactive advertising    bureau',\n",
       " '\\'\"do not track\" and similar mechanisms some web browsers may transmit    \"do not track\" signals to websites with which the browser communicates  because    of differences in how web browsers incorporate and activate this feature, it is    not always clear whether users intend for these signals to be transmitted, or    whether they are even aware of them \\'',\n",
       " 'participants in the leading internet standards setting organization    that is addressing this issue are in the process of determining what, if anything,    websites should do when they receive such signals  autodesk currently does not    take action in response to these signals  if and when a final standard is established    and accepted, we will reassess how to respond to these signals ',\n",
       " 'for information about cookies, web beacons and similar technologies,    please read our cookie policy ',\n",
       " 'social networking pages we have pages on many social networking platforms    where you can visit and communicate with us  we may collect information when you    visit our social networking pages, for example if you follow or \"like\" us ',\n",
       " 'be sure to review the privacy and data usage policies of any social    networking platform you use to learn more about its personal information practices    and your options ',\n",
       " 'social networking widgets and third party tools our websites and applications    may include buttons, tools, or content that links to another company\\'s services    (for example, a facebook \"like\" button on a webpage or a google maps feature in    an application)  we may collect information about your use of these features through    our',\n",
       " 'application usage metrics and analytics programs ',\n",
       " \"in addition, when you see or interact with these buttons, tools, or    content, or view our webpage or application containing them, some information    from your browser may automatically be sent to the other company  please read    that company's privacy policy for more information \",\n",
       " 'information and content that you disclose some of our websites and    applications allow you to post \"likes,\" comments, profile information (including    profile images), videos, photographs, images, design files, and other content    that may include or be associated with personal information for others to see ',\n",
       " \"'please keep the following in mind  be thoughtful about what you post    we urge you to be careful and thoughtful when deciding to disclose personal information    on our applications and websites  if you are posting information you do not want    to be disclosed publicly, make sure you are using a website or application that    allows you to control who sees information you have posted '\",\n",
       " 'information you post may be disclosed to others in some cases you    can limit who can view or access information and content you post  in other cases,    the information and content might be available to registered members of the application    or website, or even to the general public  for example, information posted on    area, instructables, or socialcam will be public by default and posted under your    user name ',\n",
       " 'your personal information may be disclosed to others your name, user    name, profile image, or email address (particularly if this is your user name)    may be posted along with any message or other content you post through some of    our applications and websites ',\n",
       " 'if you choose to share personal information in a public post or in    a direct communication to another user through our application platform, the access    limitations, security protocols and other commitments in this privacy statement    will not apply to the information shared ',\n",
       " 'if you close your account after you make public posts on a forum,    the posts may remain up after your account closure  in addition, copies may remain    viewable in cached or archived pages of our websites, or if other end users have    copied or saved the information ',\n",
       " 'please see our section on sharing information with companies, organizations    or institutions with which you are affiliated ',\n",
       " 'profile information we want to be sure the personal information we    maintain is accurate, complete and up to date  you may have the right under applicable    data protection laws to access the personal information that we keep for you,    on request to us, except in certain limited circumstances (for example, where    an applicable law requires us to deny such access) ',\n",
       " 'you can update, correct or delete your profile information by following    the instructions below  also, note that we need to retain certain records for    legal or internal business reasons, and some of your information may remain on    backup systems, in compliance with applicable law ',\n",
       " 'autodesk id  login and make edits to your profile and information    by following the instructions  a sign in help page is available if you have any    problems ',\n",
       " 'contact id  users from japan with a contact id, please use the japan    login page ',\n",
       " 'for websites that do not use autodesk id  login to the applicable    website or application and make changes to your profile and information by following    the instructions ',\n",
       " \"for applications directed to children  please see our children's privacy    policy  for help please contact us    please tell us the specific website or application    you need help with, along with your specific request    please note that if you    contact us to assist you, for your safety and ours we may need to authenticate    your identity before fulfilling your request \",\n",
       " 'removing content you have posted to remove content you have shared    on our websites and applications, please use the same website or application feature    you used to share the content and follow the instructions  an option to remove    content may not always be available directly through the website or application,    for example on forums ',\n",
       " 'where someone has invited you to comment on, or view or edit content    through our websites or applications, you may be able to edit or delete your contributions    directly through the website or application, or the user who has invited your    participation may have control over these options ',\n",
       " 'if you wish to remove content that you have shared, but find that    you are unable to do so directly through the website or application, please contact    us ',\n",
       " 'please also see our section on storage, retention and deletion of    personal information ',\n",
       " 'apis for some websites or applications, we may allow access to certain    content that you have shared, including personal information, through an application    programming interface (api) ',\n",
       " 'learn more about apis ',\n",
       " 'customer controlled services autodesk customers may invite you to    participate in a customer specific site of an application, such as the autodesk    plm360, buzzsaw, or constructware services  the customer site administrator manages    these invitations, and requests to change or update information you provided when    registering should be directed to that site administrator  autodesk acts only    as a service provider to our customers in connection to these applications, and    is not responsible or liable for the use and or disclosure of personal information    about you by such customers ',\n",
       " 'storage, retention and deletion of personal information where we store    personal information we store personal information and data files associated with    you on autodesk servers and servers of companies we hire to provide services to    us ',\n",
       " 'this information may be stored in the united states and in other countries    where autodesk operates, and in countries where our service providers operate ',\n",
       " 'please see the sharing with third parties section for more information    about our practices and requirements we place on service providers ',\n",
       " 'if you are in the european union, switzerland, or other regions with    laws governing data collection and use',\n",
       " 'if you are in the european union, switzerland, or other regions with    laws governing data collection and use, you agree to the transfer to, processing    and storage of your personal information in the united states and other countries,    the privacy laws of which may be considered less strict than those of your region     this consent applies in addition to other legal grounds for transfer, processing    and storage of your personal information, such as for contract fulfillment purposes ',\n",
       " 'see the self regulatory frameworks section for information about our    eu us and swiss us safe harbor certification ',\n",
       " \"'data retention we will keep personal information about you only as    long as we need it  to honor your choices to fulfill the purposes described in    this privacy statement'\",\n",
       " 'as required or permitted by applicable laws and regulations  (for    example, some laws and regulations may require us to retain certain transactional    data )',\n",
       " 'we try to maintain our services in a manner that protects information    from accidental or malicious destruction  because of this, please note that when    you delete information, we may not immediately delete residual copies from our    active servers and may also retain information in our backup systems ',\n",
       " 'destruction of information we take reasonable measures to destroy    or permanently de identify personal information in a secure manner when it is    no longer required  (for example, when the information is printed on paper, we    take reasonable measures to delete or destroy it by shredding or incineration     where the information is stored electronically  we use technical means to render    the information unusable )',\n",
       " 'you may also want to review the security and integrity of personal    information section ',\n",
       " '\\'how we use personal information we strive to use personal information    about you in useful ways, including  for website, application and service related    purposes verifying eligibility to access our websites and applications delivering    services, support or information you have requested for any related purpose that    you would reasonably expect, such as general administrative functions for communications    sending necessary business communications, such as application service packs notices    about upcoming events like an account or subscription expiration date reminders    that you need to take an action such as complete a payment sending platform communications,    such as alerts someone has commented on or \"liked\" a post you have made someone    you follow has made a post someone invites you to join their group or view their    content sending communications with information about us, including newsletters    voluntary surveys new applications special offers or promotions information about    events\\'',\n",
       " 'we may personalize or refine communications content for you based    on the products or services you use, subject to your communications choices  for    example, we may send you \"tips and tricks\" communications designed to help you    use our products or services more efficiently ',\n",
       " 'your communications choices you can subscribe to or unsubscribe from    autodesk commercial communications, using our webform, or follow the unsubscribe    instructions in communications you receive  for websites and applications where    you have a user profile or dashboard, login to your account and change your communications    preferences, or follow the unsubscribe instructions in communications you receive ',\n",
       " 'if you need help please contact us  remember, we may need to contact    you for business reasons so and unsubscribe or opt out from commercial communications    will not affect these business communications  to facilitate introductions or    connections',\n",
       " 'sometimes a company or organization (including ones with which we    have a business relationship) may ask us to make a business introduction to one    or more users of 123dapp com, socialcam, instructables, pixlr, and similar websites    and applications  we may contact you with details to ask if you are interested     we will not share your contact information without your permission  you can say    no to a specific introduction, and you can also ask not to receive requests for    introductions in the future  for measurement, improvement and personalization    measuring and better understanding how our websites and applications are used,    so we can improve them tailoring your overall experience with us, including our    websites, applications and marketing for licensing, safety and security purposes    reducing software piracy and fraud ensuring our applications and websites are    used in compliance with applicable terms of the law, protecting our customers    and end users to help you make informed choices to ask you for a permission in    context (such as a marketing permission, or permission to access certain information    on your mobile device) as explained in any supplemental privacy or data collection    notice for a website or application for sharing we share information within our    family of companies, with third parties and with your company, organization or    educational institution as described below',\n",
       " \"'sharing information inside the autodesk family of companies we may    share your personal information within autodesk or any of our subsidiary companies    worldwide for purposes of  data processing or storage providing you with access    to our websites and applications guiding decisions about websites, applications    and communications for other purposes described in this privacy statement'\",\n",
       " 'autodesk, inc  is the party responsible for the management of the    jointly used personal information, and we and our subsidiaries agree to follow    data privacy principles and procedures that help protect your personal information ',\n",
       " 'sharing information with third parties we may share information about    you with third parties under certain circumstances  when you agree to the sharing',\n",
       " 'we do not share personal information about consumers with third parties    for their own direct marketing purposes unless the consumer agreed to that sharing     service providers',\n",
       " 'we may share information about you with companies, contractors and    agents that help us to run our business  (if you are in europe, you may know these    types of companies as \"data processors \") these companies, contractors and agents    provide services to us like fulfilling orders sending emails to you on our behalf    delivering customer support storage and analytics services processing payments',\n",
       " 'we require these companies, contractors and agents to agree to use    reasonable safeguards to protect information about you  they will have access    to some of your information, limited to what they need to provide services to    us  they are not allowed to use personal information they receive from us for    their own purposes  our channel partners',\n",
       " 'if you are a professional business customer, we may share your personal    information with our channel partners and sales partners for operational purposes,    such as order fulfillment and to confirm information about what applications you    have access to ',\n",
       " 'note that you may receive marketing communications from our channel    partners based on your relationship with them  to comply with legal process, and    address safety and security concerns',\n",
       " \"'we share personal information when  we are required to provide information    to comply with applicable laws, subpoenas, court orders or other legal processes    we have a good faith belief that the disclosure is necessary to prevent or respond    to fraud, defend our websites or applications against attacks, or protect the    rights, property and safety of autodesk, our customers and users, or the public    sale of some or all of our business'\",\n",
       " 'if we merge with another company or if we decide to sell or reorganize    some part or all of our business, assets or stock (including if we file for bankruptcy    or are part of a similar proceeding), we may share personal information  you acknowledge    that such transfers may occur, and that any acquirer of the part of our business,    assets or stock affected may continue to use information about you as set forth    in this privacy statement  aggregated information',\n",
       " 'we may share or publish aggregated information and other information    that does not specifically identify you, such as statistics about the number of    visitors to our websites or about how customers and end users use our applications ',\n",
       " 'please also review our cookie policy ',\n",
       " 'application programming interfaces (apis) we may allow access by third    parties to certain content, including personal information, posted through websites    or applications through an application programming interface (api) ',\n",
       " \"'api access will be mentioned in the applicable terms of service     we place limitations on what third party developers can do with information  you    can find links to the applicable app developer agreement through the applicable    terms of service  for convenient reference, here is a non exclusive list of the    current agreements  socialcam rest api terms'\",\n",
       " 'below is information about your choices ',\n",
       " 'public information access by third party applications on some websites    and applications, content you post is public and cannot be marked as non public    or private  check the posting controls for the specific application or website    you are using ',\n",
       " '\\'where there is an option to mark content as private or otherwise    choose a non public status, and you choose the non public option, third party    developers will not be able to access the following information through a public    information access api  the content (including its title, and public comments    you include with the content)  the name (or pseudonym) associated with your account     the profile image associated with you  the profile url (which may include user    id) for the account  if your content is \"public\" but you do not want developers    to have access to your real name or profile image (for example, if it is a picture    of your face), use a pseudonym or \"handle\" and use a profile image that does not    consist of a picture of you \\'',\n",
       " \"'authenticated access by applications you may choose to use third    party applications that manage your interactions with our websites or applications     for example, third party applications may want to do the following types of activities     manage relationships  to manage user relationships on your behalf, such as follow,    unfollow, block, and unblock people, and to approve people who want to follow    you on our website or application  manage content  to post and remove content    on your behalf  manage likes  to manage likes and similar actions on your behalf     and manage comments  to manage and post comments on your behalf '\",\n",
       " 'we require the app developers to explain what actions they will take    and also what information (including personal information) they need to access    in order to take these actions, and to get your approval  in addition, we require    developers to provide a link to an explanation of their privacy practices ',\n",
       " 'it is your choice to approve or not approve access by these third    party applications ',\n",
       " 'limitations on access by third party applications in both cases described    above, third party application developers are not allowed to use your personal    information for marketing or promotional purposes without your consent, and are    otherwise restricted in their use of your information by the terms of the applicable    app developer agreement ',\n",
       " 'sharing information with companies, organizations or institutions    with which you are affiliated usage information consumption reporting',\n",
       " 'the company, organization or institution through which you have access    to our websites and applications may have set up an agreement with us to receive    usage information (for example, usage reporting for billing purposes), subject    to privacy and employment laws ',\n",
       " 'this usage information may be reported on in aggregated form, or it    may be reported on in various ways, including to the level of individual usage    depending on our agreement with you or the company, organization or institution    through which you receive access, as applicable ',\n",
       " 'you can get more information by reading the terms of service or software    license agreement that applies to the websites or applications you are using,    or by talking to your license or contract administrator  collaboration tools and    features',\n",
       " 'our applications may include collaboration tools that allow others    within and outside of your company, organization or institution to view, share    and comment on a project on which you have been working (including models, designs    or other information)  if you have posted information or comments, for example,    these will be associated with your user name  administrator tools automatic updates',\n",
       " 'we collect information that may identify you to your system administrator    in connection with the automatic update process, to help your administrator determine    what updates you need ',\n",
       " '\\'your system administrator can enable his her ability to view identifying    information  the information collected and which might be shown includes  your    corporate user login name your computer\\'\\'s name or description (for example, \"liu\\'\\'s    desktop\") ferpa support we may provide access to information to an educational    institution with which you are affiliated, or to your parent or legal guardian,    in order to help the school comply with ferpa obligations  coppa compliance please    see our children\\'\\'s privacy policy for information about parent guardian access    to children\\'\\'s information \\'',\n",
       " 'security and integrity of personal information we use a combination    of process, technology and physical security controls to help protect personal    information from unauthorized access, use, or disclosure  when sensitive personal    information is transferred over the internet, we encrypt it using transfer layer    security (tls) encryption technology or similar technology  further, access to    personal information is restricted to those employees, contractors, and agents    of autodesk who need to know such data to perform their assigned functions and    develop or improve our products and services  however, despite our efforts, no    security controls are 100  effective, and we cannot completely ensure or warrant    the security of your personal information ',\n",
       " 'changes to this privacy statement we may update this privacy statement    from time to time  check the \"last updated\" section at the top of this privacy    statement to see the last time the privacy statement was changed ',\n",
       " 'if we decide to make changes to our privacy statement on a forward    going basis, we will tell you and other users by placing a notice on www autodesk com    and or by sending you a notice to the e mail address (if any) we have on file    for you  we may also give you notice through our applications and on our other    websites  you should periodically check www autodesk com, our other websites and    this privacy statement for updates  your continued use of our applications and    websites constitutes your agreement to this privacy statement ',\n",
       " 'for changes to this privacy statement that may be materially less    restrictive on our use or disclosure of personal information you have provided    to us, we will obtain your consent before implementing the change  please contact    us if you have questions ',\n",
       " 'children\\'s privacy policy some of our websites, products and services    (\"applications\") or application features are \"general interest\" applications designed    for older users  we do not knowingly collect personal information from children    in connection with those websites, applications, or features ',\n",
       " \"others applications are appropriate for use by children, and in that    case this children's privacy policy applies  where there is a conflict between    this children's privacy policy and other sections of our privacy statement, this    children's privacy policy sets the standard for how we will treat children's personal    information \",\n",
       " \"'our children''s privacy policy explains  our information collection    practices how we might disclose personal information, and our parental consent    practices'\",\n",
       " 'in accordance with the u s  children\\'s online privacy protection act    (\"coppa\") ',\n",
       " 'coppa applies to information provided online by children under the    age of 13 (\"child\" or \"children\")  for more information about coppa and general    tips about protecting children\\'s online privacy, please visit onguard online ',\n",
       " \"'here are some quick links to help you find information  information    we collect from children, how we use it, and how and when we communicate with    parents registration verifiable parental consent specific activities when information    collected from children is available to third parties parental choices and controls'\",\n",
       " 'information we collect from children, how we use it, and how and when    we communicate with parents',\n",
       " \"here are ways in which we collect personal information from children,    as well as how and when we will provide parental notice and or seek parental consent     in the event we discover we have collected information from a child in a manner    inconsistent with coppa's requirements, we will promptly either delete the information    or seek the parent's consent for that collection \",\n",
       " \"'consistent with what coppa requires, where we have an age screen    in place and we determine the user is age 12 or under, we will  ask for a parent    or guardian email address before we collect personal information from the child,    or offer an age appropriate experience for the child, consistent with coppa requirements,    or not allow access to those sections or features the site or application directed    to a general interest audience (those age 13 and over) '\",\n",
       " '\\'registration where an application is age appropriate, children can    register with our website or application to (among other things)  view, interact    with and download content take tutorials, create, edit, and import content like    or follow other creators and their content comment on others\\'\\' content upload    a photo participate in contests view in application notifications create \"wishlists\"    of items they are interested in (like robotics kits)\\'',\n",
       " \"'during the registration process, we may ask the child to provide    certain personal information for security purposes and so we can send notices    to parents, including  a parent or guardian''s email address the child''s first    name the child''s member or account username, and password'\",\n",
       " 'we also may ask for birth dates from children to validate their ages ',\n",
       " \"'a child''s username will be either  a random combination of words    suggested by our systems, or a child can select their own username, and we suggest    that children not provide any personal information in their usernames'\",\n",
       " \"if a child chooses not to share their personal information (i e ,    a parent or guardian's email for purposes of consent) with us, this limits their    access to account creation and certain features \",\n",
       " 'we will not require a child to provide more information than is reasonably    necessary in order to participate in an online activity ',\n",
       " \"'also, we will keep the information consistent with our retention    practices   that is  to honor your choices to fulfill the purposes described in    this privacy statement  for example  only so long as reasonably necessary to fulfill    the activity request or allow the child to continue to participate in the activity    to help ensure the security of our users and our services as required or permitted    by applicable laws and regulations'\",\n",
       " 'verifiable parental consent depending on the website or application,    we may seek different types of parental consent  in each case, when we ask for    consent we will provide notice about the specific activities available to a child    through the website or application ',\n",
       " '\\'parental consent because our websites and applications include activities    that allow children to create, share and publically post content, to become a    full member we seek \"high level\" consent from a parent as follows  by asking for    a credit card or other payment method for verification (with a nominal charge    involved), or by requiring a signed consent form by mail or email attachment \\'',\n",
       " \"we also require a parent to open their own account so that they can    view and moderate their child's account  for further details, please see parental    choices and controls below \",\n",
       " \"after providing high level consent, we may offer parents the opportunity    to use a pin or password in future communications as a way to confirm the parent's    identity \",\n",
       " 'teacher consent in lieu of a parent for school based activities, coppa    allows teachers and school administrators to act in the place of parents to provide    consent for the collection of personal information from children  schools should    always notify parents about these activities ',\n",
       " 'in some cases, in order that an account is not closed and so that    a child can continue to use a website or application outside of the school context,    we may ask schools to obtain consent directly from a parent instead of and or    in addition to providing consent in the place of a parent ',\n",
       " \"for more information on parental rights with respect to a child's    educational record under the u s  family educational rights and privacy act (ferpa),    please see the ferpa section below \",\n",
       " 'specific activities content generated by a child our websites and    applications include activities that allow children to create or manipulate content    and save it  some of these activities do not require children to provide any personal    information and therefore may not result in notice to the parent or require parental    consent ',\n",
       " 'if an activity potentially allows a child to insert personal information    in their created content, we will seek a \"high level\" parental consent ',\n",
       " 'examples of child created content that may include personal information    are open text fields drawings that allow text or free hand entry of information    uploaded content that includes text, models or images',\n",
       " 'when, in addition to collecting content that includes personal information,    we allow children to share content publicly, we will obtain \"high level\" parental    consent ',\n",
       " 'we honor the requests of minors to delete any content that they post    on our websites and applications, unless we are required by law to retain it     please see the removing content you have posted section for more information ',\n",
       " 'forums and comments certain activities allow users to communicate    directly with other users by means user forums or comments sections  we first    seek \"high level\" parental consent before allowing a child access to such features ',\n",
       " 'we strongly encourage children who use these interactive features    on our websites and in our applications never to provide personal information    about themselves or any third party, and not to attempt to circumvent any moderation    features ',\n",
       " 'we also recommend that parents carefully supervise their children    when the children participate in online activities ',\n",
       " 'contests in all of our contests, we will require only the information    necessary to enter the contest, such as user name and parent email address (to    notify the parent where required by law)  we only contact the parent for more    personalized information for prize fulfillment purposes if the child wins the    contest ',\n",
       " 'email contact with a child in some of our applications, we may collect    online contact information, such as an email address, in order to communicate    with a child who makes a specific request through customer service  for example,    a child may email us to ask for help in understanding how to use a design tool    if she or he is having trouble with  or the child may want to sign up for a monthly    newsletter  here is how we would handle communication requests  one time communication',\n",
       " \"after we respond to the child's question or request, we or our service    provider will delete this information immediately after responding to the question    or request  communicating more than once\",\n",
       " \"'where there is an activity or service where we need to communicate    with a child more than once and we have not already obtained parental consent     if we collect the child''s contact information for ongoing communications (like    for a newsletter), we will also require a parent''s email address (if we have    not already obtained verifiable parental consent) so we can notify the parent    about the collection and use, and to provide the parent with an opportunity to    prevent further contact with the child  if a child is engaged in more than one    ongoing communication, the parent may need to opt out of each communication separately '\",\n",
       " 'persistent identifiers when children interact with us, certain information    may be collected automatically, both to make our sites and applications more interesting    and useful to children and for various purposes related to our business ',\n",
       " \"'examples include  the type of computer operating system the child''s    ip address or mobile device identifier the web browser used the frequency with    which the child visits various parts of our sites or applications information    regarding the online or mobile service provider'\",\n",
       " 'this information is collected using technologies such as cookies,    pixel tags, web beacons, and other unique identifiers  this information may be    collected by autodesk or by a third party  please see our cookie policy for more    details ',\n",
       " \"'this data is used for internal purposes, in order to  provide children    with access to features and activities on our websites and applications customize    content and improve our sites and applications conduct research and analysis to    address the performance of our sites and applications generate aggregated or de identified    reporting for use by autodesk'\",\n",
       " 'in the event we collect (or allow others to collect) such information    from children on our sites and applications for other purposes, we will notify    parents and obtain consent prior to such collection ',\n",
       " 'the list of third party operators who collect persistent identifiers    on our websites and applications may be found at www autodesk com privacy appendix ',\n",
       " 'when information collected from children is available to third parties',\n",
       " \"'in addition to those cases where a child''s personal information    is posted publicly (after receiving high level parental consent), we also may    share or disclose personal information collected from children in a limited number    of instances, including the following  we may share information with our service    providers if necessary for them to perform a business, professional, or technology    support function for us we may disclose personal information if permitted or required    by law, for example, in response to a court order or a subpoena to the extent    permitted by applicable law, we also may disclose personal information collected    from children  in response to a law enforcement or public agency''s (including    schools or children services) request if we believe disclosure may prevent the    instigation of a crime, facilitate an investigation related to public safety or    protect the safety of a child using our sites or applications to protect the security    or integrity of our sites, applications, and other technology, as well as the    technology of our service providers to enable us to take precautions against liability'\",\n",
       " 'please see the sharing with third parties section of our privacy statement ',\n",
       " \"'parental choices and controls at any time, parents can  refuse to    permit us to collect further personal information from their children in association    with a particular account request that we delete from our records the personal    information we have collected in connection with that account'\",\n",
       " 'please keep in mind that a request to delete records may lead to a    termination of an account, membership, or other service and that any content saved    in that account may no longer be accessible ',\n",
       " \"'where a child under 13 has registered for an account, we use two    methods to allow parents to access, change, or delete the personally information    that we have collected from their children  parents can request access to and    delete their child''s personal information by logging into the parent''s moderator    account parents can contact us to request access, a change, or delete their child''s    personal information by sending an email to us at  for tinkercad  tinkercad parents    for 123d circuits  123dcircuits parents for project ignite  projectignite parents\",\n",
       " \"'any other inquiries can be directed to  by email at  privacy questions    by postal mail to  privacy questions autodesk, inc '\",\n",
       " 'the landmark  market suite 500 san francisco, ca 94105 u s a ',\n",
       " \"'regarding children''s privacy matters, by phone at  1 415 547 2288    in any correspondence such as e mail or mail, please include  the name of the    website or application the child''s username the parent''s email address and telephone    number'\",\n",
       " \"to protect children's privacy and security, we will take reasonable    steps to help verify a parent's identity before granting access to any personal    information \",\n",
       " 'education and ferpa if you are using our applications through a school    program, your personal information may be subject to the family educational rights    and privacy act (ferpa)  we have included information here that is most relevant    to our products and services when they are used by schools that are subject to    ferpa  you can look at the u s  department of education website for more information ',\n",
       " 'ferpa is a united states law that provides certain rights with respect    to student education records and personal information associated with those records     parents exercise these rights on behalf of their children under 18  these rights    transfer to the student when he or she reaches the age of 18 or attends a school    beyond the high school (12 th grade) level, known as \"eligible students\" ',\n",
       " \"'ferpa gives parents and eligible students certain rights (subject    to limitations), including  the right to inspect and review the student''s education    records maintained by the school the right to request that a school correct records    which they believe to be inaccurate or misleading '\",\n",
       " \"'as a general rule, schools subject to ferpa must have written permission    from the parent or eligible student in order to release any information from a    student''s education record  however, under certain circumstances schools are    allowed to disclose records without consent, including under the following conditions     to school officials with legitimate educational interest this can include vendors    providing services to schools to other schools to which a student is transferring    directory information (subject to an opt out) to appropriate officials in cases    of health and safety emergencies '\",\n",
       " 'schools are required to notify parents and eligible students annually    of their rights under ferpa  each school can choose how to provide notification    (for example, sending a special letter or including the information in a student    handbook) ',\n",
       " 'we help schools comply with their obligations under ferpa in various    ways, depending on the application being used  this can include obtaining consent    directly from a parent or eligible student and providing them with direct access    to relevant information within our applications, or providing schools with the    ability to manage parent or eligible student requests ',\n",
       " 'cookie policy we use cookies and similar technologies (such as pixel    tags)  here is more information about cookies, as well as your choices  what \"cookies\"    are types of cookies why cookies are useful who sets cookies your choices about    cookies',\n",
       " 'what \"cookies\" are a cookie is a small amount of data that is sent    to a browser from a web server and gets saved on the hard drive of the computer    that you are using (in the browser folders)  cookies collect standard information    from your browser such as browser type browser language the website address you    came from when you visited our website ',\n",
       " 'they may also collect information about your internet protocol (ip)    address your clickstream behavior   this might include the pages you view the    links you click the date and time of your visit or request',\n",
       " 'cookies may uniquely identify your browser or your account, but they    do not necessarily identify you personally  cookies can also be used to help store    personal information, for example where you ask us to \"remember\" you or keep you    logged in ',\n",
       " 'there are session cookies and persistent cookies  session cookies    only last during your session on a website   when you close your browser to end    a session, the cookies end as well  persistent cookies last longer, and are used    to remember things over time, such as your language preference or that you are    a unique user who is returning to a website ',\n",
       " 'to learn more about cookies and other automatic data collection tools,    please visit www allaboutcookies org ',\n",
       " \"'types of cookies we use what you can think of as three different    types of cookies  strictly necessary when you request a service or action through    our websites or applications, these cookies are strictly necessary to  enable    services (for example by letting you stay logged in) provide information that    you requested allow you to use essential features'\",\n",
       " \"'here are some examples   cookies that  make an online shopping cart    work support customer support chat functions improve security or prevent fraud'\",\n",
       " 'if you disable these types of cookies, we may not be able to fulfill    your request ',\n",
       " 'functional and performance you make choices that make your experience    with our websites and applications better for you and allow us to understand how    our end users move around, use and interact with our websites and applications ',\n",
       " 'functional and performance cookies help us remember your choices,    and can improve your overall experience and enhance our services by giving us    non personal, statistical information about the effectiveness of our operations    and promotional campaigns ',\n",
       " \"'here are some examples of when we would use this type of cookie     to remember your language or country preference in marketing emails, so we can    see whether you open them or click on links in them on websites or in online services    to understand how many new and returning users are using them'\",\n",
       " 'if you disable or opt out of these cookies or other technologies,    it may prevent you from using certain parts of our websites and applications,    and it may reduce the support or information that we can provide you ',\n",
       " 'marketing we use these types of cookies to collect information about    your browsing or shopping history in order to tailor relevant marketing according    to how you use our websites and applications ',\n",
       " 'we may share this information with third parties to help create and    deliver advertising personalized to you and your interests ',\n",
       " 'if you disable or opt out of these cookies, it may prevent you from    using certain parts of our websites and applications, and it may prevent us from    offering you some of our services ',\n",
       " '\"why cookies are useful cookies help us remember information that       makes your experience faster and more useful to you  u2026 even if we don\\'t       know exactly who you are \"',\n",
       " '\\'here are a few examples of how cookies can make your experience better     the application or website you use  remembers your language choice keeps stuff    in your shopping cart shows you content that will be more likely to be useful    and interesting to you makes the \"remember me\" option work helps you log in\\'',\n",
       " \"'cookies are useful for us, too  they can let us know things like     how many unique visitors visit our websites whether someone is a new or repeat    visitor which area or content on a particular website was most viewed or downloaded'\",\n",
       " 'who sets cookies we and our service providers (acting on our behalf)    set cookies ',\n",
       " \"third parties may also set cookies that we do not control  for example,    when you make purchases, our ecommerce vendors may use cookies  you can review    our ecommerce vendor's privacy policy and terms of sale at checkout to understand    their practices and your choices \",\n",
       " 'in addition, we may work with one or more advertising networks (each    an ad partner) who use cookies to facilitate interest based advertising on third    party websites  this interest based advertising may include the remarketing of    our products and services that you have viewed on our websites through ads on    third party websites ',\n",
       " 'as a reminder, this privacy statement (including this cookie policy)    does not apply to third party practices ',\n",
       " 'your choices about cookies modify your browser settings you can modify    your browser settings to control whether your computer or other device accepts    or declines cookies  if you choose to decline cookies, as noted above, you may    not be able to use certain interactive features of our websites or applications ',\n",
       " 'delete cookies from your browser you can delete cookies from your    browser  however, that means that any settings or preferences managed by those    cookies will also be deleted and you may need to recreate them  depending on your    mobile device, you may not be able to control tracking technologies through settings ',\n",
       " 'opt out of specific cookies when we send you emails, they might include    a web beacon or similar technology that lets us know if you received or opened    the email and whether you clicked on any of the links in the email  you can opt out    of marketing emails that may use web beacons ',\n",
       " 'you can also opt out of certain functional and performance cookies    that we use on our websites and applications  you will have to opt out for each    browser that you use ',\n",
       " \"'you can view a non exclusive list of opt out options at  www autodesk com privacy appendix    here are some specific examples for ease of reference  we have included links    here for your reference, but please check the companies'' respective sites for    the latest information  google (including google analytics)  privacy opt out (browser    plug in) google ads preferences manager'\",\n",
       " \"'adobe (analytics tools)  follow the opt out instructions in  adobe    privacy center'\",\n",
       " 'mixpanel privacy opt out',\n",
       " \"you can also opt out of receiving marketing advertisements from third    party advertisers and ad networks who are members of the network advertising initiative    or who follow the digital advertising alliance's self regulatory principles for    online behavioral advertising by visiting the opt out pages on their websites \",\n",
       " \"'we have included links here for your reference, but please check    the organizations'' respective sites for the latest information  www networkadvertising org choices    www aboutads info choices  follow autodesk facebook twitter linkedin all social    media'\",\n",
       " 'products free product trials 3d cad software 3d printing civil engineering    construction drafting manufacturing sketching   painting student downloads find    by industry',\n",
       " 'support   learning product support installation, registration   licensing    classes on demand events updates   service packs system requirements help forums    training   certification',\n",
       " 'buy autodesk store find a reseller subscriber benefits support offerings',\n",
       " '\"about autodesk autodesk is a leader in 3d design, engineering and       entertainment software  about us careers contact us investor relations trust       center newsroom suppliers privacy cookies   about our ads   legal notices         trademarks   report noncompliance   site map    xa9 2017 autodesk inc  all rights       reserved\"',\n",
       " '\"when you communicate with us, access our websites and servers through       a browser, application, or other client, our servers do not collect and record       information  _for example, your browser or device information is not collected         u2026 the internet protocol (ip) address (which does not tell us where you       are located)\"',\n",
       " 'in order to view this page correctly, you must have a javascript enabled    browser and have javascript turned on  we apologize for any inconvenience  learn    how to enable it ',\n",
       " 'business new shop now account menu avast products what would you like    to protect? pc   laptop mac android iphone   ipad business education',\n",
       " 'having trouble with your device? online support premium tech support    academy',\n",
       " 'about avast company technology jobs',\n",
       " \"back products for pc security compare premiercomplete, top of the line    protection  internet securityadvanced security for whatever you do online  pro    antivirusexpert protection that's easy on your pc  free antivirusthe world's most    trusted antivirus \",\n",
       " 'privacy securelinehacker proof everything you send or receive ',\n",
       " 'passwordsfinally  security for your passwords ',\n",
       " 'performance cleanupfor a clutter free computer  browser cleanupget    rid of dangerous browser toolbars ',\n",
       " 'products for mac security free mac securitythe most trusted security    for your mac ',\n",
       " 'products for android security free mobile securitysafety in your pocket,    wherever you go ',\n",
       " 'passwords finally  security for your passwords ',\n",
       " 'performance cleanupclean up and speed up your phone  battery saverimprove    your battery life ',\n",
       " 'travel wi fi finderfind fast, secure hotspots near you ',\n",
       " 'products for iphone ipad privacy securelinehacker proof everything    you send or receive  securemehide yourself from hackers on public wifi ',\n",
       " 'tools wi fi finderfind fast, secure hotspots near you  photo spacesave    7x more photos ',\n",
       " 'products for business overview',\n",
       " 'on premise management endpoint protection suite plusall round security    for pcs and servers  most popularendpoint protection suiteantivirus for pcs and    servers  endpoint protection pluscomplete security for corporate pcs  endpoint    protectionantivirus your company can afford ',\n",
       " 'cloud based management avast for businesspremium security for pcs,    macs and servers  avast for educationprotect your school with premium security    for pcs, macs and servers',\n",
       " 'server protection linux securityfortify your linux network  file server    securitypowerful server antivirus  email server securityserver antivirus and anti spam',\n",
       " 'support avast business supportsupport you need for the business you    protect ',\n",
       " 'enterprise solutions avast virtual mobile platformprotect your data,    protect your business ',\n",
       " \"'avast privacy and information security policy outline  scope of policy    information we collect when you visit our website information we collect when    you download or use our programs, request service or support, or pay for products    and services special types of personal information storage, retention, and deletion    of personal information information security compliance with laws and dispute    resolution how to request changes to your personal information'\",\n",
       " '\\'i  scope of policy this avast privacy and information security policy    applies to avast software s r o   (\"avast\"), and all of its contractors, representatives,    agents, and resellers while they are working on behalf of avast (collectively    \"we\" or \"us\")  avast software s r o  is a data controller of personal data processed    in accordance with this policy  this policy applies to the following situations    and activities that we engage in  online activities \\'',\n",
       " 'this means situations in which you or the users of your device or    computer (collectively \"you\") visit a website that we own or operate including    www avast com, or other websites under our direct control  this also includes    circumstances where you download an avast product or program or use an avast service    online, regardless of the site where you downloaded or use it, or who owns or    operates that site  it also refers to interactions between your computer and us    such as automatic updates, and our avast online security, avast filerep, and avast    communityiq features ',\n",
       " 'phone contacts ',\n",
       " 'this includes calls for sales, service, or customer support  this    policy will apply to any information that is collected from you when you call    us ',\n",
       " 'offline contacts ',\n",
       " 'sometimes we may appear at a \"live\" or in person event such as a trade    show or promotion  if we collect any personally identifiable information in such    a case, this policy will apply ',\n",
       " 'reseller information ',\n",
       " 'this refers to information that is collected from prospective avast    resellers at the time they apply to join the avast reseller program  certain information    may be collected regarding the reseller or its individual representative(s), including    contact information such as telephone number and email address  similar information    may be obtained regarding sub resellers, where applicable ',\n",
       " 'other circumstances where you contact us ',\n",
       " 'this includes contact by email, by clicking the \"report a virus\" link    on our website, through our media contact or news subscription services, by requesting    online service or support or opening a support ticket, and any other time that    you contact us ',\n",
       " 'when we refer to \"personally identifiable information,\" \"personal    data,\" or \"personal information,\" we mean information that can identify you such    as name, identification number, email address, phone number, or other information    that refers specifically to you  we generally do not mean information that only    refers to a business or organization but does not describe any specific individual     we also generally do not mean information that has been \"anonymized,\" or stripped    of all identifiers that refer to you specifically ',\n",
       " 'ii  information we collect when you visit our website use of \"cookies\"    and other similar technologies ',\n",
       " '\\'cookies  when you visit our website, our server may place a small    data file called a \"cookie\" (sometimes called \"web cookie\" or \"browser cookie\")    on your hard drive  most commercial websites use cookies  by using our site you    agree to the use of cookies as described in this privacy policy  the data we acquire    from cookies is processed by various analytics tools and may be used to determine    your geographic location (via your ip address and automated geolocation techniques),    or to acquire basic information about the computer, tablet, or mobile phone that    you use to visit us  geolocation data helps us to deliver content in the correct    language, offer region  or country specific products, and identify your local    currency in the event of a purchase  cookies can help you log in by remembering    your user credentials (depending on which options you select in your profile settings)     we may also use cookies to record your shopping cart contents and user registration    information  cookies can help us identify your preferences, including language    and currency, for future use  cookies usually expire within 30 60 days \\'',\n",
       " 'through our cookies we may at times collect anonymized information    in order to improve the accuracy of our services  we may also use cookies to collect    anonymous information regarding downloads of our products from download site(s)     this information is used only for statistical purposes, and no personal information    is collected or stored  if you wish, you can disable cookies on your web browsing    software  click the \"help\" tab in your browser window for more information ',\n",
       " \"'remarketing  in addition to foregoing we may employ 3rd party remarketing    services  remarketing is a way for us to reconnect with users, based upon your    past interactions with the avast website  third party marketing vendors may be    hired by avast to perform remarketing services  as a result, third party vendors,    including google, may show avast ads on sites on the internet  third party vendors,    including google, use cookies to serve ads based on a user''s prior visits to    avast website  to opt out of customized google display network ads visit the ads    preferences manager  alternatively, you can opt out of third party vendors'' use    of cookies by visiting the network advertising initiative opt out page  any information    collected is used only for remarketing purposes and will not be used by third party    marketing vendors for any other purpose '\",\n",
       " \"'google analytics, adobe sitecatalyst and firebase analytics  in addition    to the foregoing, we currently use three analytics tools  google analytics, adobe    sitecatalyst and firebase analytics '\",\n",
       " 'google analytics and adobe sitecatalyst help us understand the use    of our site by our visitors  because google analytics and adobe sitecatalyst require    cookies to function, users who wish to avoid tracking by google analytics and    adobe sitecatalyst while on our site can disable cookies on their web browsing    software (see above) ',\n",
       " 'google analytics is a web analytics service provided by google, inc     (\"google\")  google analytics uses \"cookies\" to help the website analyze how users    use the site  the information generated by the cookie about your use of the website    (including your ip address) will be transmitted to and stored by google on servers    in the united states  google will use this information for the purpose of evaluating    your use of the website, compiling reports on website activity for website operators    and providing other services relating to website activity and internet usage     google may also transfer this information to third parties where required to do    so by law, or where such third parties process the information on google\\'s behalf     google will not associate your ip address with any other data held by google     you may refuse the use of cookies by selecting the appropriate settings on your    browser, however please note that if you do this you may not be able to use the    full functionality of this website  by using this website, you consent to the    processing of data about you by google in the manner and for the purposes set    out above ',\n",
       " \"'the adobe sitecatalyst service is part of the adobe digital marketing    suite  adobe sitecatalyst uses cookies to help us collect and process non personal    information about how our visitors use our site including the number of unique    visits, average time spent on particular pages, the identity of the referring    webpage or domain, the search terms (if any) that led to our site, technical information    such as web browsers and operating systems of our visitors, and cookie preferences    and java enablement  additional information on the privacy practices of adobe    sitecatalyst, including instructions on how to remove cookies or opt out of receiving    future persistent cookies, is available here  \",\n",
       " \"firebase analytics is a mobile analytics services also provided by    google and governed by the firebase analytics terms of service  this service helps    avast understand our users and how they use avast's apps including information    about interactions with the user's mobile applications  firebase analytics uses    identifiers for advertising on mobile applications (for example, android advertising    id and advertising identifier for ios), and we will collect the aaid and aiios    to understand our users, but users who wish to opt out of the aaid and aiios advertisement    tracking can do so through device advertising settings for mobile apps and users    who wish to avoid tracking by firebase analytics can opt out in application settings     data collected will be transmitted to and stored by google on servers globally \",\n",
       " \"'crash reporting  we currently use two crash reporting services on    our mobile applications  firebase crash reporting provided by google and fabric    crashlytics provided by twitter, inc  to enhance your user experience and to improve    the stability of mobile applications, avast uses crash reporting services to collect    information about the devices that you use and your use of our applications (for    example the timestamp of when you launched the application and when the crash    occurred) which enables us to diagnose and resolve problems  if you do however    wish to opt out of this data collection via firebase crash reporting and fabric    crashlytics, you can do so via the application settings in our mobile applications     the data collected will be transmitted to and stored by google (firebase crash    reporting) and by twitter (fabric crashlytics) on servers globally '\",\n",
       " 'news subscriptions ',\n",
       " 'our website offers news and information by subscription including    newsletters, blogs, or others  if you decide to subscribe to these services you    may be asked to provide your first and last name, email address, and country of    residence  if you subscribe to our \"reports and bloggers\" email newsletter (for    media professionals), you will be asked to provide your first and last name, email    address, title, publication name, and country  the information you provide will    be used to deliver the content that you request  we will never use this information    for direct marketing purposes unless you agree on a case by case basis (also known    as \"opting in\")  we may use the information you provide to help develop content    that is relevant to our professional media audiences  you are free to cancel your    subscription(s) at any time by visiting www avast com news subscription php?page unsubscribe ',\n",
       " '\\'\"refer a friend \" there may be times when we post a \"refer a friend\"    link that allows a site visitor to request that we send a message to a friend    about an avast product or service  you may request us to send a message only to    those of your friends who have agreed to receive a message about an avast product    or service from us  we will respond by sending a single email message to the address    provided  contact with the friend will be by email only  we will never request    that our users provide a friend\\'\\'s phone number or other contact information     we will not make any record of the email address that is provided, and after sending    a single message we will not contact the friend again in response to the \"refer    a friend\" request \\'',\n",
       " '\\'\"contact us \" there are many opportunities to contact us via our    website  there are links that allow you to reach us by email, by clicking a \"report    a virus\" link, by clicking our media contact or news subscription buttons, or    by requesting online service or support  in addition, u s  users may be able to    request a free in person presentation with avast security experts using a form    on our \"community\" pages  in general, the amount of information that we collect    when you contact us will be in proportion to the nature of the contact  for example,    if you contact us by email, we will require your email address in order to reply \\'',\n",
       " '\\'\"community\" pages \\'',\n",
       " '\\'one of the features of our website is the \"community\" section  this    section includes a comments area, links to user pages, links to blogs, links to    the avast forum, and links to third party sites such as twitter and facebook     when you use any of the features of our \"community\" section the following provisions    will apply  user comments  you may post a general comment in the \"overview\" section    of the \"community\" pages using your facebook, yahoo!, hotmail, or aol user id     in such a case, the user id that appears beside your comment will be the user    id for the service that you have selected (facebook, etc )  if you have a primary    photo connected with your user id, that photo will appear beside your user comment     clicking on a thumbnail or profile link from our \"community\" pages will take you    to the third party site from which the thumbnail or link was imported (for example,    facebook)  your use of a user id from a third party site is governed by the terms    and conditions of the third party, but must also comply with our terms and conditions     the section below entitled \"third party content and sites\" will apply \\'',\n",
       " '\\'sweepstakes and promotions  we may sometimes offer sweepstakes, giveaways,    or other promotions from the \"community\" pages  in that case, we will use the    information we receive for purposes of the promotion and no other purpose  we    will never use your information for direct marketing purposes unless you \"opt    in\" on a case by case basis  all other terms and conditions applicable to the    promotion will be in the official rules that we publish \\'',\n",
       " 'avast forum ',\n",
       " 'the avast forum is accessible from the \"community\" pages or \"support\"    section of our website  certain features require registration in order to participate ',\n",
       " 'if you decide to register, you will be asked to select a username,    password, and physical location  disclosing your physical location is optional     you will also be required to provide an email address for use in connection with    avast forum  you may allow other users to send you messages if you wish ',\n",
       " '\\'once registered for avast forum you may control your privacy settings    by visiting your \"profile\" page  you can modify your settings at any time  you    can also view your past posts, usage stats, password settings, and user profile    as seen by others  you have the option to provide additional information if you    wish  you may provide personal text  disclose your birth date and age  identify    your gender, icq number, messenger username, or website name and address  disclose    your physical location  and select an avatar or personalized picture  any information    you provide here will be visible to other users  the following minimum items of    information will be available to all users, regardless of your profile settings     your username, your total number of posts and posts per day, the date and time    you registered, your local time, and the date and time of your last activity \\'',\n",
       " 'support portal ',\n",
       " 'you may also join the support portal at support avast com  certain    features require registration in order to participate  registration for the support    portal is separate from registration for avast forum  when you register for the    support portal you will be asked to provide your full name and email address,    and select a password  no other information is required to register  this information    is not shared with other users ',\n",
       " 'avast account ',\n",
       " 'avast account (my avast com) is a tool which permits you to register    multiple products using a single registration and authentication system  if you    choose to use avast account you will be asked to provide your first name, last    name, and email address  you will also be asked to select a password  we may use    this information for purposes of validating your license, providing support, delivering    additional products and services, and enabling you to change your avast account    and or product settings ',\n",
       " 'third party content and sites ',\n",
       " 'there may be times when we offer links to third party sites such as    twitter, facebook, or others ',\n",
       " 'third party links are provided for convenience only, and should not    be construed as an endorsement, approval, or guarantee of any such third party    sites or the content they offer  we may also offer links to join us on facebook,    twitter, or other third party sites  if you click on such a link and navigate    away from our site, your use of the third party site will be governed by the terms    and conditions, privacy policy, and information security policy of the third party    site ',\n",
       " 'occasionally thumbnails and user profiles (including your primary    photo) from these sites will be imported onto our \"community\" pages, as is the    case if you post a comment that is linked to your facebook profile  clicking on    such a thumbnail or profile link will take you away from the avast website to    a third party site (for example, facebook)  by connecting from our website to    any third party site, you agree that we are not responsible for any loss or damage    you may suffer as a result of your dealings with the third party, or your use    of or reliance on any of that party\\'s content ',\n",
       " 'iii  information we collect when you download or use our programs,    request service or support, or pay for products and services',\n",
       " 'free product downloads generally ',\n",
       " 'you are not required to disclose any personal information in order    to download avast free antivirus, avast free mac security, or avast free mobile    security, and you are permitted to use these programs up to 30 days without registration     within 30 days, you are required to register your copy of avast free antivirus,    avast free mac security, or avast free mobile security in order to continue using    these programs for up to 12 months  after 12 months re registration is required     the first time you set up the program you will be required to select a language,    and you will be asked if you want to participate in the avast community by enabling    your computer to provide security related information on an as needed basis  participation    in avast community is purely voluntary ',\n",
       " '\\'online product registration  to register our products online, you    are generally required to provide your email address and select a password  we    use this information to validate our users and verify the number of current licenses    in existence  we may also use it to verify that copies of our product are legitimate,    and not counterfeit  we will not use this information for direct marketing purposes    unless you \"opt in\" to receive such communications from us, except that we may    notify you of similar products or services that we offer to the extent that we    are permitted to do so by law  we may send you an email if your license expires    to ask if you want to renew  we may also request additional information such as    your name, demographic information, or other information  this information generally    is not required, but you may provide it if you wish \\'',\n",
       " '\\'in product registration  if you prefer, instead of online registration    you may select \"registration form\" from within the product interface  the registration    form will request your email address and ask you to select a password  we may    also ask general demographic questions such as your level of computer experience    or your prior antivirus program  any information other than your email address    and password is optional \\'',\n",
       " \"'avast account  in some cases, you may be permitted to register multiple    avast products using a single registration and authentication system called avast    account  if you choose to use avast account you will be asked to provide your    first name, last name, and email address  you will also be asked to select a password     we may use this information for purposes of validating your license, providing    support, delivering additional products and services, and enabling you to change    your avast account and or product settings  in the future this information may    also be connected with your registration for avast forum and the support portal '\",\n",
       " \"'registration and log in via facebook  in addition to the foregoing,    it is possible to register avast free antivirus and to sign in to avast account    via facebook  if you choose this method for registration and sign in, you will    be asked to share certain information from your facebook account with avast  this    information will include your first and last name, your profile picture, your    gender, your network(s), your friends'' user ids, and any other information that    you made public in your facebook preferences  you will also be required to share    your email address with us  of the foregoing information, we store only your first    and last name, network(s), and email address  we do not store any other user information    that we obtain from facebook  any of the above information that we store is kept    in our internal database, using ssl technology and under minimum 256 bit key encryption     we do not allow access to any of this information to third parties '\",\n",
       " '\\'if you choose facebook as your registration or sign in method, you    will be asked for permission for avast to take certain actions on your behalf     specifically, we will request permission to post on your behalf in the following    cases  (1) you register or install an avast product  (2) you update an avast program     or (3) an avast program protects you from visiting an infected website  the messages    that might be posted in such cases could include the following, or similar messages     (1) \"avast antivirus just saved my computer from infection! try it now  it\\'\\'s    free \"\\'',\n",
       " '(2) \"my avast antivirus just updated, with powerful new security features     download it for free  you\\'ll love it \"',\n",
       " '(3) \"i just installed avast antivirus for free  i really like it     if you want the best protection, download avast like i did \"',\n",
       " 'you are not required to agree to allow avast to post on your behalf     if you do not wish to allow avast to post these messages, click \"skip\" at this    stage in the registration process  you can modify your posting preferences at    any time via my avast account (',\n",
       " 'data collected by specific products ',\n",
       " \"'some of our product offerings are required to collect additional    information in order to deliver full product functionality, such as information    about websites that you have visited and files on your computers  in general,    we collect no more information than is required in order to provide full functionality    of these products  specific products, and the types of information that they collect    when you use them, are as follows  avast free antivirus, avast pro antivirus,    avast internet security, avast free mac security, avast pro antivirus for mac,    avast endpoint protection, avast endpoint protection suite, avast endpoint protection    plus, and avast endpoint protection suite plus include the following features    or collect the following types of information  (1) avast communityiq  avast communityiq    is a community based service that provides avast security experts with data taken    from the actual web browsing experiences of avast product users  participation    is voluntary  data acquired by avast communityiq is used to update our databases    of viruses and infected websites, and for other statistical purposes, and may    include '\",\n",
       " 'urls of visited websites, together with the information on the nature    of identified threats (e g , viruses, trojans, tracking cookies, and any other    forms of malware) and urls of several sites visited before the infection was identified     this information is collected to ascertain the source of the infection  information    and files (including executable files) on your computer identified by the avast    software as potentially infected, together with the information about the nature    of identified threats  information about the sender (not including personal information)    and subject of emails identified by the avast software as potentially infected,    together with the information on the nature of identified threats  additional    statistical information about threats detected by the avast software ',\n",
       " \"'(2) avast filerep  avast filerep is a database of executable files    sourced from users who agree to participate in the service  the files (or their    hashes   i e , deidentified versions of the files) are stored and evaluated for    the purpose of determining which are infectious and updating virus databases     participation in avast filerep is voluntary, and data is not stored in a way that    permits it to be associated with particular users  no user is required to agree    to participate in the avast filerep service '\",\n",
       " \"'(3) avast online security  avast online security is a browser plug in    which collects opinion information provided by users, and provides a reputation    rating in the form of a visual icon that appears next to websites that appear    in search results  the reputation rating is based on the votes of avast online    security participants  participation is voluntary  if the avast online security    function is active, the avast software may send avast the urls of websites you    visit and the results of your web searches through search engines '\",\n",
       " \"'(4) avast antispam  avast antispam is a module that is designed to    protect users against unwanted emails (spam)  the software may collect information    contained in emails reported by you as spam or as incorrectly identified as spam    by the software  (5) update statistics  in order to better understand the usage    of updating infrastructure, the software also collects information about all updates    to the avast software (including automatic updates), including certain information    about your computer hardware and software configuration and or network connection,    as well as certain information about the installation and operation of the avast    software and errors or problems that are encountered '\",\n",
       " \"'(6) offering of our mobile products  when you download or update    our product, we may use information contained in third party cookies on your computer,    such as information about the operating system on your mobile devices and related    email address  we will use this information only for the purpose of offering you    our mobile products such as avast free mobile security and, in case you agree,    installing them on your device(s)  then we will maintain this information only    for statistical purposes '\",\n",
       " \"'avast business security  if you are using any avast products modified    for avast business security, we we will also collect, additionaly to data listed    in this privacy policy under free products and or avast secureline vpn, user details    and company information such as company name, phone numbers and address '\",\n",
       " '\\'avast backup  avast backup provides backup and storage capabilities    for personal data that otherwise would reside only on your computer\\'\\'s hard drive     in order for avast backup to work, data on your hard drive must be transferred    to a centrally hosted site so that it can be \"backed up \" if your hard drive contains    personal information, that information will be transferred to the host site for    storage and subsequent retrieval  techniques used to protect this information    during storage and transmission are described below in the section entitled \"storage    of information \" the avast backup service is provided by a third party under contract    with avast, and the privacy policy, terms of service, and end user license agreement    (eula) of the third party apply to any information that users provide in connection    with the avast backup service \\'',\n",
       " \"'avast creditalert  avast creditalert monitors the use of your social    security number, driver''s license number, credit cards, and bank account numbers    in order to prevent identity theft   and detect it quickly if it occurs  in order    for this service to function, you must share this information with us, and we    must keep copies of this information to help detect potential identity theft     the avast creditalert service is provided by a third party under contract with    avast, and the privacy policy, terms of service, and end user license agreement    (eula) of the third party apply to any information that users provide in connection    with the avast creditalert service '\",\n",
       " \"'avast free mobile security  avast free mobile security for android    is a security application for devices running android  the ams application scans    your device, the wi fi you are connected to and your android operating system    for infected files, unwanted privacy phishing, malware, spyware and even security    issues in wireless networks  for this purpose, we collect information from your    device and android os, including crash data, current language country code, anonymous    identification of avast user, and identified threats or visited urls  we do not    collect your personally identifiable information as part of the ams scanning     as a part of our wi fi security functionality we collect technical information    about the hotspot you are connected to including hotspot location  as a part of    our call blocker functionality, we collect call logs including guids and telephone    numbers blacklisted by the end user and telephone numbers extracted from your    contact list  you can opt out from the wi fi location collection and calls logs    collection in app settings  finally, as with other avast programs, we may collect    your email and ip address when purchasing the ams in an app store '\",\n",
       " \"'avast antitheft  avast antitheft for android provides certain remote    access and control functions designed to protect data residing on your mobile    phone in the event of theft  in order for these functions to operate, our program    must collect and store information about your phone and approved users  the types    of data we collect includes the following, without limitation  (a) a list of approved    sim cards, (b) a phone number to notify you in the event of unauthorized sim card    replacement, and (c) a number where calls and messages can be forwarded in the    event of theft '\",\n",
       " \"'avast secureline  when you use the avast secureline virtual private    network (vpn) service, the server may capture certain basic data such as the time    and network location from which the vpn connection was made and the duration of    the vpn connection  this information is routinely deleted within 30 days  in addition,    the system may store data on the bandwidth transferred per session '\",\n",
       " '\\'avast passwords  avast passwords is a standalone program or feature    that stores user passwords and notes under a single master password and permits    the user to log on to multiple sites using a unitary sign on credential  on windows,    avast passwords forms an integral part of avast antivirus (avast free antivirus,    avast pro antivirus, avast internet security, avast endpoint protection, avast    endpoint protection suite, avast endpoint protection plus, and avast endpoint    protection suite plus), which can be activated by the user by either performing    a smart scan or by opening the feature in the product menu  on other platforms    (android, ios and mac) avast passwords is a standalone program  when activated,    avast passwords will check whether you have stored any passwords via your browser    and will suggest you to move these passwords to avast passwords, where they are    stored securely  when you choose do so, avast passwords will upload those passwords    and remove them from your browser  please note that the browser check happens    locally on your device and no passwords are sent to the avast servers  user passwords    are stored locally on your devices encrypted by the avast passwords application     if you choose to activate the optional feature \"synchronisation   backup\", your    passwords and notes will be backed up on a remote server in securely encrypted    form, which cannot be decrypted by us \\'',\n",
       " \"'avast call blocker  avast call blocker for ios automatically identifies    or blocks incoming spam calls  it is based on avast''s proprietary algorithm running    on avast''s servers using crowdsourced data coming from  a) ams users'' call blocker    feature (see details in ams privacy policy), b) spam numbers reported through    the call blocker app by users, c) publicly available sources  the algorithm identifies    spam numbers and provides them to your ios device through apple''s callkit extension '\",\n",
       " \"avast call blocker has no access to any of the incoming phone calls,    phone numbers or contact lists on your ios device  blocking of spam calls is managed    by ios operating system itself by comparing incoming phone calls' numbers with    the spam database created by avast's algorithm \",\n",
       " \"'cleanup  cleanup is a bootable linux based antivirus program that    removes tough malware  in order to use it, the following information must be stored     (a) your name, surname, email address, password hash, originating ip address,    display name and number of scanned systems  (b) scanned systems history including    data about operating system, hostnames and usernames of the systems, patch level,    system health, hardware information (including cpu), graphics card information,    hard drive information, system hard drive boot sectors, system''s hard drive volume    headers  (c) system data information  list of computer software installed, directory    listing of software, registry name and entries, registry hives and executables     (d) wifi connection security information, i e  the used level of the connection''s    encryption '\",\n",
       " \"'safeprice  when you use safeprice, information related to certain    shops or products (including but not limited to product name, identifier, article    number and price) will be transferred to avast  this information is used to retrieve    available offers (e g  coupons or cheaper prices) from partners of third parties    cooperating with avast  avast requests offers anonymously from those third parties    and will not transfer or disclose pii to them  certain third party''s partners service    providers may also use cookies in relation to services they provide on or via    safeprice  for example, when you click on an offer presented within the product,    a cookie may be placed on your computer  third party third party''s partner service    provider sites, offers and or cookies are not controlled by us and are not subject    to this privacy policy '\",\n",
       " '\\'avast wi fi finder  avast wi fi finder for ios and android provides    information about free hotspots with internet  it is based on crowdsourced data,    meaning that every user willingly contributes to the database  we pair the hotspot    name you mark as public with the location of your device in order to show it on    the map to other users  for this purpose, we collect and share with other avast    wi fi finder users  a) location of the device when you use \"submit a hotspot\",    b) names of hotspots you submit to the database, c) some technical information    about the network (speed, signal strength, security assessment, frequency and    mac address, ip address of the device, d) avast user identifier and hardware identifier    and e) hotspot passwords \\'',\n",
       " \"'avast battery saver  avast battery saver is an application aimed    to help its users to identify what''s running in the background, speed up their    device, and save the battery of the device  in order to improve the product, avast    collects names of the applications of the device stopped by the user '\",\n",
       " \"'other products  there may be other products (current or future) that    require that we collect certain types of personal information in order to enable    full product functionality  we will always inform you prior to collecting any    such information, usually in the terms of service or end user license agreement    (eula) applicable to the product in question '\",\n",
       " 'we reserve the right to store and use the information collected by    the avast software and to share such information within the avast group in order    to improve the avast group\\'s current and future products and services, to help    the avast group develop new products and services, and to better understand the    behavior of avast users  we may publish or share that information with third parties    that are not part of the avast group, but we will only ever do so after removing    our users\\' personally identifiable information  any reference in this policy to    \"avast group\" means avast, its parent companies and any company that is controlled    by or under common control with avast or its parent companies ',\n",
       " 'in product messaging ',\n",
       " '\\'we sometimes communicate with our users using a technique known as    \"in product messaging \" in product messaging may be used in the following scenarios     (1) when a user\\'\\'s license is about to expire  (2) when a user chooses to update    or upgrade an avast program  (3) when a virus database is updated  (4) when a    user visits an infected webpage  (5) when a monthly security report is prepared    for the user  or (6) in other cases where user communication is necessary  we    may also sometimes use in product messaging to notify users of new products or    upgrades to existing products and services  the avast program on the user\\'\\'s machine    initiates a secured request to the avast server using  protocol  the avast    server takes the appropriate action and sends a return message to the avast program,    which displays a corresponding message to the user (for example, a message that    the virus database has been updated)  personal information is generally not exchanged    using this process except to the extent necessary to perform a transaction  in product    messaging also permits the computers or devices of our users to transmit information    to our servers including technical data, virus definitions, security, and technical    information about the users\\'\\' hardware  this information is used for statistical    purposes, product updates, quality control, and in product and feature design     this information is stored in a way that is not associated with a particular user     in the future, avast account information may be exchanged using this procedure \\'',\n",
       " 'when you use our services or request support ',\n",
       " 'we may at times collect personally identifiable information from you    in the course of providing our services or support  this information may be collected    from you verbally, from your computer, or via electronic communication (including    communications between your computer and us, or other automated communications)     if you request support we may offer you the option of accepting a remote session    in which we take control of your device or computer  in such a case we may acquire    information via communication between your computer and ours ',\n",
       " 'this information is collected to help us provide the service or support    that you have requested ',\n",
       " 'we may at times request personal information such as name, home or    work address, email address, telephone or mobile phone number(s), or other information    by which we may identify you  this information is collected for identification    purposes, and to confirm that transactions with you are legitimate and not with    an imposter  we will not use this information for direct marketing purposes unless    you \"opt in\" to receive such communications, except that we may notify you of    similar products or services that we offer to the extent that we are permitted    to do so by law  if you contact us for support, or initiate a transaction with    us, we may suggest that you upgrade or update products or services  we may also    contact you if your product license has expired or is about to expire ',\n",
       " 'in cases where you request individual support or assistance we may    also ask you to provide information about your device or computer, your means    of accessing the internet, or your internet service provider  this information    may include, without limitation, your email address, ip address, information about    your hardware and software, the urls of sites you have visited, files stored on    your computer (including potentially dangerous or infected files), email messages    (whether stored on your computer or elsewhere), information regarding senders    and receivers of email messages, and the like  this information is collected to    help us to provide services and support, to identify and remove computer viruses,    and to help us solve your technology problem(s)  for purposes of this section    we will use any such information only when providing individual support or assistance    at your request, and will not retain such information any longer than necessary    for this purpose  this information will not be stored in a way that identifies    you personally in any record that we keep of your request for assistance ',\n",
       " 'when you pay for products or services  when you purchase \"premium\"    (or paid) products or services from us, the billing is generally handled by a    third party service provider  in most cases the service provider is acting as    our reseller  thus, you will be making your purchase from the service provider    directly, and not from avast  the handling of your personal information will be    governed by any privacy policy or terms of service published by the service provider ',\n",
       " 'the service provider may request billing information such as your    name, home or work address, email address, telephone or mobile phone number(s),    plus payment information including credit card number, expiration date, name of    your issuing bank, and the like  the purpose of this information is to enable    payment for products or services that you order  the third party service provider    may transmit some of your personal information to us, but not including payment    information, unless you specifically agree (as may be the case in the event of    a purchase with auto renewal)  we may use the information we receive (not including    payment information) to verify your registration or license status, to contact    you about the status of your account, or for renewal of your subscription, if    applicable ',\n",
       " 'in all cases where your payment data is processed by a third party    service provider, we have determined that the service provider follows data privacy    and security procedures that we deem adequate  some of these third party service    providers are subject to the enhanced data privacy rules of the european union     others have registered for, and certified compliance with, the so called \"safe    harbor\" framework of the u s  department of commerce for the handling of personal    information  in all cases, such third party service providers have executed agreements    with us promising not to use personal information of our users for their own marketing    purposes, and not to share this information with other parties ',\n",
       " ...]"
      ]
     },
     "execution_count": 25,
     "metadata": {},
     "output_type": "execute_result"
    }
   ],
   "source": [
    "list_corpus"
   ]
  },
  {
   "cell_type": "code",
   "execution_count": 26,
   "metadata": {
    "collapsed": true
   },
   "outputs": [],
   "source": [
    "nn = Sequential()\n",
    "nn.add(Dense(116*2, activation=\"relu\", input_shape=(13863,)))\n",
    "nn.add(Dense(116, activation=\"sigmoid\"))"
   ]
  },
  {
   "cell_type": "code",
   "execution_count": 27,
   "metadata": {
    "collapsed": true
   },
   "outputs": [],
   "source": [
    "nn.compile(optimizer='adam', loss='binary_crossentropy', metrics=['accuracy'])"
   ]
  },
  {
   "cell_type": "code",
   "execution_count": 28,
   "metadata": {},
   "outputs": [
    {
     "data": {
      "text/plain": [
       "(12405, 13863)"
      ]
     },
     "execution_count": 28,
     "metadata": {},
     "output_type": "execute_result"
    }
   ],
   "source": [
    "X_train_counts.shape"
   ]
  },
  {
   "cell_type": "code",
   "execution_count": null,
   "metadata": {
    "collapsed": true
   },
   "outputs": [],
   "source": [
    "y_train_np = np.array(y_train)"
   ]
  },
  {
   "cell_type": "code",
   "execution_count": 43,
   "metadata": {},
   "outputs": [
    {
     "name": "stdout",
     "output_type": "stream",
     "text": [
      "Epoch 1/10\n",
      "12405/12405 [==============================] - 80s - loss: 0.0736 - acc: 0.9904    \n",
      "Epoch 2/10\n",
      "12405/12405 [==============================] - 78s - loss: 0.0178 - acc: 0.9957    \n",
      "Epoch 3/10\n",
      "12405/12405 [==============================] - 76s - loss: 0.0112 - acc: 0.9966    \n",
      "Epoch 4/10\n",
      "12405/12405 [==============================] - 77s - loss: 0.0080 - acc: 0.9974    \n",
      "Epoch 5/10\n",
      "12405/12405 [==============================] - 76s - loss: 0.0060 - acc: 0.9982    \n",
      "Epoch 6/10\n",
      "12405/12405 [==============================] - 76s - loss: 0.0046 - acc: 0.9986    \n",
      "Epoch 7/10\n",
      "12405/12405 [==============================] - 77s - loss: 0.0037 - acc: 0.9990    \n",
      "Epoch 8/10\n",
      "12405/12405 [==============================] - 76s - loss: 0.0029 - acc: 0.9993    \n",
      "Epoch 9/10\n",
      "12405/12405 [==============================] - 88s - loss: 0.0024 - acc: 0.9994    \n",
      "Epoch 10/10\n",
      "12405/12405 [==============================] - 81s - loss: 0.0020 - acc: 0.9995    \n"
     ]
    },
    {
     "data": {
      "text/plain": [
       "<keras.callbacks.History at 0x1261c1390>"
      ]
     },
     "execution_count": 43,
     "metadata": {},
     "output_type": "execute_result"
    }
   ],
   "source": [
    "nn.fit(X_train_counts.toarray(), y_train_np)"
   ]
  },
  {
   "cell_type": "markdown",
   "metadata": {},
   "source": [
    "### How to serialize model???"
   ]
  },
  {
   "cell_type": "code",
   "execution_count": 84,
   "metadata": {
    "collapsed": true
   },
   "outputs": [],
   "source": [
    "from keras.models import load_model"
   ]
  },
  {
   "cell_type": "code",
   "execution_count": 90,
   "metadata": {
    "collapsed": true
   },
   "outputs": [],
   "source": [
    "#with open('../pickles/count_vec_for_nn.pckl', 'wb') as p:\n",
    "#    pickle.dump(count_vectorizer, p, protocol=pickle.HIGHEST_PROTOCOL)"
   ]
  },
  {
   "cell_type": "code",
   "execution_count": 85,
   "metadata": {
    "collapsed": true
   },
   "outputs": [],
   "source": [
    "#with open('../pickles/nn_first_trial_model_116_class.pckl', 'wb') as p:\n",
    "#    pickle.dump(nn, p, protocol=pickle.HIGHEST_PROTOCOL)\n",
    "nn.save('nn_model_first_trial.h5')  # creates a HDF5 file 'my_model.h5'\n",
    "#del model  # deletes the existing model\n",
    "\n",
    "# returns a compiled model\n",
    "# identical to the previous one"
   ]
  },
  {
   "cell_type": "code",
   "execution_count": 86,
   "metadata": {},
   "outputs": [
    {
     "data": {
      "text/plain": [
       "<keras.models.Sequential at 0x12bd94b00>"
      ]
     },
     "execution_count": 86,
     "metadata": {},
     "output_type": "execute_result"
    }
   ],
   "source": [
    "nn_reloaded = load_model('nn_model_first_trial.h5')\n",
    "nn_reloaded"
   ]
  },
  {
   "cell_type": "code",
   "execution_count": 46,
   "metadata": {
    "collapsed": true
   },
   "outputs": [],
   "source": [
    "y_predicted = nn.predict(X_test_counts.toarray())"
   ]
  },
  {
   "cell_type": "code",
   "execution_count": 47,
   "metadata": {},
   "outputs": [
    {
     "data": {
      "text/plain": [
       "array([[2.87770908e-05, 7.36305155e-05, 3.41565174e-05, ...,\n",
       "        1.08058675e-05, 2.98756186e-05, 1.85941157e-04],\n",
       "       [8.94761115e-07, 4.61964778e-09, 9.99308014e-08, ...,\n",
       "        6.94010474e-15, 2.51306051e-06, 1.09351265e-12],\n",
       "       [7.44289253e-04, 1.51752010e-05, 1.19719749e-04, ...,\n",
       "        2.67973927e-08, 3.52591509e-04, 3.66935637e-07],\n",
       "       ...,\n",
       "       [1.95454104e-05, 2.69577782e-07, 2.78468463e-07, ...,\n",
       "        2.97366382e-10, 1.95109460e-04, 6.52633902e-09],\n",
       "       [4.13416181e-08, 7.92093008e-13, 1.19366730e-08, ...,\n",
       "        4.02038005e-15, 3.22571594e-07, 5.16796189e-16],\n",
       "       [1.28508880e-04, 1.05030404e-06, 6.34936259e-06, ...,\n",
       "        2.19358043e-09, 1.84488614e-04, 3.35593228e-07]], dtype=float32)"
      ]
     },
     "execution_count": 47,
     "metadata": {},
     "output_type": "execute_result"
    }
   ],
   "source": [
    "y_predicted"
   ]
  },
  {
   "cell_type": "code",
   "execution_count": 54,
   "metadata": {},
   "outputs": [
    {
     "data": {
      "text/plain": [
       "array([ 19,   4,   1,   0,  20,   3,   1,   0,   3,   0,   0,   0, 136,\n",
       "        28,   5,   2,  20,   6,   1,   1,  53,  12,   3,   0,  21,   5,\n",
       "         2,   1,   4,   0,   3,   0,  12,   2,   7,   0,  24,  10,   1,\n",
       "         0,  13,   5,   0,   0,  23,   4,   5,   0,   1,   0,   9,   1,\n",
       "         5,   1, 134,   2,  72,   4,  46,   5,  29,   2,   7,   2,   3,\n",
       "         0,   0,   0,   0,   0,  76,   8,  37,   5,   9,   4,   3,   2,\n",
       "         8,   1,   0,   0,   3,   0,   0,   0,   0,   0,   0,   0,  68,\n",
       "        12,  25,   3,   3,   2,   0,   1,   9,   0,   3,   0,  13,   3,\n",
       "         1,   0,   9,   0,   4,   0,   6,   5,   1,   1,  39,   5])"
      ]
     },
     "execution_count": 54,
     "metadata": {},
     "output_type": "execute_result"
    }
   ],
   "source": [
    "sum(y_predicted>0.5)"
   ]
  },
  {
   "cell_type": "code",
   "execution_count": 57,
   "metadata": {},
   "outputs": [
    {
     "data": {
      "text/plain": [
       "array([ 14,   0,   1,   0,  19,   2,   0,   0,   2,   0,   0,   0, 108,\n",
       "        18,   3,   0,  12,   3,   0,   1,  45,  10,   2,   0,  16,   3,\n",
       "         1,   0,   3,   0,   2,   0,   7,   2,   5,   0,  19,   6,   1,\n",
       "         0,  10,   4,   0,   0,  16,   3,   3,   0,   1,   0,   7,   0,\n",
       "         4,   0, 110,   1,  60,   1,  34,   3,  23,   2,   5,   0,   0,\n",
       "         0,   0,   0,   0,   0,  63,   3,  28,   2,   5,   0,   3,   1,\n",
       "         6,   0,   0,   0,   3,   0,   0,   0,   0,   0,   0,   0,  55,\n",
       "         6,  15,   0,   1,   1,   0,   0,   6,   0,   3,   0,   9,   2,\n",
       "         1,   0,   6,   0,   2,   0,   5,   2,   1,   0,  33,   4])"
      ]
     },
     "execution_count": 57,
     "metadata": {},
     "output_type": "execute_result"
    }
   ],
   "source": [
    "sum(y_predicted>0.75)"
   ]
  },
  {
   "cell_type": "code",
   "execution_count": 58,
   "metadata": {},
   "outputs": [
    {
     "data": {
      "text/plain": [
       "array([ 24,   5,   2,   0,  25,   9,   1,   0,   3,   0,   0,   0, 165,\n",
       "        37,   7,   2,  30,  10,   2,   1,  75,  19,   5,   0,  25,  14,\n",
       "         2,   2,   6,   3,   3,   0,  14,   5,   8,   0,  29,  14,   3,\n",
       "         0,  21,   8,   1,   0,  27,   8,  10,   1,   1,   0,  11,   3,\n",
       "        12,   1, 162,   2,  95,   7,  57,  11,  36,   4,  10,   2,   3,\n",
       "         0,   0,   0,   0,   0,  92,  16,  45,  11,  15,   5,   6,   4,\n",
       "        11,   1,   0,   1,   3,   0,   0,   0,   0,   0,   0,   0,  90,\n",
       "        18,  33,   7,   5,   4,   1,   1,  12,   0,   4,   0,  18,   6,\n",
       "         3,   1,   9,   1,   4,   0,  10,   6,   3,   2,  52,   7])"
      ]
     },
     "execution_count": 58,
     "metadata": {},
     "output_type": "execute_result"
    }
   ],
   "source": [
    "sum(y_predicted>0.25)"
   ]
  },
  {
   "cell_type": "code",
   "execution_count": 56,
   "metadata": {},
   "outputs": [
    {
     "data": {
      "text/plain": [
       "array([ 33.,   5.,   4.,   0.,  39.,   9.,   2.,   0.,  10.,   0.,   2.,\n",
       "         0., 179.,  44.,  20.,   9.,  35.,  10.,   1.,   0.,  88.,  36.,\n",
       "         8.,   8.,  47.,  21.,   6.,   6.,  15.,   3.,   8.,   1.,  30.,\n",
       "         4.,  14.,   2.,  46.,  13.,   8.,   2.,  32.,   9.,   7.,   1.,\n",
       "        35.,   8.,  14.,   2.,   4.,   2.,  23.,   9.,  17.,   5., 173.,\n",
       "        10.,  92.,   9.,  64.,  19.,  29.,   8.,   9.,   6.,   5.,   4.,\n",
       "         2.,   1.,   0.,   0.,  94.,  26.,  40.,  11.,  12.,   8.,   7.,\n",
       "         5.,  17.,   4.,   0.,   0.,   6.,   1.,   0.,   1.,   0.,   1.,\n",
       "         2.,   0., 110.,  36.,  34.,  10.,  13.,   7.,   6.,   1.,  14.,\n",
       "         6.,   7.,   3.,  31.,   9.,   8.,   2.,  17.,   4.,   8.,   2.,\n",
       "        21.,   9.,   8.,   2.,  46.,   8.])"
      ]
     },
     "execution_count": 56,
     "metadata": {},
     "output_type": "execute_result"
    }
   ],
   "source": [
    "sum(y_test)"
   ]
  },
  {
   "cell_type": "markdown",
   "metadata": {},
   "source": [
    "### Try on out of sample"
   ]
  },
  {
   "cell_type": "code",
   "execution_count": 59,
   "metadata": {
    "collapsed": true
   },
   "outputs": [],
   "source": [
    "import urllib\n",
    "from bs4 import BeautifulSoup"
   ]
  },
  {
   "cell_type": "code",
   "execution_count": 62,
   "metadata": {
    "collapsed": true
   },
   "outputs": [],
   "source": [
    "def get_html_from_url(url):\n",
    "    html = urllib.request.urlopen(url).read()\n",
    "    return html\n",
    "\n",
    "def get_sentences_from_html(html):\n",
    "    '''\n",
    "    Clean-up raw html\n",
    "    return a list of sentences\n",
    "    '''\n",
    "    soup = BeautifulSoup(html, 'html.parser')\n",
    "    \n",
    "    # kill all script and style elements\n",
    "    for script in soup(['script', 'style']):\n",
    "        script.decompose()    \n",
    "\n",
    "    # get text\n",
    "    text = soup.get_text()\n",
    "\n",
    "    # break into lines and remove leading and trailing space on each\n",
    "    lines = (line.strip() for line in text.splitlines())\n",
    "    \n",
    "    # break multi-headlines into a line each\n",
    "    chunks = (phrase.strip() for line in lines for phrase in line.split(\"  \"))\n",
    "    \n",
    "    # drop blank lines\n",
    "    text = '\\n'.join(chunk for chunk in chunks if chunk)\n",
    "    sentences_all = text.split('\\n')\n",
    "    sentences = [sen for sen in sentences_all if len(sen)>100]\n",
    "    \n",
    "    return sentences\n",
    "\n",
    "def standardize_text(df, text_field):\n",
    "    '''Clean-up text column to prepare for tokenization\n",
    "    \n",
    "    Removes unwanted characters &\n",
    "    Replaces them with spaces or blanks\n",
    "    --\n",
    "    Input\n",
    "    + pandas dataframe\n",
    "    + name of text column\n",
    "    \n",
    "    Returns\n",
    "    + pandas dataframe with cleaned column\n",
    "    '''\n",
    "    df[text_field] = df[text_field].str.replace(r\"http\\S+\", \"\")\n",
    "    df[text_field] = df[text_field].str.replace(r\"http\", \"\")\n",
    "    df[text_field] = df[text_field].str.replace(r\"@\\S+\", \"\")\n",
    "    df[text_field] = df[text_field].str.replace(r\"[^A-Za-z0-9(),!?@\\'\\`\\\"\\_\\n]\", \" \")\n",
    "    df[text_field] = df[text_field].str.replace(r\"@\", \"at\")\n",
    "    df[text_field] = df[text_field].str.lower()\n",
    "    return df"
   ]
  },
  {
   "cell_type": "code",
   "execution_count": 61,
   "metadata": {},
   "outputs": [
    {
     "data": {
      "text/plain": [
       "41"
      ]
     },
     "execution_count": 61,
     "metadata": {},
     "output_type": "execute_result"
    }
   ],
   "source": [
    "seriously_policy = get_html_from_url('http://www.seriously.com/privacy-notice/')\n",
    "seriously_sentences = get_sentences_from_html(seriously_policy)\n",
    "len(seriously_sentences)"
   ]
  },
  {
   "cell_type": "code",
   "execution_count": 63,
   "metadata": {},
   "outputs": [
    {
     "data": {
      "text/plain": [
       "['Seriously respects your right to privacy.\\xa0 This Privacy Notice explains who we are, how we collect, share and use personal information about you, and how you can exercise your privacy rights. This Privacy Notice applies to personal information that we collect through our games (“Games“) and website at https://bestfiends.com/ (“Website“) (together “Services”).',\n",
       " 'If you have any questions or concerns about our use of your personal information, then please contact us using the contact details provided at the bottom of this Privacy Notice.',\n",
       " 'We recommend that you read this Privacy Notice in full to ensure you are fully informed.\\xa0 However, if you only want to access a particular section of this Privacy Notice, then you can click on the relevant link below to jump to that section.',\n",
       " 'Seriously is a game development studio with offices in Helsinki, Finland and Los Angeles, CA, United States.',\n",
       " 'For more information about Seriously, please see the Company section of our Website at https://www.seriously.com/company/',\n",
       " 'The personal information that we may collect about you through the Services broadly falls into the following categories:',\n",
       " 'Information That You Provide Voluntarily\\xa0Certain parts of our Services may ask you to provide personal information voluntarily: for example, we may ask you to provide your contact details in order to register an account with us, to begin playing Games, to subscribe to marketing communications from us, and/or to submit enquiries to us.\\xa0 The personal information that you are asked to provide, and the reasons why you are asked to provide it, will be made clear to you at the point we ask you to provide your personal information.',\n",
       " 'Information That We Collect Automatically\\xa0When you use our Services, we may collect certain information automatically from your device. This information may be considered personal information under applicable data protection laws.Specifically, the information we collect automatically includes information like your IP address, device type, unique device identification numbers, browser-type, broad geographic location (e.g. country or city-level location) and other technical information.\\xa0 We may also collect information about how your device has interacted with our Services, including the games played and the pages of our Website accessed.Collecting this information enables us to better understand the visitors who come to our Website, where they come from, and what content on our Website is of interest to them.\\xa0 We use this information for our internal analytics purposes and to improve the quality and relevance of our Website to our visitors.',\n",
       " 'Information That We Obtain from Third Party Sources\\xa0From time to time, we may receive personal information about you from third party sources (including Facebook), but only where we have checked that these third parties either have your consent or are otherwise legally permitted or required to disclose your personal information to us.The types of information we collect from third parties include your name and friend list, and we use the information we receive from these third parties to provide features like in-game friends, in-game gifts, and competitive leaderboards.',\n",
       " 'To our group companies, third party services providers and partners\\xa0who provide data processing services to us (for example, to support the delivery of, provide functionality on, or help to enhance the security of our Website), or who otherwise process personal information for purposes that are described in this Privacy Notice or notified to you when we collect your personal information. A more detailed list of information shared can be found on our page “About your privacy” which is available here https://www.seriously.com/about-your-privacy/. A full list of our current partners in the EU is:',\n",
       " 'Apple Store is used to provide you the Games as well as to provide in-app purchases; Game Center provides Achievements in the Games.',\n",
       " 'A service we use to determine how you learned about the Game and helps us improve our user acquisition targeting.',\n",
       " 'Facebook Games is used to provide you the Game as well as in-app purchases. In the mobile version of the game, Facebook is used for social services and personalized ads if you are logged into Facebook in the Game. Analytics.',\n",
       " 'Google is a Google Play store provider which enables in-app purchases. \\xa0Google Play Services allows us to provide achievements and leaderboards.',\n",
       " 'Amazon is used to provide you the Game as well as to provide in-app purchases; Game Circle provides Achievements in the Game.',\n",
       " 'We use Inbox Marketer’s system, CONNECT, to send newsletters and store emails of people who have opted in to receive our newsletters.',\n",
       " 'An advertising agency that helps us provide potential customers with relevant advertising materials on social media.',\n",
       " 'A database service which we use to analyze game metrics. The data is stored and processed using Amazon Web Services.',\n",
       " 'To a competent law enforcement body, regulatory, government agency, court or other third party\\xa0where the disclosure is required and necessary (i) as a matter of mandatory applicable law or regulation and/or valid court order, (ii) to exercise, establish or defend our legal rights, or (iii) to protect your vital interests or those of any other person;',\n",
       " 'To a potential or actual buyer\\xa0(and its agents and advisers) in connection with any proposed or actual purchase, merger or acquisition of any part of our business, provided that we inform the buyer it must use your personal information only for the purposes disclosed in this Privacy Notice;',\n",
       " 'Our legal basis for collecting and using the personal information described above will depend on the personal information concerned and the specific context in which we collect it.',\n",
       " 'However, we will normally collect personal information from you only (i) where we need the personal information to perform a contract with you, (ii) where the processing is in our legitimate interests and not overridden by your rights, or (iii) where we have your consent to do so.',\n",
       " 'If we ask you to provide personal information to comply with a legal requirement or to perform a contract with you, we will make this clear at the relevant time and advise you whether the provision of your personal information is mandatory or not (as well as of the possible consequences if you do not provide your personal information).',\n",
       " 'We will process your information for the purposes of operating our Website, Games and other Services and communicating with you as necessary for those purposes and in our legitimate commercial interests, for instance, when responding to your queries, undertaking marketing activities, improving our Games, Website and other Services, or for the purposes of detecting or preventing illegal activities.',\n",
       " 'If you have questions about or need further information concerning the legal basis on which we collect and use your personal information, please contact us via email privacy@seriously.com.',\n",
       " 'We use appropriate technical and organizational measures designed to protect the personal information that we collect and process about you.\\xa0 The measures we use are designed to provide a level of security appropriate to the risk of processing your personal information. Specific measures we use are, for example, encrypting your personal information in transit and at rest, only collecting vital data, as well as ensuring access to the data is restricted internally and externally.',\n",
       " 'Your personal information may be transferred to, and processed in, countries other than the country in which you are a resident.\\xa0 These countries may have data protection laws that are different to the laws of your country.',\n",
       " 'Specifically, our servers are located in United States, and our group companies and third party service providers and partners operate around the world. This means that when we collect your personal information we may process it in any of these countries.',\n",
       " 'However, we have taken appropriate safeguards to require that your personal information will remain protected in accordance with this Privacy Notice. All third parties that are located outside of EEA are certified under “Privacy Shield” (framework for EU-USA data transfer) or employ European Commission’s Standard Contractual Clauses for transfers of personal information between our group companies, which require all group companies to protect personal information they process from the EEA in accordance with European Union data protection law.',\n",
       " 'We retain personal information we collect from you where we have an ongoing legitimate business need to do so (for example, to provide you with a service you have requested or to comply with applicable legal, tax, or accounting requirements).',\n",
       " 'When we have no ongoing legitimate business need to process your personal information, we will either delete or anonymise it or, if this is not possible (for example, because your personal information has been stored in backup archives), then we will securely store your personal information and isolate it from any further processing until deletion is possible.',\n",
       " 'If you wish to access, correct, update or request deletion\\xa0of your personal information, you can do so at any time by contacting us using the contact details provided under the “How to contact us” heading below.',\n",
       " 'In addition, in certain cases, you can object to processing\\xa0of your personal information, ask us to restrict processing\\xa0of your personal information, or request portability\\xa0of your personal information. Again, you can exercise these rights by contacting us using the contact details provided under the “How to contact us” heading below.',\n",
       " 'You have the right to opt-out of marketing communications\\xa0we send you at any time. You can exercise this right by clicking on the “unsubscribe” or “opt-out” link in the marketing e-mails we send you.\\xa0 To opt-out of other forms of marketing (such as postal marketing or telemarketing), then please contact us using the contact details provided under the “How to contact us” heading below.',\n",
       " 'Similarly, if we have collected and processed your personal information with your consent, then you can withdraw your consent\\xa0at any time.\\xa0Withdrawing your consent will not affect the lawfulness of any processing we conducted prior to your withdrawal, nor will it affect processing of your personal information conducted in reliance of lawful processing grounds other than consent.',\n",
       " 'You have the right to complain to a data protection authority\\xa0about our collection and use of your personal information. For more information, please contact your local data protection authority.',\n",
       " 'We respond to all requests we receive from individuals wishing to exercise their data protection rights in accordance with applicable data protection laws.',\n",
       " 'We may update this Privacy Notice from time to time in response to changing legal, technical, or business developments. When we update our Privacy Notice, we will take appropriate measures to inform you, consistent with the significance of the changes we make.\\xa0 We will obtain your consent to any material Privacy Notice changes if and where this is required by applicable data protection laws.',\n",
       " 'You can see when this Privacy Notice was last updated by checking the “last updated” date displayed at the top of this Privacy Notice.',\n",
       " 'If you have any questions or concerns about our use of your personal information, please contact us using the following email address: privacy@seriously.com',\n",
       " 'If you want to exercise your rights in relation to personal data that we have collected, please contact us through the Game by going to Settings -> Support -> Contact Us, or, if you are unable to contact us through the Game, by using the following email address: support@seriously.com. Contacting us through the game is the preferred method of contact as it will enable us to more accurately validate your request.']"
      ]
     },
     "execution_count": 63,
     "metadata": {},
     "output_type": "execute_result"
    }
   ],
   "source": [
    "seriously_sentences"
   ]
  },
  {
   "cell_type": "code",
   "execution_count": 67,
   "metadata": {
    "collapsed": true
   },
   "outputs": [],
   "source": [
    "#df_oos = pd.DataFrame(seriously_sentences,columns=['text'])\n",
    "#df_oos = standardize_text(df_oos, 'text')\n",
    "#oos_list = df_oos['text'].tolist()"
   ]
  },
  {
   "cell_type": "code",
   "execution_count": 69,
   "metadata": {},
   "outputs": [
    {
     "data": {
      "text/plain": [
       "'seriously respects your right to privacy   this privacy notice explains who we are, how we collect, share and use personal information about you, and how you can exercise your privacy rights  this privacy notice applies to personal information that we collect through our games ( games ) and website at  ( website ) (together  services ) '"
      ]
     },
     "execution_count": 69,
     "metadata": {},
     "output_type": "execute_result"
    }
   ],
   "source": [
    "oos_list[0]"
   ]
  },
  {
   "cell_type": "code",
   "execution_count": 70,
   "metadata": {
    "collapsed": true
   },
   "outputs": [],
   "source": [
    "df_oos = pd.DataFrame(seriously_sentences,columns=['text'])\n",
    "df_oos = standardize_text(df_oos, 'text')\n",
    "oos_list = df_oos['text'].tolist()\n",
    "X_oos = count_vectorizer.transform(oos_list)"
   ]
  },
  {
   "cell_type": "code",
   "execution_count": 71,
   "metadata": {},
   "outputs": [
    {
     "data": {
      "text/plain": [
       "<41x13863 sparse matrix of type '<class 'numpy.int64'>'\n",
       "\twith 1339 stored elements in Compressed Sparse Row format>"
      ]
     },
     "execution_count": 71,
     "metadata": {},
     "output_type": "execute_result"
    }
   ],
   "source": [
    "X_oos"
   ]
  },
  {
   "cell_type": "code",
   "execution_count": 74,
   "metadata": {
    "collapsed": true
   },
   "outputs": [],
   "source": [
    "y_oos = nn.predict(X_oos.toarray())"
   ]
  },
  {
   "cell_type": "code",
   "execution_count": 82,
   "metadata": {},
   "outputs": [
    {
     "data": {
      "text/plain": [
       "array([0, 0, 0, 0, 0, 0, 0, 0, 0, 0, 0, 0, 3, 0, 0, 0, 0, 0, 0, 0, 0, 0,\n",
       "       0, 0, 1, 0, 0, 0, 0, 0, 0, 0, 0, 0, 0, 0, 0, 0, 0, 0, 0, 0, 0, 0,\n",
       "       0, 0, 0, 0, 0, 0, 0, 0, 0, 0, 0, 0, 0, 0, 1, 0, 0, 0, 0, 0, 0, 0,\n",
       "       0, 0, 0, 0, 1, 0, 0, 0, 0, 0, 0, 0, 0, 0, 0, 0, 0, 0, 0, 0, 0, 0,\n",
       "       0, 0, 1, 0, 0, 0, 0, 0, 0, 0, 1, 0, 0, 0, 0, 0, 0, 0, 1, 0, 0, 0,\n",
       "       0, 0, 0, 0, 1, 0])"
      ]
     },
     "execution_count": 82,
     "metadata": {},
     "output_type": "execute_result"
    }
   ],
   "source": [
    "practiced_policies = sum(y_oos>0.5)\n",
    "practiced_policies"
   ]
  },
  {
   "cell_type": "code",
   "execution_count": 81,
   "metadata": {},
   "outputs": [
    {
     "data": {
      "text/plain": [
       "0"
      ]
     },
     "execution_count": 81,
     "metadata": {},
     "output_type": "execute_result"
    }
   ],
   "source": [
    "policy_indices = {}\n",
    "i = 0 \n",
    "for pol in policy_targets:\n",
    "    policy_indices[pol] = i\n",
    "    i+=1\n",
    "policy_indices['Contact_1stParty_PERFORMED']"
   ]
  },
  {
   "cell_type": "code",
   "execution_count": 92,
   "metadata": {
    "collapsed": true
   },
   "outputs": [],
   "source": [
    "#with open('../pickles/nn_models/policy_indices.pckl', 'wb') as p:\n",
    "#    pickle.dump(policy_indices, p, protocol=pickle.HIGHEST_PROTOCOL)"
   ]
  },
  {
   "cell_type": "code",
   "execution_count": 91,
   "metadata": {},
   "outputs": [
    {
     "data": {
      "text/plain": [
       "{'Contact_1stParty_PERFORMED': 0,\n",
       " 'Contact_1stParty_NOT_PERFORMED': 1,\n",
       " 'Contact_3rdParty_PERFORMED': 2,\n",
       " 'Contact_3rdParty_NOT_PERFORMED': 3,\n",
       " 'Contact_Address_Book_1stParty_PERFORMED': 4,\n",
       " 'Contact_Address_Book_1stParty_NOT_PERFORMED': 5,\n",
       " 'Contact_Address_Book_3rdParty_PERFORMED': 6,\n",
       " 'Contact_Address_Book_3rdParty_NOT_PERFORMED': 7,\n",
       " 'Contact_City_1stParty_PERFORMED': 8,\n",
       " 'Contact_City_1stParty_NOT_PERFORMED': 9,\n",
       " 'Contact_City_3rdParty_PERFORMED': 10,\n",
       " 'Contact_City_3rdParty_NOT_PERFORMED': 11,\n",
       " 'Contact_E_Mail_Address_1stParty_PERFORMED': 12,\n",
       " 'Contact_E_Mail_Address_1stParty_NOT_PERFORMED': 13,\n",
       " 'Contact_E_Mail_Address_3rdParty_PERFORMED': 14,\n",
       " 'Contact_E_Mail_Address_3rdParty_NOT_PERFORMED': 15,\n",
       " 'Contact_Password_1stParty_PERFORMED': 16,\n",
       " 'Contact_Password_1stParty_NOT_PERFORMED': 17,\n",
       " 'Contact_Password_3rdParty_PERFORMED': 18,\n",
       " 'Contact_Password_3rdParty_NOT_PERFORMED': 19,\n",
       " 'Contact_Phone_Number_1stParty_PERFORMED': 20,\n",
       " 'Contact_Phone_Number_1stParty_NOT_PERFORMED': 21,\n",
       " 'Contact_Phone_Number_3rdParty_PERFORMED': 22,\n",
       " 'Contact_Phone_Number_3rdParty_NOT_PERFORMED': 23,\n",
       " 'Contact_Postal_Address_1stParty_PERFORMED': 24,\n",
       " 'Contact_Postal_Address_1stParty_NOT_PERFORMED': 25,\n",
       " 'Contact_Postal_Address_3rdParty_PERFORMED': 26,\n",
       " 'Contact_Postal_Address_3rdParty_NOT_PERFORMED': 27,\n",
       " 'Contact_ZIP_1stParty_PERFORMED': 28,\n",
       " 'Contact_ZIP_1stParty_NOT_PERFORMED': 29,\n",
       " 'Contact_ZIP_3rdParty_PERFORMED': 30,\n",
       " 'Contact_ZIP_3rdParty_NOT_PERFORMED': 31,\n",
       " 'Demographic_1stParty_PERFORMED': 32,\n",
       " 'Demographic_1stParty_NOT_PERFORMED': 33,\n",
       " 'Demographic_3rdParty_PERFORMED': 34,\n",
       " 'Demographic_3rdParty_NOT_PERFORMED': 35,\n",
       " 'Demographic_Age_1stParty_PERFORMED': 36,\n",
       " 'Demographic_Age_1stParty_NOT_PERFORMED': 37,\n",
       " 'Demographic_Age_3rdParty_PERFORMED': 38,\n",
       " 'Demographic_Age_3rdParty_NOT_PERFORMED': 39,\n",
       " 'Demographic_Gender_1stParty_PERFORMED': 40,\n",
       " 'Demographic_Gender_1stParty_NOT_PERFORMED': 41,\n",
       " 'Demographic_Gender_3rdParty_PERFORMED': 42,\n",
       " 'Demographic_Gender_3rdParty_NOT_PERFORMED': 43,\n",
       " 'Facebook_SSO_PERFORMED': 44,\n",
       " 'Facebook_SSO_NOT_PERFORMED': 45,\n",
       " 'Identifier_1stParty_PERFORMED': 46,\n",
       " 'Identifier_1stParty_NOT_PERFORMED': 47,\n",
       " 'Identifier_3rdParty_PERFORMED': 48,\n",
       " 'Identifier_3rdParty_NOT_PERFORMED': 49,\n",
       " 'Identifier_Ad_ID_1stParty_PERFORMED': 50,\n",
       " 'Identifier_Ad_ID_1stParty_NOT_PERFORMED': 51,\n",
       " 'Identifier_Ad_ID_3rdParty_PERFORMED': 52,\n",
       " 'Identifier_Ad_ID_3rdParty_NOT_PERFORMED': 53,\n",
       " 'Identifier_Cookie_or_similar_Tech_1stParty_PERFORMED': 54,\n",
       " 'Identifier_Cookie_or_similar_Tech_1stParty_NOT_PERFORMED': 55,\n",
       " 'Identifier_Cookie_or_similar_Tech_3rdParty_PERFORMED': 56,\n",
       " 'Identifier_Cookie_or_similar_Tech_3rdParty_NOT_PERFORMED': 57,\n",
       " 'Identifier_Device_ID_1stParty_PERFORMED': 58,\n",
       " 'Identifier_Device_ID_1stParty_NOT_PERFORMED': 59,\n",
       " 'Identifier_Device_ID_3rdParty_PERFORMED': 60,\n",
       " 'Identifier_Device_ID_3rdParty_NOT_PERFORMED': 61,\n",
       " 'Identifier_IMEI_1stParty_PERFORMED': 62,\n",
       " 'Identifier_IMEI_1stParty_NOT_PERFORMED': 63,\n",
       " 'Identifier_IMEI_3rdParty_PERFORMED': 64,\n",
       " 'Identifier_IMEI_3rdParty_NOT_PERFORMED': 65,\n",
       " 'Identifier_IMSI_1stParty_PERFORMED': 66,\n",
       " 'Identifier_IMSI_1stParty_NOT_PERFORMED': 67,\n",
       " 'Identifier_IMSI_3rdParty_PERFORMED': 68,\n",
       " 'Identifier_IMSI_3rdParty_NOT_PERFORMED': 69,\n",
       " 'Identifier_IP_Address_1stParty_PERFORMED': 70,\n",
       " 'Identifier_IP_Address_1stParty_NOT_PERFORMED': 71,\n",
       " 'Identifier_IP_Address_3rdParty_PERFORMED': 72,\n",
       " 'Identifier_IP_Address_3rdParty_NOT_PERFORMED': 73,\n",
       " 'Identifier_MAC_1stParty_PERFORMED': 74,\n",
       " 'Identifier_MAC_1stParty_NOT_PERFORMED': 75,\n",
       " 'Identifier_MAC_3rdParty_PERFORMED': 76,\n",
       " 'Identifier_MAC_3rdParty_NOT_PERFORMED': 77,\n",
       " 'Identifier_Mobile_Carrier_1stParty_PERFORMED': 78,\n",
       " 'Identifier_Mobile_Carrier_1stParty_NOT_PERFORMED': 79,\n",
       " 'Identifier_Mobile_Carrier_3rdParty_PERFORMED': 80,\n",
       " 'Identifier_Mobile_Carrier_3rdParty_NOT_PERFORMED': 81,\n",
       " 'Identifier_SIM_Serial_1stParty_PERFORMED': 82,\n",
       " 'Identifier_SIM_Serial_1stParty_NOT_PERFORMED': 83,\n",
       " 'Identifier_SIM_Serial_3rdParty_PERFORMED': 84,\n",
       " 'Identifier_SIM_Serial_3rdParty_NOT_PERFORMED': 85,\n",
       " 'Identifier_SSID_BSSID_1stParty_PERFORMED': 86,\n",
       " 'Identifier_SSID_BSSID_1stParty_NOT_PERFORMED': 87,\n",
       " 'Identifier_SSID_BSSID_3rdParty_PERFORMED': 88,\n",
       " 'Identifier_SSID_BSSID_3rdParty_NOT_PERFORMED': 89,\n",
       " 'Location_1stParty_PERFORMED': 90,\n",
       " 'Location_1stParty_NOT_PERFORMED': 91,\n",
       " 'Location_3rdParty_PERFORMED': 92,\n",
       " 'Location_3rdParty_NOT_PERFORMED': 93,\n",
       " 'Location_Bluetooth_1stParty_PERFORMED': 94,\n",
       " 'Location_Bluetooth_1stParty_NOT_PERFORMED': 95,\n",
       " 'Location_Bluetooth_3rdParty_PERFORMED': 96,\n",
       " 'Location_Bluetooth_3rdParty_NOT_PERFORMED': 97,\n",
       " 'Location_Cell_Tower_1stParty_PERFORMED': 98,\n",
       " 'Location_Cell_Tower_1stParty_NOT_PERFORMED': 99,\n",
       " 'Location_Cell_Tower_3rdParty_PERFORMED': 100,\n",
       " 'Location_Cell_Tower_3rdParty_NOT_PERFORMED': 101,\n",
       " 'Location_GPS_1stParty_PERFORMED': 102,\n",
       " 'Location_GPS_1stParty_NOT_PERFORMED': 103,\n",
       " 'Location_GPS_3rdParty_PERFORMED': 104,\n",
       " 'Location_GPS_3rdParty_NOT_PERFORMED': 105,\n",
       " 'Location_IP_Address_1stParty_PERFORMED': 106,\n",
       " 'Location_IP_Address_1stParty_NOT_PERFORMED': 107,\n",
       " 'Location_IP_Address_3rdParty_PERFORMED': 108,\n",
       " 'Location_IP_Address_3rdParty_NOT_PERFORMED': 109,\n",
       " 'Location_WiFi_1stParty_PERFORMED': 110,\n",
       " 'Location_WiFi_1stParty_NOT_PERFORMED': 111,\n",
       " 'Location_WiFi_3rdParty_PERFORMED': 112,\n",
       " 'Location_WiFi_3rdParty_NOT_PERFORMED': 113,\n",
       " 'SSO_PERFORMED': 114,\n",
       " 'SSO_NOT_PERFORMED': 115}"
      ]
     },
     "execution_count": 91,
     "metadata": {},
     "output_type": "execute_result"
    }
   ],
   "source": [
    "policy_indices"
   ]
  },
  {
   "cell_type": "code",
   "execution_count": 83,
   "metadata": {},
   "outputs": [
    {
     "name": "stdout",
     "output_type": "stream",
     "text": [
      "Contact_E_Mail_Address_1stParty_PERFORMED\n",
      "Contact_Postal_Address_1stParty_PERFORMED\n",
      "Identifier_Device_ID_1stParty_PERFORMED\n",
      "Identifier_IP_Address_1stParty_PERFORMED\n",
      "Location_1stParty_PERFORMED\n",
      "Location_Cell_Tower_1stParty_PERFORMED\n",
      "Location_IP_Address_1stParty_PERFORMED\n",
      "SSO_PERFORMED\n"
     ]
    }
   ],
   "source": [
    "for pol in policy_indices:\n",
    "    if practiced_policies[policy_indices[pol]] > 0:\n",
    "        print(pol)"
   ]
  },
  {
   "cell_type": "markdown",
   "metadata": {},
   "source": [
    "## Performance Metrics\n",
    "\n",
    "+ evaluate accuracy, precision, recall, f1\n",
    "+ evaluate these at various sigmoid value cutoffs (0.25, 0.5, 0.75)\n",
    "\n",
    "**COMPARE:** y_test & y_predicted"
   ]
  },
  {
   "cell_type": "code",
   "execution_count": 95,
   "metadata": {},
   "outputs": [
    {
     "data": {
      "text/plain": [
       "array([0., 0., 0., 0., 0., 0., 0., 0., 0., 0., 0., 0., 0., 0., 0., 0., 0.,\n",
       "       0., 0., 0., 0., 0., 0., 0., 0., 0., 0., 0., 0., 0., 0., 0., 0., 0.,\n",
       "       0., 0., 0., 0., 0., 0., 0., 0., 0., 0., 0., 0., 0., 0., 0., 0., 0.,\n",
       "       0., 0., 0., 0., 0., 0., 0., 0., 0., 0., 0., 0., 0., 0., 0., 0., 0.,\n",
       "       0., 0., 0., 0., 0., 0., 0., 0., 0., 0., 0., 0., 0., 0., 0., 0., 0.,\n",
       "       0., 0., 0., 0., 0., 0., 0., 0., 0., 0., 0., 0., 0., 0., 0., 0., 0.,\n",
       "       0., 0., 0., 0., 0., 0., 0., 0., 0., 0., 0., 0., 0., 0.])"
      ]
     },
     "execution_count": 95,
     "metadata": {},
     "output_type": "execute_result"
    }
   ],
   "source": [
    "y_test[0]"
   ]
  },
  {
   "cell_type": "code",
   "execution_count": 103,
   "metadata": {},
   "outputs": [
    {
     "data": {
      "text/plain": [
       "array([ True,  True,  True,  True,  True,  True,  True,  True,  True,\n",
       "        True,  True,  True,  True,  True,  True,  True,  True,  True,\n",
       "        True,  True,  True,  True,  True,  True,  True,  True,  True,\n",
       "        True,  True,  True,  True,  True,  True,  True,  True,  True,\n",
       "        True,  True,  True,  True,  True,  True,  True,  True,  True,\n",
       "        True,  True,  True,  True,  True,  True,  True,  True,  True,\n",
       "        True,  True,  True,  True,  True,  True,  True,  True,  True,\n",
       "        True,  True,  True,  True,  True,  True,  True,  True,  True,\n",
       "        True,  True,  True,  True,  True,  True,  True,  True,  True,\n",
       "        True,  True,  True,  True,  True,  True,  True,  True,  True,\n",
       "        True,  True,  True,  True,  True,  True,  True,  True,  True,\n",
       "        True,  True,  True,  True,  True,  True,  True,  True,  True,\n",
       "        True,  True,  True,  True,  True,  True,  True,  True])"
      ]
     },
     "execution_count": 103,
     "metadata": {},
     "output_type": "execute_result"
    }
   ],
   "source": [
    "(y_predicted[0]>0.5) == y_test[0]"
   ]
  },
  {
   "cell_type": "code",
   "execution_count": 117,
   "metadata": {},
   "outputs": [
    {
     "data": {
      "text/plain": [
       "array([[ True,  True,  True, ...,  True,  True,  True],\n",
       "       [ True,  True,  True, ...,  True,  True,  True],\n",
       "       [ True,  True,  True, ...,  True,  True,  True],\n",
       "       ...,\n",
       "       [ True,  True,  True, ...,  True,  True,  True],\n",
       "       [ True,  True,  True, ...,  True,  True,  True],\n",
       "       [ True,  True,  True, ...,  True,  True,  True]])"
      ]
     },
     "execution_count": 117,
     "metadata": {},
     "output_type": "execute_result"
    }
   ],
   "source": [
    "result_thres_05 = ((y_predicted>0.5)==y_test)\n",
    "result_thres_05"
   ]
  },
  {
   "cell_type": "code",
   "execution_count": 129,
   "metadata": {},
   "outputs": [
    {
     "data": {
      "text/plain": [
       "(3102, 116)"
      ]
     },
     "execution_count": 129,
     "metadata": {},
     "output_type": "execute_result"
    }
   ],
   "source": [
    "result_thres_05.shape"
   ]
  },
  {
   "cell_type": "code",
   "execution_count": 141,
   "metadata": {},
   "outputs": [
    {
     "data": {
      "text/plain": [
       "array([[1, 1, 1, ..., 1, 1, 1],\n",
       "       [1, 1, 1, ..., 1, 1, 1],\n",
       "       [1, 1, 1, ..., 1, 1, 1],\n",
       "       ...,\n",
       "       [1, 1, 1, ..., 1, 1, 1],\n",
       "       [1, 1, 1, ..., 1, 1, 1],\n",
       "       [1, 1, 1, ..., 1, 1, 1]])"
      ]
     },
     "execution_count": 141,
     "metadata": {},
     "output_type": "execute_result"
    }
   ],
   "source": [
    "result_thres_05*1"
   ]
  },
  {
   "cell_type": "code",
   "execution_count": 134,
   "metadata": {},
   "outputs": [
    {
     "data": {
      "text/plain": [
       "3102"
      ]
     },
     "execution_count": 134,
     "metadata": {},
     "output_type": "execute_result"
    }
   ],
   "source": [
    "len(result_thres_05[:,1])"
   ]
  },
  {
   "cell_type": "markdown",
   "metadata": {},
   "source": [
    "**Accuracy**"
   ]
  },
  {
   "cell_type": "code",
   "execution_count": 139,
   "metadata": {
    "collapsed": true
   },
   "outputs": [],
   "source": [
    "from keras.metrics import binary_accuracy"
   ]
  },
  {
   "cell_type": "code",
   "execution_count": 136,
   "metadata": {},
   "outputs": [
    {
     "data": {
      "text/plain": [
       "0.998388136686009"
      ]
     },
     "execution_count": 136,
     "metadata": {},
     "output_type": "execute_result"
    }
   ],
   "source": [
    "sum(result_thres_05[:,1])/len(result_thres_05[:,1])"
   ]
  },
  {
   "cell_type": "code",
   "execution_count": 273,
   "metadata": {},
   "outputs": [
    {
     "data": {
      "text/plain": [
       "array([[ True,  True,  True, ...,  True,  True,  True],\n",
       "       [ True,  True,  True, ...,  True,  True,  True],\n",
       "       [ True,  True,  True, ...,  True,  True,  True],\n",
       "       ...,\n",
       "       [ True,  True,  True, ...,  True,  True,  True],\n",
       "       [ True,  True,  True, ...,  True,  True,  True],\n",
       "       [ True,  True,  True, ...,  True,  True,  True]])"
      ]
     },
     "execution_count": 273,
     "metadata": {},
     "output_type": "execute_result"
    }
   ],
   "source": [
    "result_thres_05"
   ]
  },
  {
   "cell_type": "code",
   "execution_count": 138,
   "metadata": {},
   "outputs": [
    {
     "data": {
      "text/plain": [
       "array([0.99097357, 0.99838814, 0.99903288, 1.        , 0.99323017,\n",
       "       0.99806576, 0.99967763, 1.        , 0.99709865, 1.        ,\n",
       "       0.99935525, 1.        , 0.96615087, 0.99097357, 0.99194068,\n",
       "       0.99709865, 0.99323017, 0.99677627, 0.99935525, 0.99967763,\n",
       "       0.98291425, 0.99161831, 0.9964539 , 0.99742102, 0.98774984,\n",
       "       0.99484204, 0.99742102, 0.99838814, 0.99580916, 0.99903288,\n",
       "       0.99774339, 0.99967763, 0.99355255, 0.99871051, 0.9964539 ,\n",
       "       0.99935525, 0.99032882, 0.99774339, 0.99709865, 0.99935525,\n",
       "       0.99194068, 0.99806576, 0.99774339, 0.99967763, 0.99097357,\n",
       "       0.99871051, 0.99451966, 0.99935525, 0.99903288, 0.99935525,\n",
       "       0.99419729, 0.99742102, 0.99613153, 0.99806576, 0.97259832,\n",
       "       0.99742102, 0.9858156 , 0.99774339, 0.98388137, 0.99548678,\n",
       "       0.99419729, 0.99806576, 0.99742102, 0.99871051, 0.99871051,\n",
       "       0.99871051, 0.99935525, 0.99967763, 1.        , 1.        ,\n",
       "       0.98259188, 0.99419729, 0.99129594, 0.99742102, 0.99580916,\n",
       "       0.99871051, 0.99806576, 0.99774339, 0.99580916, 0.99903288,\n",
       "       1.        , 1.        , 0.99838814, 0.99967763, 1.        ,\n",
       "       0.99967763, 1.        , 0.99967763, 0.99935525, 1.        ,\n",
       "       0.97936815, 0.98968407, 0.99065119, 0.99709865, 0.99613153,\n",
       "       0.99838814, 0.99806576, 0.99935525, 0.9964539 , 0.99806576,\n",
       "       0.99871051, 0.99903288, 0.99226306, 0.99806576, 0.99774339,\n",
       "       0.99935525, 0.99677627, 0.99871051, 0.99806576, 0.99935525,\n",
       "       0.99387492, 0.99806576, 0.99774339, 0.99903288, 0.98871696,\n",
       "       0.99838814])"
      ]
     },
     "execution_count": 138,
     "metadata": {},
     "output_type": "execute_result"
    }
   ],
   "source": [
    "sum(result_thres_05)/3102"
   ]
  },
  {
   "cell_type": "code",
   "execution_count": 272,
   "metadata": {},
   "outputs": [
    {
     "data": {
      "text/plain": [
       "3102"
      ]
     },
     "execution_count": 272,
     "metadata": {},
     "output_type": "execute_result"
    }
   ],
   "source": [
    "len(result_thres_05)"
   ]
  },
  {
   "cell_type": "code",
   "execution_count": 146,
   "metadata": {},
   "outputs": [
    {
     "data": {
      "text/plain": [
       "array([0., 0., 0., 0., 0., 0., 0., 0., 0., 0., 0., 0., 0., 0., 0., 0., 0.,\n",
       "       0., 0., 0., 0., 0., 0., 0., 0., 0., 0., 0., 0., 0., 0., 0., 0., 0.,\n",
       "       0., 0., 0., 0., 0., 0., 0., 0., 0., 0., 0., 0., 0., 0., 0., 0., 0.,\n",
       "       0., 0., 0., 0., 0., 0., 0., 0., 0., 0., 0., 0., 0., 0., 0., 0., 0.,\n",
       "       0., 0., 0., 0., 0., 0., 0., 0., 0., 0., 0., 0., 0., 0., 0., 0., 0.,\n",
       "       0., 0., 0., 0., 0., 0., 0., 0., 0., 0., 0., 0., 0., 0., 0., 0., 0.,\n",
       "       0., 0., 0., 0., 0., 0., 0., 0., 0., 0., 0., 0., 0., 0.])"
      ]
     },
     "execution_count": 146,
     "metadata": {},
     "output_type": "execute_result"
    }
   ],
   "source": [
    "y_test[0]"
   ]
  },
  {
   "cell_type": "code",
   "execution_count": 153,
   "metadata": {},
   "outputs": [
    {
     "data": {
      "text/plain": [
       "array([0, 0, 0, 0, 0, 0, 0, 0, 0, 0, 0, 0, 0, 0, 0, 0, 0, 0, 0, 0, 0, 0,\n",
       "       0, 0, 0, 0, 0, 0, 0, 0, 0, 0, 0, 0, 0, 0, 0, 0, 0, 0, 0, 0, 0, 0,\n",
       "       0, 0, 0, 0, 0, 0, 0, 0, 0, 0, 0, 0, 0, 0, 0, 0, 0, 0, 0, 0, 0, 0,\n",
       "       0, 0, 0, 0, 0, 0, 0, 0, 0, 0, 0, 0, 0, 0, 0, 0, 0, 0, 0, 0, 0, 0,\n",
       "       0, 0, 0, 0, 0, 0, 0, 0, 0, 0, 0, 0, 0, 0, 0, 0, 0, 0, 0, 0, 0, 0,\n",
       "       0, 0, 0, 0, 0, 0])"
      ]
     },
     "execution_count": 153,
     "metadata": {},
     "output_type": "execute_result"
    }
   ],
   "source": [
    "y_thres_05 = (y_predicted>0.5)*1\n",
    "y_thres_05[0]"
   ]
  },
  {
   "cell_type": "code",
   "execution_count": 228,
   "metadata": {},
   "outputs": [
    {
     "data": {
      "text/plain": [
       "array([[0, 0, 0, ..., 0, 0, 0],\n",
       "       [0, 0, 0, ..., 0, 0, 0],\n",
       "       [0, 0, 0, ..., 0, 0, 0],\n",
       "       ...,\n",
       "       [0, 0, 0, ..., 0, 0, 0],\n",
       "       [0, 0, 0, ..., 0, 0, 0],\n",
       "       [0, 0, 0, ..., 0, 0, 0]])"
      ]
     },
     "execution_count": 228,
     "metadata": {},
     "output_type": "execute_result"
    }
   ],
   "source": [
    "y_thres_05"
   ]
  },
  {
   "cell_type": "code",
   "execution_count": 176,
   "metadata": {
    "collapsed": true
   },
   "outputs": [],
   "source": [
    "yt_samp = np.array([1,0,0,1,0,1,1,0])\n",
    "yp_samp = np.array([1,0,1,0,0,1,0,1])"
   ]
  },
  {
   "cell_type": "code",
   "execution_count": 226,
   "metadata": {},
   "outputs": [
    {
     "data": {
      "text/plain": [
       "array([1, 0, 0, 0, 0, 1, 0, 0])"
      ]
     },
     "execution_count": 226,
     "metadata": {},
     "output_type": "execute_result"
    }
   ],
   "source": [
    "((yt_samp==yp_samp) & (yt_samp==1))*1 # true positive -- this is fine"
   ]
  },
  {
   "cell_type": "code",
   "execution_count": 225,
   "metadata": {},
   "outputs": [
    {
     "data": {
      "text/plain": [
       "array([0, 0, 0, 1, 0, 0, 1, 0])"
      ]
     },
     "execution_count": 225,
     "metadata": {},
     "output_type": "execute_result"
    }
   ],
   "source": [
    "((yt_samp!=yp_samp) & (yt_samp==1))*1 # FALSE NEGATIVE -- correct"
   ]
  },
  {
   "cell_type": "code",
   "execution_count": 224,
   "metadata": {},
   "outputs": [
    {
     "data": {
      "text/plain": [
       "array([0, 0, 1, 0, 0, 0, 0, 1])"
      ]
     },
     "execution_count": 224,
     "metadata": {},
     "output_type": "execute_result"
    }
   ],
   "source": [
    "((yt_samp!=yp_samp) & (yp_samp==1))*1 # false positive -- correct"
   ]
  },
  {
   "cell_type": "code",
   "execution_count": 223,
   "metadata": {},
   "outputs": [
    {
     "data": {
      "text/plain": [
       "array([0, 1, 0, 0, 1, 0, 0, 0])"
      ]
     },
     "execution_count": 223,
     "metadata": {},
     "output_type": "execute_result"
    }
   ],
   "source": [
    "((yt_samp==yp_samp) & (yp_samp==0))*1 # true negative"
   ]
  },
  {
   "cell_type": "markdown",
   "metadata": {},
   "source": [
    "**Precision**\n",
    "\n",
    "tp/(tp+fp)"
   ]
  },
  {
   "cell_type": "code",
   "execution_count": 255,
   "metadata": {},
   "outputs": [
    {
     "data": {
      "text/plain": [
       "array([ True, False, False,  True, False,  True,  True, False])"
      ]
     },
     "execution_count": 255,
     "metadata": {},
     "output_type": "execute_result"
    }
   ],
   "source": [
    "yt_samp==1"
   ]
  },
  {
   "cell_type": "code",
   "execution_count": 261,
   "metadata": {},
   "outputs": [
    {
     "data": {
      "text/plain": [
       "False"
      ]
     },
     "execution_count": 261,
     "metadata": {},
     "output_type": "execute_result"
    }
   ],
   "source": [
    "y_test==1"
   ]
  },
  {
   "cell_type": "code",
   "execution_count": 259,
   "metadata": {
    "collapsed": true
   },
   "outputs": [],
   "source": [
    "y_test_np = np.array(y_test)"
   ]
  },
  {
   "cell_type": "code",
   "execution_count": 262,
   "metadata": {},
   "outputs": [
    {
     "data": {
      "text/plain": [
       "array([[False, False, False, ..., False, False, False],\n",
       "       [False, False, False, ..., False, False, False],\n",
       "       [False, False, False, ..., False, False, False],\n",
       "       ...,\n",
       "       [False, False, False, ..., False, False, False],\n",
       "       [False, False, False, ..., False, False, False],\n",
       "       [False, False, False, ..., False, False, False]])"
      ]
     },
     "execution_count": 262,
     "metadata": {},
     "output_type": "execute_result"
    }
   ],
   "source": [
    "y_test_np == 1"
   ]
  },
  {
   "cell_type": "code",
   "execution_count": 263,
   "metadata": {
    "collapsed": true
   },
   "outputs": [],
   "source": [
    "tp = ((y_test_np==y_thres_05) & (y_test_np==1))*1\n",
    "tn = ((y_test_np==y_thres_05) & (y_thres_05==0))*1\n",
    "fp = ((y_test_np!=y_thres_05) & (y_thres_05==1))*1\n",
    "fn = ((y_test_np!=y_thres_05) & (y_test_np==1))*1"
   ]
  },
  {
   "cell_type": "code",
   "execution_count": 276,
   "metadata": {},
   "outputs": [
    {
     "data": {
      "text/plain": [
       "array([[ True,  True,  True, ...,  True,  True,  True],\n",
       "       [ True,  True,  True, ...,  True,  True,  True],\n",
       "       [ True,  True,  True, ...,  True,  True,  True],\n",
       "       ...,\n",
       "       [ True,  True,  True, ...,  True,  True,  True],\n",
       "       [ True,  True,  True, ...,  True,  True,  True],\n",
       "       [ True,  True,  True, ...,  True,  True,  True]])"
      ]
     },
     "execution_count": 276,
     "metadata": {},
     "output_type": "execute_result"
    }
   ],
   "source": [
    "((y_predicted>0.5)==y_test)"
   ]
  },
  {
   "cell_type": "code",
   "execution_count": 309,
   "metadata": {
    "collapsed": true
   },
   "outputs": [],
   "source": [
    "def get_keras_metrics(y_test, y_predicted, threshold=0.5):\n",
    "    # prepare targets\n",
    "    y_threshold = (y_predicted>threshold)*1\n",
    "    y_test_np = np.array(y_test)\n",
    "    acc_result = ((y_predicted>threshold)==y_test)\n",
    "    \n",
    "    # get classification counts\n",
    "    tp = ((y_test_np==y_threshold) & (y_test_np==1))*1\n",
    "    tn = ((y_test_np==y_threshold) & (y_threshold==0))*1\n",
    "    fp = ((y_test_np!=y_threshold) & (y_threshold==1))*1\n",
    "    fn = ((y_test_np!=y_threshold) & (y_test_np==1))*1\n",
    "    \n",
    "    # metrics\n",
    "    accuracy = sum(acc_result)/len(acc_result)\n",
    "    precision = sum(tp)/(sum(tp)+sum(fp))\n",
    "    recall = sum(tp)/(sum(tp)+sum(fn))\n",
    "    f1_score = (2*sum(tp))/((2*sum(tp))+sum(fp)+sum(fn))\n",
    "    tpr = sum(tp)/(sum(tp)+sum(fn))\n",
    "    fpr = sum(fp)/(sum(fp)+sum(tn))\n",
    "    \n",
    "    return accuracy, precision, recall, f1_score, tpr, fpr"
   ]
  },
  {
   "cell_type": "code",
   "execution_count": 282,
   "metadata": {},
   "outputs": [
    {
     "name": "stderr",
     "output_type": "stream",
     "text": [
      "/anaconda/envs/insight/lib/python3.6/site-packages/ipykernel_launcher.py:15: RuntimeWarning: invalid value encountered in true_divide\n",
      "  from ipykernel import kernelapp as app\n",
      "/anaconda/envs/insight/lib/python3.6/site-packages/ipykernel_launcher.py:16: RuntimeWarning: invalid value encountered in true_divide\n",
      "  app.launch_new_instance()\n",
      "/anaconda/envs/insight/lib/python3.6/site-packages/ipykernel_launcher.py:17: RuntimeWarning: invalid value encountered in true_divide\n"
     ]
    }
   ],
   "source": [
    "accuracy, precision, recall, f1_score = get_keras_metrics(y_test, y_predicted, threshold=0.5)"
   ]
  },
  {
   "cell_type": "code",
   "execution_count": 310,
   "metadata": {},
   "outputs": [
    {
     "name": "stderr",
     "output_type": "stream",
     "text": [
      "/anaconda/envs/insight/lib/python3.6/site-packages/ipykernel_launcher.py:15: RuntimeWarning: invalid value encountered in true_divide\n",
      "  from ipykernel import kernelapp as app\n",
      "/anaconda/envs/insight/lib/python3.6/site-packages/ipykernel_launcher.py:16: RuntimeWarning: invalid value encountered in true_divide\n",
      "  app.launch_new_instance()\n",
      "/anaconda/envs/insight/lib/python3.6/site-packages/ipykernel_launcher.py:17: RuntimeWarning: invalid value encountered in true_divide\n",
      "/anaconda/envs/insight/lib/python3.6/site-packages/ipykernel_launcher.py:18: RuntimeWarning: invalid value encountered in true_divide\n"
     ]
    }
   ],
   "source": [
    "metrics_01 = get_keras_metrics(y_test, y_predicted, threshold=0.1)"
   ]
  },
  {
   "cell_type": "code",
   "execution_count": 318,
   "metadata": {},
   "outputs": [
    {
     "data": {
      "text/plain": [
       "array([0. , 0.1, 0.2, 0.3, 0.4, 0.5, 0.6, 0.7, 0.8, 0.9, 1. ])"
      ]
     },
     "execution_count": 318,
     "metadata": {},
     "output_type": "execute_result"
    }
   ],
   "source": [
    "np.linspace(0,1,11)"
   ]
  },
  {
   "cell_type": "code",
   "execution_count": 320,
   "metadata": {},
   "outputs": [
    {
     "data": {
      "text/plain": [
       "[1, 0.425800392926121]"
      ]
     },
     "execution_count": 320,
     "metadata": {},
     "output_type": "execute_result"
    }
   ],
   "source": [
    "a = [1]\n",
    "a.append(np.nanmean(metrics_01[4]))\n",
    "a"
   ]
  },
  {
   "cell_type": "code",
   "execution_count": 323,
   "metadata": {
    "collapsed": true
   },
   "outputs": [],
   "source": [
    "def generate_roc_values(y_test, y_predicted):\n",
    "    #thres_values = np.linspace(0,1,11)\n",
    "    thres_values = [0.1, 0.2, 0.3, 0.4, 0.5, 0.6, 0.7, 0.8, 0.9]\n",
    "    tpr_list = []\n",
    "    fpr_list = []\n",
    "    for i in thres_values:\n",
    "        tmp_metrics = get_keras_metrics(y_test, y_predicted, threshold=i)\n",
    "        tpr_list.append(np.nanmean(tmp_metrics[4]))\n",
    "        fpr_list.append(np.nanmean(tmp_metrics[5]))\n",
    "    \n",
    "    return tpr_list, fpr_list"
   ]
  },
  {
   "cell_type": "code",
   "execution_count": 325,
   "metadata": {},
   "outputs": [
    {
     "name": "stderr",
     "output_type": "stream",
     "text": [
      "/anaconda/envs/insight/lib/python3.6/site-packages/ipykernel_launcher.py:15: RuntimeWarning: invalid value encountered in true_divide\n",
      "  from ipykernel import kernelapp as app\n",
      "/anaconda/envs/insight/lib/python3.6/site-packages/ipykernel_launcher.py:16: RuntimeWarning: invalid value encountered in true_divide\n",
      "  app.launch_new_instance()\n",
      "/anaconda/envs/insight/lib/python3.6/site-packages/ipykernel_launcher.py:17: RuntimeWarning: invalid value encountered in true_divide\n",
      "/anaconda/envs/insight/lib/python3.6/site-packages/ipykernel_launcher.py:18: RuntimeWarning: invalid value encountered in true_divide\n"
     ]
    }
   ],
   "source": [
    "tpr_list, fpr_list = generate_roc_values(y_test, y_predicted)"
   ]
  },
  {
   "cell_type": "code",
   "execution_count": 3,
   "metadata": {
    "collapsed": true
   },
   "outputs": [],
   "source": [
    "import matplotlib.pyplot as plt\n",
    "%matplotlib inline"
   ]
  },
  {
   "cell_type": "code",
   "execution_count": 1,
   "metadata": {
    "collapsed": true
   },
   "outputs": [],
   "source": [
    "uni_bi_tpr = [0.336963400108884, 0.29451663884045287, 0.2579691735050892, 0.24287849845501708, 0.22385614315595206, 0.20699589240151595, 0.18748584915989033, 0.16637182077566876, 0.1488914476633685]\n",
    "uni_bi_fpr = [0.002309536480589447, 0.001683927568579401, 0.0013375116805062015, 0.0011022361833467383, 0.000923052717412954, 0.0008211416147136751, 0.0006841556525547175, 0.0005279987723152441, 0.0004029240265681355]\n",
    "max_tpr = [0.40713433617510797, 0.34381777451042184, 0.3125283213127969, 0.29252921827068773, 0.26624615785414946, 0.24281386463434082, 0.21518118807631748, 0.18858902871489505, 0.15687109602456045]\n",
    "max_fpr = [0.002507928748962294, 0.0017781651732514025, 0.001335689626240129, 0.0010943489310551232, 0.0009348118982703104, 0.0008095356761380428, 0.0006708307632427478, 0.0005195202538722488, 0.0003714546884194708]\n",
    "stop_fpr = [0.3576140796184367, 0.2985292200407161, 0.2683625394948941, 0.24771829768763076, 0.21910884798716965, 0.20220029390115668, 0.18281575324121757, 0.15651549494731057, 0.12341725428374398]\n",
    "stop_tpr = [0.0027889149662778698, 0.002136990489553581, 0.001757259662119525, 0.001476930566659862, 0.001315517456526563, 0.0011654896303815979, 0.0009956500731645892, 0.0007718940714156431, 0.0005168926649513284]\n",
    "tfidf_tpr = [0.42598654258768626, 0.33011522549890476, 0.2672340387477744, 0.2344278393365655, 0.20016815535314103, 0.17854123285703682, 0.14047283383828352, 0.10471168256277141, 0.0658636721048241]\n",
    "tfidf_fpr = [0.0029151071241229555, 0.001644637151720663, 0.00109840944071349, 0.0008068872927501593, 0.0005676122460611141, 0.0004198024943445616, 0.00029459333257404985, 0.00020610197687132888, 0.00010376530243492242]"
   ]
  },
  {
   "cell_type": "code",
   "execution_count": 4,
   "metadata": {},
   "outputs": [
    {
     "data": {
      "text/plain": [
       "[<matplotlib.lines.Line2D at 0x115c733c8>]"
      ]
     },
     "execution_count": 4,
     "metadata": {},
     "output_type": "execute_result"
    },
    {
     "data": {
      "image/png": "[encoded data removed]",
      "text/plain": [
       "<Figure size 432x288 with 1 Axes>"
      ]
     },
     "metadata": {
      "needs_background": "light"
     },
     "output_type": "display_data"
    }
   ],
   "source": [
    "plt.figure()\n",
    "plt.plot(uni_bi_fpr, uni_bi_tpr)\n",
    "plt.plot(max_fpr, max_tpr)\n",
    "plt.plot(stop_fpr, max_tpr)\n",
    "plt.plot(tfidf_fpr, tfidf_tpr)"
   ]
  },
  {
   "cell_type": "code",
   "execution_count": 328,
   "metadata": {},
   "outputs": [
    {
     "data": {
      "text/plain": [
       "[<matplotlib.lines.Line2D at 0x132bfb5f8>]"
      ]
     },
     "execution_count": 328,
     "metadata": {},
     "output_type": "execute_result"
    },
    {
     "data": {
      "image/png": "[encoded data removed]",
      "text/plain": [
       "<Figure size 432x288 with 1 Axes>"
      ]
     },
     "metadata": {
      "needs_background": "light"
     },
     "output_type": "display_data"
    }
   ],
   "source": [
    "plt.plot(fpr_list, tpr_list)"
   ]
  },
  {
   "cell_type": "code",
   "execution_count": 311,
   "metadata": {},
   "outputs": [
    {
     "data": {
      "text/plain": [
       "6"
      ]
     },
     "execution_count": 311,
     "metadata": {},
     "output_type": "execute_result"
    }
   ],
   "source": [
    "len(metrics_01)"
   ]
  },
  {
   "cell_type": "code",
   "execution_count": 313,
   "metadata": {},
   "outputs": [
    {
     "data": {
      "text/plain": [
       "0.425800392926121"
      ]
     },
     "execution_count": 313,
     "metadata": {},
     "output_type": "execute_result"
    }
   ],
   "source": [
    "tpos_rate = np.nanmean(metrics_01[4])\n",
    "tpos_rate"
   ]
  },
  {
   "cell_type": "code",
   "execution_count": 314,
   "metadata": {},
   "outputs": [
    {
     "data": {
      "text/plain": [
       "0.002517845822703013"
      ]
     },
     "execution_count": 314,
     "metadata": {},
     "output_type": "execute_result"
    }
   ],
   "source": [
    "fpos_rate = np.nanmean(metrics_01[5])\n",
    "fpos_rate"
   ]
  },
  {
   "cell_type": "code",
   "execution_count": 298,
   "metadata": {},
   "outputs": [
    {
     "data": {
      "text/plain": [
       "array([0.48648649, 0.33333333, 0.25      , 0.        , 0.74285714,\n",
       "       0.63157895, 0.5       ,        nan, 0.42857143, 0.        ,\n",
       "       0.        ,        nan, 0.66315789, 0.70833333, 0.0625    ,\n",
       "       0.15384615, 0.60273973, 0.48      , 0.        , 0.        ,\n",
       "       0.66304348, 0.60606061, 0.125     , 0.        , 0.54545455,\n",
       "       0.66666667, 0.        , 0.5       , 0.27272727, 0.57142857,\n",
       "       0.36363636, 0.        , 0.6122449 , 0.6       , 0.57142857,\n",
       "       0.        , 0.68235294, 0.6875    , 0.        , 0.        ,\n",
       "       0.6440678 , 0.60869565, 0.        , 0.        , 0.58823529,\n",
       "       0.73684211, 0.20689655, 0.        , 0.16666667, 0.        ,\n",
       "       0.61904762, 0.625     , 0.5       , 0.25      , 0.74366197,\n",
       "       0.75      , 0.68224299, 0.63636364, 0.58208955, 0.59459459,\n",
       "       0.66666667, 0.44444444, 0.63636364, 0.5       , 0.5       ,\n",
       "       0.        , 0.        , 0.        ,        nan,        nan,\n",
       "       0.66009852, 0.78431373, 0.54      , 0.56      , 0.42857143,\n",
       "       0.77777778, 0.5       , 0.36363636, 0.4516129 , 0.28571429,\n",
       "              nan, 0.        , 0.6       , 0.        ,        nan,\n",
       "       0.        ,        nan, 0.        , 0.        ,        nan,\n",
       "       0.64912281, 0.55555556, 0.51351351, 0.38095238, 0.26086957,\n",
       "       0.61538462, 0.25      , 0.66666667, 0.48275862, 0.66666667,\n",
       "       0.54545455, 0.        , 0.45901639, 0.66666667, 0.16666667,\n",
       "       0.28571429, 0.64516129, 0.57142857, 0.42857143, 0.        ,\n",
       "       0.34146341, 0.5       , 0.30769231, 0.4       , 0.57142857,\n",
       "       0.73684211])"
      ]
     },
     "execution_count": 298,
     "metadata": {},
     "output_type": "execute_result"
    }
   ],
   "source": [
    "metrics_01[3]"
   ]
  },
  {
   "cell_type": "code",
   "execution_count": null,
   "metadata": {
    "collapsed": true
   },
   "outputs": [],
   "source": [
    "build_roc"
   ]
  },
  {
   "cell_type": "code",
   "execution_count": 299,
   "metadata": {},
   "outputs": [
    {
     "name": "stderr",
     "output_type": "stream",
     "text": [
      "/anaconda/envs/insight/lib/python3.6/site-packages/ipykernel_launcher.py:15: RuntimeWarning: invalid value encountered in true_divide\n",
      "  from ipykernel import kernelapp as app\n",
      "/anaconda/envs/insight/lib/python3.6/site-packages/ipykernel_launcher.py:16: RuntimeWarning: invalid value encountered in true_divide\n",
      "  app.launch_new_instance()\n",
      "/anaconda/envs/insight/lib/python3.6/site-packages/ipykernel_launcher.py:17: RuntimeWarning: invalid value encountered in true_divide\n"
     ]
    }
   ],
   "source": [
    "metrics_025 = get_keras_metrics(y_test, y_predicted, threshold=0.25)\n",
    "metrics_05 = get_keras_metrics(y_test, y_predicted, threshold=0.5)\n",
    "metrics_075 = get_keras_metrics(y_test, y_predicted, threshold=0.75)"
   ]
  },
  {
   "cell_type": "code",
   "execution_count": 304,
   "metadata": {},
   "outputs": [
    {
     "data": {
      "text/plain": [
       "0.9959425509682295"
      ]
     },
     "execution_count": 304,
     "metadata": {},
     "output_type": "execute_result"
    }
   ],
   "source": [
    "np.mean(metrics_025[0])"
   ]
  },
  {
   "cell_type": "code",
   "execution_count": 308,
   "metadata": {},
   "outputs": [
    {
     "data": {
      "text/plain": [
       "0.24991206264701782"
      ]
     },
     "execution_count": 308,
     "metadata": {},
     "output_type": "execute_result"
    }
   ],
   "source": []
  },
  {
   "cell_type": "code",
   "execution_count": 292,
   "metadata": {},
   "outputs": [
    {
     "data": {
      "text/plain": [
       "array([0.36363636, 0.4       , 0.25      ,        nan, 0.48717949,\n",
       "       0.33333333, 0.5       ,        nan, 0.2       ,        nan,\n",
       "       0.        ,        nan, 0.58659218, 0.5       , 0.        ,\n",
       "       0.11111111, 0.48571429, 0.3       , 0.        ,        nan,\n",
       "       0.5       , 0.30555556, 0.        , 0.        , 0.31914894,\n",
       "       0.23809524, 0.        , 0.16666667, 0.2       , 0.        ,\n",
       "       0.25      , 0.        , 0.36666667, 0.25      , 0.35714286,\n",
       "       0.        , 0.43478261, 0.61538462, 0.        , 0.        ,\n",
       "       0.3125    , 0.44444444, 0.        , 0.        , 0.42857143,\n",
       "       0.5       , 0.07142857, 0.        , 0.25      , 0.        ,\n",
       "       0.30434783, 0.11111111, 0.29411765, 0.        , 0.6416185 ,\n",
       "       0.2       , 0.65217391, 0.33333333, 0.46875   , 0.26315789,\n",
       "       0.68965517, 0.25      , 0.44444444, 0.33333333, 0.4       ,\n",
       "       0.        , 0.        , 0.        ,        nan,        nan,\n",
       "       0.61702128, 0.30769231, 0.625     , 0.36363636, 0.33333333,\n",
       "       0.5       , 0.28571429, 0.        , 0.35294118, 0.25      ,\n",
       "              nan,        nan, 0.33333333, 0.        ,        nan,\n",
       "       0.        ,        nan, 0.        , 0.        ,        nan,\n",
       "       0.51818182, 0.22222222, 0.44117647, 0.2       , 0.15384615,\n",
       "       0.28571429, 0.        , 0.        , 0.42857143, 0.        ,\n",
       "       0.42857143, 0.        , 0.32258065, 0.33333333, 0.125     ,\n",
       "       0.        , 0.47058824, 0.        , 0.375     , 0.        ,\n",
       "       0.19047619, 0.44444444, 0.125     , 0.        , 0.54347826,\n",
       "       0.5       ])"
      ]
     },
     "execution_count": 292,
     "metadata": {},
     "output_type": "execute_result"
    }
   ],
   "source": [
    "metrics_05[0][2]"
   ]
  },
  {
   "cell_type": "code",
   "execution_count": 280,
   "metadata": {},
   "outputs": [
    {
     "data": {
      "text/plain": [
       "array([0.63157895, 0.5       , 1.        ,        nan, 0.95      ,\n",
       "       1.        , 1.        ,        nan, 0.66666667,        nan,\n",
       "              nan,        nan, 0.77205882, 0.78571429, 0.        ,\n",
       "       0.5       , 0.85      , 0.5       , 0.        , 0.        ,\n",
       "       0.83018868, 0.91666667, 0.        ,        nan, 0.71428571,\n",
       "       1.        , 0.        , 1.        , 0.75      ,        nan,\n",
       "       0.66666667,        nan, 0.91666667, 0.5       , 0.71428571,\n",
       "              nan, 0.83333333, 0.8       , 0.        ,        nan,\n",
       "       0.76923077, 0.8       ,        nan,        nan, 0.65217391,\n",
       "       1.        , 0.2       ,        nan, 1.        ,        nan,\n",
       "       0.77777778, 1.        , 1.        , 0.        , 0.82835821,\n",
       "       1.        , 0.83333333, 0.75      , 0.65217391, 1.        ,\n",
       "       0.68965517, 1.        , 0.57142857, 1.        , 0.66666667,\n",
       "              nan,        nan,        nan,        nan,        nan,\n",
       "       0.76315789, 1.        , 0.67567568, 0.8       , 0.44444444,\n",
       "       1.        , 0.66666667, 0.        , 0.75      , 1.        ,\n",
       "              nan,        nan, 0.66666667,        nan,        nan,\n",
       "              nan,        nan,        nan,        nan,        nan,\n",
       "       0.83823529, 0.66666667, 0.6       , 0.66666667, 0.66666667,\n",
       "       1.        ,        nan, 0.        , 0.66666667,        nan,\n",
       "       1.        ,        nan, 0.76923077, 1.        , 1.        ,\n",
       "              nan, 0.88888889,        nan, 0.75      ,        nan,\n",
       "       0.66666667, 0.8       , 1.        , 0.        , 0.64102564,\n",
       "       0.8       ])"
      ]
     },
     "execution_count": 280,
     "metadata": {},
     "output_type": "execute_result"
    }
   ],
   "source": [
    "precision"
   ]
  },
  {
   "cell_type": "code",
   "execution_count": null,
   "metadata": {
    "collapsed": true
   },
   "outputs": [],
   "source": []
  },
  {
   "cell_type": "code",
   "execution_count": 267,
   "metadata": {},
   "outputs": [
    {
     "data": {
      "text/plain": [
       "array([ 12,   2,   1,   0,  19,   3,   1,   0,   2,   0,   0,   0, 105,\n",
       "        22,   0,   1,  17,   3,   0,   0,  44,  11,   0,   0,  15,   5,\n",
       "         0,   1,   3,   0,   2,   0,  11,   1,   5,   0,  20,   8,   0,\n",
       "         0,  10,   4,   0,   0,  15,   4,   1,   0,   1,   0,   7,   1,\n",
       "         5,   0, 111,   2,  60,   3,  30,   5,  20,   2,   4,   2,   2,\n",
       "         0,   0,   0,   0,   0,  58,   8,  25,   4,   4,   4,   2,   0,\n",
       "         6,   1,   0,   0,   2,   0,   0,   0,   0,   0,   0,   0,  57,\n",
       "         8,  15,   2,   2,   2,   0,   0,   6,   0,   3,   0,  10,   3,\n",
       "         1,   0,   8,   0,   3,   0,   4,   4,   1,   0,  25,   4])"
      ]
     },
     "execution_count": 267,
     "metadata": {},
     "output_type": "execute_result"
    }
   ],
   "source": [
    "sum(tp)"
   ]
  },
  {
   "cell_type": "code",
   "execution_count": 268,
   "metadata": {},
   "outputs": [
    {
     "data": {
      "text/plain": [
       "array([ 7,  2,  0,  0,  1,  0,  0,  0,  1,  0,  0,  0, 31,  6,  5,  1,  3,\n",
       "        3,  1,  1,  9,  1,  3,  0,  6,  0,  2,  0,  1,  0,  1,  0,  1,  1,\n",
       "        2,  0,  4,  2,  1,  0,  3,  1,  0,  0,  8,  0,  4,  0,  0,  0,  2,\n",
       "        0,  0,  1, 23,  0, 12,  1, 16,  0,  9,  0,  3,  0,  1,  0,  0,  0,\n",
       "        0,  0, 18,  0, 12,  1,  5,  0,  1,  2,  2,  0,  0,  0,  1,  0,  0,\n",
       "        0,  0,  0,  0,  0, 11,  4, 10,  1,  1,  0,  0,  1,  3,  0,  0,  0,\n",
       "        3,  0,  0,  0,  1,  0,  1,  0,  2,  1,  0,  1, 14,  1])"
      ]
     },
     "execution_count": 268,
     "metadata": {},
     "output_type": "execute_result"
    }
   ],
   "source": [
    "sum(fp)"
   ]
  },
  {
   "cell_type": "code",
   "execution_count": 242,
   "metadata": {},
   "outputs": [
    {
     "data": {
      "text/plain": [
       "array([ 19,   4,   1,   0,  20,   3,   1,   0,   3,   0,   0,   0, 136,\n",
       "        28,   5,   2,  20,   6,   1,   1,  53,  12,   3,   0,  21,   5,\n",
       "         2,   1,   4,   0,   3,   0,  12,   2,   7,   0,  24,  10,   1,\n",
       "         0,  13,   5,   0,   0,  23,   4,   5,   0,   1,   0,   9,   1,\n",
       "         5,   1, 134,   2,  72,   4,  46,   5,  29,   2,   7,   2,   3,\n",
       "         0,   0,   0,   0,   0,  76,   8,  37,   5,   9,   4,   3,   2,\n",
       "         8,   1,   0,   0,   3,   0,   0,   0,   0,   0,   0,   0,  68,\n",
       "        12,  25,   3,   3,   2,   0,   1,   9,   0,   3,   0,  13,   3,\n",
       "         1,   0,   9,   0,   4,   0,   6,   5,   1,   1,  39,   5])"
      ]
     },
     "execution_count": 242,
     "metadata": {},
     "output_type": "execute_result"
    }
   ],
   "source": [
    "sum(y_thres_05)"
   ]
  },
  {
   "cell_type": "code",
   "execution_count": 269,
   "metadata": {},
   "outputs": [
    {
     "name": "stderr",
     "output_type": "stream",
     "text": [
      "/anaconda/envs/insight/lib/python3.6/site-packages/ipykernel_launcher.py:1: RuntimeWarning: invalid value encountered in true_divide\n",
      "  \"\"\"Entry point for launching an IPython kernel.\n"
     ]
    },
    {
     "data": {
      "text/plain": [
       "array([0.63157895, 0.5       , 1.        ,        nan, 0.95      ,\n",
       "       1.        , 1.        ,        nan, 0.66666667,        nan,\n",
       "              nan,        nan, 0.77205882, 0.78571429, 0.        ,\n",
       "       0.5       , 0.85      , 0.5       , 0.        , 0.        ,\n",
       "       0.83018868, 0.91666667, 0.        ,        nan, 0.71428571,\n",
       "       1.        , 0.        , 1.        , 0.75      ,        nan,\n",
       "       0.66666667,        nan, 0.91666667, 0.5       , 0.71428571,\n",
       "              nan, 0.83333333, 0.8       , 0.        ,        nan,\n",
       "       0.76923077, 0.8       ,        nan,        nan, 0.65217391,\n",
       "       1.        , 0.2       ,        nan, 1.        ,        nan,\n",
       "       0.77777778, 1.        , 1.        , 0.        , 0.82835821,\n",
       "       1.        , 0.83333333, 0.75      , 0.65217391, 1.        ,\n",
       "       0.68965517, 1.        , 0.57142857, 1.        , 0.66666667,\n",
       "              nan,        nan,        nan,        nan,        nan,\n",
       "       0.76315789, 1.        , 0.67567568, 0.8       , 0.44444444,\n",
       "       1.        , 0.66666667, 0.        , 0.75      , 1.        ,\n",
       "              nan,        nan, 0.66666667,        nan,        nan,\n",
       "              nan,        nan,        nan,        nan,        nan,\n",
       "       0.83823529, 0.66666667, 0.6       , 0.66666667, 0.66666667,\n",
       "       1.        ,        nan, 0.        , 0.66666667,        nan,\n",
       "       1.        ,        nan, 0.76923077, 1.        , 1.        ,\n",
       "              nan, 0.88888889,        nan, 0.75      ,        nan,\n",
       "       0.66666667, 0.8       , 1.        , 0.        , 0.64102564,\n",
       "       0.8       ])"
      ]
     },
     "execution_count": 269,
     "metadata": {},
     "output_type": "execute_result"
    }
   ],
   "source": [
    "sum(tp)/(sum(tp)+sum(fp))\n",
    "#tp/(tp+fp)"
   ]
  },
  {
   "cell_type": "markdown",
   "metadata": {},
   "source": [
    "**Recall**\n",
    "\n",
    "tp/(tp+fn)"
   ]
  },
  {
   "cell_type": "code",
   "execution_count": 270,
   "metadata": {},
   "outputs": [
    {
     "name": "stderr",
     "output_type": "stream",
     "text": [
      "/anaconda/envs/insight/lib/python3.6/site-packages/ipykernel_launcher.py:1: RuntimeWarning: invalid value encountered in true_divide\n",
      "  \"\"\"Entry point for launching an IPython kernel.\n"
     ]
    },
    {
     "data": {
      "text/plain": [
       "array([0.36363636, 0.4       , 0.25      ,        nan, 0.48717949,\n",
       "       0.33333333, 0.5       ,        nan, 0.2       ,        nan,\n",
       "       0.        ,        nan, 0.58659218, 0.5       , 0.        ,\n",
       "       0.11111111, 0.48571429, 0.3       , 0.        ,        nan,\n",
       "       0.5       , 0.30555556, 0.        , 0.        , 0.31914894,\n",
       "       0.23809524, 0.        , 0.16666667, 0.2       , 0.        ,\n",
       "       0.25      , 0.        , 0.36666667, 0.25      , 0.35714286,\n",
       "       0.        , 0.43478261, 0.61538462, 0.        , 0.        ,\n",
       "       0.3125    , 0.44444444, 0.        , 0.        , 0.42857143,\n",
       "       0.5       , 0.07142857, 0.        , 0.25      , 0.        ,\n",
       "       0.30434783, 0.11111111, 0.29411765, 0.        , 0.6416185 ,\n",
       "       0.2       , 0.65217391, 0.33333333, 0.46875   , 0.26315789,\n",
       "       0.68965517, 0.25      , 0.44444444, 0.33333333, 0.4       ,\n",
       "       0.        , 0.        , 0.        ,        nan,        nan,\n",
       "       0.61702128, 0.30769231, 0.625     , 0.36363636, 0.33333333,\n",
       "       0.5       , 0.28571429, 0.        , 0.35294118, 0.25      ,\n",
       "              nan,        nan, 0.33333333, 0.        ,        nan,\n",
       "       0.        ,        nan, 0.        , 0.        ,        nan,\n",
       "       0.51818182, 0.22222222, 0.44117647, 0.2       , 0.15384615,\n",
       "       0.28571429, 0.        , 0.        , 0.42857143, 0.        ,\n",
       "       0.42857143, 0.        , 0.32258065, 0.33333333, 0.125     ,\n",
       "       0.        , 0.47058824, 0.        , 0.375     , 0.        ,\n",
       "       0.19047619, 0.44444444, 0.125     , 0.        , 0.54347826,\n",
       "       0.5       ])"
      ]
     },
     "execution_count": 270,
     "metadata": {},
     "output_type": "execute_result"
    }
   ],
   "source": [
    "sum(tp)/(sum(tp)+sum(fn))"
   ]
  },
  {
   "cell_type": "markdown",
   "metadata": {},
   "source": [
    "**F1 Score**\n",
    "\n",
    "2 x TP / (2 x TP + FP + FN)"
   ]
  },
  {
   "cell_type": "code",
   "execution_count": null,
   "metadata": {
    "collapsed": true
   },
   "outputs": [],
   "source": [
    "f1s = (2*sum(tp))/((2*sum(tp))+sum(fp)+sum(fn))\n",
    "f1s"
   ]
  },
  {
   "cell_type": "code",
   "execution_count": null,
   "metadata": {
    "collapsed": true
   },
   "outputs": [],
   "source": []
  },
  {
   "cell_type": "code",
   "execution_count": 126,
   "metadata": {},
   "outputs": [
    {
     "data": {
      "text/plain": [
       "3102"
      ]
     },
     "execution_count": 126,
     "metadata": {},
     "output_type": "execute_result"
    }
   ],
   "source": [
    "len(y_test)"
   ]
  },
  {
   "cell_type": "code",
   "execution_count": 124,
   "metadata": {},
   "outputs": [
    {
     "data": {
      "text/plain": [
       "array([ True,  True,  True,  True,  True,  True,  True,  True,  True,\n",
       "        True,  True,  True,  True,  True,  True,  True,  True,  True,\n",
       "        True,  True,  True,  True,  True,  True,  True,  True,  True,\n",
       "        True,  True,  True,  True,  True,  True,  True,  True,  True,\n",
       "        True,  True,  True,  True,  True,  True,  True,  True,  True,\n",
       "        True,  True,  True,  True,  True,  True,  True,  True,  True,\n",
       "        True,  True,  True,  True,  True,  True,  True,  True,  True,\n",
       "        True,  True,  True,  True,  True,  True,  True,  True,  True,\n",
       "        True,  True,  True,  True,  True,  True,  True,  True,  True,\n",
       "        True,  True,  True,  True,  True,  True,  True,  True,  True,\n",
       "        True,  True,  True,  True,  True,  True,  True,  True,  True,\n",
       "        True,  True,  True,  True,  True,  True,  True,  True,  True,\n",
       "        True,  True,  True,  True,  True,  True,  True,  True])"
      ]
     },
     "execution_count": 124,
     "metadata": {},
     "output_type": "execute_result"
    }
   ],
   "source": [
    "result_thres_05[6,:]"
   ]
  },
  {
   "cell_type": "code",
   "execution_count": 114,
   "metadata": {},
   "outputs": [
    {
     "data": {
      "text/plain": [
       "(116,)"
      ]
     },
     "execution_count": 114,
     "metadata": {},
     "output_type": "execute_result"
    }
   ],
   "source": [
    "y_predicted[1,:].shape"
   ]
  },
  {
   "cell_type": "code",
   "execution_count": 113,
   "metadata": {},
   "outputs": [
    {
     "data": {
      "text/plain": [
       "(1, 116)"
      ]
     },
     "execution_count": 113,
     "metadata": {},
     "output_type": "execute_result"
    }
   ],
   "source": [
    "y_predicted[:1].shape"
   ]
  },
  {
   "cell_type": "code",
   "execution_count": 109,
   "metadata": {},
   "outputs": [
    {
     "data": {
      "text/plain": [
       "(3102, 116)"
      ]
     },
     "execution_count": 109,
     "metadata": {},
     "output_type": "execute_result"
    }
   ],
   "source": [
    "y_predicted.shape"
   ]
  }
 ],
 "metadata": {
  "kernelspec": {
   "display_name": "Python 3",
   "language": "python",
   "name": "python3"
  },
  "language_info": {
   "codemirror_mode": {
    "name": "ipython",
    "version": 3
   },
   "file_extension": ".py",
   "mimetype": "text/x-python",
   "name": "python",
   "nbconvert_exporter": "python",
   "pygments_lexer": "ipython3",
   "version": "3.6.7"
  }
 },
 "nbformat": 4,
 "nbformat_minor": 2
}
