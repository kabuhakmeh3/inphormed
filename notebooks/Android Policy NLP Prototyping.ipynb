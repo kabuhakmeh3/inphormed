{
 "cells": [
  {
   "cell_type": "markdown",
   "metadata": {},
   "source": [
    "# Prototyping NLP\n",
    "\n",
    "+ Train a model for just one policy type\n",
    "+ Preprocess data to have 1/0 \n",
    "+ TRANSFORM ALL DATA\n",
    "+ CLUSTER THE TYPES OF POLICIES\n",
    "\n",
    "### Plan\n",
    "+ use annotations policy/modality\n",
    "+ ignore sentences since they are not available for all"
   ]
  },
  {
   "cell_type": "code",
   "execution_count": 310,
   "metadata": {
    "collapsed": true
   },
   "outputs": [],
   "source": [
    "from bs4 import BeautifulSoup"
   ]
  },
  {
   "cell_type": "code",
   "execution_count": 1,
   "metadata": {
    "collapsed": true
   },
   "outputs": [],
   "source": [
    "import os, re\n",
    "import numpy as np\n",
    "import pandas as pd\n",
    "import matplotlib.pyplot as plt\n",
    "%matplotlib inline"
   ]
  },
  {
   "cell_type": "code",
   "execution_count": 70,
   "metadata": {},
   "outputs": [
    {
     "name": "stdout",
     "output_type": "stream",
     "text": [
      "policy_id: 10\n",
      "policy_name: CheetahMobileBatteryDoctorBrowser\n",
      "policy_type: TEST\n",
      "contains_synthetic: false\n",
      "segments:\n",
      "- segment_id: 0\n",
      "  segment_text: Cheetah Mobile Clean Master CM Security PIANO TILES 2 LIVE.ME More\n",
      "    Products Clean Master CM Security Live.me WhatsCall Piano Tiles 2 PhotoGrid News\n",
      "    Republic Battery Doctor CM Launcher CM Browser CM Locker CM Backup CM Behavior\n",
      "    Cloud Clean Master for PC Business Cheetah Ad Platform Pegasi Libra Media Blog\n",
      "    Security Topics CEO Talks Press Release About Company Information Investor Relations\n",
      "    Promotion Policy Global Talent Contact Us Follow Us Facebook Twitter LinkedIn\n",
      "    Home / Privacy Policy Privacy Policy At Cheetah Mobile Inc. we recognize that\n",
      "    privacy is significant. This Privacy Policy (\"Policy\") applies to your use of\n",
      "    the Battery Doctor applications on all platforms (the \"Application\").\n",
      "  annotations: []\n",
      "  sentences: []\n",
      "- segment_id: 1\n",
      "  segment_text: Cheetah Mobile Inc. (\"us\" or \"we\") has created this Policy to explain\n",
      "    our privacy practices so you will understand what information about you is collected,\n",
      "    used and disclosed. We collect information from you in order to provide corresponding\n",
      "    service and better user experience. With your consent of this Privacy Policy,\n",
      "    your usage, statistics, input while using BATTERY DOCTOR would be collected.\n",
      "  annotations: []\n",
      "  sentences: []\n",
      "- segment_id: 2\n",
      "  segment_text: A. WHAT KIND OF INFORMATION WE COLLECT a. Personal Information. We\n",
      "    do not collect Personal Information. \"Personal Information\" is information that\n",
      "    identifies you or another person, which may be transmitted or received when you\n",
      "    use an Application, the Services and/or the Site. ion includes your names, physical\n",
      "    addresses, email addresses, telephone, fax, SSN, information stored within your\n",
      "    Device and other information you transmit or receive using an Application, the\n",
      "    Service and or the Site which identifies you or another person.\n",
      "  annotations:\n",
      "  - practice: Contact_E_Mail_Address_1stParty\n",
      "    modality: NOT_PERFORMED\n",
      "  - practice: Contact_Phone_Number_1stParty\n",
      "    modality: NOT_PERFORMED\n",
      "  - practice: Contact_Postal_Address_1stParty\n",
      "    modality: NOT_PERFORMED\n",
      "  sentences:\n",
      "  - sentence_text: '\"Personal Information\" is information that identifies you or another\n",
      "      person, which may be transmitted or received when you use an Application, the\n",
      "      Services and/or the Site.'\n",
      "    annotations:\n",
      "    - practice: Contact_E_Mail_Address_1stParty\n",
      "      modality: NOT_PERFORMED\n",
      "    - practice: Contact_Phone_Number_1stParty\n",
      "      modality: NOT_PERFORMED\n",
      "    - practice: Contact_Postal_Address_1stParty\n",
      "      modality: NOT_PERFORMED\n",
      "  - sentence_text: We do not collect Personal Information.\n",
      "    annotations:\n",
      "    - practice: Contact_E_Mail_Address_1stParty\n",
      "      modality: NOT_PERFORMED\n",
      "    - practice: Contact_Phone_Number_1stParty\n",
      "      modality: NOT_PERFORMED\n",
      "    - practice: Contact_Postal_Address_1stParty\n",
      "      modality: NOT_PERFORMED\n",
      "  - sentence_text: ion includes your names, physical addresses, email addresses, telephone,\n",
      "      fax, SSN, information stored within your Device and other information you transmit\n",
      "      or receive using an Application, the Service and or the Site which identifies\n",
      "      you or another person.\n",
      "    annotations:\n",
      "    - practice: Contact_E_Mail_Address_1stParty\n",
      "      modality: NOT_PERFORMED\n",
      "    - practice: Contact_Phone_Number_1stParty\n",
      "      modality: NOT_PERFORMED\n",
      "    - practice: Contact_Postal_Address_1stParty\n",
      "      modality: NOT_PERFORMED\n",
      "- segment_id: 3\n",
      "  segment_text: b. Non-personal identification. We may collect non-personal identification\n",
      "    information about installed applications, application usage information and device\n",
      "    information.\n",
      "  annotations: []\n",
      "  sentences: []\n",
      "- segment_id: 4\n",
      "  segment_text: The information you give us, for example, when you give us your opinions\n",
      "    to our application and services via our feedback channel, such as your email address,\n",
      "    and names;\n",
      "  annotations:\n",
      "  - practice: Contact_E_Mail_Address_1stParty\n",
      "    modality: PERFORMED\n",
      "  sentences:\n",
      "  - sentence_text: The information you give us, for example, when you give us your\n",
      "      opinions to our application and services via our feedback channel, such as your\n",
      "      email address, and names;\n",
      "    annotations:\n",
      "    - practice: Contact_E_Mail_Address_1stParty\n",
      "      modality: PERFORMED\n",
      "- segment_id: 5\n",
      "  segment_text: B. HOW WE USE COLLECTED INFORMATION a. Personal Information- since\n",
      "    we do not collect Personal Information, we may not use your personal information\n",
      "    in any way.\n",
      "  annotations: []\n",
      "  sentences: []\n",
      "- segment_id: 6\n",
      "  segment_text: 'b. Non- Personal Information. We may use Non-Personal Information\n",
      "    only for serving you better as below: 1.To personalize user experience; 2.To help\n",
      "    develop our service- We may use Non- Personal Information to provide, maintain,\n",
      "    improve and develop our services;'\n",
      "  annotations: []\n",
      "  sentences: []\n",
      "- segment_id: 7\n",
      "  segment_text: 3. We may collect your non-personal information and use them for market\n",
      "    and promotion purpose, for example, we may promote or recommend more relevant\n",
      "    apps to you.\n",
      "  annotations: []\n",
      "  sentences: []\n",
      "- segment_id: 8\n",
      "  segment_text: C. HOW YOUR INFORMATION MAY BE DISCLOSED a. Personal Information.\n",
      "    We do not store Personal Information and therefore we do not disclose your Personal\n",
      "    Information.\n",
      "  annotations: []\n",
      "  sentences: []\n",
      "- segment_id: 9\n",
      "  segment_text: b. Non-Personal Information. We do not sell, trade, or otherwise transfer\n",
      "    to outside parties your information. We do not combine Non-Personal Information\n",
      "    with Personal Information (such as combining your name with your unique User Device\n",
      "    number).\n",
      "  annotations: []\n",
      "  sentences: []\n",
      "- segment_id: 10\n",
      "  segment_text: c. We may disclose your non-personal information for promotion purpose\n",
      "    to our trusted partners who shall comply with this privacy policy and the relevant\n",
      "    privacy laws\n",
      "  annotations: []\n",
      "  sentences: []\n",
      "- segment_id: 11\n",
      "  segment_text: D. THIRD- PARTY SITES In general, the Applications, the Services and\n",
      "    the Site access third party information (such as your Facebook account information)\n",
      "    through application interfaces. We may provide links to third-party Web sites,\n",
      "    such as Facebook, as a service to our Users. The Site may also carry advertisements\n",
      "    from other companies. When you click on links of third parties in an Application,\n",
      "    the Services or the Site, you may leave the Application, the Services or the Site.\n",
      "    Some of these third party sites may be co-branded with our name/logo or our affiliated\n",
      "    entity's name/logo, even though they are not operated or maintained by us. This\n",
      "    Policy does not address, and we are not responsible for, the privacy practices\n",
      "    of Web sites operated by third parties, whether they are linked to or otherwise\n",
      "    accessible from an Application, the Services or the Site. The inclusion of a link\n",
      "    or accessibility of third party Websites does not imply endorsement of such third\n",
      "    party Website by us.\n",
      "  annotations:\n",
      "  - practice: Facebook_SSO\n",
      "    modality: PERFORMED\n",
      "  - practice: SSO\n",
      "    modality: PERFORMED\n",
      "  sentences:\n",
      "  - sentence_text: In general, the Applications, the Services and the Site access\n",
      "      third party information (such as your Facebook account information) through\n",
      "      application interfaces.\n",
      "    annotations:\n",
      "    - practice: Facebook_SSO\n",
      "      modality: PERFORMED\n",
      "    - practice: SSO\n",
      "      modality: PERFORMED\n",
      "- segment_id: 12\n",
      "  segment_text: E. USERS WITH WHOM YOU SHARE YOUR INFORMATION We cannot control the\n",
      "    actions of other Users with whom you share your information. We cannot, and do\n",
      "    not, control the information you share with other Users using an Application,\n",
      "    the Services or the Site (including via Forums) or how such other Users will use\n",
      "    or share such information. We are not responsible for third party circumvention\n",
      "    of our security measures.\n",
      "  annotations: []\n",
      "  sentences: []\n",
      "- segment_id: 13\n",
      "  segment_text: F.SECURITY Cheetah Mobile Inc. is very concerned about safeguarding\n",
      "    the confidentiality of your information. We do not collect Personal Information,\n",
      "    and we employ administrative, physical and electronic measures designed to protect\n",
      "    your Non-Personal Information from unauthorized access and use. Please be aware\n",
      "    that no security measures that we take to protect your information is absolutely\n",
      "    guaranteed to avoid unauthorized access or use of your Non-Personal Information\n",
      "    which is impenetrable.\n",
      "  annotations: []\n",
      "  sentences: []\n",
      "- segment_id: 14\n",
      "  segment_text: G. SENSITIVE INFORMATION We ask that you not send us, and you not\n",
      "    disclose, any sensitive Personal Information (e.g., information related to racial\n",
      "    or ethnic origin, political opinions, religion or other beliefs, health, sexual\n",
      "    orientation, criminal background or membership in past organizations, including\n",
      "    trade union memberships) on or through an Application, the Services or the Site\n",
      "    or otherwise to us.\n",
      "  annotations: []\n",
      "  sentences: []\n",
      "- segment_id: 15\n",
      "  segment_text: H. CONTACTING US / REPORTING VIOLATIONS If you have any questions\n",
      "    or comments about this Policy or our privacy practices, or to report any violations\n",
      "    of the Policy or abuse of an Application, the Services or the Site, please contact\n",
      "    us at support@cmcm.com.\n",
      "  annotations: []\n",
      "  sentences: []\n",
      "- segment_id: 16\n",
      "  segment_text: I. CHANGES TO THIS PRIVACY POLICY Our Privacy Policy may change from\n",
      "    time to time, we will post any privacy policy changes on this page, so please\n",
      "    review it periodically. We may provide you additional forms of notice of modifications\n",
      "    or updates as appropriate under the circumstances.\n",
      "  annotations: []\n",
      "  sentences: []\n",
      "- segment_id: 17\n",
      "  segment_text: If you do not agree to any modifications to this Policy, your sole\n",
      "    recourse is to immediately stop all use of all Applications, the Services and\n",
      "    the Site. Your continued use of any Application, the Services or the Site following\n",
      "    the posting of any modifications to this Policy will constitute your acceptance\n",
      "    of the revised Policy. Please note that none of our employees or agents has the\n",
      "    authority to vary any of our Policies.\n",
      "  annotations: []\n",
      "  sentences: []\n",
      "- segment_id: 18\n",
      "  segment_text: \"Privacy Policy | Cheetah Mobile \\xA9 2017 \\xB7 EnglishEnglishEspa\\xF1\\\n",
      "    olFran\\xE7aisP\\u0443\\u0441\\u0441\\u043A\\u0438\\u0439Portugu\\xEAs\\u65E5\\u672C\\u8A9E\\\n",
      "    \\uD55C\\uAD6D\\uC5B4\\u7E41\\u9AD4\\u4E2D\\u6587\\u7B80\\u4F53\\u4E2D\\u6587\"\n",
      "  annotations: []\n",
      "  sentences: []\n",
      "\n"
     ]
    }
   ],
   "source": [
    "data_path = '../data/APP-350_v1.0/annotations/'\n",
    "with open(os.path.join(data_path, 'policy_10.yml'), 'r') as f:\n",
    "    text = f.read()\n",
    "    \n",
    "print(text)"
   ]
  },
  {
   "cell_type": "code",
   "execution_count": 71,
   "metadata": {},
   "outputs": [
    {
     "data": {
      "text/plain": [
       "'policy_id: 10\\npolicy_name: CheetahMobileBatteryDoctorBrowser\\npolicy_type: TEST\\ncontains_synthetic: false\\nsegments:\\n- segment_id: 0\\n  segment_text: Cheetah Mobile Clean Master CM Security PIANO TILES 2 LIVE.ME More\\n    Products Clean Master CM Security Live.me WhatsCall Piano Tiles 2 PhotoGrid News\\n    Republic Battery Doctor CM Launcher CM Browser CM Locker CM Backup CM Behavior\\n    Cloud Clean Master for PC Business Cheetah Ad Platform Pegasi Libra Media Blog\\n    Security Topics CEO Talks Press Release About Company Information Investor Relations\\n    Promotion Policy Global Talent Contact Us Follow Us Facebook Twitter LinkedIn\\n    Home / Privacy Policy Privacy Policy At Cheetah Mobile Inc. we recognize that\\n    privacy is significant. This Privacy Policy (\"Policy\") applies to your use of\\n    the Battery Doctor applications on all platforms (the \"Application\").\\n  annotations: []\\n  sentences: []\\n- segment_id: 1\\n  segment_text: Cheetah Mobile Inc. (\"us\" or \"we\") has created this Policy to explain\\n    our privacy practices so you will understand what information about you is collected,\\n    used and disclosed. We collect information from you in order to provide corresponding\\n    service and better user experience. With your consent of this Privacy Policy,\\n    your usage, statistics, input while using BATTERY DOCTOR would be collected.\\n  annotations: []\\n  sentences: []\\n- segment_id: 2\\n  segment_text: A. WHAT KIND OF INFORMATION WE COLLECT a. Personal Information. We\\n    do not collect Personal Information. \"Personal Information\" is information that\\n    identifies you or another person, which may be transmitted or received when you\\n    use an Application, the Services and/or the Site. ion includes your names, physical\\n    addresses, email addresses, telephone, fax, SSN, information stored within your\\n    Device and other information you transmit or receive using an Application, the\\n    Service and or the Site which identifies you or another person.\\n  annotations:\\n  - practice: Contact_E_Mail_Address_1stParty\\n    modality: NOT_PERFORMED\\n  - practice: Contact_Phone_Number_1stParty\\n    modality: NOT_PERFORMED\\n  - practice: Contact_Postal_Address_1stParty\\n    modality: NOT_PERFORMED\\n  sentences:\\n  - sentence_text: \\'\"Personal Information\" is information that identifies you or another\\n      person, which may be transmitted or received when you use an Application, the\\n      Services and/or the Site.\\'\\n    annotations:\\n    - practice: Contact_E_Mail_Address_1stParty\\n      modality: NOT_PERFORMED\\n    - practice: Contact_Phone_Number_1stParty\\n      modality: NOT_PERFORMED\\n    - practice: Contact_Postal_Address_1stParty\\n      modality: NOT_PERFORMED\\n  - sentence_text: We do not collect Personal Information.\\n    annotations:\\n    - practice: Contact_E_Mail_Address_1stParty\\n      modality: NOT_PERFORMED\\n    - practice: Contact_Phone_Number_1stParty\\n      modality: NOT_PERFORMED\\n    - practice: Contact_Postal_Address_1stParty\\n      modality: NOT_PERFORMED\\n  - sentence_text: ion includes your names, physical addresses, email addresses, telephone,\\n      fax, SSN, information stored within your Device and other information you transmit\\n      or receive using an Application, the Service and or the Site which identifies\\n      you or another person.\\n    annotations:\\n    - practice: Contact_E_Mail_Address_1stParty\\n      modality: NOT_PERFORMED\\n    - practice: Contact_Phone_Number_1stParty\\n      modality: NOT_PERFORMED\\n    - practice: Contact_Postal_Address_1stParty\\n      modality: NOT_PERFORMED\\n- segment_id: 3\\n  segment_text: b. Non-personal identification. We may collect non-personal identification\\n    information about installed applications, application usage information and device\\n    information.\\n  annotations: []\\n  sentences: []\\n- segment_id: 4\\n  segment_text: The information you give us, for example, when you give us your opinions\\n    to our application and services via our feedback channel, such as your email address,\\n    and names;\\n  annotations:\\n  - practice: Contact_E_Mail_Address_1stParty\\n    modality: PERFORMED\\n  sentences:\\n  - sentence_text: The information you give us, for example, when you give us your\\n      opinions to our application and services via our feedback channel, such as your\\n      email address, and names;\\n    annotations:\\n    - practice: Contact_E_Mail_Address_1stParty\\n      modality: PERFORMED\\n- segment_id: 5\\n  segment_text: B. HOW WE USE COLLECTED INFORMATION a. Personal Information- since\\n    we do not collect Personal Information, we may not use your personal information\\n    in any way.\\n  annotations: []\\n  sentences: []\\n- segment_id: 6\\n  segment_text: \\'b. Non- Personal Information. We may use Non-Personal Information\\n    only for serving you better as below: 1.To personalize user experience; 2.To help\\n    develop our service- We may use Non- Personal Information to provide, maintain,\\n    improve and develop our services;\\'\\n  annotations: []\\n  sentences: []\\n- segment_id: 7\\n  segment_text: 3. We may collect your non-personal information and use them for market\\n    and promotion purpose, for example, we may promote or recommend more relevant\\n    apps to you.\\n  annotations: []\\n  sentences: []\\n- segment_id: 8\\n  segment_text: C. HOW YOUR INFORMATION MAY BE DISCLOSED a. Personal Information.\\n    We do not store Personal Information and therefore we do not disclose your Personal\\n    Information.\\n  annotations: []\\n  sentences: []\\n- segment_id: 9\\n  segment_text: b. Non-Personal Information. We do not sell, trade, or otherwise transfer\\n    to outside parties your information. We do not combine Non-Personal Information\\n    with Personal Information (such as combining your name with your unique User Device\\n    number).\\n  annotations: []\\n  sentences: []\\n- segment_id: 10\\n  segment_text: c. We may disclose your non-personal information for promotion purpose\\n    to our trusted partners who shall comply with this privacy policy and the relevant\\n    privacy laws\\n  annotations: []\\n  sentences: []\\n- segment_id: 11\\n  segment_text: D. THIRD- PARTY SITES In general, the Applications, the Services and\\n    the Site access third party information (such as your Facebook account information)\\n    through application interfaces. We may provide links to third-party Web sites,\\n    such as Facebook, as a service to our Users. The Site may also carry advertisements\\n    from other companies. When you click on links of third parties in an Application,\\n    the Services or the Site, you may leave the Application, the Services or the Site.\\n    Some of these third party sites may be co-branded with our name/logo or our affiliated\\n    entity\\'s name/logo, even though they are not operated or maintained by us. This\\n    Policy does not address, and we are not responsible for, the privacy practices\\n    of Web sites operated by third parties, whether they are linked to or otherwise\\n    accessible from an Application, the Services or the Site. The inclusion of a link\\n    or accessibility of third party Websites does not imply endorsement of such third\\n    party Website by us.\\n  annotations:\\n  - practice: Facebook_SSO\\n    modality: PERFORMED\\n  - practice: SSO\\n    modality: PERFORMED\\n  sentences:\\n  - sentence_text: In general, the Applications, the Services and the Site access\\n      third party information (such as your Facebook account information) through\\n      application interfaces.\\n    annotations:\\n    - practice: Facebook_SSO\\n      modality: PERFORMED\\n    - practice: SSO\\n      modality: PERFORMED\\n- segment_id: 12\\n  segment_text: E. USERS WITH WHOM YOU SHARE YOUR INFORMATION We cannot control the\\n    actions of other Users with whom you share your information. We cannot, and do\\n    not, control the information you share with other Users using an Application,\\n    the Services or the Site (including via Forums) or how such other Users will use\\n    or share such information. We are not responsible for third party circumvention\\n    of our security measures.\\n  annotations: []\\n  sentences: []\\n- segment_id: 13\\n  segment_text: F.SECURITY Cheetah Mobile Inc. is very concerned about safeguarding\\n    the confidentiality of your information. We do not collect Personal Information,\\n    and we employ administrative, physical and electronic measures designed to protect\\n    your Non-Personal Information from unauthorized access and use. Please be aware\\n    that no security measures that we take to protect your information is absolutely\\n    guaranteed to avoid unauthorized access or use of your Non-Personal Information\\n    which is impenetrable.\\n  annotations: []\\n  sentences: []\\n- segment_id: 14\\n  segment_text: G. SENSITIVE INFORMATION We ask that you not send us, and you not\\n    disclose, any sensitive Personal Information (e.g., information related to racial\\n    or ethnic origin, political opinions, religion or other beliefs, health, sexual\\n    orientation, criminal background or membership in past organizations, including\\n    trade union memberships) on or through an Application, the Services or the Site\\n    or otherwise to us.\\n  annotations: []\\n  sentences: []\\n- segment_id: 15\\n  segment_text: H. CONTACTING US / REPORTING VIOLATIONS If you have any questions\\n    or comments about this Policy or our privacy practices, or to report any violations\\n    of the Policy or abuse of an Application, the Services or the Site, please contact\\n    us at support@cmcm.com.\\n  annotations: []\\n  sentences: []\\n- segment_id: 16\\n  segment_text: I. CHANGES TO THIS PRIVACY POLICY Our Privacy Policy may change from\\n    time to time, we will post any privacy policy changes on this page, so please\\n    review it periodically. We may provide you additional forms of notice of modifications\\n    or updates as appropriate under the circumstances.\\n  annotations: []\\n  sentences: []\\n- segment_id: 17\\n  segment_text: If you do not agree to any modifications to this Policy, your sole\\n    recourse is to immediately stop all use of all Applications, the Services and\\n    the Site. Your continued use of any Application, the Services or the Site following\\n    the posting of any modifications to this Policy will constitute your acceptance\\n    of the revised Policy. Please note that none of our employees or agents has the\\n    authority to vary any of our Policies.\\n  annotations: []\\n  sentences: []\\n- segment_id: 18\\n  segment_text: \"Privacy Policy | Cheetah Mobile \\\\xA9 2017 \\\\xB7 EnglishEnglishEspa\\\\xF1\\\\\\n    olFran\\\\xE7aisP\\\\u0443\\\\u0441\\\\u0441\\\\u043A\\\\u0438\\\\u0439Portugu\\\\xEAs\\\\u65E5\\\\u672C\\\\u8A9E\\\\\\n    \\\\uD55C\\\\uAD6D\\\\uC5B4\\\\u7E41\\\\u9AD4\\\\u4E2D\\\\u6587\\\\u7B80\\\\u4F53\\\\u4E2D\\\\u6587\"\\n  annotations: []\\n  sentences: []\\n'"
      ]
     },
     "execution_count": 71,
     "metadata": {},
     "output_type": "execute_result"
    }
   ],
   "source": [
    "text"
   ]
  },
  {
   "cell_type": "code",
   "execution_count": 74,
   "metadata": {},
   "outputs": [
    {
     "data": {
      "text/plain": [
       "[' 0\\n  segment_text: Cheetah Mobile Clean Master CM Security PIANO TILES 2 LIVE.ME More\\n    Products Clean Master CM Security Live.me WhatsCall Piano Tiles 2 PhotoGrid News\\n    Republic Battery Doctor CM Launcher CM Browser CM Locker CM Backup CM Behavior\\n    Cloud Clean Master for PC Business Cheetah Ad Platform Pegasi Libra Media Blog\\n    Security Topics CEO Talks Press Release About Company Information Investor Relations\\n    Promotion Policy Global Talent Contact Us Follow Us Facebook Twitter LinkedIn\\n    Home / Privacy Policy Privacy Policy At Cheetah Mobile Inc. we recognize that\\n    privacy is significant. This Privacy Policy (\"Policy\") applies to your use of\\n    the Battery Doctor applications on all platforms (the \"Application\").\\n  annotations: []\\n  sentences: []\\n- ',\n",
       " ' 1\\n  segment_text: Cheetah Mobile Inc. (\"us\" or \"we\") has created this Policy to explain\\n    our privacy practices so you will understand what information about you is collected,\\n    used and disclosed. We collect information from you in order to provide corresponding\\n    service and better user experience. With your consent of this Privacy Policy,\\n    your usage, statistics, input while using BATTERY DOCTOR would be collected.\\n  annotations: []\\n  sentences: []\\n- ']"
      ]
     },
     "execution_count": 74,
     "metadata": {},
     "output_type": "execute_result"
    }
   ],
   "source": [
    "segments = re.split(r'segment_id:', text)\n",
    "segments[1:3]"
   ]
  },
  {
   "cell_type": "code",
   "execution_count": 75,
   "metadata": {},
   "outputs": [
    {
     "data": {
      "text/plain": [
       "' 0\\n  segment_text: Cheetah Mobile Clean Master CM Security PIANO TILES 2 LIVE.ME More\\n    Products Clean Master CM Security Live.me WhatsCall Piano Tiles 2 PhotoGrid News\\n    Republic Battery Doctor CM Launcher CM Browser CM Locker CM Backup CM Behavior\\n    Cloud Clean Master for PC Business Cheetah Ad Platform Pegasi Libra Media Blog\\n    Security Topics CEO Talks Press Release About Company Information Investor Relations\\n    Promotion Policy Global Talent Contact Us Follow Us Facebook Twitter LinkedIn\\n    Home / Privacy Policy Privacy Policy At Cheetah Mobile Inc. we recognize that\\n    privacy is significant. This Privacy Policy (\"Policy\") applies to your use of\\n    the Battery Doctor applications on all platforms (the \"Application\").\\n  annotations: []\\n  sentences: []\\n- '"
      ]
     },
     "execution_count": 75,
     "metadata": {},
     "output_type": "execute_result"
    }
   ],
   "source": [
    "first_seg = segments[1]\n",
    "first_seg"
   ]
  },
  {
   "cell_type": "code",
   "execution_count": 106,
   "metadata": {},
   "outputs": [
    {
     "data": {
      "text/plain": [
       "'0'"
      ]
     },
     "execution_count": 106,
     "metadata": {},
     "output_type": "execute_result"
    }
   ],
   "source": [
    "def process_segment(seg):\n",
    "    x = re.search(r'[\\d]',seg)\n",
    "    seg_id = x.group()\n",
    "    \n",
    "    return seg_id\n",
    "process_segment(tt)"
   ]
  },
  {
   "cell_type": "code",
   "execution_count": 122,
   "metadata": {},
   "outputs": [
    {
     "data": {
      "text/plain": [
       "['',\n",
       " ' practice: Contact_E_Mail_Address_1stParty    modality: NOT_PERFORMED  ',\n",
       " ' practice: Contact_Phone_Number_1stParty    modality: NOT_PERFORMED  ',\n",
       " ' practice: Contact_Postal_Address_1stParty    modality: NOT_PERFORMED']"
      ]
     },
     "execution_count": 122,
     "metadata": {},
     "output_type": "execute_result"
    }
   ],
   "source": [
    "get_annotations(remove_newline(segments[3])).split('-')"
   ]
  },
  {
   "cell_type": "code",
   "execution_count": 121,
   "metadata": {},
   "outputs": [
    {
     "data": {
      "text/plain": [
       "['', ' practice: Contact_E_Mail_Address_1stParty    modality: PERFORMED']"
      ]
     },
     "execution_count": 121,
     "metadata": {},
     "output_type": "execute_result"
    }
   ],
   "source": [
    "get_annotations(remove_newline(segments[5])).split('-')"
   ]
  },
  {
   "cell_type": "code",
   "execution_count": 195,
   "metadata": {},
   "outputs": [],
   "source": [
    "# segments = re.split(r'segment_id:', text)\n",
    "def remove_newline(text):\n",
    "    clean_text = text.replace('\\n','')\n",
    "    return clean_text\n",
    "\n",
    "def get_segments(text):\n",
    "    segments = re.split(r'segment_id:', text)\n",
    "    return segments[1:]\n",
    "\n",
    "def get_segment_id(seg):\n",
    "    ### THIS DOES NOT RETURN MORE THAN ONE DIGIT!\n",
    "    x = re.search(r'[\\d]+',seg)\n",
    "    seg_id = x.group()\n",
    "    return seg_id\n",
    "\n",
    "def get_segment_text(seg):\n",
    "    x = re.split(r'annotations:',seg)[0]\n",
    "    y = re.search(r'segment_text:(.*)',x)\n",
    "    seg_text = y.group()[len('segment_text:'):].strip()\n",
    "    #y = re.search(r'segment_text:(.*)',x.group())\n",
    "    #x = re.search(r'segment_text:(.*)annotations:',seg)\n",
    "    ## trt start_sting & end_string\n",
    "    #seg_text = x.group()[len('segment_text:'):-len('annotations:')].strip()\n",
    "    return seg_text\n",
    "\n",
    "def get_annotations(seg):\n",
    "    ## THIS DOES NOT WORK IN ALL CASES -- see annotations:\n",
    "    annotations = {}\n",
    "    x = re.search(r'annotations:(.*)sentences:',seg)\n",
    "    annotation_string = x.group()[len('annotations:'):-len('sentences:')].strip()\n",
    "    if annotation_string=='[]':\n",
    "        return annotations\n",
    "    else:\n",
    "        annotation_list = annotation_string.split('-')\n",
    "        for practice in annotation_list:\n",
    "            if 'practice:' in practice:\n",
    "                y = re.search(r'practice:(.*)modality:',practice)\n",
    "                prac = y.group()[len('practice:'):-len('modality:')].strip()\n",
    "                #print(prac)\n",
    "                z = re.search(r'modality:(.*)',practice)\n",
    "                modality = z.group()[len('modality:'):].strip()\n",
    "                #print(modality)\n",
    "                annotations[prac] = modality\n",
    "        #print(annotation_list)\n",
    "    return annotations"
   ]
  },
  {
   "cell_type": "code",
   "execution_count": 205,
   "metadata": {},
   "outputs": [
    {
     "data": {
      "text/plain": [
       "'policy_1'"
      ]
     },
     "execution_count": 205,
     "metadata": {},
     "output_type": "execute_result"
    }
   ],
   "source": [
    "os.listdir(data_path)[0][:-4]"
   ]
  },
  {
   "cell_type": "code",
   "execution_count": 215,
   "metadata": {},
   "outputs": [
    {
     "data": {
      "text/plain": [
       "(15507, 4)"
      ]
     },
     "execution_count": 215,
     "metadata": {},
     "output_type": "execute_result"
    }
   ],
   "source": [
    "data_path = '../data/APP-350_v1.0/annotations/'\n",
    "\n",
    "policy_dict = {}\n",
    "\n",
    "for policy_file in os.listdir(data_path):\n",
    "    policy_name = policy_file[:-4]\n",
    "    with open(os.path.join(data_path, policy_file), 'r') as f:\n",
    "        text = f.read()\n",
    "        segments = get_segments(remove_newline(text))\n",
    "        seg_ids = []\n",
    "        seg_texts = []\n",
    "        seg_annots = []\n",
    "        for segment in segments:\n",
    "            seg_ids.append(get_segment_id(segment))\n",
    "            seg_texts.append(get_segment_text(segment))\n",
    "            seg_annots.append(get_annotations(segment))\n",
    "        df_policy = pd.DataFrame({'segment_id': seg_ids, 'text': seg_texts, 'annotations': seg_annots})\n",
    "        df_policy['policy'] = policy_name[7:]\n",
    "        policy_dict[policy_name] = df_policy\n",
    "        \n",
    "df = pd.concat(policy_dict[pol] for pol in policy_dict)\n",
    "#df.to_csv('./Cleaned_Segments_Annotations.csv')\n",
    "df.shape"
   ]
  },
  {
   "cell_type": "code",
   "execution_count": 223,
   "metadata": {},
   "outputs": [
    {
     "data": {
      "text/plain": [
       "'PERFORMED'"
      ]
     },
     "execution_count": 223,
     "metadata": {},
     "output_type": "execute_result"
    }
   ],
   "source": [
    "df.annotations.iloc[3]['Identifier_Cookie_or_similar_Tech_1stParty']"
   ]
  },
  {
   "cell_type": "code",
   "execution_count": 238,
   "metadata": {},
   "outputs": [
    {
     "name": "stdout",
     "output_type": "stream",
     "text": [
      "['Contact_1stParty', 'Contact_3rdParty', 'Contact_Address_Book_1stParty', 'Contact_Address_Book_3rdParty']\n"
     ]
    }
   ],
   "source": [
    "import pickle\n",
    "with open('../pickles/policy_list.pckl', 'rb') as p:\n",
    "    policy_list = pickle.load(p)\n",
    "print(policy_list[0:4])"
   ]
  },
  {
   "cell_type": "code",
   "execution_count": 225,
   "metadata": {},
   "outputs": [],
   "source": [
    "def get_policy_df(annotation_dict, policy='Identifier_Cookie_or_similar_Tech_1stParty'):\n",
    "    try:\n",
    "        return annotation_dict[policy]\n",
    "    except:\n",
    "        return np.nan"
   ]
  },
  {
   "cell_type": "code",
   "execution_count": 242,
   "metadata": {},
   "outputs": [
    {
     "data": {
      "text/plain": [
       "Index(['segment_id', 'text', 'annotations', 'policy', 'performed'], dtype='object')"
      ]
     },
     "execution_count": 242,
     "metadata": {},
     "output_type": "execute_result"
    }
   ],
   "source": [
    "df_cookies.columns"
   ]
  },
  {
   "cell_type": "code",
   "execution_count": 243,
   "metadata": {},
   "outputs": [
    {
     "name": "stdout",
     "output_type": "stream",
     "text": [
      "Contact_1stParty ...writing 211 lines\n",
      "Contact_3rdParty ...writing 36 lines\n",
      "Contact_Address_Book_1stParty ...writing 219 lines\n",
      "Contact_Address_Book_3rdParty ...writing 14 lines\n",
      "Contact_City_1stParty ...writing 65 lines\n",
      "Contact_City_3rdParty ...writing 8 lines\n",
      "Contact_E_Mail_Address_1stParty ...writing 1104 lines\n",
      "Contact_E_Mail_Address_3rdParty ...writing 143 lines\n",
      "Contact_Password_1stParty ...writing 224 lines\n",
      "Contact_Password_3rdParty ...writing 18 lines\n",
      "Contact_Phone_Number_1stParty ...writing 565 lines\n",
      "Contact_Phone_Number_3rdParty ...writing 69 lines\n",
      "Contact_Postal_Address_1stParty ...writing 364 lines\n",
      "Contact_Postal_Address_3rdParty ...writing 62 lines\n",
      "Contact_ZIP_1stParty ...writing 93 lines\n",
      "Contact_ZIP_3rdParty ...writing 24 lines\n",
      "Demographic_1stParty ...writing 146 lines\n",
      "Demographic_3rdParty ...writing 72 lines\n",
      "Demographic_Age_1stParty ...writing 259 lines\n",
      "Demographic_Age_3rdParty ...writing 49 lines\n",
      "Demographic_Gender_1stParty ...writing 200 lines\n",
      "Demographic_Gender_3rdParty ...writing 36 lines\n",
      "Facebook_SSO ...writing 199 lines\n",
      "Identifier_1stParty ...writing 104 lines\n",
      "Identifier_3rdParty ...writing 46 lines\n",
      "Identifier_Ad_ID_1stParty ...writing 152 lines\n",
      "Identifier_Ad_ID_3rdParty ...writing 107 lines\n",
      "Identifier_Cookie_or_similar_Tech_1stParty ...writing 858 lines\n",
      "Identifier_Cookie_or_similar_Tech_3rdParty ...writing 524 lines\n",
      "Identifier_Device_ID_1stParty ...writing 446 lines\n",
      "Identifier_Device_ID_3rdParty ...writing 179 lines\n",
      "Identifier_IMEI_1stParty ...writing 76 lines\n",
      "Identifier_IMEI_3rdParty ...writing 23 lines\n",
      "Identifier_IMSI_1stParty ...writing 11 lines\n",
      "Identifier_IMSI_3rdParty ...writing 3 lines\n",
      "Identifier_IP_Address_1stParty ...writing 590 lines\n",
      "Identifier_IP_Address_3rdParty ...writing 241 lines\n",
      "Identifier_MAC_1stParty ...writing 111 lines\n",
      "Identifier_MAC_3rdParty ...writing 49 lines\n",
      "Identifier_Mobile_Carrier_1stParty ...writing 100 lines\n",
      "Identifier_Mobile_Carrier_3rdParty ...writing 21 lines\n",
      "Identifier_SIM_Serial_1stParty ...writing 29 lines\n",
      "Identifier_SIM_Serial_3rdParty ...writing 3 lines\n",
      "Identifier_SSID_BSSID_1stParty ...writing 16 lines\n",
      "Identifier_SSID_BSSID_3rdParty ...writing 2 lines\n",
      "Location_1stParty ...writing 820 lines\n",
      "Location_3rdParty ...writing 213 lines\n",
      "Location_Bluetooth_1stParty ...writing 127 lines\n",
      "Location_Bluetooth_3rdParty ...writing 42 lines\n",
      "Location_Cell_Tower_1stParty ...writing 121 lines\n",
      "Location_Cell_Tower_3rdParty ...writing 45 lines\n",
      "Location_GPS_1stParty ...writing 218 lines\n",
      "Location_GPS_3rdParty ...writing 62 lines\n",
      "Location_IP_Address_1stParty ...writing 129 lines\n",
      "Location_IP_Address_3rdParty ...writing 55 lines\n",
      "Location_WiFi_1stParty ...writing 169 lines\n",
      "Location_WiFi_3rdParty ...writing 53 lines\n",
      "SSO ...writing 274 lines\n"
     ]
    }
   ],
   "source": [
    "cols_to_write = ['text', 'performed']\n",
    "for current_pol in policy_list:\n",
    "    tmp_df = df.copy()\n",
    "    tmp_df['performed'] = tmp_df.annotations.apply(lambda x: get_policy_df(x, policy=current_pol))\n",
    "    tmp_df = tmp_df[~(tmp_df.performed.isna())][cols_to_write]\n",
    "    print(current_pol+' ...writing {} lines'.format(len(tmp_df)))\n",
    "    tmp_df.to_csv('../train/'+current_pol+'.csv',index=False)"
   ]
  },
  {
   "cell_type": "code",
   "execution_count": 251,
   "metadata": {
    "collapsed": true
   },
   "outputs": [],
   "source": [
    "target_map = {'PERFORMED':1,'NOT_PERFORMED':0}"
   ]
  },
  {
   "cell_type": "code",
   "execution_count": 253,
   "metadata": {},
   "outputs": [
    {
     "data": {
      "text/html": [
       "<div>\n",
       "<style scoped>\n",
       "    .dataframe tbody tr th:only-of-type {\n",
       "        vertical-align: middle;\n",
       "    }\n",
       "\n",
       "    .dataframe tbody tr th {\n",
       "        vertical-align: top;\n",
       "    }\n",
       "\n",
       "    .dataframe thead th {\n",
       "        text-align: right;\n",
       "    }\n",
       "</style>\n",
       "<table border=\"1\" class=\"dataframe\">\n",
       "  <thead>\n",
       "    <tr style=\"text-align: right;\">\n",
       "      <th></th>\n",
       "      <th>text</th>\n",
       "      <th>performed</th>\n",
       "      <th>target</th>\n",
       "    </tr>\n",
       "  </thead>\n",
       "  <tbody>\n",
       "    <tr>\n",
       "      <th>0</th>\n",
       "      <td>D. THIRD- PARTY SITES In general, the Applicat...</td>\n",
       "      <td>PERFORMED</td>\n",
       "      <td>1</td>\n",
       "    </tr>\n",
       "    <tr>\n",
       "      <th>1</th>\n",
       "      <td>Use a third party connection or log-in to crea...</td>\n",
       "      <td>PERFORMED</td>\n",
       "      <td>1</td>\n",
       "    </tr>\n",
       "    <tr>\n",
       "      <th>2</th>\n",
       "      <td>Third Parties. To improve the quality of some ...</td>\n",
       "      <td>PERFORMED</td>\n",
       "      <td>1</td>\n",
       "    </tr>\n",
       "    <tr>\n",
       "      <th>3</th>\n",
       "      <td>'User IDs, registration, purchases, and contac...</td>\n",
       "      <td>PERFORMED</td>\n",
       "      <td>1</td>\n",
       "    </tr>\n",
       "    <tr>\n",
       "      <th>4</th>\n",
       "      <td>(a) Social Networking Sites. If you use one of...</td>\n",
       "      <td>PERFORMED</td>\n",
       "      <td>1</td>\n",
       "    </tr>\n",
       "  </tbody>\n",
       "</table>\n",
       "</div>"
      ],
      "text/plain": [
       "                                                text  performed  target\n",
       "0  D. THIRD- PARTY SITES In general, the Applicat...  PERFORMED       1\n",
       "1  Use a third party connection or log-in to crea...  PERFORMED       1\n",
       "2  Third Parties. To improve the quality of some ...  PERFORMED       1\n",
       "3  'User IDs, registration, purchases, and contac...  PERFORMED       1\n",
       "4  (a) Social Networking Sites. If you use one of...  PERFORMED       1"
      ]
     },
     "execution_count": 253,
     "metadata": {},
     "output_type": "execute_result"
    }
   ],
   "source": [
    "df_sso = pd.read_csv('../train/SSO.csv')\n",
    "df_sso['target'] = df_sso.performed.map(target_map)\n",
    "df_sso.head()"
   ]
  },
  {
   "cell_type": "code",
   "execution_count": 236,
   "metadata": {},
   "outputs": [
    {
     "data": {
      "text/plain": [
       "PERFORMED        245\n",
       "NOT_PERFORMED    119\n",
       "Name: performed, dtype: int64"
      ]
     },
     "execution_count": 236,
     "metadata": {},
     "output_type": "execute_result"
    }
   ],
   "source": [
    "df_cookies = df.copy()\n",
    "df_cookies['performed'] = df_cookies.annotations.apply(lambda x: get_policy_df(x, policy='Contact_Postal_Address_1stParty'))\n",
    "df_cookies = df_cookies[~(df_cookies.performed.isna())]\n",
    "df_cookies.performed.value_counts()"
   ]
  },
  {
   "cell_type": "code",
   "execution_count": 196,
   "metadata": {},
   "outputs": [],
   "source": [
    "segments = get_segments(remove_newline(text))\n",
    "seg_ids = []\n",
    "seg_texts = []\n",
    "seg_annots = []\n",
    "for segment in segments:\n",
    "    seg_ids.append(get_segment_id(segment))\n",
    "    seg_texts.append(get_segment_text(segment))\n",
    "    seg_annots.append(get_annotations(segment))"
   ]
  },
  {
   "cell_type": "code",
   "execution_count": 202,
   "metadata": {},
   "outputs": [
    {
     "data": {
      "text/html": [
       "<div>\n",
       "<style scoped>\n",
       "    .dataframe tbody tr th:only-of-type {\n",
       "        vertical-align: middle;\n",
       "    }\n",
       "\n",
       "    .dataframe tbody tr th {\n",
       "        vertical-align: top;\n",
       "    }\n",
       "\n",
       "    .dataframe thead th {\n",
       "        text-align: right;\n",
       "    }\n",
       "</style>\n",
       "<table border=\"1\" class=\"dataframe\">\n",
       "  <thead>\n",
       "    <tr style=\"text-align: right;\">\n",
       "      <th></th>\n",
       "      <th>segment_id</th>\n",
       "      <th>text</th>\n",
       "      <th>annotations</th>\n",
       "    </tr>\n",
       "  </thead>\n",
       "  <tbody>\n",
       "    <tr>\n",
       "      <th>0</th>\n",
       "      <td>0</td>\n",
       "      <td>Cheetah Mobile Clean Master CM Security PIANO ...</td>\n",
       "      <td>{}</td>\n",
       "    </tr>\n",
       "    <tr>\n",
       "      <th>1</th>\n",
       "      <td>1</td>\n",
       "      <td>Cheetah Mobile Inc. (\"us\" or \"we\") has created...</td>\n",
       "      <td>{}</td>\n",
       "    </tr>\n",
       "    <tr>\n",
       "      <th>2</th>\n",
       "      <td>2</td>\n",
       "      <td>A. WHAT KIND OF INFORMATION WE COLLECT a. Pers...</td>\n",
       "      <td>{'Contact_E_Mail_Address_1stParty': 'NOT_PERFO...</td>\n",
       "    </tr>\n",
       "    <tr>\n",
       "      <th>3</th>\n",
       "      <td>3</td>\n",
       "      <td>b. Non-personal identification. We may collect...</td>\n",
       "      <td>{}</td>\n",
       "    </tr>\n",
       "    <tr>\n",
       "      <th>4</th>\n",
       "      <td>4</td>\n",
       "      <td>The information you give us, for example, when...</td>\n",
       "      <td>{'Contact_E_Mail_Address_1stParty': 'PERFORMED'}</td>\n",
       "    </tr>\n",
       "    <tr>\n",
       "      <th>5</th>\n",
       "      <td>5</td>\n",
       "      <td>B. HOW WE USE COLLECTED INFORMATION a. Persona...</td>\n",
       "      <td>{}</td>\n",
       "    </tr>\n",
       "    <tr>\n",
       "      <th>6</th>\n",
       "      <td>6</td>\n",
       "      <td>'b. Non- Personal Information. We may use Non-...</td>\n",
       "      <td>{}</td>\n",
       "    </tr>\n",
       "    <tr>\n",
       "      <th>7</th>\n",
       "      <td>7</td>\n",
       "      <td>3. We may collect your non-personal informatio...</td>\n",
       "      <td>{}</td>\n",
       "    </tr>\n",
       "    <tr>\n",
       "      <th>8</th>\n",
       "      <td>8</td>\n",
       "      <td>C. HOW YOUR INFORMATION MAY BE DISCLOSED a. Pe...</td>\n",
       "      <td>{}</td>\n",
       "    </tr>\n",
       "    <tr>\n",
       "      <th>9</th>\n",
       "      <td>9</td>\n",
       "      <td>b. Non-Personal Information. We do not sell, t...</td>\n",
       "      <td>{}</td>\n",
       "    </tr>\n",
       "    <tr>\n",
       "      <th>10</th>\n",
       "      <td>10</td>\n",
       "      <td>c. We may disclose your non-personal informati...</td>\n",
       "      <td>{}</td>\n",
       "    </tr>\n",
       "    <tr>\n",
       "      <th>11</th>\n",
       "      <td>11</td>\n",
       "      <td>D. THIRD- PARTY SITES In general, the Applicat...</td>\n",
       "      <td>{'Facebook_SSO': 'PERFORMED', 'SSO': 'PERFORMED'}</td>\n",
       "    </tr>\n",
       "    <tr>\n",
       "      <th>12</th>\n",
       "      <td>12</td>\n",
       "      <td>E. USERS WITH WHOM YOU SHARE YOUR INFORMATION ...</td>\n",
       "      <td>{}</td>\n",
       "    </tr>\n",
       "    <tr>\n",
       "      <th>13</th>\n",
       "      <td>13</td>\n",
       "      <td>F.SECURITY Cheetah Mobile Inc. is very concern...</td>\n",
       "      <td>{}</td>\n",
       "    </tr>\n",
       "    <tr>\n",
       "      <th>14</th>\n",
       "      <td>14</td>\n",
       "      <td>G. SENSITIVE INFORMATION We ask that you not s...</td>\n",
       "      <td>{}</td>\n",
       "    </tr>\n",
       "    <tr>\n",
       "      <th>15</th>\n",
       "      <td>15</td>\n",
       "      <td>H. CONTACTING US / REPORTING VIOLATIONS If you...</td>\n",
       "      <td>{}</td>\n",
       "    </tr>\n",
       "    <tr>\n",
       "      <th>16</th>\n",
       "      <td>16</td>\n",
       "      <td>I. CHANGES TO THIS PRIVACY POLICY Our Privacy ...</td>\n",
       "      <td>{}</td>\n",
       "    </tr>\n",
       "    <tr>\n",
       "      <th>17</th>\n",
       "      <td>17</td>\n",
       "      <td>If you do not agree to any modifications to th...</td>\n",
       "      <td>{}</td>\n",
       "    </tr>\n",
       "    <tr>\n",
       "      <th>18</th>\n",
       "      <td>18</td>\n",
       "      <td>\"Privacy Policy | Cheetah Mobile \\xA9 2017 \\xB...</td>\n",
       "      <td>{}</td>\n",
       "    </tr>\n",
       "  </tbody>\n",
       "</table>\n",
       "</div>"
      ],
      "text/plain": [
       "   segment_id                                               text  \\\n",
       "0           0  Cheetah Mobile Clean Master CM Security PIANO ...   \n",
       "1           1  Cheetah Mobile Inc. (\"us\" or \"we\") has created...   \n",
       "2           2  A. WHAT KIND OF INFORMATION WE COLLECT a. Pers...   \n",
       "3           3  b. Non-personal identification. We may collect...   \n",
       "4           4  The information you give us, for example, when...   \n",
       "5           5  B. HOW WE USE COLLECTED INFORMATION a. Persona...   \n",
       "6           6  'b. Non- Personal Information. We may use Non-...   \n",
       "7           7  3. We may collect your non-personal informatio...   \n",
       "8           8  C. HOW YOUR INFORMATION MAY BE DISCLOSED a. Pe...   \n",
       "9           9  b. Non-Personal Information. We do not sell, t...   \n",
       "10         10  c. We may disclose your non-personal informati...   \n",
       "11         11  D. THIRD- PARTY SITES In general, the Applicat...   \n",
       "12         12  E. USERS WITH WHOM YOU SHARE YOUR INFORMATION ...   \n",
       "13         13  F.SECURITY Cheetah Mobile Inc. is very concern...   \n",
       "14         14  G. SENSITIVE INFORMATION We ask that you not s...   \n",
       "15         15  H. CONTACTING US / REPORTING VIOLATIONS If you...   \n",
       "16         16  I. CHANGES TO THIS PRIVACY POLICY Our Privacy ...   \n",
       "17         17  If you do not agree to any modifications to th...   \n",
       "18         18  \"Privacy Policy | Cheetah Mobile \\xA9 2017 \\xB...   \n",
       "\n",
       "                                          annotations  \n",
       "0                                                  {}  \n",
       "1                                                  {}  \n",
       "2   {'Contact_E_Mail_Address_1stParty': 'NOT_PERFO...  \n",
       "3                                                  {}  \n",
       "4    {'Contact_E_Mail_Address_1stParty': 'PERFORMED'}  \n",
       "5                                                  {}  \n",
       "6                                                  {}  \n",
       "7                                                  {}  \n",
       "8                                                  {}  \n",
       "9                                                  {}  \n",
       "10                                                 {}  \n",
       "11  {'Facebook_SSO': 'PERFORMED', 'SSO': 'PERFORMED'}  \n",
       "12                                                 {}  \n",
       "13                                                 {}  \n",
       "14                                                 {}  \n",
       "15                                                 {}  \n",
       "16                                                 {}  \n",
       "17                                                 {}  \n",
       "18                                                 {}  "
      ]
     },
     "execution_count": 202,
     "metadata": {},
     "output_type": "execute_result"
    }
   ],
   "source": [
    "df_policy = pd.DataFrame({'segment_id': seg_ids, 'text': seg_texts, 'annotations': seg_annots})"
   ]
  },
  {
   "cell_type": "code",
   "execution_count": 199,
   "metadata": {},
   "outputs": [
    {
     "name": "stdout",
     "output_type": "stream",
     "text": [
      "['0', '1', '2', '3', '4', '5', '6', '7', '8', '9', '10', '11', '12', '13', '14', '15', '16', '17', '18']\n"
     ]
    }
   ],
   "source": [
    "print(seg_ids)"
   ]
  },
  {
   "cell_type": "code",
   "execution_count": 200,
   "metadata": {},
   "outputs": [
    {
     "name": "stdout",
     "output_type": "stream",
     "text": [
      "['Cheetah Mobile Clean Master CM Security PIANO TILES 2 LIVE.ME More    Products Clean Master CM Security Live.me WhatsCall Piano Tiles 2 PhotoGrid News    Republic Battery Doctor CM Launcher CM Browser CM Locker CM Backup CM Behavior    Cloud Clean Master for PC Business Cheetah Ad Platform Pegasi Libra Media Blog    Security Topics CEO Talks Press Release About Company Information Investor Relations    Promotion Policy Global Talent Contact Us Follow Us Facebook Twitter LinkedIn    Home / Privacy Policy Privacy Policy At Cheetah Mobile Inc. we recognize that    privacy is significant. This Privacy Policy (\"Policy\") applies to your use of    the Battery Doctor applications on all platforms (the \"Application\").', 'Cheetah Mobile Inc. (\"us\" or \"we\") has created this Policy to explain    our privacy practices so you will understand what information about you is collected,    used and disclosed. We collect information from you in order to provide corresponding    service and better user experience. With your consent of this Privacy Policy,    your usage, statistics, input while using BATTERY DOCTOR would be collected.', 'A. WHAT KIND OF INFORMATION WE COLLECT a. Personal Information. We    do not collect Personal Information. \"Personal Information\" is information that    identifies you or another person, which may be transmitted or received when you    use an Application, the Services and/or the Site. ion includes your names, physical    addresses, email addresses, telephone, fax, SSN, information stored within your    Device and other information you transmit or receive using an Application, the    Service and or the Site which identifies you or another person.', 'b. Non-personal identification. We may collect non-personal identification    information about installed applications, application usage information and device    information.', 'The information you give us, for example, when you give us your opinions    to our application and services via our feedback channel, such as your email address,    and names;', 'B. HOW WE USE COLLECTED INFORMATION a. Personal Information- since    we do not collect Personal Information, we may not use your personal information    in any way.', \"'b. Non- Personal Information. We may use Non-Personal Information    only for serving you better as below: 1.To personalize user experience; 2.To help    develop our service- We may use Non- Personal Information to provide, maintain,    improve and develop our services;'\", '3. We may collect your non-personal information and use them for market    and promotion purpose, for example, we may promote or recommend more relevant    apps to you.', 'C. HOW YOUR INFORMATION MAY BE DISCLOSED a. Personal Information.    We do not store Personal Information and therefore we do not disclose your Personal    Information.', 'b. Non-Personal Information. We do not sell, trade, or otherwise transfer    to outside parties your information. We do not combine Non-Personal Information    with Personal Information (such as combining your name with your unique User Device    number).', 'c. We may disclose your non-personal information for promotion purpose    to our trusted partners who shall comply with this privacy policy and the relevant    privacy laws', \"D. THIRD- PARTY SITES In general, the Applications, the Services and    the Site access third party information (such as your Facebook account information)    through application interfaces. We may provide links to third-party Web sites,    such as Facebook, as a service to our Users. The Site may also carry advertisements    from other companies. When you click on links of third parties in an Application,    the Services or the Site, you may leave the Application, the Services or the Site.    Some of these third party sites may be co-branded with our name/logo or our affiliated    entity's name/logo, even though they are not operated or maintained by us. This    Policy does not address, and we are not responsible for, the privacy practices    of Web sites operated by third parties, whether they are linked to or otherwise    accessible from an Application, the Services or the Site. The inclusion of a link    or accessibility of third party Websites does not imply endorsement of such third    party Website by us.\", 'E. USERS WITH WHOM YOU SHARE YOUR INFORMATION We cannot control the    actions of other Users with whom you share your information. We cannot, and do    not, control the information you share with other Users using an Application,    the Services or the Site (including via Forums) or how such other Users will use    or share such information. We are not responsible for third party circumvention    of our security measures.', 'F.SECURITY Cheetah Mobile Inc. is very concerned about safeguarding    the confidentiality of your information. We do not collect Personal Information,    and we employ administrative, physical and electronic measures designed to protect    your Non-Personal Information from unauthorized access and use. Please be aware    that no security measures that we take to protect your information is absolutely    guaranteed to avoid unauthorized access or use of your Non-Personal Information    which is impenetrable.', 'G. SENSITIVE INFORMATION We ask that you not send us, and you not    disclose, any sensitive Personal Information (e.g., information related to racial    or ethnic origin, political opinions, religion or other beliefs, health, sexual    orientation, criminal background or membership in past organizations, including    trade union memberships) on or through an Application, the Services or the Site    or otherwise to us.', 'H. CONTACTING US / REPORTING VIOLATIONS If you have any questions    or comments about this Policy or our privacy practices, or to report any violations    of the Policy or abuse of an Application, the Services or the Site, please contact    us at support@cmcm.com.', 'I. CHANGES TO THIS PRIVACY POLICY Our Privacy Policy may change from    time to time, we will post any privacy policy changes on this page, so please    review it periodically. We may provide you additional forms of notice of modifications    or updates as appropriate under the circumstances.', 'If you do not agree to any modifications to this Policy, your sole    recourse is to immediately stop all use of all Applications, the Services and    the Site. Your continued use of any Application, the Services or the Site following    the posting of any modifications to this Policy will constitute your acceptance    of the revised Policy. Please note that none of our employees or agents has the    authority to vary any of our Policies.', '\"Privacy Policy | Cheetah Mobile \\\\xA9 2017 \\\\xB7 EnglishEnglishEspa\\\\xF1\\\\    olFran\\\\xE7aisP\\\\u0443\\\\u0441\\\\u0441\\\\u043A\\\\u0438\\\\u0439Portugu\\\\xEAs\\\\u65E5\\\\u672C\\\\u8A9E\\\\    \\\\uD55C\\\\uAD6D\\\\uC5B4\\\\u7E41\\\\u9AD4\\\\u4E2D\\\\u6587\\\\u7B80\\\\u4F53\\\\u4E2D\\\\u6587\"']\n"
     ]
    }
   ],
   "source": [
    "print(seg_texts)"
   ]
  },
  {
   "cell_type": "code",
   "execution_count": 201,
   "metadata": {},
   "outputs": [
    {
     "name": "stdout",
     "output_type": "stream",
     "text": [
      "[{}, {}, {'Contact_E_Mail_Address_1stParty': 'NOT_PERFORMED', 'Contact_Phone_Number_1stParty': 'NOT_PERFORMED', 'Contact_Postal_Address_1stParty': 'NOT_PERFORMED'}, {}, {'Contact_E_Mail_Address_1stParty': 'PERFORMED'}, {}, {}, {}, {}, {}, {}, {'Facebook_SSO': 'PERFORMED', 'SSO': 'PERFORMED'}, {}, {}, {}, {}, {}, {}, {}]\n"
     ]
    }
   ],
   "source": [
    "print(seg_annots)"
   ]
  },
  {
   "cell_type": "code",
   "execution_count": 190,
   "metadata": {},
   "outputs": [
    {
     "data": {
      "text/plain": [
       "'A. WHAT KIND OF INFORMATION WE COLLECT a. Personal Information. We    do not collect Personal Information. \"Personal Information\" is information that    identifies you or another person, which may be transmitted or received when you    use an Application, the Services and/or the Site. ion includes your names, physical    addresses, email addresses, telephone, fax, SSN, information stored within your    Device and other information you transmit or receive using an Application, the    Service and or the Site which identifies you or another person.'"
      ]
     },
     "execution_count": 190,
     "metadata": {},
     "output_type": "execute_result"
    }
   ],
   "source": [
    "get_segment_text(segments[2])"
   ]
  },
  {
   "cell_type": "code",
   "execution_count": 180,
   "metadata": {},
   "outputs": [
    {
     "data": {
      "text/plain": [
       "' 2  segment_text: A. WHAT KIND OF INFORMATION WE COLLECT a. Personal Information. We    do not collect Personal Information. \"Personal Information\" is information that    identifies you or another person, which may be transmitted or received when you    use an Application, the Services and/or the Site. ion includes your names, physical    addresses, email addresses, telephone, fax, SSN, information stored within your    Device and other information you transmit or receive using an Application, the    Service and or the Site which identifies you or another person.  '"
      ]
     },
     "execution_count": 180,
     "metadata": {},
     "output_type": "execute_result"
    }
   ],
   "source": [
    "re.split(r'annotations:',segments[2])[0]"
   ]
  },
  {
   "cell_type": "code",
   "execution_count": 193,
   "metadata": {},
   "outputs": [
    {
     "data": {
      "text/plain": [
       "['Cheetah Mobile Clean Master CM Security PIANO TILES 2 LIVE.ME More    Products Clean Master CM Security Live.me WhatsCall Piano Tiles 2 PhotoGrid News    Republic Battery Doctor CM Launcher CM Browser CM Locker CM Backup CM Behavior    Cloud Clean Master for PC Business Cheetah Ad Platform Pegasi Libra Media Blog    Security Topics CEO Talks Press Release About Company Information Investor Relations    Promotion Policy Global Talent Contact Us Follow Us Facebook Twitter LinkedIn    Home / Privacy Policy Privacy Policy At Cheetah Mobile Inc. we recognize that    privacy is significant. This Privacy Policy (\"Policy\") applies to your use of    the Battery Doctor applications on all platforms (the \"Application\").',\n",
       " 'Cheetah Mobile Inc. (\"us\" or \"we\") has created this Policy to explain    our privacy practices so you will understand what information about you is collected,    used and disclosed. We collect information from you in order to provide corresponding    service and better user experience. With your consent of this Privacy Policy,    your usage, statistics, input while using BATTERY DOCTOR would be collected.',\n",
       " 'A. WHAT KIND OF INFORMATION WE COLLECT a. Personal Information. We    do not collect Personal Information. \"Personal Information\" is information that    identifies you or another person, which may be transmitted or received when you    use an Application, the Services and/or the Site. ion includes your names, physical    addresses, email addresses, telephone, fax, SSN, information stored within your    Device and other information you transmit or receive using an Application, the    Service and or the Site which identifies you or another person.',\n",
       " 'b. Non-personal identification. We may collect non-personal identification    information about installed applications, application usage information and device    information.',\n",
       " 'The information you give us, for example, when you give us your opinions    to our application and services via our feedback channel, such as your email address,    and names;',\n",
       " 'B. HOW WE USE COLLECTED INFORMATION a. Personal Information- since    we do not collect Personal Information, we may not use your personal information    in any way.',\n",
       " \"'b. Non- Personal Information. We may use Non-Personal Information    only for serving you better as below: 1.To personalize user experience; 2.To help    develop our service- We may use Non- Personal Information to provide, maintain,    improve and develop our services;'\",\n",
       " '3. We may collect your non-personal information and use them for market    and promotion purpose, for example, we may promote or recommend more relevant    apps to you.',\n",
       " 'C. HOW YOUR INFORMATION MAY BE DISCLOSED a. Personal Information.    We do not store Personal Information and therefore we do not disclose your Personal    Information.',\n",
       " 'b. Non-Personal Information. We do not sell, trade, or otherwise transfer    to outside parties your information. We do not combine Non-Personal Information    with Personal Information (such as combining your name with your unique User Device    number).',\n",
       " 'c. We may disclose your non-personal information for promotion purpose    to our trusted partners who shall comply with this privacy policy and the relevant    privacy laws',\n",
       " \"D. THIRD- PARTY SITES In general, the Applications, the Services and    the Site access third party information (such as your Facebook account information)    through application interfaces. We may provide links to third-party Web sites,    such as Facebook, as a service to our Users. The Site may also carry advertisements    from other companies. When you click on links of third parties in an Application,    the Services or the Site, you may leave the Application, the Services or the Site.    Some of these third party sites may be co-branded with our name/logo or our affiliated    entity's name/logo, even though they are not operated or maintained by us. This    Policy does not address, and we are not responsible for, the privacy practices    of Web sites operated by third parties, whether they are linked to or otherwise    accessible from an Application, the Services or the Site. The inclusion of a link    or accessibility of third party Websites does not imply endorsement of such third    party Website by us.\",\n",
       " 'E. USERS WITH WHOM YOU SHARE YOUR INFORMATION We cannot control the    actions of other Users with whom you share your information. We cannot, and do    not, control the information you share with other Users using an Application,    the Services or the Site (including via Forums) or how such other Users will use    or share such information. We are not responsible for third party circumvention    of our security measures.',\n",
       " 'F.SECURITY Cheetah Mobile Inc. is very concerned about safeguarding    the confidentiality of your information. We do not collect Personal Information,    and we employ administrative, physical and electronic measures designed to protect    your Non-Personal Information from unauthorized access and use. Please be aware    that no security measures that we take to protect your information is absolutely    guaranteed to avoid unauthorized access or use of your Non-Personal Information    which is impenetrable.',\n",
       " 'G. SENSITIVE INFORMATION We ask that you not send us, and you not    disclose, any sensitive Personal Information (e.g., information related to racial    or ethnic origin, political opinions, religion or other beliefs, health, sexual    orientation, criminal background or membership in past organizations, including    trade union memberships) on or through an Application, the Services or the Site    or otherwise to us.',\n",
       " 'H. CONTACTING US / REPORTING VIOLATIONS If you have any questions    or comments about this Policy or our privacy practices, or to report any violations    of the Policy or abuse of an Application, the Services or the Site, please contact    us at support@cmcm.com.',\n",
       " 'I. CHANGES TO THIS PRIVACY POLICY Our Privacy Policy may change from    time to time, we will post any privacy policy changes on this page, so please    review it periodically. We may provide you additional forms of notice of modifications    or updates as appropriate under the circumstances.',\n",
       " 'If you do not agree to any modifications to this Policy, your sole    recourse is to immediately stop all use of all Applications, the Services and    the Site. Your continued use of any Application, the Services or the Site following    the posting of any modifications to this Policy will constitute your acceptance    of the revised Policy. Please note that none of our employees or agents has the    authority to vary any of our Policies.',\n",
       " '\"Privacy Policy | Cheetah Mobile \\\\xA9 2017 \\\\xB7 EnglishEnglishEspa\\\\xF1\\\\    olFran\\\\xE7aisP\\\\u0443\\\\u0441\\\\u0441\\\\u043A\\\\u0438\\\\u0439Portugu\\\\xEAs\\\\u65E5\\\\u672C\\\\u8A9E\\\\    \\\\uD55C\\\\uAD6D\\\\uC5B4\\\\u7E41\\\\u9AD4\\\\u4E2D\\\\u6587\\\\u7B80\\\\u4F53\\\\u4E2D\\\\u6587\"']"
      ]
     },
     "execution_count": 193,
     "metadata": {},
     "output_type": "execute_result"
    }
   ],
   "source": [
    "seg_texts"
   ]
  },
  {
   "cell_type": "code",
   "execution_count": 192,
   "metadata": {},
   "outputs": [
    {
     "data": {
      "text/plain": [
       "[{},\n",
       " {},\n",
       " {'Contact_E_Mail_Address_1stParty': 'NOT_PERFORMED',\n",
       "  'Contact_Phone_Number_1stParty': 'NOT_PERFORMED',\n",
       "  'Contact_Postal_Address_1stParty': 'NOT_PERFORMED'},\n",
       " {},\n",
       " {'Contact_E_Mail_Address_1stParty': 'PERFORMED'},\n",
       " {},\n",
       " {},\n",
       " {},\n",
       " {},\n",
       " {},\n",
       " {},\n",
       " {'Facebook_SSO': 'PERFORMED', 'SSO': 'PERFORMED'},\n",
       " {},\n",
       " {},\n",
       " {},\n",
       " {},\n",
       " {},\n",
       " {},\n",
       " {}]"
      ]
     },
     "execution_count": 192,
     "metadata": {},
     "output_type": "execute_result"
    }
   ],
   "source": [
    "seg_annots"
   ]
  },
  {
   "cell_type": "code",
   "execution_count": 172,
   "metadata": {},
   "outputs": [
    {
     "data": {
      "text/plain": [
       "' 3  segment_text: b. Non-personal identification. We may collect non-personal identification    information about installed applications, application usage information and device    information.  annotations: []  sentences: []- '"
      ]
     },
     "execution_count": 172,
     "metadata": {},
     "output_type": "execute_result"
    }
   ],
   "source": [
    "segments[3]"
   ]
  },
  {
   "cell_type": "code",
   "execution_count": 173,
   "metadata": {},
   "outputs": [
    {
     "data": {
      "text/plain": [
       "'b. Non-personal identification. We may collect non-personal identification    information about installed applications, application usage information and device    information.'"
      ]
     },
     "execution_count": 173,
     "metadata": {},
     "output_type": "execute_result"
    }
   ],
   "source": [
    "get_segment_text(segments[3])"
   ]
  },
  {
   "cell_type": "code",
   "execution_count": 168,
   "metadata": {},
   "outputs": [
    {
     "data": {
      "text/plain": [
       "['Cheetah Mobile Clean Master CM Security PIANO TILES 2 LIVE.ME More    Products Clean Master CM Security Live.me WhatsCall Piano Tiles 2 PhotoGrid News    Republic Battery Doctor CM Launcher CM Browser CM Locker CM Backup CM Behavior    Cloud Clean Master for PC Business Cheetah Ad Platform Pegasi Libra Media Blog    Security Topics CEO Talks Press Release About Company Information Investor Relations    Promotion Policy Global Talent Contact Us Follow Us Facebook Twitter LinkedIn    Home / Privacy Policy Privacy Policy At Cheetah Mobile Inc. we recognize that    privacy is significant. This Privacy Policy (\"Policy\") applies to your use of    the Battery Doctor applications on all platforms (the \"Application\").',\n",
       " 'Cheetah Mobile Inc. (\"us\" or \"we\") has created this Policy to explain    our privacy practices so you will understand what information about you is collected,    used and disclosed. We collect information from you in order to provide corresponding    service and better user experience. With your consent of this Privacy Policy,    your usage, statistics, input while using BATTERY DOCTOR would be collected.',\n",
       " 'A. WHAT KIND OF INFORMATION WE COLLECT a. Personal Information. We    do not collect Personal Information. \"Personal Information\" is information that    identifies you or another person, which may be transmitted or received when you    use an Application, the Services and/or the Site. ion includes your names, physical    addresses, email addresses, telephone, fax, SSN, information stored within your    Device and other information you transmit or receive using an Application, the    Service and or the Site which identifies you or another person.  annotations:  - practice: Contact_E_Mail_Address_1stParty    modality: NOT_PERFORMED  - practice: Contact_Phone_Number_1stParty    modality: NOT_PERFORMED  - practice: Contact_Postal_Address_1stParty    modality: NOT_PERFORMED  sentences:  - sentence_text: \\'\"Personal Information\" is information that identifies you or another      person, which may be transmitted or received when you use an Application, the      Services and/or the Site.\\'    annotations:    - practice: Contact_E_Mail_Address_1stParty      modality: NOT_PERFORMED    - practice: Contact_Phone_Number_1stParty      modality: NOT_PERFORMED    - practice: Contact_Postal_Address_1stParty      modality: NOT_PERFORMED  - sentence_text: We do not collect Personal Information.    annotations:    - practice: Contact_E_Mail_Address_1stParty      modality: NOT_PERFORMED    - practice: Contact_Phone_Number_1stParty      modality: NOT_PERFORMED    - practice: Contact_Postal_Address_1stParty      modality: NOT_PERFORMED  - sentence_text: ion includes your names, physical addresses, email addresses, telephone,      fax, SSN, information stored within your Device and other information you transmit      or receive using an Application, the Service and or the Site which identifies      you or another person.',\n",
       " 'b. Non-personal identification. We may collect non-personal identification    information about installed applications, application usage information and device    information.',\n",
       " 'The information you give us, for example, when you give us your opinions    to our application and services via our feedback channel, such as your email address,    and names;  annotations:  - practice: Contact_E_Mail_Address_1stParty    modality: PERFORMED  sentences:  - sentence_text: The information you give us, for example, when you give us your      opinions to our application and services via our feedback channel, such as your      email address, and names;',\n",
       " 'B. HOW WE USE COLLECTED INFORMATION a. Personal Information- since    we do not collect Personal Information, we may not use your personal information    in any way.',\n",
       " \"'b. Non- Personal Information. We may use Non-Personal Information    only for serving you better as below: 1.To personalize user experience; 2.To help    develop our service- We may use Non- Personal Information to provide, maintain,    improve and develop our services;'\",\n",
       " '3. We may collect your non-personal information and use them for market    and promotion purpose, for example, we may promote or recommend more relevant    apps to you.',\n",
       " 'C. HOW YOUR INFORMATION MAY BE DISCLOSED a. Personal Information.    We do not store Personal Information and therefore we do not disclose your Personal    Information.',\n",
       " 'b. Non-Personal Information. We do not sell, trade, or otherwise transfer    to outside parties your information. We do not combine Non-Personal Information    with Personal Information (such as combining your name with your unique User Device    number).',\n",
       " 'c. We may disclose your non-personal information for promotion purpose    to our trusted partners who shall comply with this privacy policy and the relevant    privacy laws',\n",
       " \"D. THIRD- PARTY SITES In general, the Applications, the Services and    the Site access third party information (such as your Facebook account information)    through application interfaces. We may provide links to third-party Web sites,    such as Facebook, as a service to our Users. The Site may also carry advertisements    from other companies. When you click on links of third parties in an Application,    the Services or the Site, you may leave the Application, the Services or the Site.    Some of these third party sites may be co-branded with our name/logo or our affiliated    entity's name/logo, even though they are not operated or maintained by us. This    Policy does not address, and we are not responsible for, the privacy practices    of Web sites operated by third parties, whether they are linked to or otherwise    accessible from an Application, the Services or the Site. The inclusion of a link    or accessibility of third party Websites does not imply endorsement of such third    party Website by us.  annotations:  - practice: Facebook_SSO    modality: PERFORMED  - practice: SSO    modality: PERFORMED  sentences:  - sentence_text: In general, the Applications, the Services and the Site access      third party information (such as your Facebook account information) through      application interfaces.\",\n",
       " 'E. USERS WITH WHOM YOU SHARE YOUR INFORMATION We cannot control the    actions of other Users with whom you share your information. We cannot, and do    not, control the information you share with other Users using an Application,    the Services or the Site (including via Forums) or how such other Users will use    or share such information. We are not responsible for third party circumvention    of our security measures.',\n",
       " 'F.SECURITY Cheetah Mobile Inc. is very concerned about safeguarding    the confidentiality of your information. We do not collect Personal Information,    and we employ administrative, physical and electronic measures designed to protect    your Non-Personal Information from unauthorized access and use. Please be aware    that no security measures that we take to protect your information is absolutely    guaranteed to avoid unauthorized access or use of your Non-Personal Information    which is impenetrable.',\n",
       " 'G. SENSITIVE INFORMATION We ask that you not send us, and you not    disclose, any sensitive Personal Information (e.g., information related to racial    or ethnic origin, political opinions, religion or other beliefs, health, sexual    orientation, criminal background or membership in past organizations, including    trade union memberships) on or through an Application, the Services or the Site    or otherwise to us.',\n",
       " 'H. CONTACTING US / REPORTING VIOLATIONS If you have any questions    or comments about this Policy or our privacy practices, or to report any violations    of the Policy or abuse of an Application, the Services or the Site, please contact    us at support@cmcm.com.',\n",
       " 'I. CHANGES TO THIS PRIVACY POLICY Our Privacy Policy may change from    time to time, we will post any privacy policy changes on this page, so please    review it periodically. We may provide you additional forms of notice of modifications    or updates as appropriate under the circumstances.',\n",
       " 'If you do not agree to any modifications to this Policy, your sole    recourse is to immediately stop all use of all Applications, the Services and    the Site. Your continued use of any Application, the Services or the Site following    the posting of any modifications to this Policy will constitute your acceptance    of the revised Policy. Please note that none of our employees or agents has the    authority to vary any of our Policies.',\n",
       " '\"Privacy Policy | Cheetah Mobile \\\\xA9 2017 \\\\xB7 EnglishEnglishEspa\\\\xF1\\\\    olFran\\\\xE7aisP\\\\u0443\\\\u0441\\\\u0441\\\\u043A\\\\u0438\\\\u0439Portugu\\\\xEAs\\\\u65E5\\\\u672C\\\\u8A9E\\\\    \\\\uD55C\\\\uAD6D\\\\uC5B4\\\\u7E41\\\\u9AD4\\\\u4E2D\\\\u6587\\\\u7B80\\\\u4F53\\\\u4E2D\\\\u6587\"']"
      ]
     },
     "execution_count": 168,
     "metadata": {},
     "output_type": "execute_result"
    }
   ],
   "source": [
    "seg_texts"
   ]
  },
  {
   "cell_type": "code",
   "execution_count": 197,
   "metadata": {},
   "outputs": [
    {
     "data": {
      "text/plain": [
       "['0',\n",
       " '1',\n",
       " '2',\n",
       " '3',\n",
       " '4',\n",
       " '5',\n",
       " '6',\n",
       " '7',\n",
       " '8',\n",
       " '9',\n",
       " '10',\n",
       " '11',\n",
       " '12',\n",
       " '13',\n",
       " '14',\n",
       " '15',\n",
       " '16',\n",
       " '17',\n",
       " '18']"
      ]
     },
     "execution_count": 197,
     "metadata": {},
     "output_type": "execute_result"
    }
   ],
   "source": [
    "seg_ids"
   ]
  },
  {
   "cell_type": "code",
   "execution_count": 162,
   "metadata": {},
   "outputs": [
    {
     "data": {
      "text/plain": [
       "[' 0\\n  segment_text: Cheetah Mobile Clean Master CM Security PIANO TILES 2 LIVE.ME More\\n    Products Clean Master CM Security Live.me WhatsCall Piano Tiles 2 PhotoGrid News\\n    Republic Battery Doctor CM Launcher CM Browser CM Locker CM Backup CM Behavior\\n    Cloud Clean Master for PC Business Cheetah Ad Platform Pegasi Libra Media Blog\\n    Security Topics CEO Talks Press Release About Company Information Investor Relations\\n    Promotion Policy Global Talent Contact Us Follow Us Facebook Twitter LinkedIn\\n    Home / Privacy Policy Privacy Policy At Cheetah Mobile Inc. we recognize that\\n    privacy is significant. This Privacy Policy (\"Policy\") applies to your use of\\n    the Battery Doctor applications on all platforms (the \"Application\").\\n  annotations: []\\n  sentences: []\\n- ',\n",
       " ' 1\\n  segment_text: Cheetah Mobile Inc. (\"us\" or \"we\") has created this Policy to explain\\n    our privacy practices so you will understand what information about you is collected,\\n    used and disclosed. We collect information from you in order to provide corresponding\\n    service and better user experience. With your consent of this Privacy Policy,\\n    your usage, statistics, input while using BATTERY DOCTOR would be collected.\\n  annotations: []\\n  sentences: []\\n- ',\n",
       " ' 2\\n  segment_text: A. WHAT KIND OF INFORMATION WE COLLECT a. Personal Information. We\\n    do not collect Personal Information. \"Personal Information\" is information that\\n    identifies you or another person, which may be transmitted or received when you\\n    use an Application, the Services and/or the Site. ion includes your names, physical\\n    addresses, email addresses, telephone, fax, SSN, information stored within your\\n    Device and other information you transmit or receive using an Application, the\\n    Service and or the Site which identifies you or another person.\\n  annotations:\\n  - practice: Contact_E_Mail_Address_1stParty\\n    modality: NOT_PERFORMED\\n  - practice: Contact_Phone_Number_1stParty\\n    modality: NOT_PERFORMED\\n  - practice: Contact_Postal_Address_1stParty\\n    modality: NOT_PERFORMED\\n  sentences:\\n  - sentence_text: \\'\"Personal Information\" is information that identifies you or another\\n      person, which may be transmitted or received when you use an Application, the\\n      Services and/or the Site.\\'\\n    annotations:\\n    - practice: Contact_E_Mail_Address_1stParty\\n      modality: NOT_PERFORMED\\n    - practice: Contact_Phone_Number_1stParty\\n      modality: NOT_PERFORMED\\n    - practice: Contact_Postal_Address_1stParty\\n      modality: NOT_PERFORMED\\n  - sentence_text: We do not collect Personal Information.\\n    annotations:\\n    - practice: Contact_E_Mail_Address_1stParty\\n      modality: NOT_PERFORMED\\n    - practice: Contact_Phone_Number_1stParty\\n      modality: NOT_PERFORMED\\n    - practice: Contact_Postal_Address_1stParty\\n      modality: NOT_PERFORMED\\n  - sentence_text: ion includes your names, physical addresses, email addresses, telephone,\\n      fax, SSN, information stored within your Device and other information you transmit\\n      or receive using an Application, the Service and or the Site which identifies\\n      you or another person.\\n    annotations:\\n    - practice: Contact_E_Mail_Address_1stParty\\n      modality: NOT_PERFORMED\\n    - practice: Contact_Phone_Number_1stParty\\n      modality: NOT_PERFORMED\\n    - practice: Contact_Postal_Address_1stParty\\n      modality: NOT_PERFORMED\\n- ',\n",
       " ' 3\\n  segment_text: b. Non-personal identification. We may collect non-personal identification\\n    information about installed applications, application usage information and device\\n    information.\\n  annotations: []\\n  sentences: []\\n- ',\n",
       " ' 4\\n  segment_text: The information you give us, for example, when you give us your opinions\\n    to our application and services via our feedback channel, such as your email address,\\n    and names;\\n  annotations:\\n  - practice: Contact_E_Mail_Address_1stParty\\n    modality: PERFORMED\\n  sentences:\\n  - sentence_text: The information you give us, for example, when you give us your\\n      opinions to our application and services via our feedback channel, such as your\\n      email address, and names;\\n    annotations:\\n    - practice: Contact_E_Mail_Address_1stParty\\n      modality: PERFORMED\\n- ',\n",
       " ' 5\\n  segment_text: B. HOW WE USE COLLECTED INFORMATION a. Personal Information- since\\n    we do not collect Personal Information, we may not use your personal information\\n    in any way.\\n  annotations: []\\n  sentences: []\\n- ',\n",
       " \" 6\\n  segment_text: 'b. Non- Personal Information. We may use Non-Personal Information\\n    only for serving you better as below: 1.To personalize user experience; 2.To help\\n    develop our service- We may use Non- Personal Information to provide, maintain,\\n    improve and develop our services;'\\n  annotations: []\\n  sentences: []\\n- \",\n",
       " ' 7\\n  segment_text: 3. We may collect your non-personal information and use them for market\\n    and promotion purpose, for example, we may promote or recommend more relevant\\n    apps to you.\\n  annotations: []\\n  sentences: []\\n- ',\n",
       " ' 8\\n  segment_text: C. HOW YOUR INFORMATION MAY BE DISCLOSED a. Personal Information.\\n    We do not store Personal Information and therefore we do not disclose your Personal\\n    Information.\\n  annotations: []\\n  sentences: []\\n- ',\n",
       " ' 9\\n  segment_text: b. Non-Personal Information. We do not sell, trade, or otherwise transfer\\n    to outside parties your information. We do not combine Non-Personal Information\\n    with Personal Information (such as combining your name with your unique User Device\\n    number).\\n  annotations: []\\n  sentences: []\\n- ',\n",
       " ' 10\\n  segment_text: c. We may disclose your non-personal information for promotion purpose\\n    to our trusted partners who shall comply with this privacy policy and the relevant\\n    privacy laws\\n  annotations: []\\n  sentences: []\\n- ',\n",
       " \" 11\\n  segment_text: D. THIRD- PARTY SITES In general, the Applications, the Services and\\n    the Site access third party information (such as your Facebook account information)\\n    through application interfaces. We may provide links to third-party Web sites,\\n    such as Facebook, as a service to our Users. The Site may also carry advertisements\\n    from other companies. When you click on links of third parties in an Application,\\n    the Services or the Site, you may leave the Application, the Services or the Site.\\n    Some of these third party sites may be co-branded with our name/logo or our affiliated\\n    entity's name/logo, even though they are not operated or maintained by us. This\\n    Policy does not address, and we are not responsible for, the privacy practices\\n    of Web sites operated by third parties, whether they are linked to or otherwise\\n    accessible from an Application, the Services or the Site. The inclusion of a link\\n    or accessibility of third party Websites does not imply endorsement of such third\\n    party Website by us.\\n  annotations:\\n  - practice: Facebook_SSO\\n    modality: PERFORMED\\n  - practice: SSO\\n    modality: PERFORMED\\n  sentences:\\n  - sentence_text: In general, the Applications, the Services and the Site access\\n      third party information (such as your Facebook account information) through\\n      application interfaces.\\n    annotations:\\n    - practice: Facebook_SSO\\n      modality: PERFORMED\\n    - practice: SSO\\n      modality: PERFORMED\\n- \",\n",
       " ' 12\\n  segment_text: E. USERS WITH WHOM YOU SHARE YOUR INFORMATION We cannot control the\\n    actions of other Users with whom you share your information. We cannot, and do\\n    not, control the information you share with other Users using an Application,\\n    the Services or the Site (including via Forums) or how such other Users will use\\n    or share such information. We are not responsible for third party circumvention\\n    of our security measures.\\n  annotations: []\\n  sentences: []\\n- ',\n",
       " ' 13\\n  segment_text: F.SECURITY Cheetah Mobile Inc. is very concerned about safeguarding\\n    the confidentiality of your information. We do not collect Personal Information,\\n    and we employ administrative, physical and electronic measures designed to protect\\n    your Non-Personal Information from unauthorized access and use. Please be aware\\n    that no security measures that we take to protect your information is absolutely\\n    guaranteed to avoid unauthorized access or use of your Non-Personal Information\\n    which is impenetrable.\\n  annotations: []\\n  sentences: []\\n- ',\n",
       " ' 14\\n  segment_text: G. SENSITIVE INFORMATION We ask that you not send us, and you not\\n    disclose, any sensitive Personal Information (e.g., information related to racial\\n    or ethnic origin, political opinions, religion or other beliefs, health, sexual\\n    orientation, criminal background or membership in past organizations, including\\n    trade union memberships) on or through an Application, the Services or the Site\\n    or otherwise to us.\\n  annotations: []\\n  sentences: []\\n- ',\n",
       " ' 15\\n  segment_text: H. CONTACTING US / REPORTING VIOLATIONS If you have any questions\\n    or comments about this Policy or our privacy practices, or to report any violations\\n    of the Policy or abuse of an Application, the Services or the Site, please contact\\n    us at support@cmcm.com.\\n  annotations: []\\n  sentences: []\\n- ',\n",
       " ' 16\\n  segment_text: I. CHANGES TO THIS PRIVACY POLICY Our Privacy Policy may change from\\n    time to time, we will post any privacy policy changes on this page, so please\\n    review it periodically. We may provide you additional forms of notice of modifications\\n    or updates as appropriate under the circumstances.\\n  annotations: []\\n  sentences: []\\n- ',\n",
       " ' 17\\n  segment_text: If you do not agree to any modifications to this Policy, your sole\\n    recourse is to immediately stop all use of all Applications, the Services and\\n    the Site. Your continued use of any Application, the Services or the Site following\\n    the posting of any modifications to this Policy will constitute your acceptance\\n    of the revised Policy. Please note that none of our employees or agents has the\\n    authority to vary any of our Policies.\\n  annotations: []\\n  sentences: []\\n- ',\n",
       " ' 18\\n  segment_text: \"Privacy Policy | Cheetah Mobile \\\\xA9 2017 \\\\xB7 EnglishEnglishEspa\\\\xF1\\\\\\n    olFran\\\\xE7aisP\\\\u0443\\\\u0441\\\\u0441\\\\u043A\\\\u0438\\\\u0439Portugu\\\\xEAs\\\\u65E5\\\\u672C\\\\u8A9E\\\\\\n    \\\\uD55C\\\\uAD6D\\\\uC5B4\\\\u7E41\\\\u9AD4\\\\u4E2D\\\\u6587\\\\u7B80\\\\u4F53\\\\u4E2D\\\\u6587\"\\n  annotations: []\\n  sentences: []\\n']"
      ]
     },
     "execution_count": 162,
     "metadata": {},
     "output_type": "execute_result"
    }
   ],
   "source": [
    "get_segments(text)"
   ]
  },
  {
   "cell_type": "code",
   "execution_count": 157,
   "metadata": {},
   "outputs": [
    {
     "data": {
      "text/plain": [
       "[]"
      ]
     },
     "execution_count": 157,
     "metadata": {},
     "output_type": "execute_result"
    }
   ],
   "source": [
    "get_segments(text)"
   ]
  },
  {
   "cell_type": "code",
   "execution_count": 153,
   "metadata": {},
   "outputs": [
    {
     "data": {
      "text/plain": [
       "{'Contact_E_Mail_Address_1stParty': 'NOT_PERFORMED',\n",
       " 'Contact_Phone_Number_1stParty': 'NOT_PERFORMED',\n",
       " 'Contact_Postal_Address_1stParty': 'NOT_PERFORMED'}"
      ]
     },
     "execution_count": 153,
     "metadata": {},
     "output_type": "execute_result"
    }
   ],
   "source": [
    "get_annotations(remove_newline(segments[3]))"
   ]
  },
  {
   "cell_type": "code",
   "execution_count": 103,
   "metadata": {},
   "outputs": [],
   "source": [
    "tt = first_seg.replace('\\n','')"
   ]
  },
  {
   "cell_type": "code",
   "execution_count": 109,
   "metadata": {},
   "outputs": [
    {
     "data": {
      "text/plain": [
       "'Cheetah Mobile Clean Master CM Security PIANO TILES 2 LIVE.ME More    Products Clean Master CM Security Live.me WhatsCall Piano Tiles 2 PhotoGrid News    Republic Battery Doctor CM Launcher CM Browser CM Locker CM Backup CM Behavior    Cloud Clean Master for PC Business Cheetah Ad Platform Pegasi Libra Media Blog    Security Topics CEO Talks Press Release About Company Information Investor Relations    Promotion Policy Global Talent Contact Us Follow Us Facebook Twitter LinkedIn    Home / Privacy Policy Privacy Policy At Cheetah Mobile Inc. we recognize that    privacy is significant. This Privacy Policy (\"Policy\") applies to your use of    the Battery Doctor applications on all platforms (the \"Application\").'"
      ]
     },
     "execution_count": 109,
     "metadata": {},
     "output_type": "execute_result"
    }
   ],
   "source": [
    "get_segment_text(tt)"
   ]
  },
  {
   "cell_type": "code",
   "execution_count": 18,
   "metadata": {},
   "outputs": [
    {
     "data": {
      "text/plain": [
       "['',\n",
       " 'policy_id:',\n",
       " ' 10\\n',\n",
       " 'policy_name:',\n",
       " ' CheetahMobileBatteryDoctorBrowser\\n',\n",
       " 'policy_type:',\n",
       " ' TEST\\n',\n",
       " 'contains_synthetic:',\n",
       " ' false\\n',\n",
       " 'segments:',\n",
       " '\\n- ',\n",
       " 'segment_id:',\n",
       " ' 0\\n  ',\n",
       " 'segment_text:',\n",
       " ' Cheetah Mobile Clean Master CM Security PIANO TILES 2 LIVE.ME More\\n    Products Clean Master CM Security Live.me WhatsCall Piano Tiles 2 PhotoGrid News\\n    Republic Battery Doctor CM Launcher CM Browser CM Locker CM Backup CM Behavior\\n    Cloud Clean Master for PC Business Cheetah Ad Platform Pegasi Libra Media Blog\\n    Security Topics CEO Talks Press Release About Company Information Investor Relations\\n    Promotion Policy Global Talent Contact Us Follow Us Facebook Twitter LinkedIn\\n    Home / Privacy Policy Privacy Policy At Cheetah Mobile Inc. we recognize that\\n    privacy is significant. This Privacy Policy (\"Policy\") applies to your use of\\n    the Battery Doctor applications on all platforms (the \"Application\").\\n  ',\n",
       " 'annotations:',\n",
       " ' []\\n  ',\n",
       " 'sentences:',\n",
       " ' []\\n- ',\n",
       " 'segment_id:',\n",
       " ' 1\\n  ',\n",
       " 'segment_text:',\n",
       " ' Cheetah Mobile Inc. (\"us\" or \"we\") has created this Policy to explain\\n    our privacy practices so you will understand what information about you is collected,\\n    used and disclosed. We collect information from you in order to provide corresponding\\n    service and better user experience. With your consent of this Privacy Policy,\\n    your usage, statistics, input while using BATTERY DOCTOR would be collected.\\n  ',\n",
       " 'annotations:',\n",
       " ' []\\n  ',\n",
       " 'sentences:',\n",
       " ' []\\n- ',\n",
       " 'segment_id:',\n",
       " ' 2\\n  ',\n",
       " 'segment_text:',\n",
       " ' A. WHAT KIND OF INFORMATION WE COLLECT a. Personal Information. We\\n    do not collect Personal Information. \"Personal Information\" is information that\\n    identifies you or another person, which may be transmitted or received when you\\n    use an Application, the Services and/or the Site. ion includes your names, physical\\n    addresses, email addresses, telephone, fax, SSN, information stored within your\\n    Device and other information you transmit or receive using an Application, the\\n    Service and or the Site which identifies you or another person.\\n  ',\n",
       " 'annotations:',\n",
       " '\\n  - ',\n",
       " 'practice:',\n",
       " ' Contact_E_Mail_Address_1stParty\\n    ',\n",
       " 'modality:',\n",
       " ' NOT_PERFORMED\\n  - ',\n",
       " 'practice:',\n",
       " ' Contact_Phone_Number_1stParty\\n    ',\n",
       " 'modality:',\n",
       " ' NOT_PERFORMED\\n  - ',\n",
       " 'practice:',\n",
       " ' Contact_Postal_Address_1stParty\\n    ',\n",
       " 'modality:',\n",
       " ' NOT_PERFORMED\\n  ',\n",
       " 'sentences:',\n",
       " '\\n  - ',\n",
       " 'sentence_text:',\n",
       " ' \\'\"Personal Information\" is information that identifies you or another\\n      person, which may be transmitted or received when you use an Application, the\\n      Services and/or the Site.\\'\\n    ',\n",
       " 'annotations:',\n",
       " '\\n    - ',\n",
       " 'practice:',\n",
       " ' Contact_E_Mail_Address_1stParty\\n      ',\n",
       " 'modality:',\n",
       " ' NOT_PERFORMED\\n    - ',\n",
       " 'practice:',\n",
       " ' Contact_Phone_Number_1stParty\\n      ',\n",
       " 'modality:',\n",
       " ' NOT_PERFORMED\\n    - ',\n",
       " 'practice:',\n",
       " ' Contact_Postal_Address_1stParty\\n      ',\n",
       " 'modality:',\n",
       " ' NOT_PERFORMED\\n  - ',\n",
       " 'sentence_text:',\n",
       " ' We do not collect Personal Information.\\n    ',\n",
       " 'annotations:',\n",
       " '\\n    - ',\n",
       " 'practice:',\n",
       " ' Contact_E_Mail_Address_1stParty\\n      ',\n",
       " 'modality:',\n",
       " ' NOT_PERFORMED\\n    - ',\n",
       " 'practice:',\n",
       " ' Contact_Phone_Number_1stParty\\n      ',\n",
       " 'modality:',\n",
       " ' NOT_PERFORMED\\n    - ',\n",
       " 'practice:',\n",
       " ' Contact_Postal_Address_1stParty\\n      ',\n",
       " 'modality:',\n",
       " ' NOT_PERFORMED\\n  - ',\n",
       " 'sentence_text:',\n",
       " ' ion includes your names, physical addresses, email addresses, telephone,\\n      fax, SSN, information stored within your Device and other information you transmit\\n      or receive using an Application, the Service and or the Site which identifies\\n      you or another person.\\n    ',\n",
       " 'annotations:',\n",
       " '\\n    - ',\n",
       " 'practice:',\n",
       " ' Contact_E_Mail_Address_1stParty\\n      ',\n",
       " 'modality:',\n",
       " ' NOT_PERFORMED\\n    - ',\n",
       " 'practice:',\n",
       " ' Contact_Phone_Number_1stParty\\n      ',\n",
       " 'modality:',\n",
       " ' NOT_PERFORMED\\n    - ',\n",
       " 'practice:',\n",
       " ' Contact_Postal_Address_1stParty\\n      ',\n",
       " 'modality:',\n",
       " ' NOT_PERFORMED\\n- ',\n",
       " 'segment_id:',\n",
       " ' 3\\n  ',\n",
       " 'segment_text:',\n",
       " ' b. Non-personal identification. We may collect non-personal identification\\n    information about installed applications, application usage information and device\\n    information.\\n  ',\n",
       " 'annotations:',\n",
       " ' []\\n  ',\n",
       " 'sentences:',\n",
       " ' []\\n- ',\n",
       " 'segment_id:',\n",
       " ' 4\\n  ',\n",
       " 'segment_text:',\n",
       " ' The information you give us, for example, when you give us your opinions\\n    to our application and services via our feedback channel, such as your email address,\\n    and names;\\n  ',\n",
       " 'annotations:',\n",
       " '\\n  - ',\n",
       " 'practice:',\n",
       " ' Contact_E_Mail_Address_1stParty\\n    ',\n",
       " 'modality:',\n",
       " ' PERFORMED\\n  ',\n",
       " 'sentences:',\n",
       " '\\n  - ',\n",
       " 'sentence_text:',\n",
       " ' The information you give us, for example, when you give us your\\n      opinions to our application and services via our feedback channel, such as your\\n      email address, and names;\\n    ',\n",
       " 'annotations:',\n",
       " '\\n    - ',\n",
       " 'practice:',\n",
       " ' Contact_E_Mail_Address_1stParty\\n      ',\n",
       " 'modality:',\n",
       " ' PERFORMED\\n- ',\n",
       " 'segment_id:',\n",
       " ' 5\\n  ',\n",
       " 'segment_text:',\n",
       " ' B. HOW WE USE COLLECTED INFORMATION a. Personal Information- since\\n    we do not collect Personal Information, we may not use your personal information\\n    in any way.\\n  ',\n",
       " 'annotations:',\n",
       " ' []\\n  ',\n",
       " 'sentences:',\n",
       " ' []\\n- ',\n",
       " 'segment_id:',\n",
       " ' 6\\n  ',\n",
       " 'segment_text:',\n",
       " \" 'b. Non- Personal Information. We may use Non-Personal Information\\n    only for serving you better as \",\n",
       " 'below:',\n",
       " \" 1.To personalize user experience; 2.To help\\n    develop our service- We may use Non- Personal Information to provide, maintain,\\n    improve and develop our services;'\\n  \",\n",
       " 'annotations:',\n",
       " ' []\\n  ',\n",
       " 'sentences:',\n",
       " ' []\\n- ',\n",
       " 'segment_id:',\n",
       " ' 7\\n  ',\n",
       " 'segment_text:',\n",
       " ' 3. We may collect your non-personal information and use them for market\\n    and promotion purpose, for example, we may promote or recommend more relevant\\n    apps to you.\\n  ',\n",
       " 'annotations:',\n",
       " ' []\\n  ',\n",
       " 'sentences:',\n",
       " ' []\\n- ',\n",
       " 'segment_id:',\n",
       " ' 8\\n  ',\n",
       " 'segment_text:',\n",
       " ' C. HOW YOUR INFORMATION MAY BE DISCLOSED a. Personal Information.\\n    We do not store Personal Information and therefore we do not disclose your Personal\\n    Information.\\n  ',\n",
       " 'annotations:',\n",
       " ' []\\n  ',\n",
       " 'sentences:',\n",
       " ' []\\n- ',\n",
       " 'segment_id:',\n",
       " ' 9\\n  ',\n",
       " 'segment_text:',\n",
       " ' b. Non-Personal Information. We do not sell, trade, or otherwise transfer\\n    to outside parties your information. We do not combine Non-Personal Information\\n    with Personal Information (such as combining your name with your unique User Device\\n    number).\\n  ',\n",
       " 'annotations:',\n",
       " ' []\\n  ',\n",
       " 'sentences:',\n",
       " ' []\\n- ',\n",
       " 'segment_id:',\n",
       " ' 10\\n  ',\n",
       " 'segment_text:',\n",
       " ' c. We may disclose your non-personal information for promotion purpose\\n    to our trusted partners who shall comply with this privacy policy and the relevant\\n    privacy laws\\n  ',\n",
       " 'annotations:',\n",
       " ' []\\n  ',\n",
       " 'sentences:',\n",
       " ' []\\n- ',\n",
       " 'segment_id:',\n",
       " ' 11\\n  ',\n",
       " 'segment_text:',\n",
       " \" D. THIRD- PARTY SITES In general, the Applications, the Services and\\n    the Site access third party information (such as your Facebook account information)\\n    through application interfaces. We may provide links to third-party Web sites,\\n    such as Facebook, as a service to our Users. The Site may also carry advertisements\\n    from other companies. When you click on links of third parties in an Application,\\n    the Services or the Site, you may leave the Application, the Services or the Site.\\n    Some of these third party sites may be co-branded with our name/logo or our affiliated\\n    entity's name/logo, even though they are not operated or maintained by us. This\\n    Policy does not address, and we are not responsible for, the privacy practices\\n    of Web sites operated by third parties, whether they are linked to or otherwise\\n    accessible from an Application, the Services or the Site. The inclusion of a link\\n    or accessibility of third party Websites does not imply endorsement of such third\\n    party Website by us.\\n  \",\n",
       " 'annotations:',\n",
       " '\\n  - ',\n",
       " 'practice:',\n",
       " ' Facebook_SSO\\n    ',\n",
       " 'modality:',\n",
       " ' PERFORMED\\n  - ',\n",
       " 'practice:',\n",
       " ' SSO\\n    ',\n",
       " 'modality:',\n",
       " ' PERFORMED\\n  ',\n",
       " 'sentences:',\n",
       " '\\n  - ',\n",
       " 'sentence_text:',\n",
       " ' In general, the Applications, the Services and the Site access\\n      third party information (such as your Facebook account information) through\\n      application interfaces.\\n    ',\n",
       " 'annotations:',\n",
       " '\\n    - ',\n",
       " 'practice:',\n",
       " ' Facebook_SSO\\n      ',\n",
       " 'modality:',\n",
       " ' PERFORMED\\n    - ',\n",
       " 'practice:',\n",
       " ' SSO\\n      ',\n",
       " 'modality:',\n",
       " ' PERFORMED\\n- ',\n",
       " 'segment_id:',\n",
       " ' 12\\n  ',\n",
       " 'segment_text:',\n",
       " ' E. USERS WITH WHOM YOU SHARE YOUR INFORMATION We cannot control the\\n    actions of other Users with whom you share your information. We cannot, and do\\n    not, control the information you share with other Users using an Application,\\n    the Services or the Site (including via Forums) or how such other Users will use\\n    or share such information. We are not responsible for third party circumvention\\n    of our security measures.\\n  ',\n",
       " 'annotations:',\n",
       " ' []\\n  ',\n",
       " 'sentences:',\n",
       " ' []\\n- ',\n",
       " 'segment_id:',\n",
       " ' 13\\n  ',\n",
       " 'segment_text:',\n",
       " ' F.SECURITY Cheetah Mobile Inc. is very concerned about safeguarding\\n    the confidentiality of your information. We do not collect Personal Information,\\n    and we employ administrative, physical and electronic measures designed to protect\\n    your Non-Personal Information from unauthorized access and use. Please be aware\\n    that no security measures that we take to protect your information is absolutely\\n    guaranteed to avoid unauthorized access or use of your Non-Personal Information\\n    which is impenetrable.\\n  ',\n",
       " 'annotations:',\n",
       " ' []\\n  ',\n",
       " 'sentences:',\n",
       " ' []\\n- ',\n",
       " 'segment_id:',\n",
       " ' 14\\n  ',\n",
       " 'segment_text:',\n",
       " ' G. SENSITIVE INFORMATION We ask that you not send us, and you not\\n    disclose, any sensitive Personal Information (e.g., information related to racial\\n    or ethnic origin, political opinions, religion or other beliefs, health, sexual\\n    orientation, criminal background or membership in past organizations, including\\n    trade union memberships) on or through an Application, the Services or the Site\\n    or otherwise to us.\\n  ',\n",
       " 'annotations:',\n",
       " ' []\\n  ',\n",
       " 'sentences:',\n",
       " ' []\\n- ',\n",
       " 'segment_id:',\n",
       " ' 15\\n  ',\n",
       " 'segment_text:',\n",
       " ' H. CONTACTING US / REPORTING VIOLATIONS If you have any questions\\n    or comments about this Policy or our privacy practices, or to report any violations\\n    of the Policy or abuse of an Application, the Services or the Site, please contact\\n    us at support@cmcm.com.\\n  ',\n",
       " 'annotations:',\n",
       " ' []\\n  ',\n",
       " 'sentences:',\n",
       " ' []\\n- ',\n",
       " 'segment_id:',\n",
       " ' 16\\n  ',\n",
       " 'segment_text:',\n",
       " ' I. CHANGES TO THIS PRIVACY POLICY Our Privacy Policy may change from\\n    time to time, we will post any privacy policy changes on this page, so please\\n    review it periodically. We may provide you additional forms of notice of modifications\\n    or updates as appropriate under the circumstances.\\n  ',\n",
       " 'annotations:',\n",
       " ' []\\n  ',\n",
       " 'sentences:',\n",
       " ' []\\n- ',\n",
       " 'segment_id:',\n",
       " ' 17\\n  ',\n",
       " 'segment_text:',\n",
       " ' If you do not agree to any modifications to this Policy, your sole\\n    recourse is to immediately stop all use of all Applications, the Services and\\n    the Site. Your continued use of any Application, the Services or the Site following\\n    the posting of any modifications to this Policy will constitute your acceptance\\n    of the revised Policy. Please note that none of our employees or agents has the\\n    authority to vary any of our Policies.\\n  ',\n",
       " 'annotations:',\n",
       " ' []\\n  ',\n",
       " 'sentences:',\n",
       " ' []\\n- ',\n",
       " 'segment_id:',\n",
       " ' 18\\n  ',\n",
       " 'segment_text:',\n",
       " ' \"Privacy Policy | Cheetah Mobile \\\\xA9 2017 \\\\xB7 EnglishEnglishEspa\\\\xF1\\\\\\n    olFran\\\\xE7aisP\\\\u0443\\\\u0441\\\\u0441\\\\u043A\\\\u0438\\\\u0439Portugu\\\\xEAs\\\\u65E5\\\\u672C\\\\u8A9E\\\\\\n    \\\\uD55C\\\\uAD6D\\\\uC5B4\\\\u7E41\\\\u9AD4\\\\u4E2D\\\\u6587\\\\u7B80\\\\u4F53\\\\u4E2D\\\\u6587\"\\n  ',\n",
       " 'annotations:',\n",
       " ' []\\n  ',\n",
       " 'sentences:',\n",
       " ' []\\n']"
      ]
     },
     "execution_count": 18,
     "metadata": {},
     "output_type": "execute_result"
    }
   ],
   "source": [
    "re.split(r'([\\w]+:)',text)"
   ]
  },
  {
   "cell_type": "code",
   "execution_count": 25,
   "metadata": {
    "collapsed": true
   },
   "outputs": [],
   "source": [
    "data_path = '../data/APP-350_v1.0/annotations/'\n",
    "with open(os.path.join(data_path, 'policy_10.yml'), 'r') as f:\n",
    "    text = f.readlines()"
   ]
  },
  {
   "cell_type": "code",
   "execution_count": null,
   "metadata": {
    "collapsed": true
   },
   "outputs": [],
   "source": []
  },
  {
   "cell_type": "code",
   "execution_count": null,
   "metadata": {
    "collapsed": true
   },
   "outputs": [],
   "source": [
    "a = 'lkdfhisoe78347834 (())&/&745  '\n",
    "result = re.sub('[^0-9]','', a)"
   ]
  },
  {
   "cell_type": "code",
   "execution_count": 8,
   "metadata": {},
   "outputs": [
    {
     "data": {
      "text/plain": [
       "'4'"
      ]
     },
     "execution_count": 8,
     "metadata": {},
     "output_type": "execute_result"
    }
   ],
   "source": [
    "re.sub('[^0-9]','', 'segment id 4')"
   ]
  },
  {
   "cell_type": "code",
   "execution_count": 13,
   "metadata": {},
   "outputs": [
    {
     "data": {
      "text/plain": [
       "False"
      ]
     },
     "execution_count": 13,
     "metadata": {},
     "output_type": "execute_result"
    }
   ],
   "source": [
    "'segment_id:' in text"
   ]
  },
  {
   "cell_type": "code",
   "execution_count": 49,
   "metadata": {},
   "outputs": [],
   "source": [
    "def get_segment_indices(textlines):\n",
    "    '''\n",
    "    Get indices of segment chunks from a LIST of lines\n",
    "    '''\n",
    "    current_line = 0\n",
    "    segment_indices = []\n",
    "    for line in textlines:\n",
    "        if 'segment_id:' in line:\n",
    "            segment_id = re.sub('[^0-9]','', line)\n",
    "            #print('line:', current_line, 'contains segment with',segment_id)\n",
    "            segment_indices.append(current_line)\n",
    "            ref_line = current_line\n",
    "        current_line+=1\n",
    "    return segment_indices"
   ]
  },
  {
   "cell_type": "code",
   "execution_count": 50,
   "metadata": {},
   "outputs": [
    {
     "name": "stdout",
     "output_type": "stream",
     "text": [
      "[5, 17, 25, 70, 76, 90, 96, 103, 109, 115, 122, 128, 156, 165, 175, 184, 191, 198, 207]\n"
     ]
    }
   ],
   "source": [
    "print(get_segment_indices(text))"
   ]
  },
  {
   "cell_type": "code",
   "execution_count": 55,
   "metadata": {},
   "outputs": [
    {
     "name": "stdout",
     "output_type": "stream",
     "text": [
      "LINE: - segment_id: 18\n",
      "\n",
      "LINE:   segment_text: \"Privacy Policy | Cheetah Mobile \\xA9 2017 \\xB7 EnglishEnglishEspa\\xF1\\\n",
      "\n",
      "LINE:     olFran\\xE7aisP\\u0443\\u0441\\u0441\\u043A\\u0438\\u0439Portugu\\xEAs\\u65E5\\u672C\\u8A9E\\\n",
      "\n",
      "LINE:     \\uD55C\\uAD6D\\uC5B4\\u7E41\\u9AD4\\u4E2D\\u6587\\u7B80\\u4F53\\u4E2D\\u6587\"\n",
      "\n",
      "LINE:   annotations: []\n",
      "\n",
      "LINE:   sentences: []\n",
      "\n"
     ]
    }
   ],
   "source": [
    "for l in text[207:]:\n",
    "    print('LINE:', l)"
   ]
  },
  {
   "cell_type": "code",
   "execution_count": 58,
   "metadata": {},
   "outputs": [
    {
     "data": {
      "text/plain": [
       "['- segment_id: 4\\n',\n",
       " '  segment_text: The information you give us, for example, when you give us your opinions\\n',\n",
       " '    to our application and services via our feedback channel, such as your email address,\\n',\n",
       " '    and names;\\n',\n",
       " '  annotations:\\n',\n",
       " '  - practice: Contact_E_Mail_Address_1stParty\\n',\n",
       " '    modality: PERFORMED\\n',\n",
       " '  sentences:\\n',\n",
       " '  - sentence_text: The information you give us, for example, when you give us your\\n',\n",
       " '      opinions to our application and services via our feedback channel, such as your\\n',\n",
       " '      email address, and names;\\n',\n",
       " '    annotations:\\n',\n",
       " '    - practice: Contact_E_Mail_Address_1stParty\\n',\n",
       " '      modality: PERFORMED\\n']"
      ]
     },
     "execution_count": 58,
     "metadata": {},
     "output_type": "execute_result"
    }
   ],
   "source": [
    "sample_seg = text[76:90]\n",
    "sample_seg"
   ]
  },
  {
   "cell_type": "code",
   "execution_count": 69,
   "metadata": {},
   "outputs": [
    {
     "name": "stdout",
     "output_type": "stream",
     "text": [
      "Segment id: 4\n",
      "Segment text: \n",
      "Segment annotations: {}\n"
     ]
    }
   ],
   "source": [
    "seg_id = 0\n",
    "seg_text = ''\n",
    "annotations = {}\n",
    "annotated=False\n",
    "for l in sample_seg:\n",
    "    l = l.strip()\n",
    "    if 'segment_id:' in l:\n",
    "        seg_id = re.sub('[^0-9]','', l)\n",
    "\n",
    "    #print(l)\n",
    "    \n",
    "print('Segment id: {}'.format(seg_id))\n",
    "print('Segment text: {}'.format(seg_text))\n",
    "print('Segment annotations: {}'.format(annotations))"
   ]
  },
  {
   "cell_type": "code",
   "execution_count": 34,
   "metadata": {},
   "outputs": [
    {
     "data": {
      "text/plain": [
       "['- segment_id: 0\\n',\n",
       " '  segment_text: Cheetah Mobile Clean Master CM Security PIANO TILES 2 LIVE.ME More\\n',\n",
       " '    Products Clean Master CM Security Live.me WhatsCall Piano Tiles 2 PhotoGrid News\\n',\n",
       " '    Republic Battery Doctor CM Launcher CM Browser CM Locker CM Backup CM Behavior\\n',\n",
       " '    Cloud Clean Master for PC Business Cheetah Ad Platform Pegasi Libra Media Blog\\n',\n",
       " '    Security Topics CEO Talks Press Release About Company Information Investor Relations\\n',\n",
       " '    Promotion Policy Global Talent Contact Us Follow Us Facebook Twitter LinkedIn\\n',\n",
       " '    Home / Privacy Policy Privacy Policy At Cheetah Mobile Inc. we recognize that\\n',\n",
       " '    privacy is significant. This Privacy Policy (\"Policy\") applies to your use of\\n',\n",
       " '    the Battery Doctor applications on all platforms (the \"Application\").\\n',\n",
       " '  annotations: []\\n',\n",
       " '  sentences: []\\n']"
      ]
     },
     "execution_count": 34,
     "metadata": {},
     "output_type": "execute_result"
    }
   ],
   "source": [
    "text[5:17]"
   ]
  },
  {
   "cell_type": "code",
   "execution_count": 35,
   "metadata": {},
   "outputs": [
    {
     "data": {
      "text/plain": [
       "['- segment_id: 1\\n',\n",
       " '  segment_text: Cheetah Mobile Inc. (\"us\" or \"we\") has created this Policy to explain\\n',\n",
       " '    our privacy practices so you will understand what information about you is collected,\\n',\n",
       " '    used and disclosed. We collect information from you in order to provide corresponding\\n',\n",
       " '    service and better user experience. With your consent of this Privacy Policy,\\n',\n",
       " '    your usage, statistics, input while using BATTERY DOCTOR would be collected.\\n',\n",
       " '  annotations: []\\n',\n",
       " '  sentences: []\\n']"
      ]
     },
     "execution_count": 35,
     "metadata": {},
     "output_type": "execute_result"
    }
   ],
   "source": [
    "text[17:25]"
   ]
  },
  {
   "cell_type": "code",
   "execution_count": null,
   "metadata": {
    "collapsed": true
   },
   "outputs": [],
   "source": []
  },
  {
   "cell_type": "code",
   "execution_count": null,
   "metadata": {
    "collapsed": true
   },
   "outputs": [],
   "source": [
    "def extract_segments(text):\n",
    "    '''\n",
    "    Transform an annotated text file \n",
    "    to a dataframe with three columns\n",
    "    \n",
    "    input\n",
    "    policyname\n",
    "    \n",
    "    output\n",
    "    DataFrame\n",
    "    segment id | segment | annotations | sentences\n",
    "    \n",
    "    annotations\n",
    "    practice | modality\n",
    "    \n",
    "    sentences\n",
    "    practice | modality\n",
    "    '''\n",
    "    "
   ]
  },
  {
   "cell_type": "markdown",
   "metadata": {},
   "source": [
    "## NLP\n",
    "\n",
    "For now, only focus on labeled examples for each (1/0)\n",
    "\n",
    "If there aren't sufficient examples of the \"NOT_PERFORMED\" class, add more data from other policies (unrelated)"
   ]
  },
  {
   "cell_type": "code",
   "execution_count": 256,
   "metadata": {
    "collapsed": true
   },
   "outputs": [],
   "source": [
    "def standardize_text(df, text_field):\n",
    "    '''Clean-up text column to prepare for tokenization\n",
    "    \n",
    "    Removes unwanted characters &\n",
    "    Replaces them with spaces or blanks\n",
    "    --\n",
    "    Input\n",
    "    + pandas dataframe\n",
    "    + name of text column\n",
    "    \n",
    "    Returns\n",
    "    + pandas dataframe with cleaned column\n",
    "    '''\n",
    "    df[text_field] = df[text_field].str.replace(r\"http\\S+\", \"\")\n",
    "    df[text_field] = df[text_field].str.replace(r\"http\", \"\")\n",
    "    df[text_field] = df[text_field].str.replace(r\"@\\S+\", \"\")\n",
    "    df[text_field] = df[text_field].str.replace(r\"[^A-Za-z0-9(),!?@\\'\\`\\\"\\_\\n]\", \" \")\n",
    "    df[text_field] = df[text_field].str.replace(r\"@\", \"at\")\n",
    "    df[text_field] = df[text_field].str.lower()\n",
    "    return df"
   ]
  },
  {
   "cell_type": "code",
   "execution_count": 273,
   "metadata": {},
   "outputs": [
    {
     "data": {
      "text/html": [
       "<div>\n",
       "<style scoped>\n",
       "    .dataframe tbody tr th:only-of-type {\n",
       "        vertical-align: middle;\n",
       "    }\n",
       "\n",
       "    .dataframe tbody tr th {\n",
       "        vertical-align: top;\n",
       "    }\n",
       "\n",
       "    .dataframe thead th {\n",
       "        text-align: right;\n",
       "    }\n",
       "</style>\n",
       "<table border=\"1\" class=\"dataframe\">\n",
       "  <thead>\n",
       "    <tr style=\"text-align: right;\">\n",
       "      <th></th>\n",
       "      <th>text</th>\n",
       "      <th>target</th>\n",
       "    </tr>\n",
       "  </thead>\n",
       "  <tbody>\n",
       "    <tr>\n",
       "      <th>0</th>\n",
       "      <td>d  third  party sites in general, the applicat...</td>\n",
       "      <td>1</td>\n",
       "    </tr>\n",
       "    <tr>\n",
       "      <th>1</th>\n",
       "      <td>use a third party connection or log in to crea...</td>\n",
       "      <td>1</td>\n",
       "    </tr>\n",
       "    <tr>\n",
       "      <th>2</th>\n",
       "      <td>third parties  to improve the quality of some ...</td>\n",
       "      <td>1</td>\n",
       "    </tr>\n",
       "    <tr>\n",
       "      <th>3</th>\n",
       "      <td>'user ids, registration, purchases, and contac...</td>\n",
       "      <td>1</td>\n",
       "    </tr>\n",
       "    <tr>\n",
       "      <th>4</th>\n",
       "      <td>(a) social networking sites  if you use one of...</td>\n",
       "      <td>1</td>\n",
       "    </tr>\n",
       "  </tbody>\n",
       "</table>\n",
       "</div>"
      ],
      "text/plain": [
       "                                                text  target\n",
       "0  d  third  party sites in general, the applicat...       1\n",
       "1  use a third party connection or log in to crea...       1\n",
       "2  third parties  to improve the quality of some ...       1\n",
       "3  'user ids, registration, purchases, and contac...       1\n",
       "4  (a) social networking sites  if you use one of...       1"
      ]
     },
     "execution_count": 273,
     "metadata": {},
     "output_type": "execute_result"
    }
   ],
   "source": [
    "df_nlp_loaded = pd.read_csv('../train/SSO.csv')\n",
    "df_nlp_loaded['target'] = df_nlp_loaded.performed.map(target_map)\n",
    "df_nlp_loaded=df_nlp_loaded[['text','target']]\n",
    "df_nlp_loaded = standardize_text(df_nlp_loaded, 'text')\n",
    "df_nlp_loaded.head()"
   ]
  },
  {
   "cell_type": "code",
   "execution_count": 255,
   "metadata": {},
   "outputs": [
    {
     "data": {
      "text/html": [
       "<div>\n",
       "<style scoped>\n",
       "    .dataframe tbody tr th:only-of-type {\n",
       "        vertical-align: middle;\n",
       "    }\n",
       "\n",
       "    .dataframe tbody tr th {\n",
       "        vertical-align: top;\n",
       "    }\n",
       "\n",
       "    .dataframe thead th {\n",
       "        text-align: right;\n",
       "    }\n",
       "</style>\n",
       "<table border=\"1\" class=\"dataframe\">\n",
       "  <thead>\n",
       "    <tr style=\"text-align: right;\">\n",
       "      <th></th>\n",
       "      <th>text</th>\n",
       "      <th>target</th>\n",
       "    </tr>\n",
       "  </thead>\n",
       "  <tbody>\n",
       "    <tr>\n",
       "      <th>0</th>\n",
       "      <td>D. THIRD- PARTY SITES In general, the Applicat...</td>\n",
       "      <td>1</td>\n",
       "    </tr>\n",
       "    <tr>\n",
       "      <th>1</th>\n",
       "      <td>Use a third party connection or log-in to crea...</td>\n",
       "      <td>1</td>\n",
       "    </tr>\n",
       "    <tr>\n",
       "      <th>2</th>\n",
       "      <td>Third Parties. To improve the quality of some ...</td>\n",
       "      <td>1</td>\n",
       "    </tr>\n",
       "    <tr>\n",
       "      <th>3</th>\n",
       "      <td>'User IDs, registration, purchases, and contac...</td>\n",
       "      <td>1</td>\n",
       "    </tr>\n",
       "    <tr>\n",
       "      <th>4</th>\n",
       "      <td>(a) Social Networking Sites. If you use one of...</td>\n",
       "      <td>1</td>\n",
       "    </tr>\n",
       "  </tbody>\n",
       "</table>\n",
       "</div>"
      ],
      "text/plain": [
       "                                                text  target\n",
       "0  D. THIRD- PARTY SITES In general, the Applicat...       1\n",
       "1  Use a third party connection or log-in to crea...       1\n",
       "2  Third Parties. To improve the quality of some ...       1\n",
       "3  'User IDs, registration, purchases, and contac...       1\n",
       "4  (a) Social Networking Sites. If you use one of...       1"
      ]
     },
     "execution_count": 255,
     "metadata": {},
     "output_type": "execute_result"
    }
   ],
   "source": [
    "df_nlp = df_sso[['text','target']].copy()\n",
    "df_nlp.head()"
   ]
  },
  {
   "cell_type": "code",
   "execution_count": 257,
   "metadata": {},
   "outputs": [
    {
     "data": {
      "text/html": [
       "<div>\n",
       "<style scoped>\n",
       "    .dataframe tbody tr th:only-of-type {\n",
       "        vertical-align: middle;\n",
       "    }\n",
       "\n",
       "    .dataframe tbody tr th {\n",
       "        vertical-align: top;\n",
       "    }\n",
       "\n",
       "    .dataframe thead th {\n",
       "        text-align: right;\n",
       "    }\n",
       "</style>\n",
       "<table border=\"1\" class=\"dataframe\">\n",
       "  <thead>\n",
       "    <tr style=\"text-align: right;\">\n",
       "      <th></th>\n",
       "      <th>text</th>\n",
       "      <th>target</th>\n",
       "    </tr>\n",
       "  </thead>\n",
       "  <tbody>\n",
       "    <tr>\n",
       "      <th>0</th>\n",
       "      <td>d  third  party sites in general, the applicat...</td>\n",
       "      <td>1</td>\n",
       "    </tr>\n",
       "    <tr>\n",
       "      <th>1</th>\n",
       "      <td>use a third party connection or log in to crea...</td>\n",
       "      <td>1</td>\n",
       "    </tr>\n",
       "    <tr>\n",
       "      <th>2</th>\n",
       "      <td>third parties  to improve the quality of some ...</td>\n",
       "      <td>1</td>\n",
       "    </tr>\n",
       "    <tr>\n",
       "      <th>3</th>\n",
       "      <td>'user ids, registration, purchases, and contac...</td>\n",
       "      <td>1</td>\n",
       "    </tr>\n",
       "    <tr>\n",
       "      <th>4</th>\n",
       "      <td>(a) social networking sites  if you use one of...</td>\n",
       "      <td>1</td>\n",
       "    </tr>\n",
       "  </tbody>\n",
       "</table>\n",
       "</div>"
      ],
      "text/plain": [
       "                                                text  target\n",
       "0  d  third  party sites in general, the applicat...       1\n",
       "1  use a third party connection or log in to crea...       1\n",
       "2  third parties  to improve the quality of some ...       1\n",
       "3  'user ids, registration, purchases, and contac...       1\n",
       "4  (a) social networking sites  if you use one of...       1"
      ]
     },
     "execution_count": 257,
     "metadata": {},
     "output_type": "execute_result"
    }
   ],
   "source": [
    "df_nlp = standardize_text(df_nlp, 'text')\n",
    "df_nlp.head()"
   ]
  },
  {
   "cell_type": "code",
   "execution_count": 261,
   "metadata": {
    "collapsed": true
   },
   "outputs": [],
   "source": [
    "list_corpus = df_nlp['text'].tolist()\n",
    "list_labels = df_nlp['target'].tolist()"
   ]
  },
  {
   "cell_type": "code",
   "execution_count": 258,
   "metadata": {},
   "outputs": [
    {
     "data": {
      "text/plain": [
       "1    229\n",
       "0     45\n",
       "Name: target, dtype: int64"
      ]
     },
     "execution_count": 258,
     "metadata": {},
     "output_type": "execute_result"
    }
   ],
   "source": [
    "df_nlp.target.value_counts()"
   ]
  },
  {
   "cell_type": "code",
   "execution_count": 263,
   "metadata": {
    "collapsed": true
   },
   "outputs": [],
   "source": [
    "from sklearn.model_selection import train_test_split\n",
    "from sklearn.feature_extraction.text import CountVectorizer, TfidfVectorizer\n",
    "from sklearn.linear_model import LogisticRegression"
   ]
  },
  {
   "cell_type": "code",
   "execution_count": 260,
   "metadata": {
    "collapsed": true
   },
   "outputs": [],
   "source": [
    "def fit_vectorizer(data, vec_type='count'):\n",
    "    '''Create and fit a vectorizer\n",
    "    \n",
    "    Options:\n",
    "    + count -> count_vectorizer \n",
    "    + tfidf -> tfidf_vectorizer\n",
    "    \n",
    "    Input:\n",
    "    + data - X data to fit the model\n",
    "    + vec_type - name of vectorizer to use\n",
    "    \n",
    "    Returns:\n",
    "    + Document-term matrix or Tf-idf-weighted document-term matrix\n",
    "    + vectorizer - fitted model\n",
    "    '''\n",
    "    if vec_type=='count':\n",
    "        vectorizer = CountVectorizer()\n",
    "    elif vec_type=='tfidf':\n",
    "        vectorizer = TfidfVectorizer()\n",
    "    else:\n",
    "        print('Please select an appropriate option')\n",
    "    \n",
    "    emb = vectorizer.fit_transform(data)\n",
    "\n",
    "    return emb, vectorizer"
   ]
  },
  {
   "cell_type": "code",
   "execution_count": 266,
   "metadata": {
    "collapsed": true
   },
   "outputs": [],
   "source": [
    "from sklearn.metrics import accuracy_score, f1_score, precision_score, recall_score, classification_report, confusion_matrix\n",
    "\n",
    "def get_metrics(y_test, y_predicted):  \n",
    "    # true positives / (true positives+false positives)\n",
    "    precision = precision_score(y_test, y_predicted, pos_label=None,\n",
    "                                    average='weighted')             \n",
    "    # true positives / (true positives + false negatives)\n",
    "    recall = recall_score(y_test, y_predicted, pos_label=None,\n",
    "                              average='weighted')\n",
    "    \n",
    "    # harmonic mean of precision and recall\n",
    "    f1 = f1_score(y_test, y_predicted, pos_label=None, average='weighted')\n",
    "    \n",
    "    # true positives + true negatives/ total\n",
    "    accuracy = accuracy_score(y_test, y_predicted)\n",
    "    return accuracy, precision, recall, f1\n",
    "\n",
    "def get_most_important_features(vectorizer, model, n=5):\n",
    "    index_to_word = {v:k for k,v in vectorizer.vocabulary_.items()}\n",
    "    \n",
    "    # loop for each class\n",
    "    classes ={}\n",
    "    for class_index in range(model.coef_.shape[0]):\n",
    "        word_importances = [(el, index_to_word[i]) for i,el in enumerate(model.coef_[class_index])]\n",
    "        sorted_coeff = sorted(word_importances, key = lambda x : x[0], reverse=True)\n",
    "        tops = sorted(sorted_coeff[:n], key = lambda x : x[0])\n",
    "        bottom = sorted_coeff[-n:]\n",
    "        classes[class_index] = {\n",
    "            'tops':tops,\n",
    "            'bottom':bottom\n",
    "        }\n",
    "    return classes\n",
    "\n",
    "def plot_important_words(top_scores, top_words, bottom_scores, bottom_words, name, save_png=False):\n",
    "    y_pos = np.arange(len(top_words))\n",
    "    top_pairs = [(a,b) for a,b in zip(top_words, top_scores)]\n",
    "    top_pairs = sorted(top_pairs, key=lambda x: x[1])\n",
    "    \n",
    "    bottom_pairs = [(a,b) for a,b in zip(bottom_words, bottom_scores)]\n",
    "    bottom_pairs = sorted(bottom_pairs, key=lambda x: x[1], reverse=True)\n",
    "    \n",
    "    top_words = [a[0] for a in top_pairs]\n",
    "    top_scores = [a[1] for a in top_pairs]\n",
    "    \n",
    "    bottom_words = [a[0] for a in bottom_pairs]\n",
    "    bottom_scores = [a[1] for a in bottom_pairs]\n",
    "    \n",
    "    fig = plt.figure(figsize=(10, 10))  \n",
    "\n",
    "    plt.subplot(121)\n",
    "    plt.barh(y_pos,bottom_scores, align='center', alpha=0.5, color='r')\n",
    "    plt.title('NOT_PERFORMED', fontsize=20)\n",
    "    plt.yticks(y_pos, bottom_words, fontsize=14)\n",
    "    plt.suptitle('Key words', fontsize=16)\n",
    "    plt.xlabel('Importance', fontsize=20)\n",
    "    \n",
    "    plt.subplot(122)\n",
    "    plt.barh(y_pos,top_scores, align='center', alpha=0.5, color='b')\n",
    "    plt.title('PERFORMED', fontsize=20)\n",
    "    plt.yticks(y_pos, top_words, fontsize=14)\n",
    "    plt.suptitle(name, fontsize=16)\n",
    "    plt.xlabel('Importance', fontsize=20)\n",
    "    \n",
    "    plt.subplots_adjust(wspace=0.8)\n",
    "    if save_png:\n",
    "        plt.savefig('../images/important_words.png')\n",
    "    else:\n",
    "        plt.show()"
   ]
  },
  {
   "cell_type": "code",
   "execution_count": 267,
   "metadata": {},
   "outputs": [
    {
     "name": "stdout",
     "output_type": "stream",
     "text": [
      "accuracy = 0.982, precision = 0.984, recall = 0.982, f1 = 0.982\n"
     ]
    }
   ],
   "source": [
    "X_train, X_test, y_train, y_test = train_test_split(list_corpus, list_labels, test_size=0.2, \n",
    "                                                                                random_state=40)\n",
    "\n",
    "# vectorize word counts\n",
    "X_train_counts, count_vectorizer = fit_vectorizer(X_train, vec_type='count')\n",
    "X_test_counts = count_vectorizer.transform(X_test)\n",
    "    \n",
    "# train & test logsitic regression model\n",
    "clf = LogisticRegression(C=30.0, class_weight='balanced', solver='newton-cg', \n",
    "                         multi_class='ovr', n_jobs=-1, random_state=40)\n",
    "clf.fit(X_train_counts, y_train)\n",
    "y_predicted = clf.predict(X_test_counts)\n",
    "\n",
    "# check performance\n",
    "accuracy, precision, recall, f1 = get_metrics(y_test, y_predicted)\n",
    "print(\"accuracy = %.3f, precision = %.3f, recall = %.3f, f1 = %.3f\" % (accuracy, precision, recall, f1))"
   ]
  },
  {
   "cell_type": "code",
   "execution_count": 274,
   "metadata": {},
   "outputs": [
    {
     "data": {
      "text/plain": [
       "'Location_GPS_1stParty'"
      ]
     },
     "execution_count": 274,
     "metadata": {},
     "output_type": "execute_result"
    }
   ],
   "source": [
    "'Location_GPS_1stParty.csv'[:-4]"
   ]
  },
  {
   "cell_type": "code",
   "execution_count": 269,
   "metadata": {},
   "outputs": [
    {
     "data": {
      "text/plain": [
       "array([[ 7,  0],\n",
       "       [ 1, 47]])"
      ]
     },
     "execution_count": 269,
     "metadata": {},
     "output_type": "execute_result"
    }
   ],
   "source": [
    "confusion_matrix(y_test, y_predicted)"
   ]
  },
  {
   "cell_type": "code",
   "execution_count": 268,
   "metadata": {},
   "outputs": [
    {
     "data": {
      "image/png": "[encoded data removed]",
      "text/plain": [
       "<matplotlib.figure.Figure at 0x11d2d0c50>"
      ]
     },
     "metadata": {},
     "output_type": "display_data"
    }
   ],
   "source": [
    "# get word importance\n",
    "importance = get_most_important_features(count_vectorizer, clf, 10)\n",
    "\n",
    "top_scores = [a[0] for a in importance[0]['tops']]\n",
    "top_words = [a[1] for a in importance[0]['tops']]\n",
    "bottom_scores = [a[0] for a in importance[0]['bottom']]\n",
    "bottom_words = [a[1] for a in importance[0]['bottom']]\n",
    "\n",
    "plot_important_words(top_scores, top_words, bottom_scores, bottom_words, \"Most important words for determining SSO Policy - Bag of Words\")"
   ]
  },
  {
   "cell_type": "markdown",
   "metadata": {},
   "source": [
    "## Preprocessing Unlabeled File for NLP"
   ]
  },
  {
   "cell_type": "code",
   "execution_count": 279,
   "metadata": {
    "collapsed": true
   },
   "outputs": [],
   "source": [
    "with open('../data/APP-350_v1.0/original_documents/1.html', 'r') as f:\n",
    "    unl_sample = f.read()"
   ]
  },
  {
   "cell_type": "code",
   "execution_count": 329,
   "metadata": {
    "collapsed": true
   },
   "outputs": [],
   "source": [
    "def get_sentences_from_html(html):\n",
    "    '''\n",
    "    Clean-up raw html\n",
    "    return a list of sentences\n",
    "    '''\n",
    "    soup = BeautifulSoup(html, 'html.parser')\n",
    "    \n",
    "    # kill all script and style elements\n",
    "    for script in soup(['script', 'style']):\n",
    "        script.decompose()    \n",
    "\n",
    "    # get text\n",
    "    text = soup.get_text()\n",
    "\n",
    "    # break into lines and remove leading and trailing space on each\n",
    "    lines = (line.strip() for line in text.splitlines())\n",
    "    \n",
    "    # break multi-headlines into a line each\n",
    "    chunks = (phrase.strip() for line in lines for phrase in line.split(\"  \"))\n",
    "    \n",
    "    # drop blank lines\n",
    "    text = '\\n'.join(chunk for chunk in chunks if chunk)\n",
    "    sentences_all = text.split('\\n')\n",
    "    sentences = [sen for sen in sentences_all if len(sen)>100]\n",
    "    \n",
    "    return sentences"
   ]
  },
  {
   "cell_type": "code",
   "execution_count": 312,
   "metadata": {},
   "outputs": [
    {
     "data": {
      "text/plain": [
       "['6677G PRIVACY POLICY',\n",
       " 'PRIVACY POLICY',\n",
       " 'This privacy policy (hereafter referred to as the \"Privacy Policy\") is applicable to our websites, apps and to all games and other activities(hereafter referred to as the “our products\") that are offered by us on or through our products. Tiny Piece, having its registered office at Ajeltake Road, Ajeltake Island, Majuro, Republic of the Marshall Island MH 96960 (hereafter referred to as “6677g\"). 6677g may use affiliates\\' or reputable third parties\\' services for the processing of personal data collected on or through our products. By using or accessing our products, you are accepting the practices described in this Privacy Policy.',\n",
       " '1. ABOUT OUR PRODUCTS',\n",
       " '1.1 Our products offer a diverse, current, and exciting mix of games created by 6677g, as well as games created by independent developers and 6677g partners. Players can access our products to play games without registering; however, they may choose to register to create a public or semi-public profile and to save games, high scores, and comments on this profile. Also, visitors to our products will be able to rate games and browse for the newly added, top-rated, and most-popular games.',\n",
       " '2. THE INFORMATION WE COLLECT',\n",
       " 'The information that our products collect includes (among others) the following:',\n",
       " 'A) IP ADDRESS, COOKIES, AND WEB BEACONS',\n",
       " \"2.1 When you visit our products, our servers automatically save your computer's IP address. IP addresses will be collected, along with information about the actual web pages that you visit on our products. If you arrive at our products via a link from another product, the URL of the linking product and the URL of any product that you link to next will also be collected.\",\n",
       " '2.2 In addition, we store certain information from your browser, using \"cookies.\" A cookie is a piece of data stored on the user\\'s computer and is tied to information about the user. 6677g may use cookies, web beacons (web bugs), or similar technologies to enhance and personalize your experience on our products, including the following:',\n",
       " '(a) to operate and improve offerings on our products;',\n",
       " '(b) to help authenticate you when you are on our products;',\n",
       " '(c) to remember your preferences and registration information, as applicable;',\n",
       " '(d) to present and help measure and research the effectiveness of 6677g offerings, advertisements, and email communications; and',\n",
       " '(e) to customize the content and advertisements provided to you through our products.',\n",
       " '2.3 6677g may also use ad network providers to help present advertisements on our products. These ad network providers use cookies, web beacons, or similar technologies to help the presenting, better targeting, and measuring of the effectiveness of their advertisements, using data gathered over time and across their networks of web pages to determine or predict the characteristics and preferences of their audiences. 6677g offers some services in connection with other products. Personal information that you provide to those sites may be sent to 6677g in order to deliver these services. 6677g processes such information in accordance with this Privacy Policy.',\n",
       " '2.4 6677g may also use third-party payment service providers (\"PSP\"), offering payment transaction services to 6677g in order to sell a product or service through our products. Whenever you buy something from our products (e.g., a virtual game item or a subscription for a game download), the information that you provide to the PSP is subject to their privacy policies, not ours. You explicitly consent that 6677g may provide personal information collected from you to a PSP for the purpose of the offering of the payment-transaction service whenever you buy something from the Website(s) and that such PSP may use such data for (statistical) analysis of payment transactions. 6677g shall be allowed to notify a PSP regarding a user that engages in (or who a party believes has engaged in) any activity that is illegal, that violates any person\\'s rights, or that led to such user\\'s suspension or termination of use of our products.',\n",
       " '2.5 6677g may share demographic information (certain anonymous information about you as a user, such as age and country) with certain ad network providers to help them deliver more relevant advertisements through their ad networks. The use of cookies, web beacons, or similar technologies by such third parties as ad network providers is subject to their own privacy policies, not this Privacy Policy.',\n",
       " '2.6 Most browsers are initially set to accept cookies, but you can (re)set your browser to refuse all cookies or to indicate when a cookie is being sent. You can opt out of receiving cookies from certain third-party advertising networks by resetting your browser. You may also use the following link to the Network Advertising Initiatives cookie opt-out page, which can be found here. However, some features and services may not function properly if cookies are disabled.',\n",
       " 'B) PERSONAL DATA, INCLUDING YOUR E-MAIL ADDRESS',\n",
       " '2.7 You may choose to register with us for a better game experience and/or to create a public or semi-public profile for participating in our social gaming network. This includes, for example: overviews of high scores, achievements listings, and individual game recommendations on our products. When you register with us, you provide us with certain personal information, such as a username, date and month of birth, and your email address. The information you disclose in that respect may also become publicly accessible. We provide you with privacy settings that restrict other users from accessing your information; namely, our network architecture and your privacy settings allow you to make informed choices about who has access to your information. We allow you to choose the information you provide to friends and networks through our products. When your privacy settings permit it, other users may be able to see and supplement your profile (e.g., by posting comments).',\n",
       " '2.8 If you decide to disclose information in a public venue or in games, we will consider that information as part of the public domain. This information will be accessible to any person who uses our products.',\n",
       " '2.9 We only collect email addresses that were provided to us directly by you. Your email address will only be used for the following purposes:',\n",
       " '(i) the promotion of (new) games;',\n",
       " '(ii) service emails (on updates, new design, new features, etc.);',\n",
       " '(iii) administrative purposes, such as notification of violation of our Terms of Use;',\n",
       " '(iv) delivering messages you have allowed us to pass on (e.g., from other people in your social network).',\n",
       " '2.10 Without your approval, we will not:',\n",
       " '(a) make your email address visible on our products;',\n",
       " '(b) use your email address for purposes other than those described in article 2.9 hereof;',\n",
       " '(c) transfer your email address or other personal information to third parties, except in those limited cases as described in this Privacy Policy.',\n",
       " 'C) COMBINATION OF PERSONAL DATA',\n",
       " '2.11 For optimizing our services and our products, and for the purposes mentioned in this article 2, we are entitled to combine your personal data (including your email address, as applicable) with other information about you collected by or provided to us.',\n",
       " '3. TO WHOM DOES 6677G PROVIDE THIS INFORMATION?',\n",
       " '3.1 6677g may provide information to any party whose services it engages for the purposes of its normal operations (for example, those partners who assist us by providing technical or operational facilities for our products and so forth). We may also supply information to other parties if we are required to do so by law or by a ruling handed down by a court of law. 6677g does not provide personal details to other parties for commercial, advertising, or marketing purposes, except if you explicitly give us permission to do so, or if doing so is part of a specific program or operation for which you have registered. In such case, you may withdraw your permission at any time.',\n",
       " '4. WHY DO WE COLLECT INFORMATION?',\n",
       " '4.1 We use personal details and other information to maintain the general and personified content and functionality of our products. In addition, we use personal details to make it possible to accommodate your requests, and so that we are able to provide you with service when using (one of) our products and for the purposes set out elsewhere in this Privacy Policy.',\n",
       " '5. ACCESS TO THE INFORMATION WE HAVE COLLECTED ABOUT YOU',\n",
       " '5.1 Your personal data will be stored by 6677g.',\n",
       " '5.2 Users with a personal profile on our products may review, update, or delete personal data collected by us by clicking on the appropriate link in the personal profile.',\n",
       " '5.3 In general, if you wish to have access to your personal data to correct or delete the information that we have collected about you, please send a written request to Tiny Piece, Ajeltake Road, Ajeltake Island, Majuro, Republic of the Marshall Island MH 96960, detailing your request and the data you have provided to us along with a copy of your passport (to prevent misuse of requests for information), or send an email with all such information to [email\\xa0protected]',\n",
       " \"5.4 Parents of users under the age of 16: If you wish to have access to your child's personal data to view, correct, or delete the information that we have collected about your child, please send a written request to Tiny Piece, Ajeltake Road, Ajeltake Island, Majuro, Republic of the Marshall Island MH 96960, detailing your request along with a copy of your passport (to prevent misuse of requests for information), or send an email with all such information to [email\\xa0protected]\",\n",
       " '6. SECURITY',\n",
       " '6.1 You post personal data and any other content on our products at your own risk and in accordance with article 7 (\"Your Responsibilities\") of the Terms of Use. Although we allow you to set privacy options that limit access to such personal data and other content, please be aware that no security measures are perfect or impenetrable. We cannot control the actions of other users with whom you choose to share your profile and information. Therefore, we cannot and do not guarantee that any content you post on our products will not be viewed by unauthorized persons. We are not responsible for circumvention of any privacy settings or security measures contained on our products. You understand and acknowledge that, even after removal, copies of personal data or content may remain viewable in cached and archived pages, or if other users have copied or stored your personal data or content.',\n",
       " '6.2 We have implemented appropriate measures to safeguard and help prevent unauthorized access, to maintain data security, and to correctly use the information we collect online. Your personal data visible on our products (such as any public comments posted by you and/or any data in your profile) are accessible to third parties, and you acknowledge and agree that such third parties are able to copy such information to their own products or other locations.',\n",
       " '6.3 Your personal data will only be stored for a period necessary for your uses of our products for the purposes as described in this Privacy Policy.',\n",
       " '7. MISCELLANEOUS',\n",
       " '7.1 We reserve the right to amend our Privacy Policy. Amendments will be effective as of the moment of publication on our products. You should check our products regularly for amendments.',\n",
       " '7.2 The Internet is a global environment, and using the Internet necessarily involves the collection and processing of personal data on an international basis. Therefore, by using (one or more of) our products, you acknowledge and agree to our processing of personal data in this way.',\n",
       " '7.3 Our products may contain links to other products. We are not responsible for the privacy practices of other products. We encourage users to be aware when they leave our site to read the privacy statements of each and every website that collects personally identifiable information. This Privacy Policy applies solely to information collected by us.',\n",
       " '7.4 In the event of a transfer of (one of our) products to a third party, we may transfer to such third party all personal information that we collected about you in accordance with this Privacy Policy. In such an event, users who have provided email addresses to us will be notified when information about those users is transferred and becomes subject to a different privacy policy.',\n",
       " '7.5 We also have Terms of Use that are applicable to your use of our products. In the case of a contradiction between the Terms of Use and this Privacy Policy, this Privacy Policy prevails.',\n",
       " '7.6 This Privacy Policy shall be governed by the laws of the Netherlands and submitted to the exclusive jurisdiction of the courts in the Netherlands.',\n",
       " 'If you have any additional questions or requests, you may send an email to [email\\xa0protected]']"
      ]
     },
     "execution_count": 312,
     "metadata": {},
     "output_type": "execute_result"
    }
   ],
   "source": [
    "get_sentences_from_html(unl_sample)"
   ]
  },
  {
   "cell_type": "code",
   "execution_count": 288,
   "metadata": {},
   "outputs": [
    {
     "data": {
      "text/plain": [
       "''"
      ]
     },
     "execution_count": 288,
     "metadata": {},
     "output_type": "execute_result"
    }
   ],
   "source": [
    "unl_sentences = unl_sample.split('\\n')\n",
    "sent_samp = unl_sentences[11]\n",
    "sent_samp"
   ]
  },
  {
   "cell_type": "code",
   "execution_count": 296,
   "metadata": {},
   "outputs": [
    {
     "data": {
      "text/plain": [
       "CountVectorizer(analyzer='word', binary=False, decode_error='strict',\n",
       "        dtype=<class 'numpy.int64'>, encoding='utf-8', input='content',\n",
       "        lowercase=True, max_df=1.0, max_features=None, min_df=1,\n",
       "        ngram_range=(1, 1), preprocessor=None, stop_words=None,\n",
       "        strip_accents=None, token_pattern='(?u)\\\\b\\\\w\\\\w+\\\\b',\n",
       "        tokenizer=None, vocabulary=None)"
      ]
     },
     "execution_count": 296,
     "metadata": {},
     "output_type": "execute_result"
    }
   ],
   "source": [
    "count_vectorizer"
   ]
  },
  {
   "cell_type": "code",
   "execution_count": 321,
   "metadata": {
    "collapsed": true
   },
   "outputs": [],
   "source": [
    "import urllib\n",
    "\n",
    "def get_html_from_url(url):\n",
    "    #url = \"http://www.cnn.com\"\n",
    "    html = urllib.request.urlopen(url).read()\n",
    "    return html\n",
    "    #soup = BeautifulSoup(html)"
   ]
  },
  {
   "cell_type": "code",
   "execution_count": 322,
   "metadata": {},
   "outputs": [],
   "source": [
    "seriously_policy = get_html_from_url('http://www.seriously.com/privacy-notice/')"
   ]
  },
  {
   "cell_type": "code",
   "execution_count": 330,
   "metadata": {},
   "outputs": [],
   "source": [
    "seriously_sentences = get_sentences_from_html(seriously_policy)"
   ]
  },
  {
   "cell_type": "code",
   "execution_count": 331,
   "metadata": {},
   "outputs": [
    {
     "data": {
      "text/plain": [
       "['Seriously respects your right to privacy.\\xa0 This Privacy Notice explains who we are, how we collect, share and use personal information about you, and how you can exercise your privacy rights. This Privacy Notice applies to personal information that we collect through our games (“Games“) and website at https://bestfiends.com/ (“Website“) (together “Services”).',\n",
       " 'If you have any questions or concerns about our use of your personal information, then please contact us using the contact details provided at the bottom of this Privacy Notice.',\n",
       " 'We recommend that you read this Privacy Notice in full to ensure you are fully informed.\\xa0 However, if you only want to access a particular section of this Privacy Notice, then you can click on the relevant link below to jump to that section.',\n",
       " 'Seriously is a game development studio with offices in Helsinki, Finland and Los Angeles, CA, United States.',\n",
       " 'For more information about Seriously, please see the Company section of our Website at https://www.seriously.com/company/',\n",
       " 'The personal information that we may collect about you through the Services broadly falls into the following categories:',\n",
       " 'Information That You Provide Voluntarily\\xa0Certain parts of our Services may ask you to provide personal information voluntarily: for example, we may ask you to provide your contact details in order to register an account with us, to begin playing Games, to subscribe to marketing communications from us, and/or to submit enquiries to us.\\xa0 The personal information that you are asked to provide, and the reasons why you are asked to provide it, will be made clear to you at the point we ask you to provide your personal information.',\n",
       " 'Information That We Collect Automatically\\xa0When you use our Services, we may collect certain information automatically from your device. This information may be considered personal information under applicable data protection laws.Specifically, the information we collect automatically includes information like your IP address, device type, unique device identification numbers, browser-type, broad geographic location (e.g. country or city-level location) and other technical information.\\xa0 We may also collect information about how your device has interacted with our Services, including the games played and the pages of our Website accessed.Collecting this information enables us to better understand the visitors who come to our Website, where they come from, and what content on our Website is of interest to them.\\xa0 We use this information for our internal analytics purposes and to improve the quality and relevance of our Website to our visitors.',\n",
       " 'Information That We Obtain from Third Party Sources\\xa0From time to time, we may receive personal information about you from third party sources (including Facebook), but only where we have checked that these third parties either have your consent or are otherwise legally permitted or required to disclose your personal information to us.The types of information we collect from third parties include your name and friend list, and we use the information we receive from these third parties to provide features like in-game friends, in-game gifts, and competitive leaderboards.',\n",
       " 'To our group companies, third party services providers and partners\\xa0who provide data processing services to us (for example, to support the delivery of, provide functionality on, or help to enhance the security of our Website), or who otherwise process personal information for purposes that are described in this Privacy Notice or notified to you when we collect your personal information. A more detailed list of information shared can be found on our page “About your privacy” which is available here https://www.seriously.com/about-your-privacy/. A full list of our current partners in the EU is:',\n",
       " 'Apple Store is used to provide you the Games as well as to provide in-app purchases; Game Center provides Achievements in the Games.',\n",
       " 'A service we use to determine how you learned about the Game and helps us improve our user acquisition targeting.',\n",
       " 'Facebook Games is used to provide you the Game as well as in-app purchases. In the mobile version of the game, Facebook is used for social services and personalized ads if you are logged into Facebook in the Game. Analytics.',\n",
       " 'Google is a Google Play store provider which enables in-app purchases. \\xa0Google Play Services allows us to provide achievements and leaderboards.',\n",
       " 'Amazon is used to provide you the Game as well as to provide in-app purchases; Game Circle provides Achievements in the Game.',\n",
       " 'We use Inbox Marketer’s system, CONNECT, to send newsletters and store emails of people who have opted in to receive our newsletters.',\n",
       " 'An advertising agency that helps us provide potential customers with relevant advertising materials on social media.',\n",
       " 'A database service which we use to analyze game metrics. The data is stored and processed using Amazon Web Services.',\n",
       " 'To a competent law enforcement body, regulatory, government agency, court or other third party\\xa0where the disclosure is required and necessary (i) as a matter of mandatory applicable law or regulation and/or valid court order, (ii) to exercise, establish or defend our legal rights, or (iii) to protect your vital interests or those of any other person;',\n",
       " 'To a potential or actual buyer\\xa0(and its agents and advisers) in connection with any proposed or actual purchase, merger or acquisition of any part of our business, provided that we inform the buyer it must use your personal information only for the purposes disclosed in this Privacy Notice;',\n",
       " 'Our legal basis for collecting and using the personal information described above will depend on the personal information concerned and the specific context in which we collect it.',\n",
       " 'However, we will normally collect personal information from you only (i) where we need the personal information to perform a contract with you, (ii) where the processing is in our legitimate interests and not overridden by your rights, or (iii) where we have your consent to do so.',\n",
       " 'If we ask you to provide personal information to comply with a legal requirement or to perform a contract with you, we will make this clear at the relevant time and advise you whether the provision of your personal information is mandatory or not (as well as of the possible consequences if you do not provide your personal information).',\n",
       " 'We will process your information for the purposes of operating our Website, Games and other Services and communicating with you as necessary for those purposes and in our legitimate commercial interests, for instance, when responding to your queries, undertaking marketing activities, improving our Games, Website and other Services, or for the purposes of detecting or preventing illegal activities.',\n",
       " 'If you have questions about or need further information concerning the legal basis on which we collect and use your personal information, please contact us via email privacy@seriously.com.',\n",
       " 'We use appropriate technical and organizational measures designed to protect the personal information that we collect and process about you.\\xa0 The measures we use are designed to provide a level of security appropriate to the risk of processing your personal information. Specific measures we use are, for example, encrypting your personal information in transit and at rest, only collecting vital data, as well as ensuring access to the data is restricted internally and externally.',\n",
       " 'Your personal information may be transferred to, and processed in, countries other than the country in which you are a resident.\\xa0 These countries may have data protection laws that are different to the laws of your country.',\n",
       " 'Specifically, our servers are located in United States, and our group companies and third party service providers and partners operate around the world. This means that when we collect your personal information we may process it in any of these countries.',\n",
       " 'However, we have taken appropriate safeguards to require that your personal information will remain protected in accordance with this Privacy Notice. All third parties that are located outside of EEA are certified under “Privacy Shield” (framework for EU-USA data transfer) or employ European Commission’s Standard Contractual Clauses for transfers of personal information between our group companies, which require all group companies to protect personal information they process from the EEA in accordance with European Union data protection law.',\n",
       " 'We retain personal information we collect from you where we have an ongoing legitimate business need to do so (for example, to provide you with a service you have requested or to comply with applicable legal, tax, or accounting requirements).',\n",
       " 'When we have no ongoing legitimate business need to process your personal information, we will either delete or anonymise it or, if this is not possible (for example, because your personal information has been stored in backup archives), then we will securely store your personal information and isolate it from any further processing until deletion is possible.',\n",
       " 'If you wish to access, correct, update or request deletion\\xa0of your personal information, you can do so at any time by contacting us using the contact details provided under the “How to contact us” heading below.',\n",
       " 'In addition, in certain cases, you can object to processing\\xa0of your personal information, ask us to restrict processing\\xa0of your personal information, or request portability\\xa0of your personal information. Again, you can exercise these rights by contacting us using the contact details provided under the “How to contact us” heading below.',\n",
       " 'You have the right to opt-out of marketing communications\\xa0we send you at any time. You can exercise this right by clicking on the “unsubscribe” or “opt-out” link in the marketing e-mails we send you.\\xa0 To opt-out of other forms of marketing (such as postal marketing or telemarketing), then please contact us using the contact details provided under the “How to contact us” heading below.',\n",
       " 'Similarly, if we have collected and processed your personal information with your consent, then you can withdraw your consent\\xa0at any time.\\xa0Withdrawing your consent will not affect the lawfulness of any processing we conducted prior to your withdrawal, nor will it affect processing of your personal information conducted in reliance of lawful processing grounds other than consent.',\n",
       " 'You have the right to complain to a data protection authority\\xa0about our collection and use of your personal information. For more information, please contact your local data protection authority.',\n",
       " 'We respond to all requests we receive from individuals wishing to exercise their data protection rights in accordance with applicable data protection laws.',\n",
       " 'We may update this Privacy Notice from time to time in response to changing legal, technical, or business developments. When we update our Privacy Notice, we will take appropriate measures to inform you, consistent with the significance of the changes we make.\\xa0 We will obtain your consent to any material Privacy Notice changes if and where this is required by applicable data protection laws.',\n",
       " 'You can see when this Privacy Notice was last updated by checking the “last updated” date displayed at the top of this Privacy Notice.',\n",
       " 'If you have any questions or concerns about our use of your personal information, please contact us using the following email address: privacy@seriously.com',\n",
       " 'If you want to exercise your rights in relation to personal data that we have collected, please contact us through the Game by going to Settings -> Support -> Contact Us, or, if you are unable to contact us through the Game, by using the following email address: support@seriously.com. Contacting us through the game is the preferred method of contact as it will enable us to more accurately validate your request.']"
      ]
     },
     "execution_count": 331,
     "metadata": {},
     "output_type": "execute_result"
    }
   ],
   "source": [
    "seriously_sentences"
   ]
  },
  {
   "cell_type": "code",
   "execution_count": 332,
   "metadata": {},
   "outputs": [],
   "source": [
    "X_seriously = count_vectorizer.transform(seriously_sentences)"
   ]
  },
  {
   "cell_type": "code",
   "execution_count": 333,
   "metadata": {},
   "outputs": [
    {
     "data": {
      "text/plain": [
       "array([1, 1, 1, 0, 1, 1, 1, 1, 1, 1, 1, 1, 1, 0, 1, 1, 0, 1, 1, 1, 1, 1,\n",
       "       1, 1, 1, 1, 1, 1, 1, 1, 0, 1, 1, 1, 1, 1, 1, 1, 1, 1, 1])"
      ]
     },
     "execution_count": 333,
     "metadata": {},
     "output_type": "execute_result"
    }
   ],
   "source": [
    "y_seriously = clf.predict(X_seriously)\n",
    "y_seriously"
   ]
  },
  {
   "cell_type": "code",
   "execution_count": 305,
   "metadata": {},
   "outputs": [
    {
     "name": "stdout",
     "output_type": "stream",
     "text": [
      "2.1 When you visit our products, our servers automatically save your computer's IP address. IP addresses will be collected, along with information about the actual web pages that you visit on our products. If you arrive at our products via a link from another product, the URL of the linking product and the URL of any product that you link to next will also be collected.\n"
     ]
    }
   ],
   "source": [
    "#url = \"http://www.cnn.com\"\n",
    "#html = urllib.urlopen(url).read()\n",
    "#soup = BeautifulSoup(html)\n",
    "soup = BeautifulSoup(unl_sample, 'html.parser')\n",
    "# kill all script and style elements\n",
    "for script in soup([\"script\", \"style\"]):\n",
    "    script.decompose()    # rip it out\n",
    "\n",
    "# get text\n",
    "text = soup.get_text()\n",
    "\n",
    "# break into lines and remove leading and trailing space on each\n",
    "lines = (line.strip() for line in text.splitlines())\n",
    "# break multi-headlines into a line each\n",
    "chunks = (phrase.strip() for line in lines for phrase in line.split(\"  \"))\n",
    "# drop blank lines\n",
    "text = '\\n'.join(chunk for chunk in chunks if chunk)\n",
    "sent_list = text.split('\\n')\n",
    "print(sent_list[8])\n",
    "#sent_list"
   ]
  },
  {
   "cell_type": "code",
   "execution_count": 308,
   "metadata": {},
   "outputs": [],
   "source": [
    "X_oos = count_vectorizer.transform(sent_list)"
   ]
  },
  {
   "cell_type": "code",
   "execution_count": 309,
   "metadata": {},
   "outputs": [
    {
     "data": {
      "text/plain": [
       "array([0, 0, 1, 0, 1, 0, 1, 1, 1, 1, 1, 1, 1, 1, 1, 1, 1, 1, 1, 1, 1, 1,\n",
       "       1, 0, 0, 1, 1, 0, 1, 1, 1, 0, 1, 0, 1, 0, 1, 0, 1, 1, 1, 1, 0, 1,\n",
       "       1, 1, 0, 1, 1, 1, 1, 1, 1, 1])"
      ]
     },
     "execution_count": 309,
     "metadata": {},
     "output_type": "execute_result"
    }
   ],
   "source": [
    "y_oos_pred = clf.predict(X_oos)\n",
    "y_oos_pred"
   ]
  },
  {
   "cell_type": "code",
   "execution_count": 315,
   "metadata": {},
   "outputs": [
    {
     "data": {
      "text/plain": [
       "True"
      ]
     },
     "execution_count": 315,
     "metadata": {},
     "output_type": "execute_result"
    }
   ],
   "source": [
    "sum(y_oos_pred)>0"
   ]
  },
  {
   "cell_type": "code",
   "execution_count": null,
   "metadata": {
    "collapsed": true
   },
   "outputs": [],
   "source": []
  },
  {
   "cell_type": "code",
   "execution_count": null,
   "metadata": {
    "collapsed": true
   },
   "outputs": [],
   "source": []
  },
  {
   "cell_type": "code",
   "execution_count": null,
   "metadata": {
    "collapsed": true
   },
   "outputs": [],
   "source": []
  },
  {
   "cell_type": "code",
   "execution_count": null,
   "metadata": {
    "collapsed": true
   },
   "outputs": [],
   "source": []
  },
  {
   "cell_type": "code",
   "execution_count": null,
   "metadata": {
    "collapsed": true
   },
   "outputs": [],
   "source": []
  },
  {
   "cell_type": "code",
   "execution_count": 303,
   "metadata": {},
   "outputs": [
    {
     "data": {
      "text/plain": [
       "<generator object <genexpr> at 0x120a5f5c8>"
      ]
     },
     "execution_count": 303,
     "metadata": {},
     "output_type": "execute_result"
    }
   ],
   "source": [
    "chunks"
   ]
  },
  {
   "cell_type": "code",
   "execution_count": 284,
   "metadata": {},
   "outputs": [
    {
     "data": {
      "text/plain": [
       "'<!doctype html public \"-//w3c//dtd xhtml 1.0 transitional//en\" \"://www.w3.org/tr/xhtml1/dtd/xhtml1-transitional.dtd\">'"
      ]
     },
     "execution_count": 284,
     "metadata": {},
     "output_type": "execute_result"
    }
   ],
   "source": [
    "standardize_text_str(sent_samp)"
   ]
  },
  {
   "cell_type": "code",
   "execution_count": 297,
   "metadata": {},
   "outputs": [
    {
     "data": {
      "text/plain": [
       "['',\n",
       " '',\n",
       " '',\n",
       " '',\n",
       " '6677G PRIVACY POLICY',\n",
       " '',\n",
       " '//<![CDATA[',\n",
       " 'try{if (!window.CloudFlare) {var CloudFlare=[{verbose:0,p:0,byc:0,owlid:\"cf\",bag2:1,mirage2:0,oracle:0,paths:{cloudflare:\"/cdn-cgi/nexp/dok3v=1613a3a185/\"},atok:\"b1d64847db7b456fb94950a2f0f03ad1\",petok:\"1202d7a0142e752b3bf36a0949b228d572ff55d2-1490033935-3600\",adblock:1,betok:\"b81b0d0731e65fd62b3f5ef8762aeae74c80369b-1490033935-120\",zone:\"6677g.com\",rocket:\"0\",apps:0}];!function(a,b){a=document.createElement(\"script\"),b=document.getElementsByTagName(\"script\")[0],a.async=!0,a.src=\"//ajax.cloudflare.com/cdn-cgi/nexp/dok3v=f2befc48d1/cloudflare.min.js\",b.parentNode.insertBefore(a,b)}()}}catch(e){};',\n",
       " '//]]>',\n",
       " '',\n",
       " '',\n",
       " '',\n",
       " 'PRIVACY POLICY',\n",
       " '  This privacy policy (hereafter referred to as the \"Privacy Policy\") is applicable to our websites, apps and to all games and other activities(hereafter referred to as the “our products\") that are offered by us on or through our products. Tiny Piece, having its registered office at Ajeltake Road, Ajeltake Island, Majuro, Republic of the Marshall Island MH 96960 (hereafter referred to as “6677g\"). 6677g may use affiliates\\' or reputable third parties\\' services for the processing of personal data collected on or through our products. By using or accessing our products, you are accepting the practices described in this Privacy Policy.',\n",
       " '1. ABOUT OUR PRODUCTS',\n",
       " '  1.1 Our products offer a diverse, current, and exciting mix of games created by 6677g, as well as games created by independent developers and 6677g partners. Players can access our products to play games without registering; however, they may choose to register to create a public or semi-public profile and to save games, high scores, and comments on this profile. Also, visitors to our products will be able to rate games and browse for the newly added, top-rated, and most-popular games.',\n",
       " '  2. THE INFORMATION WE COLLECT',\n",
       " 'The information that our products collect includes (among others) the following:',\n",
       " 'A) IP ADDRESS, COOKIES, AND WEB BEACONS',\n",
       " \"  2.1 When you visit our products, our servers automatically save your computer's IP address. IP addresses will be collected, along with information about the actual web pages that you visit on our products. If you arrive at our products via a link from another product, the URL of the linking product and the URL of any product that you link to next will also be collected.\",\n",
       " '2.2 In addition, we store certain information from your browser, using \"cookies.\" A cookie is a piece of data stored on the user\\'s computer and is tied to information about the user. 6677g may use cookies, web beacons (web bugs), or similar technologies to enhance and personalize your experience on our products, including the following:',\n",
       " '(a) to operate and improve offerings on our products;',\n",
       " '  (b) to help authenticate you when you are on our products;',\n",
       " '  (c) to remember your preferences and registration information, as applicable;',\n",
       " '  (d) to present and help measure and research the effectiveness of 6677g offerings, advertisements, and email communications; and',\n",
       " '  (e) to customize the content and advertisements provided to you through our products.',\n",
       " '2.3 6677g may also use ad network providers to help present advertisements on our products. These ad network providers use cookies, web beacons, or similar technologies to help the presenting, better targeting, and measuring of the effectiveness of their advertisements, using data gathered over time and across their networks of web pages to determine or predict the characteristics and preferences of their audiences. 6677g offers some services in connection with other products. Personal information that you provide to those sites may be sent to 6677g in order to deliver these services. 6677g processes such information in accordance with this Privacy Policy.',\n",
       " '2.4 6677g may also use third-party payment service providers (\"PSP\"), offering payment transaction services to 6677g in order to sell a product or service through our products. Whenever you buy something from our products (e.g., a virtual game item or a subscription for a game download), the information that you provide to the PSP is subject to their privacy policies, not ours. You explicitly consent that 6677g may provide personal information collected from you to a PSP for the purpose of the offering of the payment-transaction service whenever you buy something from the Website(s) and that such PSP may use such data for (statistical) analysis of payment transactions. 6677g shall be allowed to notify a PSP regarding a user that engages in (or who a party believes has engaged in) any activity that is illegal, that violates any person\\'s rights, or that led to such user\\'s suspension or termination of use of our products.',\n",
       " '2.5 6677g may share demographic information (certain anonymous information about you as a user, such as age and country) with certain ad network providers to help them deliver more relevant advertisements through their ad networks. The use of cookies, web beacons, or similar technologies by such third parties as ad network providers is subject to their own privacy policies, not this Privacy Policy.',\n",
       " '  2.6 Most browsers are initially set to accept cookies, but you can (re)set your browser to refuse all cookies or to indicate when a cookie is being sent. You can opt out of receiving cookies from certain third-party advertising networks by resetting your browser. You may also use the following link to the Network Advertising Initiatives cookie opt-out page, which can be found here. However, some features and services may not function properly if cookies are disabled.',\n",
       " 'B) PERSONAL DATA, INCLUDING YOUR E-MAIL ADDRESS',\n",
       " '2.7 You may choose to register with us for a better game experience and/or to create a public or semi-public profile for participating in our social gaming network. This includes, for example: overviews of high scores, achievements listings, and individual game recommendations on our products. When you register with us, you provide us with certain personal information, such as a username, date and month of birth, and your email address. The information you disclose in that respect may also become publicly accessible. We provide you with privacy settings that restrict other users from accessing your information; namely, our network architecture and your privacy settings allow you to make informed choices about who has access to your information. We allow you to choose the information you provide to friends and networks through our products. When your privacy settings permit it, other users may be able to see and supplement your profile (e.g., by posting comments).',\n",
       " '2.8 If you decide to disclose information in a public venue or in games, we will consider that information as part of the public domain. This information will be accessible to any person who uses our products.',\n",
       " '  2.9 We only collect email addresses that were provided to us directly by you. Your email address will only be used for the following purposes:',\n",
       " '(i) the promotion of (new) games;',\n",
       " '  (ii) service emails (on updates, new design, new features, etc.);',\n",
       " '  (iii) administrative purposes, such as notification of violation of our Terms of Use;',\n",
       " '  (iv) delivering messages you have allowed us to pass on (e.g., from other people in your social network).',\n",
       " '  2.10 Without your approval, we will not:',\n",
       " '(a) make your email address visible on our products;',\n",
       " '  (b) use your email address for purposes other than those described in article 2.9 hereof;',\n",
       " '  (c) transfer your email address or other personal information to third parties, except in those limited cases as described in this Privacy Policy.',\n",
       " '  C) COMBINATION OF PERSONAL DATA',\n",
       " '2.11 For optimizing our services and our products, and for the purposes mentioned in this article 2, we are entitled to combine your personal data (including your email address, as applicable) with other information about you collected by or provided to us.',\n",
       " '3. TO WHOM DOES 6677G PROVIDE THIS INFORMATION?',\n",
       " '3.1 6677g may provide information to any party whose services it engages for the purposes of its normal operations (for example, those partners who assist us by providing technical or operational facilities for our products and so forth). We may also supply information to other parties if we are required to do so by law or by a ruling handed down by a court of law. 6677g does not provide personal details to other parties for commercial, advertising, or marketing purposes, except if you explicitly give us permission to do so, or if doing so is part of a specific program or operation for which you have registered. In such case, you may withdraw your permission at any time.',\n",
       " '  4. WHY DO WE COLLECT INFORMATION?',\n",
       " '4.1 We use personal details and other information to maintain the general and personified content and functionality of our products. In addition, we use personal details to make it possible to accommodate your requests, and so that we are able to provide you with service when using (one of) our products and for the purposes set out elsewhere in this Privacy Policy.',\n",
       " '  5. ACCESS TO THE INFORMATION WE HAVE COLLECTED ABOUT YOU',\n",
       " '5.1 Your personal data will be stored by 6677g.',\n",
       " '5.2 Users with a personal profile on our products may review, update, or delete personal data collected by us by clicking on the appropriate link in the personal profile.',\n",
       " \"5.3 In general, if you wish to have access to your personal data to correct or delete the information that we have collected about you, please send a written request to Tiny Piece, Ajeltake Road, Ajeltake Island, Majuro, Republic of the Marshall Island MH 96960, detailing your request and the data you have provided to us along with a copy of your passport (to prevent misuse of requests for information), or send an email with all such information to [email\\xa0protected]/* <![CDATA[ */!function(t,e,r,n,c,a,p){try{t=document.currentScript||function(){for(t=document.getElementsByTagName('script'),e=t.length;e--;)if(t[e].getAttribute('data-cfhash'))return t[e]}();if(t&&(c=t.previousSibling)){p=t.parentNode;if(a=c.getAttribute('data-cfemail')){for(e='',r='0x'+a.substr(0,2)|0,n=2;a.length-n;n+=2)e+='%'+('0'+('0x'+a.substr(n,2)^r).toString(16)).slice(-2);p.replaceChild(document.createTextNode(decodeURIComponent(e)),c)}p.removeChild(t)}}catch(u){}}()/* ]]> */\",\n",
       " \"5.4 Parents of users under the age of 16: If you wish to have access to your child's personal data to view, correct, or delete the information that we have collected about your child, please send a written request to Tiny Piece, Ajeltake Road, Ajeltake Island, Majuro, Republic of the Marshall Island MH 96960, detailing your request along with a copy of your passport (to prevent misuse of requests for information), or send an email with all such information to [email\\xa0protected]/* <![CDATA[ */!function(t,e,r,n,c,a,p){try{t=document.currentScript||function(){for(t=document.getElementsByTagName('script'),e=t.length;e--;)if(t[e].getAttribute('data-cfhash'))return t[e]}();if(t&&(c=t.previousSibling)){p=t.parentNode;if(a=c.getAttribute('data-cfemail')){for(e='',r='0x'+a.substr(0,2)|0,n=2;a.length-n;n+=2)e+='%'+('0'+('0x'+a.substr(n,2)^r).toString(16)).slice(-2);p.replaceChild(document.createTextNode(decodeURIComponent(e)),c)}p.removeChild(t)}}catch(u){}}()/* ]]> */\",\n",
       " '  6. SECURITY',\n",
       " '6.1 You post personal data and any other content on our products at your own risk and in accordance with article 7 (\"Your Responsibilities\") of the Terms of Use. Although we allow you to set privacy options that limit access to such personal data and other content, please be aware that no security measures are perfect or impenetrable. We cannot control the actions of other users with whom you choose to share your profile and information. Therefore, we cannot and do not guarantee that any content you post on our products will not be viewed by unauthorized persons. We are not responsible for circumvention of any privacy settings or security measures contained on our products. You understand and acknowledge that, even after removal, copies of personal data or content may remain viewable in cached and archived pages, or if other users have copied or stored your personal data or content.',\n",
       " '6.2 We have implemented appropriate measures to safeguard and help prevent unauthorized access, to maintain data security, and to correctly use the information we collect online. Your personal data visible on our products (such as any public comments posted by you and/or any data in your profile) are accessible to third parties, and you acknowledge and agree that such third parties are able to copy such information to their own products or other locations.',\n",
       " '6.3 Your personal data will only be stored for a period necessary for your uses of our products for the purposes as described in this Privacy Policy.',\n",
       " '  7. MISCELLANEOUS',\n",
       " '7.1 We reserve the right to amend our Privacy Policy. Amendments will be effective as of the moment of publication on our products. You should check our products regularly for amendments.',\n",
       " '7.2 The Internet is a global environment, and using the Internet necessarily involves the collection and processing of personal data on an international basis. Therefore, by using (one or more of) our products, you acknowledge and agree to our processing of personal data in this way.',\n",
       " '7.3 Our products may contain links to other products. We are not responsible for the privacy practices of other products. We encourage users to be aware when they leave our site to read the privacy statements of each and every website that collects personally identifiable information. This Privacy Policy applies solely to information collected by us.',\n",
       " '7.4 In the event of a transfer of (one of our) products to a third party, we may transfer to such third party all personal information that we collected about you in accordance with this Privacy Policy. In such an event, users who have provided email addresses to us will be notified when information about those users is transferred and becomes subject to a different privacy policy.',\n",
       " '7.5 We also have Terms of Use that are applicable to your use of our products. In the case of a contradiction between the Terms of Use and this Privacy Policy, this Privacy Policy prevails.',\n",
       " '  7.6 This Privacy Policy shall be governed by the laws of the Netherlands and submitted to the exclusive jurisdiction of the courts in the Netherlands.',\n",
       " \"If you have any additional questions or requests, you may send an email to [email\\xa0protected]/* <![CDATA[ */!function(t,e,r,n,c,a,p){try{t=document.currentScript||function(){for(t=document.getElementsByTagName('script'),e=t.length;e--;)if(t[e].getAttribute('data-cfhash'))return t[e]}();if(t&&(c=t.previousSibling)){p=t.parentNode;if(a=c.getAttribute('data-cfemail')){for(e='',r='0x'+a.substr(0,2)|0,n=2;a.length-n;n+=2)e+='%'+('0'+('0x'+a.substr(n,2)^r).toString(16)).slice(-2);p.replaceChild(document.createTextNode(decodeURIComponent(e)),c)}p.removeChild(t)}}catch(u){}}()/* ]]> */\",\n",
       " '',\n",
       " '',\n",
       " '']"
      ]
     },
     "execution_count": 297,
     "metadata": {},
     "output_type": "execute_result"
    }
   ],
   "source": [
    "soup = BeautifulSoup(unl_sample, 'html.parser')\n",
    "soup_list = soup.text.split('\\n')\n",
    "soup_list"
   ]
  },
  {
   "cell_type": "code",
   "execution_count": null,
   "metadata": {
    "collapsed": true
   },
   "outputs": [],
   "source": []
  }
 ],
 "metadata": {
  "kernelspec": {
   "display_name": "Python 3",
   "language": "python",
   "name": "python3"
  },
  "language_info": {
   "codemirror_mode": {
    "name": "ipython",
    "version": 3
   },
   "file_extension": ".py",
   "mimetype": "text/x-python",
   "name": "python",
   "nbconvert_exporter": "python",
   "pygments_lexer": "ipython3",
   "version": "3.6.7"
  }
 },
 "nbformat": 4,
 "nbformat_minor": 2
}
